{
 "cells": [
  {
   "cell_type": "markdown",
   "metadata": {},
   "source": [
    "Okay, time to rebuild our old statistical pipeline as best as we can. We will keep only the essential portions, in the interests of time and clarity."
   ]
  },
  {
   "cell_type": "markdown",
   "metadata": {},
   "source": [
    "## Contents\n",
    "\n",
    "[Importing biom table and setup](#import)  \n",
    "\n",
    "\n",
    "[Controls](#controls)\n",
    " - [Negative controls](#negC)\n",
    " - [Positive controls (mock community)](#mock)\n",
    "   - [Genomic](#gPos)\n",
    "   - [ITS-only](#iPos)\n",
    " - [Cleanup using controls](#cleanup)  \n",
    "    - [Removing low abundance samples](#lowSamp)  \n",
    "    - [Minimum abundances of observations and contaminant removal](#minAbund)\n",
    "    - [Subtracting contaminant abundances](#subContam)\n",
    "    - [Remove all mock community OTUs](#remMCs)  \n",
    "    \n",
    "[Variance stabilization of reads](#varstab)\n",
    "  - [Apply DESeq2 algorithms](#DESeq2)\n",
    "  - [Compare pre/post variance-stabilization distibutions](#BAvarstab)"
   ]
  },
  {
   "cell_type": "markdown",
   "metadata": {},
   "source": [
    "<a id='import'><h2>Importing biom table and setup</h2></a>"
   ]
  },
  {
   "cell_type": "code",
   "execution_count": 31,
   "metadata": {
    "scrolled": true
   },
   "outputs": [],
   "source": [
    "library('phyloseq')\n",
    "library('DESeq2')\n",
    "library('vegan')\n",
    "library('cooccur')\n",
    "library('igraph')\n",
    "library('ecodist')\n",
    "library('ade4')\n",
    "library('png')"
   ]
  },
  {
   "cell_type": "code",
   "execution_count": 6,
   "metadata": {},
   "outputs": [],
   "source": [
    "biom95 <- import_biom('combo_otu_wMeta.biom', parseFunction=parse_taxonomy_greengenes)\n",
    "#save(biom95, file='biom95.rda')"
   ]
  },
  {
   "cell_type": "code",
   "execution_count": 6,
   "metadata": {},
   "outputs": [
    {
     "data": {
      "text/plain": [
       "phyloseq-class experiment-level object\n",
       "otu_table()   OTU Table:         [ 11588 taxa and 232 samples ]\n",
       "sample_data() Sample Data:       [ 232 samples by 11 sample variables ]\n",
       "tax_table()   Taxonomy Table:    [ 11588 taxa by 7 taxonomic ranks ]"
      ]
     },
     "metadata": {},
     "output_type": "display_data"
    }
   ],
   "source": [
    "biom95"
   ]
  },
  {
   "cell_type": "code",
   "execution_count": 10,
   "metadata": {},
   "outputs": [
    {
     "data": {
      "text/html": [
       "<table>\n",
       "<thead><tr><th></th><th scope=col>vegcom</th><th scope=col>stream_distance</th><th scope=col>Host_genus</th><th scope=col>Host_genus_species</th><th scope=col>Library</th><th scope=col>Forest_Type</th><th scope=col>Host_species</th><th scope=col>X</th><th scope=col>Host_family</th><th scope=col>SorC</th><th scope=col>Y</th></tr></thead>\n",
       "<tbody>\n",
       "\t<tr><th scope=row>100leaf</th><td>2                                 </td><td>25.97654                          </td><td>Helicia                           </td><td>Helicia_formosana                 </td><td>L                                 </td><td>7                                 </td><td>formosana                         </td><td>183                               </td><td>Proteaceae                        </td><td>Sample                            </td><td>20                                </td></tr>\n",
       "\t<tr><th scope=row>101leaf</th><td>3                                 </td><td>18.36984                          </td><td>Helicia                           </td><td>Helicia_formosana                 </td><td>L                                 </td><td>7                                 </td><td>formosana                         </td><td>180                               </td><td>Proteaceae                        </td><td>Sample                            </td><td>27                                </td></tr>\n",
       "\t<tr><th scope=row>102leaf</th><td>3                                 </td><td>21.3725                           </td><td>Cleyera                           </td><td>Cleyera_japonica                  </td><td>L                                 </td><td>7                                 </td><td>japonica                          </td><td>187                               </td><td>Theaceae                          </td><td>Sample                            </td><td>27                                </td></tr>\n",
       "\t<tr><th scope=row>103leaf</th><td>3                                 </td><td>11.08831                          </td><td>Helicia                           </td><td>Helicia_formosana                 </td><td>L                                 </td><td>7                                 </td><td>formosana                         </td><td>180                               </td><td>Proteaceae                        </td><td>Sample                            </td><td>35                                </td></tr>\n",
       "\t<tr><th scope=row>104leaf</th><td>3                                 </td><td>1.409998                          </td><td>Helicia                           </td><td>Helicia_formosana                 </td><td>L                                 </td><td>7                                 </td><td>formosana                         </td><td>180                               </td><td>Proteaceae                        </td><td>Sample                            </td><td>51                                </td></tr>\n",
       "\t<tr><th scope=row>105leaf</th><td>3                                 </td><td>22.46722                          </td><td>Limlia                            </td><td>Limlia_uraiana                    </td><td>L                                 </td><td>7                                 </td><td>uraiana                           </td><td>180                               </td><td>Fagaceae                          </td><td>Sample                            </td><td>83                                </td></tr>\n",
       "\t<tr><th scope=row>106leaf</th><td>2                                 </td><td>82.49734                          </td><td>Helicia                           </td><td>Helicia_formosana                 </td><td>L                                 </td><td>3                                 </td><td>formosana                         </td><td>180                               </td><td>Proteaceae                        </td><td>Sample                            </td><td>147                               </td></tr>\n",
       "\t<tr><th scope=row>107leaf</th><td>1                                 </td><td>64.85876                          </td><td>Blastus                           </td><td>Blastus_cochinchinensis           </td><td>L                                 </td><td>3                                 </td><td>cochinchinensis                   </td><td>307                               </td><td>Melastomataceae                   </td><td>Sample                            </td><td>147                               </td></tr>\n",
       "\t<tr><th scope=row>108leaf</th><td>1                                 </td><td>19.02113                          </td><td>Cleyera                           </td><td>Cleyera_japonica                  </td><td>L                                 </td><td>3                                 </td><td>japonica                          </td><td>243                               </td><td>Theaceae                          </td><td>Sample                            </td><td>83                                </td></tr>\n",
       "\t<tr><th scope=row>109leaf</th><td>3                                 </td><td>13.46815                          </td><td>Meliosma                          </td><td>Meliosma_squamulata               </td><td>L                                 </td><td>7                                 </td><td>squamulata                        </td><td>209                               </td><td>Sabiaceae                         </td><td>Sample                            </td><td>49                                </td></tr>\n",
       "\t<tr><th scope=row>110leaf</th><td>3                                 </td><td>13.46815                          </td><td>Limlia                            </td><td>Limlia_uraiana                    </td><td>L                                 </td><td>7                                 </td><td>uraiana                           </td><td>209                               </td><td>Fagaceae                          </td><td>Sample                            </td><td>49                                </td></tr>\n",
       "\t<tr><th scope=row>111leaf</th><td>3                                 </td><td>20.37973                          </td><td>Limlia                            </td><td>Limlia_uraiana                    </td><td>L                                 </td><td>7                                 </td><td>uraiana                           </td><td>195                               </td><td>Fagaceae                          </td><td>Sample                            </td><td>35                                </td></tr>\n",
       "\t<tr><th scope=row>112leafA</th><td>2                                 </td><td>4.250151                          </td><td>Blastus                           </td><td>Blastus_cochinchinensis           </td><td>L                                 </td><td>7                                 </td><td>cochinchinensis                   </td><td>167                               </td><td>Melastomataceae                   </td><td>Sample                            </td><td>40                                </td></tr>\n",
       "\t<tr><th scope=row>112leafB</th><td>2                                 </td><td>4.250151                          </td><td>Blastus                           </td><td>Blastus_cochinchinensis           </td><td>L                                 </td><td>7                                 </td><td>cochinchinensis                   </td><td>167                               </td><td>Melastomataceae                   </td><td>Sample                            </td><td>40                                </td></tr>\n",
       "\t<tr><th scope=row>113leafA</th><td>3                                 </td><td>12.80385                          </td><td>Schefflera                        </td><td>Schefflera_octophylla             </td><td>L                                 </td><td>7                                 </td><td>octophylla                        </td><td>103                               </td><td>Araliaceae                        </td><td>Sample                            </td><td>40                                </td></tr>\n",
       "\t<tr><th scope=row>113leafB</th><td>3                                 </td><td>12.80385                          </td><td>Schefflera                        </td><td>Schefflera_octophylla             </td><td>L                                 </td><td>7                                 </td><td>octophylla                        </td><td>103                               </td><td>Araliaceae                        </td><td>Sample                            </td><td>40                                </td></tr>\n",
       "\t<tr><th scope=row>114leaf</th><td>2                                 </td><td>6.015914                          </td><td>Helicia                           </td><td>Helicia_formosana                 </td><td>L                                 </td><td>7                                 </td><td>formosana                         </td><td>71                                </td><td>Proteaceae                        </td><td>Sample                            </td><td>40                                </td></tr>\n",
       "\t<tr><th scope=row>115leaf</th><td>3                                 </td><td>16.75811                          </td><td>Cyathea                           </td><td>Cyathea_podophylla                </td><td>L                                 </td><td>4                                 </td><td>podophylla                        </td><td>55                                </td><td>Cyatheaceae                       </td><td>Sample                            </td><td>40                                </td></tr>\n",
       "\t<tr><th scope=row>116leaf</th><td>3                                 </td><td>24.2118                           </td><td>Helicia                           </td><td>Helicia_formosana                 </td><td>L                                 </td><td>4                                 </td><td>formosana                         </td><td>47                                </td><td>Proteaceae                        </td><td>Sample                            </td><td>40                                </td></tr>\n",
       "\t<tr><th scope=row>117leaf</th><td>3                                 </td><td>30.79582                          </td><td>Limlia                            </td><td>Limlia_uraiana                    </td><td>L                                 </td><td>7                                 </td><td>uraiana                           </td><td>40                                </td><td>Fagaceae                          </td><td>Sample                            </td><td>40                                </td></tr>\n",
       "\t<tr><th scope=row>118leaf</th><td>3                                 </td><td>30.50139                          </td><td>Limlia                            </td><td>Limlia_uraiana                    </td><td>L                                 </td><td>7                                 </td><td>uraiana                           </td><td>40                                </td><td>Fagaceae                          </td><td>Sample                            </td><td>41                                </td></tr>\n",
       "\t<tr><th scope=row>119leaf</th><td>3                                 </td><td>29.54256                          </td><td>Limlia                            </td><td>Limlia_uraiana                    </td><td>L                                 </td><td>7                                 </td><td>uraiana                           </td><td>41                                </td><td>Fagaceae                          </td><td>Sample                            </td><td>41                                </td></tr>\n",
       "\t<tr><th scope=row>120leaf</th><td>3                                 </td><td>29.84645                          </td><td>Limlia                            </td><td>Limlia_uraiana                    </td><td>L                                 </td><td>7                                 </td><td>uraiana                           </td><td>41                                </td><td>Fagaceae                          </td><td>Sample                            </td><td>40                                </td></tr>\n",
       "\t<tr><th scope=row>121leaf</th><td>3                                 </td><td>27.95829                          </td><td>Blastus                           </td><td>Blastus_cochinchinensis           </td><td>L                                 </td><td>4                                 </td><td>cochinchinensis                   </td><td>43                                </td><td>Melastomataceae                   </td><td>Sample                            </td><td>40                                </td></tr>\n",
       "\t<tr><th scope=row>122leaf</th><td>3                                 </td><td>27.07621                          </td><td>Limlia                            </td><td>Limlia_uraiana                    </td><td>L                                 </td><td>7                                 </td><td>uraiana                           </td><td>43                                </td><td>Fagaceae                          </td><td>Sample                            </td><td>43                                </td></tr>\n",
       "\t<tr><th scope=row>125leaf</th><td>3                                 </td><td>27.32744                          </td><td>Litsea                            </td><td>Litsea_acuminata                  </td><td>L                                 </td><td>4                                 </td><td>acuminata                         </td><td>40                                </td><td>Lauraceae                         </td><td>Sample                            </td><td>55                                </td></tr>\n",
       "\t<tr><th scope=row>126leafA</th><td>3                                 </td><td>20.16175                          </td><td>Blastus                           </td><td>Blastus_cochinchinensis           </td><td>L                                 </td><td>7                                 </td><td>cochinchinensis                   </td><td>40                                </td><td>Melastomataceae                   </td><td>Sample                            </td><td>71                                </td></tr>\n",
       "\t<tr><th scope=row>126leafB</th><td>3                                 </td><td>20.16175                          </td><td>Blastus                           </td><td>Blastus_cochinchinensis           </td><td>L                                 </td><td>7                                 </td><td>cochinchinensis                   </td><td>40                                </td><td>Melastomataceae                   </td><td>Sample                            </td><td>71                                </td></tr>\n",
       "\t<tr><th scope=row>127leaf</th><td>3                                 </td><td>11.69457                          </td><td>Helicia                           </td><td>Helicia_formosana                 </td><td>L                                 </td><td>7                                 </td><td>formosana                         </td><td>40                                </td><td>Proteaceae                        </td><td>Sample                            </td><td>103                               </td></tr>\n",
       "\t<tr><th scope=row>128leaf</th><td>3                                 </td><td>75.54028                          </td><td>Castanopsis                       </td><td>Castanopsis_cuspidata_var_carlesii</td><td>L                                 </td><td>3                                 </td><td>cuspidata var. carlesii           </td><td>40                                </td><td>Fagaceae                          </td><td>Sample                            </td><td>167                               </td></tr>\n",
       "\t<tr><th scope=row>⋮</th><td>⋮</td><td>⋮</td><td>⋮</td><td>⋮</td><td>⋮</td><td>⋮</td><td>⋮</td><td>⋮</td><td>⋮</td><td>⋮</td><td>⋮</td></tr>\n",
       "\t<tr><th scope=row>88w</th><td>2                                 </td><td>47.36483                          </td><td>Cryptocarya                       </td><td>Cryptocarya_chinensis             </td><td>W                                 </td><td>7                                 </td><td>chinensis                         </td><td>307                               </td><td>Lauraceae                         </td><td>Sample                            </td><td>220                               </td></tr>\n",
       "\t<tr><th scope=row>89w</th><td>2                                 </td><td>25.33942                          </td><td>Helicia                           </td><td>Helicia_formosana                 </td><td>W                                 </td><td>7                                 </td><td>formosana                         </td><td>287                               </td><td>Proteaceae                        </td><td>Sample                            </td><td>20                                </td></tr>\n",
       "\t<tr><th scope=row>92w</th><td>2                                 </td><td>31.43415                          </td><td>Blastus                           </td><td>Blastus_cochinchinensis           </td><td>W                                 </td><td>7                                 </td><td>cochinchinensis                   </td><td>195                               </td><td>Melastomataceae                   </td><td>Sample                            </td><td>20                                </td></tr>\n",
       "\t<tr><th scope=row>93w</th><td>2                                 </td><td>27.63549                          </td><td>Prunus                            </td><td>Prunus_phaeosticta                </td><td>W                                 </td><td>6                                 </td><td>phaeosticta                       </td><td>187                               </td><td>Rosaceae                          </td><td>Sample                            </td><td>20                                </td></tr>\n",
       "\t<tr><th scope=row>94w</th><td>2                                 </td><td>25.06622                          </td><td>Ficus                             </td><td>Ficus_erecta_var_beecheyana       </td><td>W                                 </td><td>6                                 </td><td>erecta var. beecheyana            </td><td>180                               </td><td>Moraceae                          </td><td>Sample                            </td><td>20                                </td></tr>\n",
       "\t<tr><th scope=row>95w</th><td>2                                 </td><td>25.33385                          </td><td>Ficus                             </td><td>Ficus_erecta_var_beecheyana       </td><td>W                                 </td><td>6                                 </td><td>erecta var. beecheyana            </td><td>181                               </td><td>Moraceae                          </td><td>Sample                            </td><td>20                                </td></tr>\n",
       "\t<tr><th scope=row>96w</th><td>3                                 </td><td>24.37728                          </td><td>Helicia                           </td><td>Helicia_formosana                 </td><td>W                                 </td><td>7                                 </td><td>formosana                         </td><td>181                               </td><td>Proteaceae                        </td><td>Sample                            </td><td>21                                </td></tr>\n",
       "\t<tr><th scope=row>97w</th><td>3                                 </td><td>24.09903                          </td><td>Helicia                           </td><td>Helicia_formosana                 </td><td>W                                 </td><td>7                                 </td><td>formosana                         </td><td>180                               </td><td>Proteaceae                        </td><td>Sample                            </td><td>21                                </td></tr>\n",
       "\t<tr><th scope=row>99w</th><td>3                                 </td><td>23.19752                          </td><td>Helicia                           </td><td>Helicia_formosana                 </td><td>W                                 </td><td>7                                 </td><td>formosana                         </td><td>183                               </td><td>Proteaceae                        </td><td>Sample                            </td><td>23                                </td></tr>\n",
       "\t<tr><th scope=row>100w</th><td>2                                 </td><td>25.97654                          </td><td>Helicia                           </td><td>Helicia_formosana                 </td><td>W                                 </td><td>7                                 </td><td>formosana                         </td><td>183                               </td><td>Proteaceae                        </td><td>Sample                            </td><td>20                                </td></tr>\n",
       "\t<tr><th scope=row>101w</th><td>3                                 </td><td>18.36984                          </td><td>Helicia                           </td><td>Helicia_formosana                 </td><td>W                                 </td><td>7                                 </td><td>formosana                         </td><td>180                               </td><td>Proteaceae                        </td><td>Sample                            </td><td>27                                </td></tr>\n",
       "\t<tr><th scope=row>102w</th><td>3                                 </td><td>21.3725                           </td><td>Cleyera                           </td><td>Cleyera_japonica                  </td><td>W                                 </td><td>7                                 </td><td>japonica                          </td><td>187                               </td><td>Theaceae                          </td><td>Sample                            </td><td>27                                </td></tr>\n",
       "\t<tr><th scope=row>104w</th><td>3                                 </td><td>1.409998                          </td><td>Helicia                           </td><td>Helicia_formosana                 </td><td>W                                 </td><td>7                                 </td><td>formosana                         </td><td>180                               </td><td>Proteaceae                        </td><td>Sample                            </td><td>51                                </td></tr>\n",
       "\t<tr><th scope=row>106w</th><td>2                                 </td><td>82.49734                          </td><td>Helicia                           </td><td>Helicia_formosana                 </td><td>W                                 </td><td>3                                 </td><td>formosana                         </td><td>180                               </td><td>Proteaceae                        </td><td>Sample                            </td><td>147                               </td></tr>\n",
       "\t<tr><th scope=row>107w</th><td>1                                 </td><td>64.85876                          </td><td>Blastus                           </td><td>Blastus_cochinchinensis           </td><td>W                                 </td><td>3                                 </td><td>cochinchinensis                   </td><td>307                               </td><td>Melastomataceae                   </td><td>Sample                            </td><td>147                               </td></tr>\n",
       "\t<tr><th scope=row>108w</th><td>1                                 </td><td>19.02113                          </td><td>Cleyera                           </td><td>Cleyera_japonica                  </td><td>W                                 </td><td>3                                 </td><td>japonica                          </td><td>243                               </td><td>Theaceae                          </td><td>Sample                            </td><td>83                                </td></tr>\n",
       "\t<tr><th scope=row>109w</th><td>3                                 </td><td>13.46815                          </td><td>Meliosma                          </td><td>Meliosma_squamulata               </td><td>W                                 </td><td>7                                 </td><td>squamulata                        </td><td>209                               </td><td>Sabiaceae                         </td><td>Sample                            </td><td>49                                </td></tr>\n",
       "\t<tr><th scope=row>114w</th><td>2                                 </td><td>6.015914                          </td><td>Helicia                           </td><td>Helicia_formosana                 </td><td>W                                 </td><td>7                                 </td><td>formosana                         </td><td>71                                </td><td>Proteaceae                        </td><td>Sample                            </td><td>40                                </td></tr>\n",
       "\t<tr><th scope=row>115w</th><td>3                                 </td><td>16.75811                          </td><td>Cyathea                           </td><td>Cyathea_podophylla                </td><td>W                                 </td><td>4                                 </td><td>podophylla                        </td><td>55                                </td><td>Cyatheaceae                       </td><td>Sample                            </td><td>40                                </td></tr>\n",
       "\t<tr><th scope=row>121w</th><td>3                                 </td><td>27.95829                          </td><td>Blastus                           </td><td>Blastus_cochinchinensis           </td><td>W                                 </td><td>4                                 </td><td>cochinchinensis                   </td><td>43                                </td><td>Melastomataceae                   </td><td>Sample                            </td><td>40                                </td></tr>\n",
       "\t<tr><th scope=row>124w</th><td>3                                 </td><td>28.9161391514                     </td><td>Glochidion                        </td><td>Glochidion_acuminatum             </td><td>W                                 </td><td>7                                 </td><td>acuminatum                        </td><td>40                                </td><td>Euphorbiaceae                     </td><td>Sample                            </td><td>47                                </td></tr>\n",
       "\t<tr><th scope=row>125w</th><td>3                                 </td><td>27.32744                          </td><td>Litsea                            </td><td>Litsea_acuminata                  </td><td>W                                 </td><td>4                                 </td><td>acuminata                         </td><td>40                                </td><td>Lauraceae                         </td><td>Sample                            </td><td>55                                </td></tr>\n",
       "\t<tr><th scope=row>128w</th><td>3                                 </td><td>75.54028                          </td><td>Castanopsis                       </td><td>Castanopsis_cuspidata_var_carlesii</td><td>W                                 </td><td>3                                 </td><td>cuspidata var. carlesii           </td><td>40                                </td><td>Fagaceae                          </td><td>Sample                            </td><td>167                               </td></tr>\n",
       "\t<tr><th scope=row>129w</th><td>1                                 </td><td>105.2136                          </td><td>Myrsine                           </td><td>Myrsine_seguinii                  </td><td>W                                 </td><td>3                                 </td><td>seguinii                          </td><td>167                               </td><td>Myrsinaceae                       </td><td>Sample                            </td><td>167                               </td></tr>\n",
       "\t<tr><th scope=row>130w</th><td>3                                 </td><td>45.72196                          </td><td>Helicia                           </td><td>Helicia_formosana                 </td><td>W                                 </td><td>7                                 </td><td>formosana                         </td><td>103                               </td><td>Proteaceae                        </td><td>Sample                            </td><td>103                               </td></tr>\n",
       "\t<tr><th scope=row>131w</th><td>4                                 </td><td>5.360382                          </td><td>Helicia                           </td><td>Helicia_formosana                 </td><td>W                                 </td><td>7                                 </td><td>formosana                         </td><td>71                                </td><td>Proteaceae                        </td><td>Sample                            </td><td>71                                </td></tr>\n",
       "\t<tr><th scope=row>133w</th><td>3                                 </td><td>22.16354                          </td><td>Helicia                           </td><td>Helicia_formosana                 </td><td>W                                 </td><td>7                                 </td><td>formosana                         </td><td>47                                </td><td>Proteaceae                        </td><td>Sample                            </td><td>47                                </td></tr>\n",
       "\t<tr><th scope=row>Neg</th><td>NA                                </td><td>NA                                </td><td>NA                                </td><td>NA                                </td><td>W                                 </td><td>NA                                </td><td>NA                                </td><td>NA                                </td><td>NA                                </td><td>Control                           </td><td>NA                                </td></tr>\n",
       "\t<tr><th scope=row>PosG</th><td>NA                                </td><td>NA                                </td><td>NA                                </td><td>NA                                </td><td>W                                 </td><td>NA                                </td><td>NA                                </td><td>NA                                </td><td>NA                                </td><td>Control                           </td><td>NA                                </td></tr>\n",
       "\t<tr><th scope=row>PosI</th><td>NA                                </td><td>NA                                </td><td>NA                                </td><td>NA                                </td><td>W                                 </td><td>NA                                </td><td>NA                                </td><td>NA                                </td><td>NA                                </td><td>Control                           </td><td>NA                                </td></tr>\n",
       "</tbody>\n",
       "</table>\n"
      ],
      "text/latex": [
       "\\begin{tabular}{r|lllllllllll}\n",
       "  & vegcom & stream\\_distance & Host\\_genus & Host\\_genus\\_species & Library & Forest\\_Type & Host\\_species & X & Host\\_family & SorC & Y\\\\\n",
       "\\hline\n",
       "\t100leaf & 2                                    & 25.97654                             & Helicia                              & Helicia\\_formosana                  & L                                    & 7                                    & formosana                            & 183                                  & Proteaceae                           & Sample                               & 20                                  \\\\\n",
       "\t101leaf & 3                                    & 18.36984                             & Helicia                              & Helicia\\_formosana                  & L                                    & 7                                    & formosana                            & 180                                  & Proteaceae                           & Sample                               & 27                                  \\\\\n",
       "\t102leaf & 3                                    & 21.3725                              & Cleyera                              & Cleyera\\_japonica                   & L                                    & 7                                    & japonica                             & 187                                  & Theaceae                             & Sample                               & 27                                  \\\\\n",
       "\t103leaf & 3                                    & 11.08831                             & Helicia                              & Helicia\\_formosana                  & L                                    & 7                                    & formosana                            & 180                                  & Proteaceae                           & Sample                               & 35                                  \\\\\n",
       "\t104leaf & 3                                    & 1.409998                             & Helicia                              & Helicia\\_formosana                  & L                                    & 7                                    & formosana                            & 180                                  & Proteaceae                           & Sample                               & 51                                  \\\\\n",
       "\t105leaf & 3                                    & 22.46722                             & Limlia                               & Limlia\\_uraiana                     & L                                    & 7                                    & uraiana                              & 180                                  & Fagaceae                             & Sample                               & 83                                  \\\\\n",
       "\t106leaf & 2                                    & 82.49734                             & Helicia                              & Helicia\\_formosana                  & L                                    & 3                                    & formosana                            & 180                                  & Proteaceae                           & Sample                               & 147                                 \\\\\n",
       "\t107leaf & 1                                    & 64.85876                             & Blastus                              & Blastus\\_cochinchinensis            & L                                    & 3                                    & cochinchinensis                      & 307                                  & Melastomataceae                      & Sample                               & 147                                 \\\\\n",
       "\t108leaf & 1                                    & 19.02113                             & Cleyera                              & Cleyera\\_japonica                   & L                                    & 3                                    & japonica                             & 243                                  & Theaceae                             & Sample                               & 83                                  \\\\\n",
       "\t109leaf & 3                                    & 13.46815                             & Meliosma                             & Meliosma\\_squamulata                & L                                    & 7                                    & squamulata                           & 209                                  & Sabiaceae                            & Sample                               & 49                                  \\\\\n",
       "\t110leaf & 3                                    & 13.46815                             & Limlia                               & Limlia\\_uraiana                     & L                                    & 7                                    & uraiana                              & 209                                  & Fagaceae                             & Sample                               & 49                                  \\\\\n",
       "\t111leaf & 3                                    & 20.37973                             & Limlia                               & Limlia\\_uraiana                     & L                                    & 7                                    & uraiana                              & 195                                  & Fagaceae                             & Sample                               & 35                                  \\\\\n",
       "\t112leafA & 2                                    & 4.250151                             & Blastus                              & Blastus\\_cochinchinensis            & L                                    & 7                                    & cochinchinensis                      & 167                                  & Melastomataceae                      & Sample                               & 40                                  \\\\\n",
       "\t112leafB & 2                                    & 4.250151                             & Blastus                              & Blastus\\_cochinchinensis            & L                                    & 7                                    & cochinchinensis                      & 167                                  & Melastomataceae                      & Sample                               & 40                                  \\\\\n",
       "\t113leafA & 3                                    & 12.80385                             & Schefflera                           & Schefflera\\_octophylla              & L                                    & 7                                    & octophylla                           & 103                                  & Araliaceae                           & Sample                               & 40                                  \\\\\n",
       "\t113leafB & 3                                    & 12.80385                             & Schefflera                           & Schefflera\\_octophylla              & L                                    & 7                                    & octophylla                           & 103                                  & Araliaceae                           & Sample                               & 40                                  \\\\\n",
       "\t114leaf & 2                                    & 6.015914                             & Helicia                              & Helicia\\_formosana                  & L                                    & 7                                    & formosana                            & 71                                   & Proteaceae                           & Sample                               & 40                                  \\\\\n",
       "\t115leaf & 3                                    & 16.75811                             & Cyathea                              & Cyathea\\_podophylla                 & L                                    & 4                                    & podophylla                           & 55                                   & Cyatheaceae                          & Sample                               & 40                                  \\\\\n",
       "\t116leaf & 3                                    & 24.2118                              & Helicia                              & Helicia\\_formosana                  & L                                    & 4                                    & formosana                            & 47                                   & Proteaceae                           & Sample                               & 40                                  \\\\\n",
       "\t117leaf & 3                                    & 30.79582                             & Limlia                               & Limlia\\_uraiana                     & L                                    & 7                                    & uraiana                              & 40                                   & Fagaceae                             & Sample                               & 40                                  \\\\\n",
       "\t118leaf & 3                                    & 30.50139                             & Limlia                               & Limlia\\_uraiana                     & L                                    & 7                                    & uraiana                              & 40                                   & Fagaceae                             & Sample                               & 41                                  \\\\\n",
       "\t119leaf & 3                                    & 29.54256                             & Limlia                               & Limlia\\_uraiana                     & L                                    & 7                                    & uraiana                              & 41                                   & Fagaceae                             & Sample                               & 41                                  \\\\\n",
       "\t120leaf & 3                                    & 29.84645                             & Limlia                               & Limlia\\_uraiana                     & L                                    & 7                                    & uraiana                              & 41                                   & Fagaceae                             & Sample                               & 40                                  \\\\\n",
       "\t121leaf & 3                                    & 27.95829                             & Blastus                              & Blastus\\_cochinchinensis            & L                                    & 4                                    & cochinchinensis                      & 43                                   & Melastomataceae                      & Sample                               & 40                                  \\\\\n",
       "\t122leaf & 3                                    & 27.07621                             & Limlia                               & Limlia\\_uraiana                     & L                                    & 7                                    & uraiana                              & 43                                   & Fagaceae                             & Sample                               & 43                                  \\\\\n",
       "\t125leaf & 3                                    & 27.32744                             & Litsea                               & Litsea\\_acuminata                   & L                                    & 4                                    & acuminata                            & 40                                   & Lauraceae                            & Sample                               & 55                                  \\\\\n",
       "\t126leafA & 3                                    & 20.16175                             & Blastus                              & Blastus\\_cochinchinensis            & L                                    & 7                                    & cochinchinensis                      & 40                                   & Melastomataceae                      & Sample                               & 71                                  \\\\\n",
       "\t126leafB & 3                                    & 20.16175                             & Blastus                              & Blastus\\_cochinchinensis            & L                                    & 7                                    & cochinchinensis                      & 40                                   & Melastomataceae                      & Sample                               & 71                                  \\\\\n",
       "\t127leaf & 3                                    & 11.69457                             & Helicia                              & Helicia\\_formosana                  & L                                    & 7                                    & formosana                            & 40                                   & Proteaceae                           & Sample                               & 103                                 \\\\\n",
       "\t128leaf & 3                                        & 75.54028                                 & Castanopsis                              & Castanopsis\\_cuspidata\\_var\\_carlesii & L                                        & 3                                        & cuspidata var. carlesii                  & 40                                       & Fagaceae                                 & Sample                                   & 167                                     \\\\\n",
       "\t⋮ & ⋮ & ⋮ & ⋮ & ⋮ & ⋮ & ⋮ & ⋮ & ⋮ & ⋮ & ⋮ & ⋮\\\\\n",
       "\t88w & 2                                    & 47.36483                             & Cryptocarya                          & Cryptocarya\\_chinensis              & W                                    & 7                                    & chinensis                            & 307                                  & Lauraceae                            & Sample                               & 220                                 \\\\\n",
       "\t89w & 2                                    & 25.33942                             & Helicia                              & Helicia\\_formosana                  & W                                    & 7                                    & formosana                            & 287                                  & Proteaceae                           & Sample                               & 20                                  \\\\\n",
       "\t92w & 2                                    & 31.43415                             & Blastus                              & Blastus\\_cochinchinensis            & W                                    & 7                                    & cochinchinensis                      & 195                                  & Melastomataceae                      & Sample                               & 20                                  \\\\\n",
       "\t93w & 2                                    & 27.63549                             & Prunus                               & Prunus\\_phaeosticta                 & W                                    & 6                                    & phaeosticta                          & 187                                  & Rosaceae                             & Sample                               & 20                                  \\\\\n",
       "\t94w & 2                                        & 25.06622                                 & Ficus                                    & Ficus\\_erecta\\_var\\_beecheyana        & W                                        & 6                                        & erecta var. beecheyana                   & 180                                      & Moraceae                                 & Sample                                   & 20                                      \\\\\n",
       "\t95w & 2                                        & 25.33385                                 & Ficus                                    & Ficus\\_erecta\\_var\\_beecheyana        & W                                        & 6                                        & erecta var. beecheyana                   & 181                                      & Moraceae                                 & Sample                                   & 20                                      \\\\\n",
       "\t96w & 3                                    & 24.37728                             & Helicia                              & Helicia\\_formosana                  & W                                    & 7                                    & formosana                            & 181                                  & Proteaceae                           & Sample                               & 21                                  \\\\\n",
       "\t97w & 3                                    & 24.09903                             & Helicia                              & Helicia\\_formosana                  & W                                    & 7                                    & formosana                            & 180                                  & Proteaceae                           & Sample                               & 21                                  \\\\\n",
       "\t99w & 3                                    & 23.19752                             & Helicia                              & Helicia\\_formosana                  & W                                    & 7                                    & formosana                            & 183                                  & Proteaceae                           & Sample                               & 23                                  \\\\\n",
       "\t100w & 2                                    & 25.97654                             & Helicia                              & Helicia\\_formosana                  & W                                    & 7                                    & formosana                            & 183                                  & Proteaceae                           & Sample                               & 20                                  \\\\\n",
       "\t101w & 3                                    & 18.36984                             & Helicia                              & Helicia\\_formosana                  & W                                    & 7                                    & formosana                            & 180                                  & Proteaceae                           & Sample                               & 27                                  \\\\\n",
       "\t102w & 3                                    & 21.3725                              & Cleyera                              & Cleyera\\_japonica                   & W                                    & 7                                    & japonica                             & 187                                  & Theaceae                             & Sample                               & 27                                  \\\\\n",
       "\t104w & 3                                    & 1.409998                             & Helicia                              & Helicia\\_formosana                  & W                                    & 7                                    & formosana                            & 180                                  & Proteaceae                           & Sample                               & 51                                  \\\\\n",
       "\t106w & 2                                    & 82.49734                             & Helicia                              & Helicia\\_formosana                  & W                                    & 3                                    & formosana                            & 180                                  & Proteaceae                           & Sample                               & 147                                 \\\\\n",
       "\t107w & 1                                    & 64.85876                             & Blastus                              & Blastus\\_cochinchinensis            & W                                    & 3                                    & cochinchinensis                      & 307                                  & Melastomataceae                      & Sample                               & 147                                 \\\\\n",
       "\t108w & 1                                    & 19.02113                             & Cleyera                              & Cleyera\\_japonica                   & W                                    & 3                                    & japonica                             & 243                                  & Theaceae                             & Sample                               & 83                                  \\\\\n",
       "\t109w & 3                                    & 13.46815                             & Meliosma                             & Meliosma\\_squamulata                & W                                    & 7                                    & squamulata                           & 209                                  & Sabiaceae                            & Sample                               & 49                                  \\\\\n",
       "\t114w & 2                                    & 6.015914                             & Helicia                              & Helicia\\_formosana                  & W                                    & 7                                    & formosana                            & 71                                   & Proteaceae                           & Sample                               & 40                                  \\\\\n",
       "\t115w & 3                                    & 16.75811                             & Cyathea                              & Cyathea\\_podophylla                 & W                                    & 4                                    & podophylla                           & 55                                   & Cyatheaceae                          & Sample                               & 40                                  \\\\\n",
       "\t121w & 3                                    & 27.95829                             & Blastus                              & Blastus\\_cochinchinensis            & W                                    & 4                                    & cochinchinensis                      & 43                                   & Melastomataceae                      & Sample                               & 40                                  \\\\\n",
       "\t124w & 3                                    & 28.9161391514                        & Glochidion                           & Glochidion\\_acuminatum              & W                                    & 7                                    & acuminatum                           & 40                                   & Euphorbiaceae                        & Sample                               & 47                                  \\\\\n",
       "\t125w & 3                                    & 27.32744                             & Litsea                               & Litsea\\_acuminata                   & W                                    & 4                                    & acuminata                            & 40                                   & Lauraceae                            & Sample                               & 55                                  \\\\\n",
       "\t128w & 3                                        & 75.54028                                 & Castanopsis                              & Castanopsis\\_cuspidata\\_var\\_carlesii & W                                        & 3                                        & cuspidata var. carlesii                  & 40                                       & Fagaceae                                 & Sample                                   & 167                                     \\\\\n",
       "\t129w & 1                                    & 105.2136                             & Myrsine                              & Myrsine\\_seguinii                   & W                                    & 3                                    & seguinii                             & 167                                  & Myrsinaceae                          & Sample                               & 167                                 \\\\\n",
       "\t130w & 3                                    & 45.72196                             & Helicia                              & Helicia\\_formosana                  & W                                    & 7                                    & formosana                            & 103                                  & Proteaceae                           & Sample                               & 103                                 \\\\\n",
       "\t131w & 4                                    & 5.360382                             & Helicia                              & Helicia\\_formosana                  & W                                    & 7                                    & formosana                            & 71                                   & Proteaceae                           & Sample                               & 71                                  \\\\\n",
       "\t133w & 3                                    & 22.16354                             & Helicia                              & Helicia\\_formosana                  & W                                    & 7                                    & formosana                            & 47                                   & Proteaceae                           & Sample                               & 47                                  \\\\\n",
       "\tNeg & NA                                 & NA                                 & NA                                 & NA                                 & W                                  & NA                                 & NA                                 & NA                                 & NA                                 & Control                            & NA                                \\\\\n",
       "\tPosG & NA                                 & NA                                 & NA                                 & NA                                 & W                                  & NA                                 & NA                                 & NA                                 & NA                                 & Control                            & NA                                \\\\\n",
       "\tPosI & NA                                 & NA                                 & NA                                 & NA                                 & W                                  & NA                                 & NA                                 & NA                                 & NA                                 & Control                            & NA                                \\\\\n",
       "\\end{tabular}\n"
      ],
      "text/markdown": [
       "\n",
       "| <!--/--> | vegcom | stream_distance | Host_genus | Host_genus_species | Library | Forest_Type | Host_species | X | Host_family | SorC | Y | \n",
       "|---|---|---|---|---|---|---|---|---|---|---|---|---|---|---|---|---|---|---|---|---|---|---|---|---|---|---|---|---|---|---|---|---|---|---|---|---|---|---|---|---|---|---|---|---|---|---|---|---|---|---|---|---|---|---|---|---|---|---|---|---|\n",
       "| 100leaf | 2                                  | 25.97654                           | Helicia                            | Helicia_formosana                  | L                                  | 7                                  | formosana                          | 183                                | Proteaceae                         | Sample                             | 20                                 | \n",
       "| 101leaf | 3                                  | 18.36984                           | Helicia                            | Helicia_formosana                  | L                                  | 7                                  | formosana                          | 180                                | Proteaceae                         | Sample                             | 27                                 | \n",
       "| 102leaf | 3                                  | 21.3725                            | Cleyera                            | Cleyera_japonica                   | L                                  | 7                                  | japonica                           | 187                                | Theaceae                           | Sample                             | 27                                 | \n",
       "| 103leaf | 3                                  | 11.08831                           | Helicia                            | Helicia_formosana                  | L                                  | 7                                  | formosana                          | 180                                | Proteaceae                         | Sample                             | 35                                 | \n",
       "| 104leaf | 3                                  | 1.409998                           | Helicia                            | Helicia_formosana                  | L                                  | 7                                  | formosana                          | 180                                | Proteaceae                         | Sample                             | 51                                 | \n",
       "| 105leaf | 3                                  | 22.46722                           | Limlia                             | Limlia_uraiana                     | L                                  | 7                                  | uraiana                            | 180                                | Fagaceae                           | Sample                             | 83                                 | \n",
       "| 106leaf | 2                                  | 82.49734                           | Helicia                            | Helicia_formosana                  | L                                  | 3                                  | formosana                          | 180                                | Proteaceae                         | Sample                             | 147                                | \n",
       "| 107leaf | 1                                  | 64.85876                           | Blastus                            | Blastus_cochinchinensis            | L                                  | 3                                  | cochinchinensis                    | 307                                | Melastomataceae                    | Sample                             | 147                                | \n",
       "| 108leaf | 1                                  | 19.02113                           | Cleyera                            | Cleyera_japonica                   | L                                  | 3                                  | japonica                           | 243                                | Theaceae                           | Sample                             | 83                                 | \n",
       "| 109leaf | 3                                  | 13.46815                           | Meliosma                           | Meliosma_squamulata                | L                                  | 7                                  | squamulata                         | 209                                | Sabiaceae                          | Sample                             | 49                                 | \n",
       "| 110leaf | 3                                  | 13.46815                           | Limlia                             | Limlia_uraiana                     | L                                  | 7                                  | uraiana                            | 209                                | Fagaceae                           | Sample                             | 49                                 | \n",
       "| 111leaf | 3                                  | 20.37973                           | Limlia                             | Limlia_uraiana                     | L                                  | 7                                  | uraiana                            | 195                                | Fagaceae                           | Sample                             | 35                                 | \n",
       "| 112leafA | 2                                  | 4.250151                           | Blastus                            | Blastus_cochinchinensis            | L                                  | 7                                  | cochinchinensis                    | 167                                | Melastomataceae                    | Sample                             | 40                                 | \n",
       "| 112leafB | 2                                  | 4.250151                           | Blastus                            | Blastus_cochinchinensis            | L                                  | 7                                  | cochinchinensis                    | 167                                | Melastomataceae                    | Sample                             | 40                                 | \n",
       "| 113leafA | 3                                  | 12.80385                           | Schefflera                         | Schefflera_octophylla              | L                                  | 7                                  | octophylla                         | 103                                | Araliaceae                         | Sample                             | 40                                 | \n",
       "| 113leafB | 3                                  | 12.80385                           | Schefflera                         | Schefflera_octophylla              | L                                  | 7                                  | octophylla                         | 103                                | Araliaceae                         | Sample                             | 40                                 | \n",
       "| 114leaf | 2                                  | 6.015914                           | Helicia                            | Helicia_formosana                  | L                                  | 7                                  | formosana                          | 71                                 | Proteaceae                         | Sample                             | 40                                 | \n",
       "| 115leaf | 3                                  | 16.75811                           | Cyathea                            | Cyathea_podophylla                 | L                                  | 4                                  | podophylla                         | 55                                 | Cyatheaceae                        | Sample                             | 40                                 | \n",
       "| 116leaf | 3                                  | 24.2118                            | Helicia                            | Helicia_formosana                  | L                                  | 4                                  | formosana                          | 47                                 | Proteaceae                         | Sample                             | 40                                 | \n",
       "| 117leaf | 3                                  | 30.79582                           | Limlia                             | Limlia_uraiana                     | L                                  | 7                                  | uraiana                            | 40                                 | Fagaceae                           | Sample                             | 40                                 | \n",
       "| 118leaf | 3                                  | 30.50139                           | Limlia                             | Limlia_uraiana                     | L                                  | 7                                  | uraiana                            | 40                                 | Fagaceae                           | Sample                             | 41                                 | \n",
       "| 119leaf | 3                                  | 29.54256                           | Limlia                             | Limlia_uraiana                     | L                                  | 7                                  | uraiana                            | 41                                 | Fagaceae                           | Sample                             | 41                                 | \n",
       "| 120leaf | 3                                  | 29.84645                           | Limlia                             | Limlia_uraiana                     | L                                  | 7                                  | uraiana                            | 41                                 | Fagaceae                           | Sample                             | 40                                 | \n",
       "| 121leaf | 3                                  | 27.95829                           | Blastus                            | Blastus_cochinchinensis            | L                                  | 4                                  | cochinchinensis                    | 43                                 | Melastomataceae                    | Sample                             | 40                                 | \n",
       "| 122leaf | 3                                  | 27.07621                           | Limlia                             | Limlia_uraiana                     | L                                  | 7                                  | uraiana                            | 43                                 | Fagaceae                           | Sample                             | 43                                 | \n",
       "| 125leaf | 3                                  | 27.32744                           | Litsea                             | Litsea_acuminata                   | L                                  | 4                                  | acuminata                          | 40                                 | Lauraceae                          | Sample                             | 55                                 | \n",
       "| 126leafA | 3                                  | 20.16175                           | Blastus                            | Blastus_cochinchinensis            | L                                  | 7                                  | cochinchinensis                    | 40                                 | Melastomataceae                    | Sample                             | 71                                 | \n",
       "| 126leafB | 3                                  | 20.16175                           | Blastus                            | Blastus_cochinchinensis            | L                                  | 7                                  | cochinchinensis                    | 40                                 | Melastomataceae                    | Sample                             | 71                                 | \n",
       "| 127leaf | 3                                  | 11.69457                           | Helicia                            | Helicia_formosana                  | L                                  | 7                                  | formosana                          | 40                                 | Proteaceae                         | Sample                             | 103                                | \n",
       "| 128leaf | 3                                  | 75.54028                           | Castanopsis                        | Castanopsis_cuspidata_var_carlesii | L                                  | 3                                  | cuspidata var. carlesii            | 40                                 | Fagaceae                           | Sample                             | 167                                | \n",
       "| ⋮ | ⋮ | ⋮ | ⋮ | ⋮ | ⋮ | ⋮ | ⋮ | ⋮ | ⋮ | ⋮ | ⋮ | \n",
       "| 88w | 2                                  | 47.36483                           | Cryptocarya                        | Cryptocarya_chinensis              | W                                  | 7                                  | chinensis                          | 307                                | Lauraceae                          | Sample                             | 220                                | \n",
       "| 89w | 2                                  | 25.33942                           | Helicia                            | Helicia_formosana                  | W                                  | 7                                  | formosana                          | 287                                | Proteaceae                         | Sample                             | 20                                 | \n",
       "| 92w | 2                                  | 31.43415                           | Blastus                            | Blastus_cochinchinensis            | W                                  | 7                                  | cochinchinensis                    | 195                                | Melastomataceae                    | Sample                             | 20                                 | \n",
       "| 93w | 2                                  | 27.63549                           | Prunus                             | Prunus_phaeosticta                 | W                                  | 6                                  | phaeosticta                        | 187                                | Rosaceae                           | Sample                             | 20                                 | \n",
       "| 94w | 2                                  | 25.06622                           | Ficus                              | Ficus_erecta_var_beecheyana        | W                                  | 6                                  | erecta var. beecheyana             | 180                                | Moraceae                           | Sample                             | 20                                 | \n",
       "| 95w | 2                                  | 25.33385                           | Ficus                              | Ficus_erecta_var_beecheyana        | W                                  | 6                                  | erecta var. beecheyana             | 181                                | Moraceae                           | Sample                             | 20                                 | \n",
       "| 96w | 3                                  | 24.37728                           | Helicia                            | Helicia_formosana                  | W                                  | 7                                  | formosana                          | 181                                | Proteaceae                         | Sample                             | 21                                 | \n",
       "| 97w | 3                                  | 24.09903                           | Helicia                            | Helicia_formosana                  | W                                  | 7                                  | formosana                          | 180                                | Proteaceae                         | Sample                             | 21                                 | \n",
       "| 99w | 3                                  | 23.19752                           | Helicia                            | Helicia_formosana                  | W                                  | 7                                  | formosana                          | 183                                | Proteaceae                         | Sample                             | 23                                 | \n",
       "| 100w | 2                                  | 25.97654                           | Helicia                            | Helicia_formosana                  | W                                  | 7                                  | formosana                          | 183                                | Proteaceae                         | Sample                             | 20                                 | \n",
       "| 101w | 3                                  | 18.36984                           | Helicia                            | Helicia_formosana                  | W                                  | 7                                  | formosana                          | 180                                | Proteaceae                         | Sample                             | 27                                 | \n",
       "| 102w | 3                                  | 21.3725                            | Cleyera                            | Cleyera_japonica                   | W                                  | 7                                  | japonica                           | 187                                | Theaceae                           | Sample                             | 27                                 | \n",
       "| 104w | 3                                  | 1.409998                           | Helicia                            | Helicia_formosana                  | W                                  | 7                                  | formosana                          | 180                                | Proteaceae                         | Sample                             | 51                                 | \n",
       "| 106w | 2                                  | 82.49734                           | Helicia                            | Helicia_formosana                  | W                                  | 3                                  | formosana                          | 180                                | Proteaceae                         | Sample                             | 147                                | \n",
       "| 107w | 1                                  | 64.85876                           | Blastus                            | Blastus_cochinchinensis            | W                                  | 3                                  | cochinchinensis                    | 307                                | Melastomataceae                    | Sample                             | 147                                | \n",
       "| 108w | 1                                  | 19.02113                           | Cleyera                            | Cleyera_japonica                   | W                                  | 3                                  | japonica                           | 243                                | Theaceae                           | Sample                             | 83                                 | \n",
       "| 109w | 3                                  | 13.46815                           | Meliosma                           | Meliosma_squamulata                | W                                  | 7                                  | squamulata                         | 209                                | Sabiaceae                          | Sample                             | 49                                 | \n",
       "| 114w | 2                                  | 6.015914                           | Helicia                            | Helicia_formosana                  | W                                  | 7                                  | formosana                          | 71                                 | Proteaceae                         | Sample                             | 40                                 | \n",
       "| 115w | 3                                  | 16.75811                           | Cyathea                            | Cyathea_podophylla                 | W                                  | 4                                  | podophylla                         | 55                                 | Cyatheaceae                        | Sample                             | 40                                 | \n",
       "| 121w | 3                                  | 27.95829                           | Blastus                            | Blastus_cochinchinensis            | W                                  | 4                                  | cochinchinensis                    | 43                                 | Melastomataceae                    | Sample                             | 40                                 | \n",
       "| 124w | 3                                  | 28.9161391514                      | Glochidion                         | Glochidion_acuminatum              | W                                  | 7                                  | acuminatum                         | 40                                 | Euphorbiaceae                      | Sample                             | 47                                 | \n",
       "| 125w | 3                                  | 27.32744                           | Litsea                             | Litsea_acuminata                   | W                                  | 4                                  | acuminata                          | 40                                 | Lauraceae                          | Sample                             | 55                                 | \n",
       "| 128w | 3                                  | 75.54028                           | Castanopsis                        | Castanopsis_cuspidata_var_carlesii | W                                  | 3                                  | cuspidata var. carlesii            | 40                                 | Fagaceae                           | Sample                             | 167                                | \n",
       "| 129w | 1                                  | 105.2136                           | Myrsine                            | Myrsine_seguinii                   | W                                  | 3                                  | seguinii                           | 167                                | Myrsinaceae                        | Sample                             | 167                                | \n",
       "| 130w | 3                                  | 45.72196                           | Helicia                            | Helicia_formosana                  | W                                  | 7                                  | formosana                          | 103                                | Proteaceae                         | Sample                             | 103                                | \n",
       "| 131w | 4                                  | 5.360382                           | Helicia                            | Helicia_formosana                  | W                                  | 7                                  | formosana                          | 71                                 | Proteaceae                         | Sample                             | 71                                 | \n",
       "| 133w | 3                                  | 22.16354                           | Helicia                            | Helicia_formosana                  | W                                  | 7                                  | formosana                          | 47                                 | Proteaceae                         | Sample                             | 47                                 | \n",
       "| Neg | NA                                 | NA                                 | NA                                 | NA                                 | W                                  | NA                                 | NA                                 | NA                                 | NA                                 | Control                            | NA                                 | \n",
       "| PosG | NA                                 | NA                                 | NA                                 | NA                                 | W                                  | NA                                 | NA                                 | NA                                 | NA                                 | Control                            | NA                                 | \n",
       "| PosI | NA                                 | NA                                 | NA                                 | NA                                 | W                                  | NA                                 | NA                                 | NA                                 | NA                                 | Control                            | NA                                 | \n",
       "\n",
       "\n"
      ],
      "text/plain": [
       "         vegcom stream_distance Host_genus  Host_genus_species                \n",
       "100leaf  2      25.97654        Helicia     Helicia_formosana                 \n",
       "101leaf  3      18.36984        Helicia     Helicia_formosana                 \n",
       "102leaf  3      21.3725         Cleyera     Cleyera_japonica                  \n",
       "103leaf  3      11.08831        Helicia     Helicia_formosana                 \n",
       "104leaf  3      1.409998        Helicia     Helicia_formosana                 \n",
       "105leaf  3      22.46722        Limlia      Limlia_uraiana                    \n",
       "106leaf  2      82.49734        Helicia     Helicia_formosana                 \n",
       "107leaf  1      64.85876        Blastus     Blastus_cochinchinensis           \n",
       "108leaf  1      19.02113        Cleyera     Cleyera_japonica                  \n",
       "109leaf  3      13.46815        Meliosma    Meliosma_squamulata               \n",
       "110leaf  3      13.46815        Limlia      Limlia_uraiana                    \n",
       "111leaf  3      20.37973        Limlia      Limlia_uraiana                    \n",
       "112leafA 2      4.250151        Blastus     Blastus_cochinchinensis           \n",
       "112leafB 2      4.250151        Blastus     Blastus_cochinchinensis           \n",
       "113leafA 3      12.80385        Schefflera  Schefflera_octophylla             \n",
       "113leafB 3      12.80385        Schefflera  Schefflera_octophylla             \n",
       "114leaf  2      6.015914        Helicia     Helicia_formosana                 \n",
       "115leaf  3      16.75811        Cyathea     Cyathea_podophylla                \n",
       "116leaf  3      24.2118         Helicia     Helicia_formosana                 \n",
       "117leaf  3      30.79582        Limlia      Limlia_uraiana                    \n",
       "118leaf  3      30.50139        Limlia      Limlia_uraiana                    \n",
       "119leaf  3      29.54256        Limlia      Limlia_uraiana                    \n",
       "120leaf  3      29.84645        Limlia      Limlia_uraiana                    \n",
       "121leaf  3      27.95829        Blastus     Blastus_cochinchinensis           \n",
       "122leaf  3      27.07621        Limlia      Limlia_uraiana                    \n",
       "125leaf  3      27.32744        Litsea      Litsea_acuminata                  \n",
       "126leafA 3      20.16175        Blastus     Blastus_cochinchinensis           \n",
       "126leafB 3      20.16175        Blastus     Blastus_cochinchinensis           \n",
       "127leaf  3      11.69457        Helicia     Helicia_formosana                 \n",
       "128leaf  3      75.54028        Castanopsis Castanopsis_cuspidata_var_carlesii\n",
       "⋮        ⋮      ⋮               ⋮           ⋮                                 \n",
       "88w      2      47.36483        Cryptocarya Cryptocarya_chinensis             \n",
       "89w      2      25.33942        Helicia     Helicia_formosana                 \n",
       "92w      2      31.43415        Blastus     Blastus_cochinchinensis           \n",
       "93w      2      27.63549        Prunus      Prunus_phaeosticta                \n",
       "94w      2      25.06622        Ficus       Ficus_erecta_var_beecheyana       \n",
       "95w      2      25.33385        Ficus       Ficus_erecta_var_beecheyana       \n",
       "96w      3      24.37728        Helicia     Helicia_formosana                 \n",
       "97w      3      24.09903        Helicia     Helicia_formosana                 \n",
       "99w      3      23.19752        Helicia     Helicia_formosana                 \n",
       "100w     2      25.97654        Helicia     Helicia_formosana                 \n",
       "101w     3      18.36984        Helicia     Helicia_formosana                 \n",
       "102w     3      21.3725         Cleyera     Cleyera_japonica                  \n",
       "104w     3      1.409998        Helicia     Helicia_formosana                 \n",
       "106w     2      82.49734        Helicia     Helicia_formosana                 \n",
       "107w     1      64.85876        Blastus     Blastus_cochinchinensis           \n",
       "108w     1      19.02113        Cleyera     Cleyera_japonica                  \n",
       "109w     3      13.46815        Meliosma    Meliosma_squamulata               \n",
       "114w     2      6.015914        Helicia     Helicia_formosana                 \n",
       "115w     3      16.75811        Cyathea     Cyathea_podophylla                \n",
       "121w     3      27.95829        Blastus     Blastus_cochinchinensis           \n",
       "124w     3      28.9161391514   Glochidion  Glochidion_acuminatum             \n",
       "125w     3      27.32744        Litsea      Litsea_acuminata                  \n",
       "128w     3      75.54028        Castanopsis Castanopsis_cuspidata_var_carlesii\n",
       "129w     1      105.2136        Myrsine     Myrsine_seguinii                  \n",
       "130w     3      45.72196        Helicia     Helicia_formosana                 \n",
       "131w     4      5.360382        Helicia     Helicia_formosana                 \n",
       "133w     3      22.16354        Helicia     Helicia_formosana                 \n",
       "Neg      NA     NA              NA          NA                                \n",
       "PosG     NA     NA              NA          NA                                \n",
       "PosI     NA     NA              NA          NA                                \n",
       "         Library Forest_Type Host_species            X   Host_family    \n",
       "100leaf  L       7           formosana               183 Proteaceae     \n",
       "101leaf  L       7           formosana               180 Proteaceae     \n",
       "102leaf  L       7           japonica                187 Theaceae       \n",
       "103leaf  L       7           formosana               180 Proteaceae     \n",
       "104leaf  L       7           formosana               180 Proteaceae     \n",
       "105leaf  L       7           uraiana                 180 Fagaceae       \n",
       "106leaf  L       3           formosana               180 Proteaceae     \n",
       "107leaf  L       3           cochinchinensis         307 Melastomataceae\n",
       "108leaf  L       3           japonica                243 Theaceae       \n",
       "109leaf  L       7           squamulata              209 Sabiaceae      \n",
       "110leaf  L       7           uraiana                 209 Fagaceae       \n",
       "111leaf  L       7           uraiana                 195 Fagaceae       \n",
       "112leafA L       7           cochinchinensis         167 Melastomataceae\n",
       "112leafB L       7           cochinchinensis         167 Melastomataceae\n",
       "113leafA L       7           octophylla              103 Araliaceae     \n",
       "113leafB L       7           octophylla              103 Araliaceae     \n",
       "114leaf  L       7           formosana               71  Proteaceae     \n",
       "115leaf  L       4           podophylla              55  Cyatheaceae    \n",
       "116leaf  L       4           formosana               47  Proteaceae     \n",
       "117leaf  L       7           uraiana                 40  Fagaceae       \n",
       "118leaf  L       7           uraiana                 40  Fagaceae       \n",
       "119leaf  L       7           uraiana                 41  Fagaceae       \n",
       "120leaf  L       7           uraiana                 41  Fagaceae       \n",
       "121leaf  L       4           cochinchinensis         43  Melastomataceae\n",
       "122leaf  L       7           uraiana                 43  Fagaceae       \n",
       "125leaf  L       4           acuminata               40  Lauraceae      \n",
       "126leafA L       7           cochinchinensis         40  Melastomataceae\n",
       "126leafB L       7           cochinchinensis         40  Melastomataceae\n",
       "127leaf  L       7           formosana               40  Proteaceae     \n",
       "128leaf  L       3           cuspidata var. carlesii 40  Fagaceae       \n",
       "⋮        ⋮       ⋮           ⋮                       ⋮   ⋮              \n",
       "88w      W       7           chinensis               307 Lauraceae      \n",
       "89w      W       7           formosana               287 Proteaceae     \n",
       "92w      W       7           cochinchinensis         195 Melastomataceae\n",
       "93w      W       6           phaeosticta             187 Rosaceae       \n",
       "94w      W       6           erecta var. beecheyana  180 Moraceae       \n",
       "95w      W       6           erecta var. beecheyana  181 Moraceae       \n",
       "96w      W       7           formosana               181 Proteaceae     \n",
       "97w      W       7           formosana               180 Proteaceae     \n",
       "99w      W       7           formosana               183 Proteaceae     \n",
       "100w     W       7           formosana               183 Proteaceae     \n",
       "101w     W       7           formosana               180 Proteaceae     \n",
       "102w     W       7           japonica                187 Theaceae       \n",
       "104w     W       7           formosana               180 Proteaceae     \n",
       "106w     W       3           formosana               180 Proteaceae     \n",
       "107w     W       3           cochinchinensis         307 Melastomataceae\n",
       "108w     W       3           japonica                243 Theaceae       \n",
       "109w     W       7           squamulata              209 Sabiaceae      \n",
       "114w     W       7           formosana               71  Proteaceae     \n",
       "115w     W       4           podophylla              55  Cyatheaceae    \n",
       "121w     W       4           cochinchinensis         43  Melastomataceae\n",
       "124w     W       7           acuminatum              40  Euphorbiaceae  \n",
       "125w     W       4           acuminata               40  Lauraceae      \n",
       "128w     W       3           cuspidata var. carlesii 40  Fagaceae       \n",
       "129w     W       3           seguinii                167 Myrsinaceae    \n",
       "130w     W       7           formosana               103 Proteaceae     \n",
       "131w     W       7           formosana               71  Proteaceae     \n",
       "133w     W       7           formosana               47  Proteaceae     \n",
       "Neg      W       NA          NA                      NA  NA             \n",
       "PosG     W       NA          NA                      NA  NA             \n",
       "PosI     W       NA          NA                      NA  NA             \n",
       "         SorC    Y  \n",
       "100leaf  Sample  20 \n",
       "101leaf  Sample  27 \n",
       "102leaf  Sample  27 \n",
       "103leaf  Sample  35 \n",
       "104leaf  Sample  51 \n",
       "105leaf  Sample  83 \n",
       "106leaf  Sample  147\n",
       "107leaf  Sample  147\n",
       "108leaf  Sample  83 \n",
       "109leaf  Sample  49 \n",
       "110leaf  Sample  49 \n",
       "111leaf  Sample  35 \n",
       "112leafA Sample  40 \n",
       "112leafB Sample  40 \n",
       "113leafA Sample  40 \n",
       "113leafB Sample  40 \n",
       "114leaf  Sample  40 \n",
       "115leaf  Sample  40 \n",
       "116leaf  Sample  40 \n",
       "117leaf  Sample  40 \n",
       "118leaf  Sample  41 \n",
       "119leaf  Sample  41 \n",
       "120leaf  Sample  40 \n",
       "121leaf  Sample  40 \n",
       "122leaf  Sample  43 \n",
       "125leaf  Sample  55 \n",
       "126leafA Sample  71 \n",
       "126leafB Sample  71 \n",
       "127leaf  Sample  103\n",
       "128leaf  Sample  167\n",
       "⋮        ⋮       ⋮  \n",
       "88w      Sample  220\n",
       "89w      Sample  20 \n",
       "92w      Sample  20 \n",
       "93w      Sample  20 \n",
       "94w      Sample  20 \n",
       "95w      Sample  20 \n",
       "96w      Sample  21 \n",
       "97w      Sample  21 \n",
       "99w      Sample  23 \n",
       "100w     Sample  20 \n",
       "101w     Sample  27 \n",
       "102w     Sample  27 \n",
       "104w     Sample  51 \n",
       "106w     Sample  147\n",
       "107w     Sample  147\n",
       "108w     Sample  83 \n",
       "109w     Sample  49 \n",
       "114w     Sample  40 \n",
       "115w     Sample  40 \n",
       "121w     Sample  40 \n",
       "124w     Sample  47 \n",
       "125w     Sample  55 \n",
       "128w     Sample  167\n",
       "129w     Sample  167\n",
       "130w     Sample  103\n",
       "131w     Sample  71 \n",
       "133w     Sample  47 \n",
       "Neg      Control NA \n",
       "PosG     Control NA \n",
       "PosI     Control NA "
      ]
     },
     "metadata": {},
     "output_type": "display_data"
    }
   ],
   "source": [
    "sample_data(biom95)"
   ]
  },
  {
   "cell_type": "markdown",
   "metadata": {},
   "source": [
    "<a id='controls'><h2>Controls</h3></a>"
   ]
  },
  {
   "cell_type": "markdown",
   "metadata": {},
   "source": [
    "<a id='negC'><h3>Negative controls</h3></a>"
   ]
  },
  {
   "cell_type": "code",
   "execution_count": 89,
   "metadata": {
    "scrolled": true
   },
   "outputs": [],
   "source": [
    "neg95 <- subset_samples(biom95, sample_names(biom95)=='Neg')"
   ]
  },
  {
   "cell_type": "code",
   "execution_count": 90,
   "metadata": {},
   "outputs": [
    {
     "data": {
      "text/plain": [
       "phyloseq-class experiment-level object\n",
       "otu_table()   OTU Table:         [ 11588 taxa and 1 samples ]\n",
       "sample_data() Sample Data:       [ 1 samples by 11 sample variables ]\n",
       "tax_table()   Taxonomy Table:    [ 11588 taxa by 7 taxonomic ranks ]"
      ]
     },
     "metadata": {},
     "output_type": "display_data"
    }
   ],
   "source": [
    "neg95"
   ]
  },
  {
   "cell_type": "markdown",
   "metadata": {},
   "source": [
    "How many reads are in our negative control?"
   ]
  },
  {
   "cell_type": "code",
   "execution_count": 16,
   "metadata": {},
   "outputs": [
    {
     "data": {
      "text/html": [
       "1501"
      ],
      "text/latex": [
       "1501"
      ],
      "text/markdown": [
       "1501"
      ],
      "text/plain": [
       "[1] 1501"
      ]
     },
     "metadata": {},
     "output_type": "display_data"
    }
   ],
   "source": [
    "sum(taxa_sums(neg95)[taxa_sums(neg95)>0])"
   ]
  },
  {
   "cell_type": "markdown",
   "metadata": {},
   "source": [
    "How many OTUs?"
   ]
  },
  {
   "cell_type": "code",
   "execution_count": 17,
   "metadata": {},
   "outputs": [
    {
     "data": {
      "text/html": [
       "43"
      ],
      "text/latex": [
       "43"
      ],
      "text/markdown": [
       "43"
      ],
      "text/plain": [
       "[1] 43"
      ]
     },
     "metadata": {},
     "output_type": "display_data"
    }
   ],
   "source": [
    "length(taxa_sums(neg95)[taxa_sums(neg95)>0])"
   ]
  },
  {
   "cell_type": "markdown",
   "metadata": {},
   "source": [
    "Which OTUs, and what's their distribution?"
   ]
  },
  {
   "cell_type": "code",
   "execution_count": 19,
   "metadata": {
    "scrolled": true
   },
   "outputs": [
    {
     "data": {
      "text/html": [
       "<dl class=dl-horizontal>\n",
       "\t<dt>OTU167:Dc-X</dt>\n",
       "\t\t<dd>469</dd>\n",
       "\t<dt>OTU187:Dc-PosG</dt>\n",
       "\t\t<dd>85</dd>\n",
       "\t<dt>OTU256:Dc-X</dt>\n",
       "\t\t<dd>35</dd>\n",
       "\t<dt>OTU762:Dc-X</dt>\n",
       "\t\t<dd>53</dd>\n",
       "\t<dt>OTU891:1w</dt>\n",
       "\t\t<dd>58</dd>\n",
       "\t<dt>OTU306:Dc-PosG</dt>\n",
       "\t\t<dd>96</dd>\n",
       "\t<dt>OTU119:Dc-PosG</dt>\n",
       "\t\t<dd>1</dd>\n",
       "\t<dt>OTU220:Dc-PosG</dt>\n",
       "\t\t<dd>1</dd>\n",
       "\t<dt>OTU164:Dc-PosG</dt>\n",
       "\t\t<dd>51</dd>\n",
       "\t<dt>OTU235:Dc-PosG</dt>\n",
       "\t\t<dd>1</dd>\n",
       "\t<dt>OTU386:Dc-PosG</dt>\n",
       "\t\t<dd>88</dd>\n",
       "\t<dt>OTU264:Dc-PosG</dt>\n",
       "\t\t<dd>1</dd>\n",
       "\t<dt>OTU560:Dc-PosG</dt>\n",
       "\t\t<dd>39</dd>\n",
       "\t<dt>OTU1183:36w</dt>\n",
       "\t\t<dd>1</dd>\n",
       "\t<dt>OTU64:1w</dt>\n",
       "\t\t<dd>1</dd>\n",
       "\t<dt>OTU409:4w</dt>\n",
       "\t\t<dd>1</dd>\n",
       "\t<dt>OTU417:1w</dt>\n",
       "\t\t<dd>15</dd>\n",
       "\t<dt>OTU437:1w</dt>\n",
       "\t\t<dd>1</dd>\n",
       "\t<dt>OTU18:9w</dt>\n",
       "\t\t<dd>1</dd>\n",
       "\t<dt>OTU414:13w</dt>\n",
       "\t\t<dd>1</dd>\n",
       "\t<dt>OTU655:1w</dt>\n",
       "\t\t<dd>1</dd>\n",
       "\t<dt>OTU2029:2w</dt>\n",
       "\t\t<dd>1</dd>\n",
       "\t<dt>OTU1432:2w</dt>\n",
       "\t\t<dd>28</dd>\n",
       "\t<dt>OTU1332:11w</dt>\n",
       "\t\t<dd>44</dd>\n",
       "\t<dt>OTU315:4w</dt>\n",
       "\t\t<dd>162</dd>\n",
       "\t<dt>OTU250:4w</dt>\n",
       "\t\t<dd>1</dd>\n",
       "\t<dt>OTU1599:9w</dt>\n",
       "\t\t<dd>4</dd>\n",
       "\t<dt>OTU2831:5w</dt>\n",
       "\t\t<dd>4</dd>\n",
       "\t<dt>OTU84:38w</dt>\n",
       "\t\t<dd>12</dd>\n",
       "\t<dt>OTU7329:38w</dt>\n",
       "\t\t<dd>1</dd>\n",
       "\t<dt>OTU2003:Neg</dt>\n",
       "\t\t<dd>42</dd>\n",
       "\t<dt>OTU925:133w</dt>\n",
       "\t\t<dd>1</dd>\n",
       "\t<dt>OTU1214:9w</dt>\n",
       "\t\t<dd>53</dd>\n",
       "\t<dt>OTU1747:11w</dt>\n",
       "\t\t<dd>53</dd>\n",
       "\t<dt>OTU1549:104w</dt>\n",
       "\t\t<dd>28</dd>\n",
       "\t<dt>OTU6852:Neg</dt>\n",
       "\t\t<dd>20</dd>\n",
       "\t<dt>OTU1496:23w</dt>\n",
       "\t\t<dd>1</dd>\n",
       "\t<dt>OTU588:32w</dt>\n",
       "\t\t<dd>1</dd>\n",
       "\t<dt>OTU1888:25w</dt>\n",
       "\t\t<dd>1</dd>\n",
       "\t<dt>OTU1444:49w</dt>\n",
       "\t\t<dd>38</dd>\n",
       "\t<dt>OTU46:60w</dt>\n",
       "\t\t<dd>3</dd>\n",
       "\t<dt>OTU972:130w</dt>\n",
       "\t\t<dd>1</dd>\n",
       "\t<dt>OTU2115:131w</dt>\n",
       "\t\t<dd>2</dd>\n",
       "</dl>\n"
      ],
      "text/latex": [
       "\\begin{description*}\n",
       "\\item[OTU167:Dc-X] 469\n",
       "\\item[OTU187:Dc-PosG] 85\n",
       "\\item[OTU256:Dc-X] 35\n",
       "\\item[OTU762:Dc-X] 53\n",
       "\\item[OTU891:1w] 58\n",
       "\\item[OTU306:Dc-PosG] 96\n",
       "\\item[OTU119:Dc-PosG] 1\n",
       "\\item[OTU220:Dc-PosG] 1\n",
       "\\item[OTU164:Dc-PosG] 51\n",
       "\\item[OTU235:Dc-PosG] 1\n",
       "\\item[OTU386:Dc-PosG] 88\n",
       "\\item[OTU264:Dc-PosG] 1\n",
       "\\item[OTU560:Dc-PosG] 39\n",
       "\\item[OTU1183:36w] 1\n",
       "\\item[OTU64:1w] 1\n",
       "\\item[OTU409:4w] 1\n",
       "\\item[OTU417:1w] 15\n",
       "\\item[OTU437:1w] 1\n",
       "\\item[OTU18:9w] 1\n",
       "\\item[OTU414:13w] 1\n",
       "\\item[OTU655:1w] 1\n",
       "\\item[OTU2029:2w] 1\n",
       "\\item[OTU1432:2w] 28\n",
       "\\item[OTU1332:11w] 44\n",
       "\\item[OTU315:4w] 162\n",
       "\\item[OTU250:4w] 1\n",
       "\\item[OTU1599:9w] 4\n",
       "\\item[OTU2831:5w] 4\n",
       "\\item[OTU84:38w] 12\n",
       "\\item[OTU7329:38w] 1\n",
       "\\item[OTU2003:Neg] 42\n",
       "\\item[OTU925:133w] 1\n",
       "\\item[OTU1214:9w] 53\n",
       "\\item[OTU1747:11w] 53\n",
       "\\item[OTU1549:104w] 28\n",
       "\\item[OTU6852:Neg] 20\n",
       "\\item[OTU1496:23w] 1\n",
       "\\item[OTU588:32w] 1\n",
       "\\item[OTU1888:25w] 1\n",
       "\\item[OTU1444:49w] 38\n",
       "\\item[OTU46:60w] 3\n",
       "\\item[OTU972:130w] 1\n",
       "\\item[OTU2115:131w] 2\n",
       "\\end{description*}\n"
      ],
      "text/markdown": [
       "OTU167:Dc-X\n",
       ":   469OTU187:Dc-PosG\n",
       ":   85OTU256:Dc-X\n",
       ":   35OTU762:Dc-X\n",
       ":   53OTU891:1w\n",
       ":   58OTU306:Dc-PosG\n",
       ":   96OTU119:Dc-PosG\n",
       ":   1OTU220:Dc-PosG\n",
       ":   1OTU164:Dc-PosG\n",
       ":   51OTU235:Dc-PosG\n",
       ":   1OTU386:Dc-PosG\n",
       ":   88OTU264:Dc-PosG\n",
       ":   1OTU560:Dc-PosG\n",
       ":   39OTU1183:36w\n",
       ":   1OTU64:1w\n",
       ":   1OTU409:4w\n",
       ":   1OTU417:1w\n",
       ":   15OTU437:1w\n",
       ":   1OTU18:9w\n",
       ":   1OTU414:13w\n",
       ":   1OTU655:1w\n",
       ":   1OTU2029:2w\n",
       ":   1OTU1432:2w\n",
       ":   28OTU1332:11w\n",
       ":   44OTU315:4w\n",
       ":   162OTU250:4w\n",
       ":   1OTU1599:9w\n",
       ":   4OTU2831:5w\n",
       ":   4OTU84:38w\n",
       ":   12OTU7329:38w\n",
       ":   1OTU2003:Neg\n",
       ":   42OTU925:133w\n",
       ":   1OTU1214:9w\n",
       ":   53OTU1747:11w\n",
       ":   53OTU1549:104w\n",
       ":   28OTU6852:Neg\n",
       ":   20OTU1496:23w\n",
       ":   1OTU588:32w\n",
       ":   1OTU1888:25w\n",
       ":   1OTU1444:49w\n",
       ":   38OTU46:60w\n",
       ":   3OTU972:130w\n",
       ":   1OTU2115:131w\n",
       ":   2\n",
       "\n"
      ],
      "text/plain": [
       "   OTU167:Dc-X OTU187:Dc-PosG    OTU256:Dc-X    OTU762:Dc-X      OTU891:1w \n",
       "           469             85             35             53             58 \n",
       "OTU306:Dc-PosG OTU119:Dc-PosG OTU220:Dc-PosG OTU164:Dc-PosG OTU235:Dc-PosG \n",
       "            96              1              1             51              1 \n",
       "OTU386:Dc-PosG OTU264:Dc-PosG OTU560:Dc-PosG    OTU1183:36w       OTU64:1w \n",
       "            88              1             39              1              1 \n",
       "     OTU409:4w      OTU417:1w      OTU437:1w       OTU18:9w     OTU414:13w \n",
       "             1             15              1              1              1 \n",
       "     OTU655:1w     OTU2029:2w     OTU1432:2w    OTU1332:11w      OTU315:4w \n",
       "             1              1             28             44            162 \n",
       "     OTU250:4w     OTU1599:9w     OTU2831:5w      OTU84:38w    OTU7329:38w \n",
       "             1              4              4             12              1 \n",
       "   OTU2003:Neg    OTU925:133w     OTU1214:9w    OTU1747:11w   OTU1549:104w \n",
       "            42              1             53             53             28 \n",
       "   OTU6852:Neg    OTU1496:23w     OTU588:32w    OTU1888:25w    OTU1444:49w \n",
       "            20              1              1              1             38 \n",
       "     OTU46:60w    OTU972:130w   OTU2115:131w \n",
       "             3              1              2 "
      ]
     },
     "metadata": {},
     "output_type": "display_data"
    }
   ],
   "source": [
    "taxa_sums(neg95)[taxa_sums(neg95)>0]"
   ]
  },
  {
   "cell_type": "markdown",
   "metadata": {},
   "source": [
    "To check for tag-switching, we'll look at our positive controls, or \"mock-community\" samples, for OTUs shared between the two controls. Such OTUs are good candidates for tag-switching. "
   ]
  },
  {
   "cell_type": "code",
   "execution_count": 20,
   "metadata": {},
   "outputs": [
    {
     "data": {
      "text/html": [
       "<ol class=list-inline>\n",
       "\t<li>'OTU167:Dc-X'</li>\n",
       "\t<li>'OTU315:4w'</li>\n",
       "\t<li>'OTU306:Dc-PosG'</li>\n",
       "\t<li>'OTU386:Dc-PosG'</li>\n",
       "\t<li>'OTU187:Dc-PosG'</li>\n",
       "\t<li>'OTU891:1w'</li>\n",
       "\t<li>'OTU762:Dc-X'</li>\n",
       "\t<li>'OTU1214:9w'</li>\n",
       "\t<li>'OTU1747:11w'</li>\n",
       "\t<li>'OTU164:Dc-PosG'</li>\n",
       "\t<li>'OTU1332:11w'</li>\n",
       "\t<li>'OTU2003:Neg'</li>\n",
       "\t<li>'OTU560:Dc-PosG'</li>\n",
       "\t<li>'OTU1444:49w'</li>\n",
       "\t<li>'OTU256:Dc-X'</li>\n",
       "\t<li>'OTU1432:2w'</li>\n",
       "\t<li>'OTU1549:104w'</li>\n",
       "\t<li>'OTU6852:Neg'</li>\n",
       "\t<li>'OTU417:1w'</li>\n",
       "\t<li>'OTU84:38w'</li>\n",
       "\t<li>'OTU1599:9w'</li>\n",
       "\t<li>'OTU2831:5w'</li>\n",
       "\t<li>'OTU46:60w'</li>\n",
       "\t<li>'OTU2115:131w'</li>\n",
       "\t<li>'OTU119:Dc-PosG'</li>\n",
       "\t<li>'OTU220:Dc-PosG'</li>\n",
       "\t<li>'OTU235:Dc-PosG'</li>\n",
       "\t<li>'OTU264:Dc-PosG'</li>\n",
       "\t<li>'OTU1183:36w'</li>\n",
       "\t<li>'OTU64:1w'</li>\n",
       "\t<li>'OTU409:4w'</li>\n",
       "\t<li>'OTU437:1w'</li>\n",
       "\t<li>'OTU18:9w'</li>\n",
       "\t<li>'OTU414:13w'</li>\n",
       "\t<li>'OTU655:1w'</li>\n",
       "\t<li>'OTU2029:2w'</li>\n",
       "\t<li>'OTU250:4w'</li>\n",
       "\t<li>'OTU7329:38w'</li>\n",
       "\t<li>'OTU925:133w'</li>\n",
       "\t<li>'OTU1496:23w'</li>\n",
       "\t<li>'OTU588:32w'</li>\n",
       "\t<li>'OTU1888:25w'</li>\n",
       "\t<li>'OTU972:130w'</li>\n",
       "</ol>\n"
      ],
      "text/latex": [
       "\\begin{enumerate*}\n",
       "\\item 'OTU167:Dc-X'\n",
       "\\item 'OTU315:4w'\n",
       "\\item 'OTU306:Dc-PosG'\n",
       "\\item 'OTU386:Dc-PosG'\n",
       "\\item 'OTU187:Dc-PosG'\n",
       "\\item 'OTU891:1w'\n",
       "\\item 'OTU762:Dc-X'\n",
       "\\item 'OTU1214:9w'\n",
       "\\item 'OTU1747:11w'\n",
       "\\item 'OTU164:Dc-PosG'\n",
       "\\item 'OTU1332:11w'\n",
       "\\item 'OTU2003:Neg'\n",
       "\\item 'OTU560:Dc-PosG'\n",
       "\\item 'OTU1444:49w'\n",
       "\\item 'OTU256:Dc-X'\n",
       "\\item 'OTU1432:2w'\n",
       "\\item 'OTU1549:104w'\n",
       "\\item 'OTU6852:Neg'\n",
       "\\item 'OTU417:1w'\n",
       "\\item 'OTU84:38w'\n",
       "\\item 'OTU1599:9w'\n",
       "\\item 'OTU2831:5w'\n",
       "\\item 'OTU46:60w'\n",
       "\\item 'OTU2115:131w'\n",
       "\\item 'OTU119:Dc-PosG'\n",
       "\\item 'OTU220:Dc-PosG'\n",
       "\\item 'OTU235:Dc-PosG'\n",
       "\\item 'OTU264:Dc-PosG'\n",
       "\\item 'OTU1183:36w'\n",
       "\\item 'OTU64:1w'\n",
       "\\item 'OTU409:4w'\n",
       "\\item 'OTU437:1w'\n",
       "\\item 'OTU18:9w'\n",
       "\\item 'OTU414:13w'\n",
       "\\item 'OTU655:1w'\n",
       "\\item 'OTU2029:2w'\n",
       "\\item 'OTU250:4w'\n",
       "\\item 'OTU7329:38w'\n",
       "\\item 'OTU925:133w'\n",
       "\\item 'OTU1496:23w'\n",
       "\\item 'OTU588:32w'\n",
       "\\item 'OTU1888:25w'\n",
       "\\item 'OTU972:130w'\n",
       "\\end{enumerate*}\n"
      ],
      "text/markdown": [
       "1. 'OTU167:Dc-X'\n",
       "2. 'OTU315:4w'\n",
       "3. 'OTU306:Dc-PosG'\n",
       "4. 'OTU386:Dc-PosG'\n",
       "5. 'OTU187:Dc-PosG'\n",
       "6. 'OTU891:1w'\n",
       "7. 'OTU762:Dc-X'\n",
       "8. 'OTU1214:9w'\n",
       "9. 'OTU1747:11w'\n",
       "10. 'OTU164:Dc-PosG'\n",
       "11. 'OTU1332:11w'\n",
       "12. 'OTU2003:Neg'\n",
       "13. 'OTU560:Dc-PosG'\n",
       "14. 'OTU1444:49w'\n",
       "15. 'OTU256:Dc-X'\n",
       "16. 'OTU1432:2w'\n",
       "17. 'OTU1549:104w'\n",
       "18. 'OTU6852:Neg'\n",
       "19. 'OTU417:1w'\n",
       "20. 'OTU84:38w'\n",
       "21. 'OTU1599:9w'\n",
       "22. 'OTU2831:5w'\n",
       "23. 'OTU46:60w'\n",
       "24. 'OTU2115:131w'\n",
       "25. 'OTU119:Dc-PosG'\n",
       "26. 'OTU220:Dc-PosG'\n",
       "27. 'OTU235:Dc-PosG'\n",
       "28. 'OTU264:Dc-PosG'\n",
       "29. 'OTU1183:36w'\n",
       "30. 'OTU64:1w'\n",
       "31. 'OTU409:4w'\n",
       "32. 'OTU437:1w'\n",
       "33. 'OTU18:9w'\n",
       "34. 'OTU414:13w'\n",
       "35. 'OTU655:1w'\n",
       "36. 'OTU2029:2w'\n",
       "37. 'OTU250:4w'\n",
       "38. 'OTU7329:38w'\n",
       "39. 'OTU925:133w'\n",
       "40. 'OTU1496:23w'\n",
       "41. 'OTU588:32w'\n",
       "42. 'OTU1888:25w'\n",
       "43. 'OTU972:130w'\n",
       "\n",
       "\n"
      ],
      "text/plain": [
       " [1] \"OTU167:Dc-X\"    \"OTU315:4w\"      \"OTU306:Dc-PosG\" \"OTU386:Dc-PosG\"\n",
       " [5] \"OTU187:Dc-PosG\" \"OTU891:1w\"      \"OTU762:Dc-X\"    \"OTU1214:9w\"    \n",
       " [9] \"OTU1747:11w\"    \"OTU164:Dc-PosG\" \"OTU1332:11w\"    \"OTU2003:Neg\"   \n",
       "[13] \"OTU560:Dc-PosG\" \"OTU1444:49w\"    \"OTU256:Dc-X\"    \"OTU1432:2w\"    \n",
       "[17] \"OTU1549:104w\"   \"OTU6852:Neg\"    \"OTU417:1w\"      \"OTU84:38w\"     \n",
       "[21] \"OTU1599:9w\"     \"OTU2831:5w\"     \"OTU46:60w\"      \"OTU2115:131w\"  \n",
       "[25] \"OTU119:Dc-PosG\" \"OTU220:Dc-PosG\" \"OTU235:Dc-PosG\" \"OTU264:Dc-PosG\"\n",
       "[29] \"OTU1183:36w\"    \"OTU64:1w\"       \"OTU409:4w\"      \"OTU437:1w\"     \n",
       "[33] \"OTU18:9w\"       \"OTU414:13w\"     \"OTU655:1w\"      \"OTU2029:2w\"    \n",
       "[37] \"OTU250:4w\"      \"OTU7329:38w\"    \"OTU925:133w\"    \"OTU1496:23w\"   \n",
       "[41] \"OTU588:32w\"     \"OTU1888:25w\"    \"OTU972:130w\"   "
      ]
     },
     "metadata": {},
     "output_type": "display_data"
    }
   ],
   "source": [
    "reads <- taxa_sums(neg95)[taxa_sums(neg95) > 0]\n",
    "reads <- sort(reads, decreasing = TRUE)\n",
    "sink('neg95names.txt') ## read out these OTUs so we can use them in python env\n",
    "names(reads)\n",
    "sink()"
   ]
  },
  {
   "cell_type": "markdown",
   "metadata": {},
   "source": [
    "Clean up with sed. Back into BASH kernel:"
   ]
  },
  {
   "cell_type": "code",
   "execution_count": 1,
   "metadata": {},
   "outputs": [],
   "source": [
    "## BASH\n",
    "sed 's/\\[.*\\]//g' neg95names.txt |sed 's/^\\s*//g' | sed 's/\\s\\+/,/g' | sed '$s/,$/\\)/' | sed '1s/\\\"OTU/mcseq=\\(\\\"OTU/' > neg95list.txt"
   ]
  },
  {
   "cell_type": "markdown",
   "metadata": {},
   "source": [
    "Checked with vim, had to add a comma or two, not sure why. Anyway, its a a tuple. And the second half of the script:"
   ]
  },
  {
   "cell_type": "code",
   "execution_count": 11,
   "metadata": {
    "scrolled": true
   },
   "outputs": [
    {
     "name": "stdout",
     "output_type": "stream",
     "text": [
      "\n",
      "with open('otus_95_combo_nolb.fasta', 'r') as zoop:\n",
      "        refseq = zoop.readlines()\n",
      "\n",
      "with open('mcseq.txt', 'w') as goop:\n",
      "        for j,otu in enumerate(mcseq):\n",
      "                for i,line in enumerate(refseq):\n",
      "                        if otu in line:\n",
      "                                goop.write(line)\n",
      "                                goop.write(refseq[i+1])\n",
      "\n",
      "\n"
     ]
    }
   ],
   "source": [
    "cat MCseq.py"
   ]
  },
  {
   "cell_type": "code",
   "execution_count": 12,
   "metadata": {},
   "outputs": [],
   "source": [
    "cat neg95list.txt MCseq.py > makeMCseq.py"
   ]
  },
  {
   "cell_type": "code",
   "execution_count": 13,
   "metadata": {},
   "outputs": [
    {
     "name": "stdout",
     "output_type": "stream",
     "text": [
      "mcseq=(\"OTU167:Dc-X\",\"OTU315:4w\",\"OTU306:Dc-PosG\",\"OTU386:Dc-PosG\",\n",
      "\"OTU187:Dc-PosG\",\"OTU891:1w\",\"OTU762:Dc-X\",\"OTU1214:9w\",\n",
      "\"OTU1747:11w\",\"OTU164:Dc-PosG\",\"OTU1332:11w\",\"OTU2003:Neg\",\n",
      "\"OTU560:Dc-PosG\",\"OTU1444:49w\",\"OTU256:Dc-X\",\"OTU1432:2w\",\n",
      "\"OTU1549:104w\",\"OTU6852:Neg\",\"OTU417:1w\",\"OTU84:38w\",\n",
      "\"OTU1599:9w\",\"OTU2831:5w\",\"OTU46:60w\",\"OTU2115:131w\",\n",
      "\"OTU119:Dc-PosG\",\"OTU220:Dc-PosG\",\"OTU235:Dc-PosG\",\"OTU264:Dc-PosG\",\n",
      "\"OTU1183:36w\",\"OTU64:1w\",\"OTU409:4w\",\"OTU437:1w\",\n",
      "\"OTU18:9w\",\"OTU414:13w\",\"OTU655:1w\",\"OTU2029:2w\",\n",
      "\"OTU250:4w\",\"OTU7329:38w\",\"OTU925:133w\",\"OTU1496:23w\",\n",
      "\"OTU588:32w\",\"OTU1888:25w\",\"OTU972:130w\")\n",
      "\n",
      "with open('otus_95_combo_nolb.fasta', 'r') as zoop:\n",
      "        refseq = zoop.readlines()\n",
      "\n",
      "with open('mcseq.txt', 'w') as goop:\n",
      "        for j,otu in enumerate(mcseq):\n",
      "                for i,line in enumerate(refseq):\n",
      "                        if otu in line:\n",
      "                                goop.write(line)\n",
      "                                goop.write(refseq[i+1])\n",
      "\n",
      "\n"
     ]
    }
   ],
   "source": [
    "cat makeMCseq.py"
   ]
  },
  {
   "cell_type": "code",
   "execution_count": 14,
   "metadata": {},
   "outputs": [],
   "source": [
    "## run this to get sequences of OTUs that are in our positive control:\n",
    "python3 makeMCseq.py"
   ]
  },
  {
   "cell_type": "markdown",
   "metadata": {},
   "source": [
    "Make a friendly link to our sanger sequences of full ITS region of our positive control cultures, and make a blastable database from them:"
   ]
  },
  {
   "cell_type": "code",
   "execution_count": 17,
   "metadata": {},
   "outputs": [],
   "source": [
    "aa=$(find ~ -type f -name \"BioI-6098_OConnor_34875.seq.txt\")\n",
    "ln -s $aa ./mcsanger.fasta"
   ]
  },
  {
   "cell_type": "code",
   "execution_count": 19,
   "metadata": {},
   "outputs": [],
   "source": [
    "## make our searchable database of sanger positive control sequences for blast:\n",
    "makeblastdb -in mcsanger.fasta -dbtype nucl -logfile dberrors.txt"
   ]
  },
  {
   "cell_type": "markdown",
   "metadata": {},
   "source": [
    "Do our searches, with a couple of output formats:"
   ]
  },
  {
   "cell_type": "code",
   "execution_count": 20,
   "metadata": {},
   "outputs": [],
   "source": [
    "## clean up read ids a little:\n",
    "sed '/^>/ s/;size=.*//' mcseq.txt | sed '/^>/ s/;size=.*//' mcseq.txt > mockseqs_Neg95.fasta\n",
    "\n",
    "blastn -query mockseqs_Neg95.fasta -db mcsanger.fasta -out mcblast_Neg95.txt -num_descriptions 3 -num_alignments 3\n",
    "blastn -query mockseqs_Neg95.fasta -db mcsanger.fasta -out mcblast_Neg95.csv -outfmt 10 -max_target_seqs 1\n",
    "\n",
    "sed '1 i\\qseqid,sseqid,pident,length,mismatch,gapopen,qstart,qend,sstart,send,evalue,bitscore' mcblast_Neg95.csv -i\n",
    "sed 's/_ITS[1,4],/,/g' mcblast_Neg95.csv -i\n",
    "sed 's/Sample//g' mcblast_Neg95.csv -i"
   ]
  },
  {
   "cell_type": "markdown",
   "metadata": {},
   "source": [
    "This csv file can be imported as a dataframe into R:"
   ]
  },
  {
   "cell_type": "code",
   "execution_count": 85,
   "metadata": {
    "scrolled": false
   },
   "outputs": [
    {
     "data": {
      "text/html": [
       "<table>\n",
       "<thead><tr><th scope=col>qseqid</th><th scope=col>sseqid</th><th scope=col>pident</th><th scope=col>length</th><th scope=col>mismatch</th><th scope=col>gapopen</th><th scope=col>qstart</th><th scope=col>qend</th><th scope=col>sstart</th><th scope=col>send</th><th scope=col>evalue</th><th scope=col>bitscore</th></tr></thead>\n",
       "<tbody>\n",
       "\t<tr><td>OTU306:Dc-PosG</td><td> 9            </td><td>100.00        </td><td>176           </td><td>0             </td><td>0             </td><td> 1            </td><td>176           </td><td>504           </td><td>329           </td><td> 3e-92        </td><td>326.0         </td></tr>\n",
       "\t<tr><td>OTU386:Dc-PosG</td><td>19            </td><td>100.00        </td><td>175           </td><td>0             </td><td>0             </td><td> 1            </td><td>175           </td><td>513           </td><td>339           </td><td> 1e-91        </td><td>324.0         </td></tr>\n",
       "\t<tr><td>OTU164:Dc-PosG</td><td> 8            </td><td>100.00        </td><td>143           </td><td>0             </td><td>0             </td><td> 1            </td><td>143           </td><td>451           </td><td>309           </td><td> 5e-74        </td><td>265.0         </td></tr>\n",
       "\t<tr><td>OTU560:Dc-PosG</td><td> 4            </td><td>100.00        </td><td>180           </td><td>0             </td><td>0             </td><td> 1            </td><td>180           </td><td>485           </td><td>306           </td><td> 2e-94        </td><td>333.0         </td></tr>\n",
       "\t<tr><td>OTU256:Dc-X   </td><td> 6            </td><td>100.00        </td><td>184           </td><td>0             </td><td>0             </td><td> 1            </td><td>184           </td><td>535           </td><td>352           </td><td> 1e-96        </td><td>340.0         </td></tr>\n",
       "\t<tr><td>OTU84:38w     </td><td> 9            </td><td>100.00        </td><td> 31           </td><td>0             </td><td>0             </td><td>27            </td><td> 57           </td><td>530           </td><td>500           </td><td> 1e-11        </td><td> 58.4         </td></tr>\n",
       "\t<tr><td>OTU1599:9w    </td><td> 1            </td><td> 90.22        </td><td> 92           </td><td>8             </td><td>1             </td><td>37            </td><td>128           </td><td>459           </td><td>369           </td><td> 6e-30        </td><td>119.0         </td></tr>\n",
       "\t<tr><td>OTU119:Dc-PosG</td><td> 1            </td><td> 99.31        </td><td>144           </td><td>1             </td><td>0             </td><td> 1            </td><td>144           </td><td>434           </td><td>291           </td><td> 7e-73        </td><td>261.0         </td></tr>\n",
       "\t<tr><td>OTU220:Dc-PosG</td><td>22            </td><td>100.00        </td><td>168           </td><td>0             </td><td>0             </td><td> 1            </td><td>168           </td><td>512           </td><td>345           </td><td> 8e-88        </td><td>311.0         </td></tr>\n",
       "\t<tr><td>OTU235:Dc-PosG</td><td>20            </td><td>100.00        </td><td>217           </td><td>0             </td><td>0             </td><td> 1            </td><td>217           </td><td>605           </td><td>389           </td><td>6e-115        </td><td>401.0         </td></tr>\n",
       "\t<tr><td>OTU264:Dc-PosG</td><td>16            </td><td>100.00        </td><td>180           </td><td>0             </td><td>0             </td><td> 1            </td><td>180           </td><td>502           </td><td>323           </td><td> 2e-94        </td><td>333.0         </td></tr>\n",
       "</tbody>\n",
       "</table>\n"
      ],
      "text/latex": [
       "\\begin{tabular}{r|llllllllllll}\n",
       " qseqid & sseqid & pident & length & mismatch & gapopen & qstart & qend & sstart & send & evalue & bitscore\\\\\n",
       "\\hline\n",
       "\t OTU306:Dc-PosG &  9             & 100.00         & 176            & 0              & 0              &  1             & 176            & 504            & 329            &  3e-92         & 326.0         \\\\\n",
       "\t OTU386:Dc-PosG & 19             & 100.00         & 175            & 0              & 0              &  1             & 175            & 513            & 339            &  1e-91         & 324.0         \\\\\n",
       "\t OTU164:Dc-PosG &  8             & 100.00         & 143            & 0              & 0              &  1             & 143            & 451            & 309            &  5e-74         & 265.0         \\\\\n",
       "\t OTU560:Dc-PosG &  4             & 100.00         & 180            & 0              & 0              &  1             & 180            & 485            & 306            &  2e-94         & 333.0         \\\\\n",
       "\t OTU256:Dc-X    &  6             & 100.00         & 184            & 0              & 0              &  1             & 184            & 535            & 352            &  1e-96         & 340.0         \\\\\n",
       "\t OTU84:38w      &  9             & 100.00         &  31            & 0              & 0              & 27             &  57            & 530            & 500            &  1e-11         &  58.4         \\\\\n",
       "\t OTU1599:9w     &  1             &  90.22         &  92            & 8              & 1              & 37             & 128            & 459            & 369            &  6e-30         & 119.0         \\\\\n",
       "\t OTU119:Dc-PosG &  1             &  99.31         & 144            & 1              & 0              &  1             & 144            & 434            & 291            &  7e-73         & 261.0         \\\\\n",
       "\t OTU220:Dc-PosG & 22             & 100.00         & 168            & 0              & 0              &  1             & 168            & 512            & 345            &  8e-88         & 311.0         \\\\\n",
       "\t OTU235:Dc-PosG & 20             & 100.00         & 217            & 0              & 0              &  1             & 217            & 605            & 389            & 6e-115         & 401.0         \\\\\n",
       "\t OTU264:Dc-PosG & 16             & 100.00         & 180            & 0              & 0              &  1             & 180            & 502            & 323            &  2e-94         & 333.0         \\\\\n",
       "\\end{tabular}\n"
      ],
      "text/markdown": [
       "\n",
       "qseqid | sseqid | pident | length | mismatch | gapopen | qstart | qend | sstart | send | evalue | bitscore | \n",
       "|---|---|---|---|---|---|---|---|---|---|---|\n",
       "| OTU306:Dc-PosG |  9             | 100.00         | 176            | 0              | 0              |  1             | 176            | 504            | 329            |  3e-92         | 326.0          | \n",
       "| OTU386:Dc-PosG | 19             | 100.00         | 175            | 0              | 0              |  1             | 175            | 513            | 339            |  1e-91         | 324.0          | \n",
       "| OTU164:Dc-PosG |  8             | 100.00         | 143            | 0              | 0              |  1             | 143            | 451            | 309            |  5e-74         | 265.0          | \n",
       "| OTU560:Dc-PosG |  4             | 100.00         | 180            | 0              | 0              |  1             | 180            | 485            | 306            |  2e-94         | 333.0          | \n",
       "| OTU256:Dc-X    |  6             | 100.00         | 184            | 0              | 0              |  1             | 184            | 535            | 352            |  1e-96         | 340.0          | \n",
       "| OTU84:38w      |  9             | 100.00         |  31            | 0              | 0              | 27             |  57            | 530            | 500            |  1e-11         |  58.4          | \n",
       "| OTU1599:9w     |  1             |  90.22         |  92            | 8              | 1              | 37             | 128            | 459            | 369            |  6e-30         | 119.0          | \n",
       "| OTU119:Dc-PosG |  1             |  99.31         | 144            | 1              | 0              |  1             | 144            | 434            | 291            |  7e-73         | 261.0          | \n",
       "| OTU220:Dc-PosG | 22             | 100.00         | 168            | 0              | 0              |  1             | 168            | 512            | 345            |  8e-88         | 311.0          | \n",
       "| OTU235:Dc-PosG | 20             | 100.00         | 217            | 0              | 0              |  1             | 217            | 605            | 389            | 6e-115         | 401.0          | \n",
       "| OTU264:Dc-PosG | 16             | 100.00         | 180            | 0              | 0              |  1             | 180            | 502            | 323            |  2e-94         | 333.0          | \n",
       "\n",
       "\n"
      ],
      "text/plain": [
       "   qseqid         sseqid pident length mismatch gapopen qstart qend sstart send\n",
       "1  OTU306:Dc-PosG  9     100.00 176    0        0        1     176  504    329 \n",
       "2  OTU386:Dc-PosG 19     100.00 175    0        0        1     175  513    339 \n",
       "3  OTU164:Dc-PosG  8     100.00 143    0        0        1     143  451    309 \n",
       "4  OTU560:Dc-PosG  4     100.00 180    0        0        1     180  485    306 \n",
       "5  OTU256:Dc-X     6     100.00 184    0        0        1     184  535    352 \n",
       "6  OTU84:38w       9     100.00  31    0        0       27      57  530    500 \n",
       "7  OTU1599:9w      1      90.22  92    8        1       37     128  459    369 \n",
       "8  OTU119:Dc-PosG  1      99.31 144    1        0        1     144  434    291 \n",
       "9  OTU220:Dc-PosG 22     100.00 168    0        0        1     168  512    345 \n",
       "10 OTU235:Dc-PosG 20     100.00 217    0        0        1     217  605    389 \n",
       "11 OTU264:Dc-PosG 16     100.00 180    0        0        1     180  502    323 \n",
       "   evalue bitscore\n",
       "1   3e-92 326.0   \n",
       "2   1e-91 324.0   \n",
       "3   5e-74 265.0   \n",
       "4   2e-94 333.0   \n",
       "5   1e-96 340.0   \n",
       "6   1e-11  58.4   \n",
       "7   6e-30 119.0   \n",
       "8   7e-73 261.0   \n",
       "9   8e-88 311.0   \n",
       "10 6e-115 401.0   \n",
       "11  2e-94 333.0   "
      ]
     },
     "metadata": {},
     "output_type": "display_data"
    }
   ],
   "source": [
    "## change kernel to R\n",
    "library('phyloseq')\n",
    "blast <- read.csv(\"mcblast_Neg95.csv\", stringsAsFactors=FALSE)\n",
    "blast"
   ]
  },
  {
   "cell_type": "markdown",
   "metadata": {},
   "source": [
    "Get rid of the lower quality matches:"
   ]
  },
  {
   "cell_type": "code",
   "execution_count": 87,
   "metadata": {},
   "outputs": [],
   "source": [
    "goodblast <- blast[blast$pident > 94 & blast$length > 90,]"
   ]
  },
  {
   "cell_type": "markdown",
   "metadata": {},
   "source": [
    "Make some useful vectors and graph:"
   ]
  },
  {
   "cell_type": "code",
   "execution_count": 91,
   "metadata": {},
   "outputs": [],
   "source": [
    "reads <- taxa_sums(neg95)[taxa_sums(neg95) > 0]\n",
    "reads <- sort(reads, decreasing = TRUE)\n",
    "Neg95.gen <- tax_table(neg95)[names(reads),6] ## genus, from initial tax assignments\n",
    "Neg95.gen[is.na(Neg95.gen)] <- \"NoID\"\n",
    "Neg95.species <- tax_table(neg95)[names(reads),7] ## species, from initial tax assignments\n",
    "Neg95.species[is.na(Neg95.species)] <- \"NoID\"\n",
    "member <- names(reads) %in% goodblast$qseqid ## membership in mock community (probably tag-switchers)\n",
    "MC <- vector(length = length(reads)); MC[] <- 0 ## empty vector, for MC sample #, filled below"
   ]
  },
  {
   "cell_type": "code",
   "execution_count": 92,
   "metadata": {},
   "outputs": [],
   "source": [
    "Neg95bar <- data.frame(reads, member, MC, Neg95.gen, Neg95.species, stringsAsFactors=FALSE) ## dataframe\n",
    "\n",
    "##fill the mock community sample number by querying our csv from blast results\n",
    "\n",
    "colnames(Neg95bar)[1] <- \"reads\"\n",
    "for (i in 1:nrow(Neg95bar)){\n",
    "        if (rownames(Neg95bar)[i] %in% goodblast$qseqid) {\n",
    "                search <- grep(rownames(Neg95bar)[i], goodblast$qseqid)\n",
    "                Neg95bar$MC[i] <- goodblast$sseqid[search]\n",
    "        }\n",
    "    }\n"
   ]
  },
  {
   "cell_type": "code",
   "execution_count": 95,
   "metadata": {},
   "outputs": [],
   "source": [
    "#save(Neg95bar, file='Neg95bar.rda')"
   ]
  },
  {
   "cell_type": "markdown",
   "metadata": {},
   "source": [
    "<a id='NegGraph'></a>"
   ]
  },
  {
   "cell_type": "code",
   "execution_count": 7,
   "metadata": {},
   "outputs": [
    {
     "data": {
      "image/png": "[encoded data removed]",
      "text/plain": [
       "Plot with title “Dan negative control\n",
       "95% similarity radius”"
      ]
     },
     "metadata": {},
     "output_type": "display_data"
    }
   ],
   "source": [
    "inout <- paste('MC', Neg95bar$MC, sep='')\n",
    "inout[inout=='MC0'] <- NA\n",
    "\n",
    "par(cex.axis = .75, mar=c(7,4,4,2))\n",
    "barplot(Neg95bar$reads,las=3,log='y', names.arg=inout, col = member,\n",
    "       main = 'Dan negative control\\n95% similarity radius')\n",
    "legend(\"top\", legend=c('member','non-member'), fill=c(1,0))"
   ]
  },
  {
   "cell_type": "code",
   "execution_count": 13,
   "metadata": {},
   "outputs": [
    {
     "data": {
      "text/html": [
       "<strong>png:</strong> 2"
      ],
      "text/latex": [
       "\\textbf{png:} 2"
      ],
      "text/markdown": [
       "**png:** 2"
      ],
      "text/plain": [
       "png \n",
       "  2 "
      ]
     },
     "metadata": {},
     "output_type": "display_data"
    }
   ],
   "source": [
    "inout <- paste('MC', Neg95bar$MC, sep='')\n",
    "inout[inout=='MC0'] <- NA\n",
    "\n",
    "svg(file='Dan_negative_21.06.2018.svg')\n",
    "par(cex.axis = .75, mar=c(7,4,4,2))\n",
    "barplot(Neg95bar$reads,las=3,log='y', names.arg=inout, col = member,\n",
    "       main = 'Dan negative control\\n95% similarity radius')\n",
    "legend(\"top\", legend=c('member','non-member'), fill=c(1,0))\n",
    "dev.off()"
   ]
  },
  {
   "cell_type": "markdown",
   "metadata": {},
   "source": [
    "This new pipeline shows a few less low-abundance OTUs shared between the negative and positive controls, but the big picture is more or less the same. A fair amound of tag-switched reads, with the two most abundant tag-switched OTUs at around 100 reads. "
   ]
  },
  {
   "cell_type": "markdown",
   "metadata": {},
   "source": [
    "<a id='mock'><h3>Positive controls</h3></a>\n",
    "\n",
    "Let's take a look at our genomic positive controls."
   ]
  },
  {
   "cell_type": "code",
   "execution_count": 10,
   "metadata": {},
   "outputs": [
    {
     "data": {
      "text/html": [
       "58"
      ],
      "text/latex": [
       "58"
      ],
      "text/markdown": [
       "58"
      ],
      "text/plain": [
       "[1] 58"
      ]
     },
     "metadata": {},
     "output_type": "display_data"
    }
   ],
   "source": [
    "aa95 <- subset_samples(biom95, sample_names(biom95) == 'PosG')\n",
    "dangen95 <- taxa_sums(aa95)[taxa_sums(aa95) > 0]\n",
    "dangen95 <- sort(dangen95, decreasing = TRUE)\n",
    "length(dangen95)"
   ]
  },
  {
   "cell_type": "code",
   "execution_count": 19,
   "metadata": {},
   "outputs": [],
   "source": [
    "save(dangen95, file='dangen95.rda')"
   ]
  },
  {
   "cell_type": "markdown",
   "metadata": {},
   "source": [
    "24 species were intentionally put into the positive control. Here we detected 58. "
   ]
  },
  {
   "cell_type": "code",
   "execution_count": 18,
   "metadata": {},
   "outputs": [
    {
     "data": {
      "image/png": "[encoded data removed]",
      "text/plain": [
       "plot without title"
      ]
     },
     "metadata": {},
     "output_type": "display_data"
    }
   ],
   "source": [
    "options(repr.plot.width = 10, repr.plot.height = 4)\n",
    "barplot(dangen95, names.arg='')"
   ]
  },
  {
   "cell_type": "code",
   "execution_count": 20,
   "metadata": {
    "scrolled": true
   },
   "outputs": [
    {
     "data": {
      "image/png": "[encoded data removed]",
      "text/plain": [
       "plot without title"
      ]
     },
     "metadata": {},
     "output_type": "display_data"
    }
   ],
   "source": [
    "aa95 <- subset_samples(biom95, sample_names(biom95) == 'PosI')\n",
    "danITS95 <- taxa_sums(aa95)[taxa_sums(aa95) > 0]\n",
    "danITS95 <- sort(danITS95, decreasing = TRUE)\n",
    "options(repr.plot.width = 10, repr.plot.height = 4)\n",
    "barplot(danITS95, names.arg='')"
   ]
  },
  {
   "cell_type": "code",
   "execution_count": null,
   "metadata": {},
   "outputs": [],
   "source": [
    "save()"
   ]
  },
  {
   "cell_type": "markdown",
   "metadata": {},
   "source": [
    "<a id='gPos'><h4>Genomic positive control</h4></a>"
   ]
  },
  {
   "cell_type": "markdown",
   "metadata": {},
   "source": [
    "To show which of these are intended members of the mock community, not contaminants, we'll use the same kind of pipeline as we used above for the negative controls. Focus on the genomic positive control first, in which genomic DNA from all of our MC cultures were introduced in equal DNA concentrations into a single sample. "
   ]
  },
  {
   "cell_type": "code",
   "execution_count": 3,
   "metadata": {},
   "outputs": [
    {
     "data": {
      "text/html": [
       "<ol class=list-inline>\n",
       "\t<li>'OTU106:Dc-PosG'</li>\n",
       "\t<li>'OTU119:Dc-PosG'</li>\n",
       "\t<li>'OTU164:Dc-PosG'</li>\n",
       "\t<li>'OTU191:Dc-PosG'</li>\n",
       "\t<li>'OTU220:Dc-PosG'</li>\n",
       "\t<li>'OTU235:Dc-PosG'</li>\n",
       "\t<li>'OTU258:Dc-PosG'</li>\n",
       "\t<li>'OTU271:Dc-PosG'</li>\n",
       "\t<li>'OTU270:Dc-PosG'</li>\n",
       "\t<li>'OTU358:Dc-PosG'</li>\n",
       "\t<li>'OTU306:Dc-PosG'</li>\n",
       "\t<li>'OTU264:Dc-PosG'</li>\n",
       "\t<li>'OTU386:Dc-PosG'</li>\n",
       "\t<li>'OTU526:Dc-PosG'</li>\n",
       "\t<li>'OTU407:Dc-PosG'</li>\n",
       "\t<li>'OTU256:Dc-X'</li>\n",
       "\t<li>'OTU608:Dc-PosG'</li>\n",
       "\t<li>'OTU826:Dc-PosG'</li>\n",
       "\t<li>'OTU3183:Dc-PosG'</li>\n",
       "\t<li>'OTU3723:Dc-PosG'</li>\n",
       "\t<li>'OTU3674:Dc-PosG'</li>\n",
       "\t<li>'OTU12510:PosG'</li>\n",
       "\t<li>'OTU4453:Dc-PosG'</li>\n",
       "\t<li>'OTU4210:Dc-PosG'</li>\n",
       "\t<li>'OTU733:Dc-PosG'</li>\n",
       "\t<li>'OTU9035:Dc-PosG'</li>\n",
       "\t<li>'OTU1153:Dc-PosI'</li>\n",
       "\t<li>'OTU560:Dc-PosG'</li>\n",
       "\t<li>'OTU8984:Dc-PosG'</li>\n",
       "\t<li>'OTU10988:PosG'</li>\n",
       "\t<li>'OTU9833:Dc-PosI'</li>\n",
       "\t<li>'OTU248:20w'</li>\n",
       "\t<li>'OTU18:9w'</li>\n",
       "\t<li>'OTU610:1w'</li>\n",
       "\t<li>'OTU257:3w'</li>\n",
       "\t<li>'OTU12502:PosG'</li>\n",
       "\t<li>'OTU8986:Dc-PosG'</li>\n",
       "\t<li>'OTU8401:Dc-PosG'</li>\n",
       "\t<li>'OTU152:1w'</li>\n",
       "\t<li>'OTU77:1w'</li>\n",
       "\t<li>'OTU28:2w'</li>\n",
       "\t<li>'OTU249:1w'</li>\n",
       "\t<li>'OTU5738:17w'</li>\n",
       "\t<li>'OTU1075:100w'</li>\n",
       "\t<li>'OTU391:2w'</li>\n",
       "\t<li>'OTU1524:3w'</li>\n",
       "\t<li>'OTU7955:106w'</li>\n",
       "\t<li>'OTU5111:14w'</li>\n",
       "\t<li>'OTU84:38w'</li>\n",
       "\t<li>'OTU1124:36w'</li>\n",
       "\t<li>'OTU1466:9w'</li>\n",
       "\t<li>'OTU1214:9w'</li>\n",
       "\t<li>'OTU1941:17w'</li>\n",
       "\t<li>'OTU428:45w'</li>\n",
       "\t<li>'OTU2567:130w'</li>\n",
       "\t<li>'OTU1516:133w'</li>\n",
       "\t<li>'OTU1866:133w'</li>\n",
       "\t<li>'OTU12503:PosG'</li>\n",
       "</ol>\n"
      ],
      "text/latex": [
       "\\begin{enumerate*}\n",
       "\\item 'OTU106:Dc-PosG'\n",
       "\\item 'OTU119:Dc-PosG'\n",
       "\\item 'OTU164:Dc-PosG'\n",
       "\\item 'OTU191:Dc-PosG'\n",
       "\\item 'OTU220:Dc-PosG'\n",
       "\\item 'OTU235:Dc-PosG'\n",
       "\\item 'OTU258:Dc-PosG'\n",
       "\\item 'OTU271:Dc-PosG'\n",
       "\\item 'OTU270:Dc-PosG'\n",
       "\\item 'OTU358:Dc-PosG'\n",
       "\\item 'OTU306:Dc-PosG'\n",
       "\\item 'OTU264:Dc-PosG'\n",
       "\\item 'OTU386:Dc-PosG'\n",
       "\\item 'OTU526:Dc-PosG'\n",
       "\\item 'OTU407:Dc-PosG'\n",
       "\\item 'OTU256:Dc-X'\n",
       "\\item 'OTU608:Dc-PosG'\n",
       "\\item 'OTU826:Dc-PosG'\n",
       "\\item 'OTU3183:Dc-PosG'\n",
       "\\item 'OTU3723:Dc-PosG'\n",
       "\\item 'OTU3674:Dc-PosG'\n",
       "\\item 'OTU12510:PosG'\n",
       "\\item 'OTU4453:Dc-PosG'\n",
       "\\item 'OTU4210:Dc-PosG'\n",
       "\\item 'OTU733:Dc-PosG'\n",
       "\\item 'OTU9035:Dc-PosG'\n",
       "\\item 'OTU1153:Dc-PosI'\n",
       "\\item 'OTU560:Dc-PosG'\n",
       "\\item 'OTU8984:Dc-PosG'\n",
       "\\item 'OTU10988:PosG'\n",
       "\\item 'OTU9833:Dc-PosI'\n",
       "\\item 'OTU248:20w'\n",
       "\\item 'OTU18:9w'\n",
       "\\item 'OTU610:1w'\n",
       "\\item 'OTU257:3w'\n",
       "\\item 'OTU12502:PosG'\n",
       "\\item 'OTU8986:Dc-PosG'\n",
       "\\item 'OTU8401:Dc-PosG'\n",
       "\\item 'OTU152:1w'\n",
       "\\item 'OTU77:1w'\n",
       "\\item 'OTU28:2w'\n",
       "\\item 'OTU249:1w'\n",
       "\\item 'OTU5738:17w'\n",
       "\\item 'OTU1075:100w'\n",
       "\\item 'OTU391:2w'\n",
       "\\item 'OTU1524:3w'\n",
       "\\item 'OTU7955:106w'\n",
       "\\item 'OTU5111:14w'\n",
       "\\item 'OTU84:38w'\n",
       "\\item 'OTU1124:36w'\n",
       "\\item 'OTU1466:9w'\n",
       "\\item 'OTU1214:9w'\n",
       "\\item 'OTU1941:17w'\n",
       "\\item 'OTU428:45w'\n",
       "\\item 'OTU2567:130w'\n",
       "\\item 'OTU1516:133w'\n",
       "\\item 'OTU1866:133w'\n",
       "\\item 'OTU12503:PosG'\n",
       "\\end{enumerate*}\n"
      ],
      "text/markdown": [
       "1. 'OTU106:Dc-PosG'\n",
       "2. 'OTU119:Dc-PosG'\n",
       "3. 'OTU164:Dc-PosG'\n",
       "4. 'OTU191:Dc-PosG'\n",
       "5. 'OTU220:Dc-PosG'\n",
       "6. 'OTU235:Dc-PosG'\n",
       "7. 'OTU258:Dc-PosG'\n",
       "8. 'OTU271:Dc-PosG'\n",
       "9. 'OTU270:Dc-PosG'\n",
       "10. 'OTU358:Dc-PosG'\n",
       "11. 'OTU306:Dc-PosG'\n",
       "12. 'OTU264:Dc-PosG'\n",
       "13. 'OTU386:Dc-PosG'\n",
       "14. 'OTU526:Dc-PosG'\n",
       "15. 'OTU407:Dc-PosG'\n",
       "16. 'OTU256:Dc-X'\n",
       "17. 'OTU608:Dc-PosG'\n",
       "18. 'OTU826:Dc-PosG'\n",
       "19. 'OTU3183:Dc-PosG'\n",
       "20. 'OTU3723:Dc-PosG'\n",
       "21. 'OTU3674:Dc-PosG'\n",
       "22. 'OTU12510:PosG'\n",
       "23. 'OTU4453:Dc-PosG'\n",
       "24. 'OTU4210:Dc-PosG'\n",
       "25. 'OTU733:Dc-PosG'\n",
       "26. 'OTU9035:Dc-PosG'\n",
       "27. 'OTU1153:Dc-PosI'\n",
       "28. 'OTU560:Dc-PosG'\n",
       "29. 'OTU8984:Dc-PosG'\n",
       "30. 'OTU10988:PosG'\n",
       "31. 'OTU9833:Dc-PosI'\n",
       "32. 'OTU248:20w'\n",
       "33. 'OTU18:9w'\n",
       "34. 'OTU610:1w'\n",
       "35. 'OTU257:3w'\n",
       "36. 'OTU12502:PosG'\n",
       "37. 'OTU8986:Dc-PosG'\n",
       "38. 'OTU8401:Dc-PosG'\n",
       "39. 'OTU152:1w'\n",
       "40. 'OTU77:1w'\n",
       "41. 'OTU28:2w'\n",
       "42. 'OTU249:1w'\n",
       "43. 'OTU5738:17w'\n",
       "44. 'OTU1075:100w'\n",
       "45. 'OTU391:2w'\n",
       "46. 'OTU1524:3w'\n",
       "47. 'OTU7955:106w'\n",
       "48. 'OTU5111:14w'\n",
       "49. 'OTU84:38w'\n",
       "50. 'OTU1124:36w'\n",
       "51. 'OTU1466:9w'\n",
       "52. 'OTU1214:9w'\n",
       "53. 'OTU1941:17w'\n",
       "54. 'OTU428:45w'\n",
       "55. 'OTU2567:130w'\n",
       "56. 'OTU1516:133w'\n",
       "57. 'OTU1866:133w'\n",
       "58. 'OTU12503:PosG'\n",
       "\n",
       "\n"
      ],
      "text/plain": [
       " [1] \"OTU106:Dc-PosG\"  \"OTU119:Dc-PosG\"  \"OTU164:Dc-PosG\"  \"OTU191:Dc-PosG\" \n",
       " [5] \"OTU220:Dc-PosG\"  \"OTU235:Dc-PosG\"  \"OTU258:Dc-PosG\"  \"OTU271:Dc-PosG\" \n",
       " [9] \"OTU270:Dc-PosG\"  \"OTU358:Dc-PosG\"  \"OTU306:Dc-PosG\"  \"OTU264:Dc-PosG\" \n",
       "[13] \"OTU386:Dc-PosG\"  \"OTU526:Dc-PosG\"  \"OTU407:Dc-PosG\"  \"OTU256:Dc-X\"    \n",
       "[17] \"OTU608:Dc-PosG\"  \"OTU826:Dc-PosG\"  \"OTU3183:Dc-PosG\" \"OTU3723:Dc-PosG\"\n",
       "[21] \"OTU3674:Dc-PosG\" \"OTU12510:PosG\"   \"OTU4453:Dc-PosG\" \"OTU4210:Dc-PosG\"\n",
       "[25] \"OTU733:Dc-PosG\"  \"OTU9035:Dc-PosG\" \"OTU1153:Dc-PosI\" \"OTU560:Dc-PosG\" \n",
       "[29] \"OTU8984:Dc-PosG\" \"OTU10988:PosG\"   \"OTU9833:Dc-PosI\" \"OTU248:20w\"     \n",
       "[33] \"OTU18:9w\"        \"OTU610:1w\"       \"OTU257:3w\"       \"OTU12502:PosG\"  \n",
       "[37] \"OTU8986:Dc-PosG\" \"OTU8401:Dc-PosG\" \"OTU152:1w\"       \"OTU77:1w\"       \n",
       "[41] \"OTU28:2w\"        \"OTU249:1w\"       \"OTU5738:17w\"     \"OTU1075:100w\"   \n",
       "[45] \"OTU391:2w\"       \"OTU1524:3w\"      \"OTU7955:106w\"    \"OTU5111:14w\"    \n",
       "[49] \"OTU84:38w\"       \"OTU1124:36w\"     \"OTU1466:9w\"      \"OTU1214:9w\"     \n",
       "[53] \"OTU1941:17w\"     \"OTU428:45w\"      \"OTU2567:130w\"    \"OTU1516:133w\"   \n",
       "[57] \"OTU1866:133w\"    \"OTU12503:PosG\"  "
      ]
     },
     "metadata": {},
     "output_type": "display_data"
    }
   ],
   "source": [
    "aa95 <- subset_samples(biom95, sample_names(biom95) == 'PosG')\n",
    "danGenreads <- taxa_sums(aa95)[taxa_sums(aa95) > 0]\n",
    "danGenreads <- sort(danGenreads, decreasing = TRUE)\n",
    "sink('danGenreads.txt') ## read out these OTUs so we can use them in python env\n",
    "names(danGenreads)\n",
    "sink()"
   ]
  },
  {
   "cell_type": "markdown",
   "metadata": {},
   "source": [
    "The script to get the sequences of OTUs present in our illumina survey of our mock-community."
   ]
  },
  {
   "cell_type": "code",
   "execution_count": 1,
   "metadata": {
    "scrolled": false
   },
   "outputs": [
    {
     "name": "stdout",
     "output_type": "stream",
     "text": [
      "mcseq=(\"OTU256:Dc-X\",\"OTU306:Dc-PosG\",\"OTU119:Dc-PosG\",\"OTU220:Dc-PosG\",\n",
      "\"OTU270:Dc-PosG\",\"OTU191:Dc-PosG\",\"OTU164:Dc-PosG\",\"OTU235:Dc-PosG\",\n",
      "\"OTU358:Dc-PosG\",\"OTU106:Dc-PosG\",\"OTU3674:Dc-PosG\",\"OTU386:Dc-PosG\",\n",
      "\"OTU271:Dc-PosG\",\"OTU407:Dc-PosG\",\"OTU258:Dc-PosG\",\"OTU264:Dc-PosG\",\n",
      "\"OTU4210:Dc-PosG\",\"OTU1153:Dc-PosI\",\"OTU8984:Dc-PosG\",\"OTU526:Dc-PosG\",\n",
      "\"OTU12510:PosG\",\"OTU3723:Dc-PosG\",\"OTU4453:Dc-PosG\",\"OTU608:Dc-PosG\",\n",
      "\"OTU3183:Dc-PosG\",\"OTU826:Dc-PosG\",\"OTU733:Dc-PosG\",\"OTU8986:Dc-PosG\",\n",
      "\"OTU9035:Dc-PosG\",\"OTU8401:Dc-PosG\",\"OTU560:Dc-PosG\",\"OTU10988:PosG\",\n",
      "\"OTU9833:Dc-PosI\",\"OTU248:20w\",\"OTU152:1w\",\"OTU77:1w\",\n",
      "\"OTU28:2w\",\"OTU249:1w\",\"OTU18:9w\",\"OTU5738:17w\",\n",
      "\"OTU610:1w\",\"OTU1075:100w\",\"OTU391:2w\",\"OTU1524:3w\",\n",
      "\"OTU257:3w\",\"OTU7955:106w\",\"OTU5111:14w\",\"OTU84:38w\",\n",
      "\"OTU1124:36w\",\"OTU1466:9w\",\"OTU1214:9w\",\"OTU1941:17w\",\n",
      "\"OTU428:45w\",\"OTU2567:130w\",\"OTU1516:133w\",\"OTU1866:133w\",\n",
      "\"OTU12502:PosG\",\"OTU12503:PosG\")\n",
      "\n",
      "with open('otus_95_combo_nolb.fasta', 'r') as zoop:\n",
      "        refseq = zoop.readlines()\n",
      "\n",
      "with open('seqs_dangen95.fasta', 'w') as goop:\n",
      "        for j,otu in enumerate(mcseq):\n",
      "                for i,line in enumerate(refseq):\n",
      "                        if otu in line:\n",
      "                                goop.write(line)\n",
      "                                goop.write(refseq[i+1])\n"
     ]
    }
   ],
   "source": [
    "cat danGen_makeMCseq.py"
   ]
  },
  {
   "cell_type": "code",
   "execution_count": 4,
   "metadata": {},
   "outputs": [],
   "source": [
    "python3 danGen_makeMCseq.py"
   ]
  },
  {
   "cell_type": "code",
   "execution_count": 5,
   "metadata": {},
   "outputs": [],
   "source": [
    "sed -i '/^>/ s/;size=.*//' seqs_dangen95.fasta \n",
    "\n",
    "blastn -query seqs_dangen95.fasta -db mcsanger.fasta -out mcblast_Dangen95.txt -num_descriptions 3 -num_alignments 3\n",
    "blastn -query seqs_dangen95.fasta -db mcsanger.fasta -out mcblast_Dangen95.csv -outfmt 10 -max_target_seqs 1\n",
    "\n",
    "sed '1 i\\qseqid,sseqid,pident,length,mismatch,gapopen,qstart,qend,sstart,send,evalue,bitscore' mcblast_Dangen95.csv -i\n",
    "sed 's/_ITS[1,4],/,/g' mcblast_Dangen95.csv -i\n",
    "sed 's/Sample//g' mcblast_Dangen95.csv -i"
   ]
  },
  {
   "cell_type": "code",
   "execution_count": 4,
   "metadata": {},
   "outputs": [],
   "source": [
    "## change kernel to R\n",
    "library('phyloseq')"
   ]
  },
  {
   "cell_type": "code",
   "execution_count": 2,
   "metadata": {
    "scrolled": true
   },
   "outputs": [
    {
     "data": {
      "text/html": [
       "<table>\n",
       "<thead><tr><th scope=col>qseqid</th><th scope=col>sseqid</th><th scope=col>pident</th><th scope=col>length</th><th scope=col>mismatch</th><th scope=col>gapopen</th><th scope=col>qstart</th><th scope=col>qend</th><th scope=col>sstart</th><th scope=col>send</th><th scope=col>evalue</th><th scope=col>bitscore</th></tr></thead>\n",
       "<tbody>\n",
       "\t<tr><td>OTU256:Dc-X    </td><td> 6             </td><td>100.00         </td><td>184            </td><td>0              </td><td>0              </td><td> 1             </td><td>184            </td><td>535            </td><td>352            </td><td> 1e-96         </td><td>340.0          </td></tr>\n",
       "\t<tr><td>OTU306:Dc-PosG </td><td> 9             </td><td>100.00         </td><td>176            </td><td>0              </td><td>0              </td><td> 1             </td><td>176            </td><td>504            </td><td>329            </td><td> 3e-92         </td><td>326.0          </td></tr>\n",
       "\t<tr><td>OTU119:Dc-PosG </td><td> 1             </td><td> 99.31         </td><td>144            </td><td>1              </td><td>0              </td><td> 1             </td><td>144            </td><td>434            </td><td>291            </td><td> 7e-73         </td><td>261.0          </td></tr>\n",
       "\t<tr><td>OTU220:Dc-PosG </td><td>22             </td><td>100.00         </td><td>168            </td><td>0              </td><td>0              </td><td> 1             </td><td>168            </td><td>512            </td><td>345            </td><td> 8e-88         </td><td>311.0          </td></tr>\n",
       "\t<tr><td>OTU270:Dc-PosG </td><td>12             </td><td>100.00         </td><td>178            </td><td>0              </td><td>0              </td><td> 1             </td><td>178            </td><td>501            </td><td>324            </td><td> 2e-93         </td><td>329.0          </td></tr>\n",
       "\t<tr><td>OTU191:Dc-PosG </td><td>14             </td><td>100.00         </td><td>197            </td><td>0              </td><td>0              </td><td> 1             </td><td>197            </td><td>566            </td><td>370            </td><td>7e-104         </td><td>364.0          </td></tr>\n",
       "\t<tr><td>OTU164:Dc-PosG </td><td> 8             </td><td>100.00         </td><td>143            </td><td>0              </td><td>0              </td><td> 1             </td><td>143            </td><td>451            </td><td>309            </td><td> 5e-74         </td><td>265.0          </td></tr>\n",
       "\t<tr><td>OTU235:Dc-PosG </td><td>20             </td><td>100.00         </td><td>217            </td><td>0              </td><td>0              </td><td> 1             </td><td>217            </td><td>605            </td><td>389            </td><td>6e-115         </td><td>401.0          </td></tr>\n",
       "\t<tr><td>OTU358:Dc-PosG </td><td>15             </td><td>100.00         </td><td>241            </td><td>0              </td><td>0              </td><td> 1             </td><td>241            </td><td>553            </td><td>313            </td><td>3e-128         </td><td>446.0          </td></tr>\n",
       "\t<tr><td>OTU106:Dc-PosG </td><td>10             </td><td>100.00         </td><td>174            </td><td>0              </td><td>0              </td><td> 1             </td><td>174            </td><td>482            </td><td>309            </td><td> 4e-91         </td><td>322.0          </td></tr>\n",
       "\t<tr><td>OTU3674:Dc-PosG</td><td> 1             </td><td> 95.24         </td><td>126            </td><td>6              </td><td>0              </td><td>19             </td><td>144            </td><td>416            </td><td>291            </td><td> 1e-54         </td><td>200.0          </td></tr>\n",
       "\t<tr><td>OTU386:Dc-PosG </td><td>19             </td><td>100.00         </td><td>175            </td><td>0              </td><td>0              </td><td> 1             </td><td>175            </td><td>513            </td><td>339            </td><td> 1e-91         </td><td>324.0          </td></tr>\n",
       "\t<tr><td>OTU271:Dc-PosG </td><td>24             </td><td>100.00         </td><td>209            </td><td>0              </td><td>0              </td><td> 1             </td><td>209            </td><td>537            </td><td>329            </td><td>2e-110         </td><td>387.0          </td></tr>\n",
       "\t<tr><td>OTU407:Dc-PosG </td><td> 7             </td><td>100.00         </td><td>193            </td><td>0              </td><td>0              </td><td> 1             </td><td>193            </td><td>524            </td><td>332            </td><td>1e-101         </td><td>357.0          </td></tr>\n",
       "\t<tr><td>OTU258:Dc-PosG </td><td>13             </td><td>100.00         </td><td>180            </td><td>0              </td><td>0              </td><td> 1             </td><td>180            </td><td>492            </td><td>313            </td><td> 2e-94         </td><td>333.0          </td></tr>\n",
       "\t<tr><td>OTU264:Dc-PosG </td><td>16             </td><td>100.00         </td><td>180            </td><td>0              </td><td>0              </td><td> 1             </td><td>180            </td><td>502            </td><td>323            </td><td> 2e-94         </td><td>333.0          </td></tr>\n",
       "\t<tr><td>OTU4210:Dc-PosG</td><td> 8             </td><td> 96.00         </td><td>125            </td><td>5              </td><td>0              </td><td>19             </td><td>143            </td><td>433            </td><td>309            </td><td> 1e-55         </td><td>204.0          </td></tr>\n",
       "\t<tr><td>OTU1153:Dc-PosI</td><td>18             </td><td>100.00         </td><td>361            </td><td>0              </td><td>0              </td><td> 1             </td><td>361            </td><td>761            </td><td>401            </td><td> 0e+00         </td><td>667.0          </td></tr>\n",
       "\t<tr><td>OTU526:Dc-PosG </td><td> 5             </td><td>100.00         </td><td>232            </td><td>0              </td><td>0              </td><td> 1             </td><td>232            </td><td>562            </td><td>331            </td><td>3e-123         </td><td>429.0          </td></tr>\n",
       "\t<tr><td>OTU12510:PosG  </td><td> 8             </td><td> 95.62         </td><td>137            </td><td>4              </td><td>2              </td><td> 1             </td><td>135            </td><td>451            </td><td>315            </td><td> 4e-60         </td><td>219.0          </td></tr>\n",
       "\t<tr><td>OTU3723:Dc-PosG</td><td> 1             </td><td> 95.00         </td><td>140            </td><td>5              </td><td>2              </td><td> 1             </td><td>140            </td><td>434            </td><td>297            </td><td> 4e-60         </td><td>219.0          </td></tr>\n",
       "\t<tr><td>OTU4453:Dc-PosG</td><td> 2             </td><td>100.00         </td><td>143            </td><td>0              </td><td>0              </td><td> 1             </td><td>143            </td><td>463            </td><td>321            </td><td> 5e-74         </td><td>265.0          </td></tr>\n",
       "\t<tr><td>OTU608:Dc-PosG </td><td>11             </td><td>100.00         </td><td>174            </td><td>0              </td><td>0              </td><td> 1             </td><td>174            </td><td>487            </td><td>314            </td><td> 4e-91         </td><td>322.0          </td></tr>\n",
       "\t<tr><td>OTU3183:Dc-PosG</td><td> 8             </td><td> 94.89         </td><td>137            </td><td>5              </td><td>2              </td><td> 1             </td><td>135            </td><td>451            </td><td>315            </td><td> 2e-58         </td><td>213.0          </td></tr>\n",
       "\t<tr><td>OTU826:Dc-PosG </td><td> 3             </td><td>100.00         </td><td>157            </td><td>0              </td><td>0              </td><td> 1             </td><td>157            </td><td>555            </td><td>399            </td><td> 9e-82         </td><td>291.0          </td></tr>\n",
       "\t<tr><td>OTU733:Dc-PosG </td><td>23             </td><td>100.00         </td><td>208            </td><td>0              </td><td>0              </td><td> 1             </td><td>208            </td><td>528            </td><td>321            </td><td>6e-110         </td><td>385.0          </td></tr>\n",
       "\t<tr><td>OTU8986:Dc-PosG</td><td>13             </td><td> 99.39         </td><td>163            </td><td>1              </td><td>0              </td><td>15             </td><td>177            </td><td>475            </td><td>313            </td><td> 2e-83         </td><td>296.0          </td></tr>\n",
       "\t<tr><td>OTU8401:Dc-PosG</td><td> 1             </td><td> 99.16         </td><td>119            </td><td>1              </td><td>0              </td><td>19             </td><td>137            </td><td>409            </td><td>291            </td><td> 5e-59         </td><td>215.0          </td></tr>\n",
       "\t<tr><td>OTU560:Dc-PosG </td><td> 4             </td><td>100.00         </td><td>180            </td><td>0              </td><td>0              </td><td> 1             </td><td>180            </td><td>485            </td><td>306            </td><td> 2e-94         </td><td>333.0          </td></tr>\n",
       "\t<tr><td>OTU10988:PosG  </td><td> 8             </td><td>100.00         </td><td>118            </td><td>0              </td><td>0              </td><td>19             </td><td>136            </td><td>426            </td><td>309            </td><td> 4e-60         </td><td>219.0          </td></tr>\n",
       "\t<tr><td>OTU84:38w      </td><td> 9             </td><td>100.00         </td><td> 31            </td><td>0              </td><td>0              </td><td>27             </td><td> 57            </td><td>530            </td><td>500            </td><td> 1e-11         </td><td> 58.4          </td></tr>\n",
       "\t<tr><td>OTU12503:PosG  </td><td>16             </td><td> 95.43         </td><td>175            </td><td>2              </td><td>4              </td><td> 8             </td><td>181            </td><td>492            </td><td>323            </td><td> 1e-76         </td><td>274.0          </td></tr>\n",
       "</tbody>\n",
       "</table>\n"
      ],
      "text/latex": [
       "\\begin{tabular}{r|llllllllllll}\n",
       " qseqid & sseqid & pident & length & mismatch & gapopen & qstart & qend & sstart & send & evalue & bitscore\\\\\n",
       "\\hline\n",
       "\t OTU256:Dc-X     &  6              & 100.00          & 184             & 0               & 0               &  1              & 184             & 535             & 352             &  1e-96          & 340.0          \\\\\n",
       "\t OTU306:Dc-PosG  &  9              & 100.00          & 176             & 0               & 0               &  1              & 176             & 504             & 329             &  3e-92          & 326.0          \\\\\n",
       "\t OTU119:Dc-PosG  &  1              &  99.31          & 144             & 1               & 0               &  1              & 144             & 434             & 291             &  7e-73          & 261.0          \\\\\n",
       "\t OTU220:Dc-PosG  & 22              & 100.00          & 168             & 0               & 0               &  1              & 168             & 512             & 345             &  8e-88          & 311.0          \\\\\n",
       "\t OTU270:Dc-PosG  & 12              & 100.00          & 178             & 0               & 0               &  1              & 178             & 501             & 324             &  2e-93          & 329.0          \\\\\n",
       "\t OTU191:Dc-PosG  & 14              & 100.00          & 197             & 0               & 0               &  1              & 197             & 566             & 370             & 7e-104          & 364.0          \\\\\n",
       "\t OTU164:Dc-PosG  &  8              & 100.00          & 143             & 0               & 0               &  1              & 143             & 451             & 309             &  5e-74          & 265.0          \\\\\n",
       "\t OTU235:Dc-PosG  & 20              & 100.00          & 217             & 0               & 0               &  1              & 217             & 605             & 389             & 6e-115          & 401.0          \\\\\n",
       "\t OTU358:Dc-PosG  & 15              & 100.00          & 241             & 0               & 0               &  1              & 241             & 553             & 313             & 3e-128          & 446.0          \\\\\n",
       "\t OTU106:Dc-PosG  & 10              & 100.00          & 174             & 0               & 0               &  1              & 174             & 482             & 309             &  4e-91          & 322.0          \\\\\n",
       "\t OTU3674:Dc-PosG &  1              &  95.24          & 126             & 6               & 0               & 19              & 144             & 416             & 291             &  1e-54          & 200.0          \\\\\n",
       "\t OTU386:Dc-PosG  & 19              & 100.00          & 175             & 0               & 0               &  1              & 175             & 513             & 339             &  1e-91          & 324.0          \\\\\n",
       "\t OTU271:Dc-PosG  & 24              & 100.00          & 209             & 0               & 0               &  1              & 209             & 537             & 329             & 2e-110          & 387.0          \\\\\n",
       "\t OTU407:Dc-PosG  &  7              & 100.00          & 193             & 0               & 0               &  1              & 193             & 524             & 332             & 1e-101          & 357.0          \\\\\n",
       "\t OTU258:Dc-PosG  & 13              & 100.00          & 180             & 0               & 0               &  1              & 180             & 492             & 313             &  2e-94          & 333.0          \\\\\n",
       "\t OTU264:Dc-PosG  & 16              & 100.00          & 180             & 0               & 0               &  1              & 180             & 502             & 323             &  2e-94          & 333.0          \\\\\n",
       "\t OTU4210:Dc-PosG &  8              &  96.00          & 125             & 5               & 0               & 19              & 143             & 433             & 309             &  1e-55          & 204.0          \\\\\n",
       "\t OTU1153:Dc-PosI & 18              & 100.00          & 361             & 0               & 0               &  1              & 361             & 761             & 401             &  0e+00          & 667.0          \\\\\n",
       "\t OTU526:Dc-PosG  &  5              & 100.00          & 232             & 0               & 0               &  1              & 232             & 562             & 331             & 3e-123          & 429.0          \\\\\n",
       "\t OTU12510:PosG   &  8              &  95.62          & 137             & 4               & 2               &  1              & 135             & 451             & 315             &  4e-60          & 219.0          \\\\\n",
       "\t OTU3723:Dc-PosG &  1              &  95.00          & 140             & 5               & 2               &  1              & 140             & 434             & 297             &  4e-60          & 219.0          \\\\\n",
       "\t OTU4453:Dc-PosG &  2              & 100.00          & 143             & 0               & 0               &  1              & 143             & 463             & 321             &  5e-74          & 265.0          \\\\\n",
       "\t OTU608:Dc-PosG  & 11              & 100.00          & 174             & 0               & 0               &  1              & 174             & 487             & 314             &  4e-91          & 322.0          \\\\\n",
       "\t OTU3183:Dc-PosG &  8              &  94.89          & 137             & 5               & 2               &  1              & 135             & 451             & 315             &  2e-58          & 213.0          \\\\\n",
       "\t OTU826:Dc-PosG  &  3              & 100.00          & 157             & 0               & 0               &  1              & 157             & 555             & 399             &  9e-82          & 291.0          \\\\\n",
       "\t OTU733:Dc-PosG  & 23              & 100.00          & 208             & 0               & 0               &  1              & 208             & 528             & 321             & 6e-110          & 385.0          \\\\\n",
       "\t OTU8986:Dc-PosG & 13              &  99.39          & 163             & 1               & 0               & 15              & 177             & 475             & 313             &  2e-83          & 296.0          \\\\\n",
       "\t OTU8401:Dc-PosG &  1              &  99.16          & 119             & 1               & 0               & 19              & 137             & 409             & 291             &  5e-59          & 215.0          \\\\\n",
       "\t OTU560:Dc-PosG  &  4              & 100.00          & 180             & 0               & 0               &  1              & 180             & 485             & 306             &  2e-94          & 333.0          \\\\\n",
       "\t OTU10988:PosG   &  8              & 100.00          & 118             & 0               & 0               & 19              & 136             & 426             & 309             &  4e-60          & 219.0          \\\\\n",
       "\t OTU84:38w       &  9              & 100.00          &  31             & 0               & 0               & 27              &  57             & 530             & 500             &  1e-11          &  58.4          \\\\\n",
       "\t OTU12503:PosG   & 16              &  95.43          & 175             & 2               & 4               &  8              & 181             & 492             & 323             &  1e-76          & 274.0          \\\\\n",
       "\\end{tabular}\n"
      ],
      "text/markdown": [
       "\n",
       "qseqid | sseqid | pident | length | mismatch | gapopen | qstart | qend | sstart | send | evalue | bitscore | \n",
       "|---|---|---|---|---|---|---|---|---|---|---|---|---|---|---|---|---|---|---|---|---|---|---|---|---|---|---|---|---|---|---|---|\n",
       "| OTU256:Dc-X     |  6              | 100.00          | 184             | 0               | 0               |  1              | 184             | 535             | 352             |  1e-96          | 340.0           | \n",
       "| OTU306:Dc-PosG  |  9              | 100.00          | 176             | 0               | 0               |  1              | 176             | 504             | 329             |  3e-92          | 326.0           | \n",
       "| OTU119:Dc-PosG  |  1              |  99.31          | 144             | 1               | 0               |  1              | 144             | 434             | 291             |  7e-73          | 261.0           | \n",
       "| OTU220:Dc-PosG  | 22              | 100.00          | 168             | 0               | 0               |  1              | 168             | 512             | 345             |  8e-88          | 311.0           | \n",
       "| OTU270:Dc-PosG  | 12              | 100.00          | 178             | 0               | 0               |  1              | 178             | 501             | 324             |  2e-93          | 329.0           | \n",
       "| OTU191:Dc-PosG  | 14              | 100.00          | 197             | 0               | 0               |  1              | 197             | 566             | 370             | 7e-104          | 364.0           | \n",
       "| OTU164:Dc-PosG  |  8              | 100.00          | 143             | 0               | 0               |  1              | 143             | 451             | 309             |  5e-74          | 265.0           | \n",
       "| OTU235:Dc-PosG  | 20              | 100.00          | 217             | 0               | 0               |  1              | 217             | 605             | 389             | 6e-115          | 401.0           | \n",
       "| OTU358:Dc-PosG  | 15              | 100.00          | 241             | 0               | 0               |  1              | 241             | 553             | 313             | 3e-128          | 446.0           | \n",
       "| OTU106:Dc-PosG  | 10              | 100.00          | 174             | 0               | 0               |  1              | 174             | 482             | 309             |  4e-91          | 322.0           | \n",
       "| OTU3674:Dc-PosG |  1              |  95.24          | 126             | 6               | 0               | 19              | 144             | 416             | 291             |  1e-54          | 200.0           | \n",
       "| OTU386:Dc-PosG  | 19              | 100.00          | 175             | 0               | 0               |  1              | 175             | 513             | 339             |  1e-91          | 324.0           | \n",
       "| OTU271:Dc-PosG  | 24              | 100.00          | 209             | 0               | 0               |  1              | 209             | 537             | 329             | 2e-110          | 387.0           | \n",
       "| OTU407:Dc-PosG  |  7              | 100.00          | 193             | 0               | 0               |  1              | 193             | 524             | 332             | 1e-101          | 357.0           | \n",
       "| OTU258:Dc-PosG  | 13              | 100.00          | 180             | 0               | 0               |  1              | 180             | 492             | 313             |  2e-94          | 333.0           | \n",
       "| OTU264:Dc-PosG  | 16              | 100.00          | 180             | 0               | 0               |  1              | 180             | 502             | 323             |  2e-94          | 333.0           | \n",
       "| OTU4210:Dc-PosG |  8              |  96.00          | 125             | 5               | 0               | 19              | 143             | 433             | 309             |  1e-55          | 204.0           | \n",
       "| OTU1153:Dc-PosI | 18              | 100.00          | 361             | 0               | 0               |  1              | 361             | 761             | 401             |  0e+00          | 667.0           | \n",
       "| OTU526:Dc-PosG  |  5              | 100.00          | 232             | 0               | 0               |  1              | 232             | 562             | 331             | 3e-123          | 429.0           | \n",
       "| OTU12510:PosG   |  8              |  95.62          | 137             | 4               | 2               |  1              | 135             | 451             | 315             |  4e-60          | 219.0           | \n",
       "| OTU3723:Dc-PosG |  1              |  95.00          | 140             | 5               | 2               |  1              | 140             | 434             | 297             |  4e-60          | 219.0           | \n",
       "| OTU4453:Dc-PosG |  2              | 100.00          | 143             | 0               | 0               |  1              | 143             | 463             | 321             |  5e-74          | 265.0           | \n",
       "| OTU608:Dc-PosG  | 11              | 100.00          | 174             | 0               | 0               |  1              | 174             | 487             | 314             |  4e-91          | 322.0           | \n",
       "| OTU3183:Dc-PosG |  8              |  94.89          | 137             | 5               | 2               |  1              | 135             | 451             | 315             |  2e-58          | 213.0           | \n",
       "| OTU826:Dc-PosG  |  3              | 100.00          | 157             | 0               | 0               |  1              | 157             | 555             | 399             |  9e-82          | 291.0           | \n",
       "| OTU733:Dc-PosG  | 23              | 100.00          | 208             | 0               | 0               |  1              | 208             | 528             | 321             | 6e-110          | 385.0           | \n",
       "| OTU8986:Dc-PosG | 13              |  99.39          | 163             | 1               | 0               | 15              | 177             | 475             | 313             |  2e-83          | 296.0           | \n",
       "| OTU8401:Dc-PosG |  1              |  99.16          | 119             | 1               | 0               | 19              | 137             | 409             | 291             |  5e-59          | 215.0           | \n",
       "| OTU560:Dc-PosG  |  4              | 100.00          | 180             | 0               | 0               |  1              | 180             | 485             | 306             |  2e-94          | 333.0           | \n",
       "| OTU10988:PosG   |  8              | 100.00          | 118             | 0               | 0               | 19              | 136             | 426             | 309             |  4e-60          | 219.0           | \n",
       "| OTU84:38w       |  9              | 100.00          |  31             | 0               | 0               | 27              |  57             | 530             | 500             |  1e-11          |  58.4           | \n",
       "| OTU12503:PosG   | 16              |  95.43          | 175             | 2               | 4               |  8              | 181             | 492             | 323             |  1e-76          | 274.0           | \n",
       "\n",
       "\n"
      ],
      "text/plain": [
       "   qseqid          sseqid pident length mismatch gapopen qstart qend sstart\n",
       "1  OTU256:Dc-X      6     100.00 184    0        0        1     184  535   \n",
       "2  OTU306:Dc-PosG   9     100.00 176    0        0        1     176  504   \n",
       "3  OTU119:Dc-PosG   1      99.31 144    1        0        1     144  434   \n",
       "4  OTU220:Dc-PosG  22     100.00 168    0        0        1     168  512   \n",
       "5  OTU270:Dc-PosG  12     100.00 178    0        0        1     178  501   \n",
       "6  OTU191:Dc-PosG  14     100.00 197    0        0        1     197  566   \n",
       "7  OTU164:Dc-PosG   8     100.00 143    0        0        1     143  451   \n",
       "8  OTU235:Dc-PosG  20     100.00 217    0        0        1     217  605   \n",
       "9  OTU358:Dc-PosG  15     100.00 241    0        0        1     241  553   \n",
       "10 OTU106:Dc-PosG  10     100.00 174    0        0        1     174  482   \n",
       "11 OTU3674:Dc-PosG  1      95.24 126    6        0       19     144  416   \n",
       "12 OTU386:Dc-PosG  19     100.00 175    0        0        1     175  513   \n",
       "13 OTU271:Dc-PosG  24     100.00 209    0        0        1     209  537   \n",
       "14 OTU407:Dc-PosG   7     100.00 193    0        0        1     193  524   \n",
       "15 OTU258:Dc-PosG  13     100.00 180    0        0        1     180  492   \n",
       "16 OTU264:Dc-PosG  16     100.00 180    0        0        1     180  502   \n",
       "17 OTU4210:Dc-PosG  8      96.00 125    5        0       19     143  433   \n",
       "18 OTU1153:Dc-PosI 18     100.00 361    0        0        1     361  761   \n",
       "19 OTU526:Dc-PosG   5     100.00 232    0        0        1     232  562   \n",
       "20 OTU12510:PosG    8      95.62 137    4        2        1     135  451   \n",
       "21 OTU3723:Dc-PosG  1      95.00 140    5        2        1     140  434   \n",
       "22 OTU4453:Dc-PosG  2     100.00 143    0        0        1     143  463   \n",
       "23 OTU608:Dc-PosG  11     100.00 174    0        0        1     174  487   \n",
       "24 OTU3183:Dc-PosG  8      94.89 137    5        2        1     135  451   \n",
       "25 OTU826:Dc-PosG   3     100.00 157    0        0        1     157  555   \n",
       "26 OTU733:Dc-PosG  23     100.00 208    0        0        1     208  528   \n",
       "27 OTU8986:Dc-PosG 13      99.39 163    1        0       15     177  475   \n",
       "28 OTU8401:Dc-PosG  1      99.16 119    1        0       19     137  409   \n",
       "29 OTU560:Dc-PosG   4     100.00 180    0        0        1     180  485   \n",
       "30 OTU10988:PosG    8     100.00 118    0        0       19     136  426   \n",
       "31 OTU84:38w        9     100.00  31    0        0       27      57  530   \n",
       "32 OTU12503:PosG   16      95.43 175    2        4        8     181  492   \n",
       "   send evalue bitscore\n",
       "1  352   1e-96 340.0   \n",
       "2  329   3e-92 326.0   \n",
       "3  291   7e-73 261.0   \n",
       "4  345   8e-88 311.0   \n",
       "5  324   2e-93 329.0   \n",
       "6  370  7e-104 364.0   \n",
       "7  309   5e-74 265.0   \n",
       "8  389  6e-115 401.0   \n",
       "9  313  3e-128 446.0   \n",
       "10 309   4e-91 322.0   \n",
       "11 291   1e-54 200.0   \n",
       "12 339   1e-91 324.0   \n",
       "13 329  2e-110 387.0   \n",
       "14 332  1e-101 357.0   \n",
       "15 313   2e-94 333.0   \n",
       "16 323   2e-94 333.0   \n",
       "17 309   1e-55 204.0   \n",
       "18 401   0e+00 667.0   \n",
       "19 331  3e-123 429.0   \n",
       "20 315   4e-60 219.0   \n",
       "21 297   4e-60 219.0   \n",
       "22 321   5e-74 265.0   \n",
       "23 314   4e-91 322.0   \n",
       "24 315   2e-58 213.0   \n",
       "25 399   9e-82 291.0   \n",
       "26 321  6e-110 385.0   \n",
       "27 313   2e-83 296.0   \n",
       "28 291   5e-59 215.0   \n",
       "29 306   2e-94 333.0   \n",
       "30 309   4e-60 219.0   \n",
       "31 500   1e-11  58.4   \n",
       "32 323   1e-76 274.0   "
      ]
     },
     "metadata": {},
     "output_type": "display_data"
    }
   ],
   "source": [
    "blast <- read.csv(\"mcblast_Dangen95.csv\", stringsAsFactors=FALSE)\n",
    "blast"
   ]
  },
  {
   "cell_type": "code",
   "execution_count": 5,
   "metadata": {
    "scrolled": true
   },
   "outputs": [
    {
     "data": {
      "text/html": [
       "<table>\n",
       "<thead><tr><th scope=col>qseqid</th><th scope=col>sseqid</th><th scope=col>pident</th><th scope=col>length</th><th scope=col>mismatch</th><th scope=col>gapopen</th><th scope=col>qstart</th><th scope=col>qend</th><th scope=col>sstart</th><th scope=col>send</th><th scope=col>evalue</th><th scope=col>bitscore</th></tr></thead>\n",
       "<tbody>\n",
       "\t<tr><td>OTU256:Dc-X    </td><td> 6             </td><td>100.00         </td><td>184            </td><td>0              </td><td>0              </td><td> 1             </td><td>184            </td><td>535            </td><td>352            </td><td> 1e-96         </td><td>340.0          </td></tr>\n",
       "\t<tr><td>OTU306:Dc-PosG </td><td> 9             </td><td>100.00         </td><td>176            </td><td>0              </td><td>0              </td><td> 1             </td><td>176            </td><td>504            </td><td>329            </td><td> 3e-92         </td><td>326.0          </td></tr>\n",
       "\t<tr><td>OTU119:Dc-PosG </td><td> 1             </td><td> 99.31         </td><td>144            </td><td>1              </td><td>0              </td><td> 1             </td><td>144            </td><td>434            </td><td>291            </td><td> 7e-73         </td><td>261.0          </td></tr>\n",
       "\t<tr><td>OTU220:Dc-PosG </td><td>22             </td><td>100.00         </td><td>168            </td><td>0              </td><td>0              </td><td> 1             </td><td>168            </td><td>512            </td><td>345            </td><td> 8e-88         </td><td>311.0          </td></tr>\n",
       "\t<tr><td>OTU270:Dc-PosG </td><td>12             </td><td>100.00         </td><td>178            </td><td>0              </td><td>0              </td><td> 1             </td><td>178            </td><td>501            </td><td>324            </td><td> 2e-93         </td><td>329.0          </td></tr>\n",
       "\t<tr><td>OTU191:Dc-PosG </td><td>14             </td><td>100.00         </td><td>197            </td><td>0              </td><td>0              </td><td> 1             </td><td>197            </td><td>566            </td><td>370            </td><td>7e-104         </td><td>364.0          </td></tr>\n",
       "\t<tr><td>OTU164:Dc-PosG </td><td> 8             </td><td>100.00         </td><td>143            </td><td>0              </td><td>0              </td><td> 1             </td><td>143            </td><td>451            </td><td>309            </td><td> 5e-74         </td><td>265.0          </td></tr>\n",
       "\t<tr><td>OTU235:Dc-PosG </td><td>20             </td><td>100.00         </td><td>217            </td><td>0              </td><td>0              </td><td> 1             </td><td>217            </td><td>605            </td><td>389            </td><td>6e-115         </td><td>401.0          </td></tr>\n",
       "\t<tr><td>OTU358:Dc-PosG </td><td>15             </td><td>100.00         </td><td>241            </td><td>0              </td><td>0              </td><td> 1             </td><td>241            </td><td>553            </td><td>313            </td><td>3e-128         </td><td>446.0          </td></tr>\n",
       "\t<tr><td>OTU106:Dc-PosG </td><td>10             </td><td>100.00         </td><td>174            </td><td>0              </td><td>0              </td><td> 1             </td><td>174            </td><td>482            </td><td>309            </td><td> 4e-91         </td><td>322.0          </td></tr>\n",
       "\t<tr><td>OTU3674:Dc-PosG</td><td> 1             </td><td> 95.24         </td><td>126            </td><td>6              </td><td>0              </td><td>19             </td><td>144            </td><td>416            </td><td>291            </td><td> 1e-54         </td><td>200.0          </td></tr>\n",
       "\t<tr><td>OTU386:Dc-PosG </td><td>19             </td><td>100.00         </td><td>175            </td><td>0              </td><td>0              </td><td> 1             </td><td>175            </td><td>513            </td><td>339            </td><td> 1e-91         </td><td>324.0          </td></tr>\n",
       "\t<tr><td>OTU271:Dc-PosG </td><td>24             </td><td>100.00         </td><td>209            </td><td>0              </td><td>0              </td><td> 1             </td><td>209            </td><td>537            </td><td>329            </td><td>2e-110         </td><td>387.0          </td></tr>\n",
       "\t<tr><td>OTU407:Dc-PosG </td><td> 7             </td><td>100.00         </td><td>193            </td><td>0              </td><td>0              </td><td> 1             </td><td>193            </td><td>524            </td><td>332            </td><td>1e-101         </td><td>357.0          </td></tr>\n",
       "\t<tr><td>OTU258:Dc-PosG </td><td>13             </td><td>100.00         </td><td>180            </td><td>0              </td><td>0              </td><td> 1             </td><td>180            </td><td>492            </td><td>313            </td><td> 2e-94         </td><td>333.0          </td></tr>\n",
       "\t<tr><td>OTU264:Dc-PosG </td><td>16             </td><td>100.00         </td><td>180            </td><td>0              </td><td>0              </td><td> 1             </td><td>180            </td><td>502            </td><td>323            </td><td> 2e-94         </td><td>333.0          </td></tr>\n",
       "\t<tr><td>OTU4210:Dc-PosG</td><td> 8             </td><td> 96.00         </td><td>125            </td><td>5              </td><td>0              </td><td>19             </td><td>143            </td><td>433            </td><td>309            </td><td> 1e-55         </td><td>204.0          </td></tr>\n",
       "\t<tr><td>OTU1153:Dc-PosI</td><td>18             </td><td>100.00         </td><td>361            </td><td>0              </td><td>0              </td><td> 1             </td><td>361            </td><td>761            </td><td>401            </td><td> 0e+00         </td><td>667.0          </td></tr>\n",
       "\t<tr><td>OTU526:Dc-PosG </td><td> 5             </td><td>100.00         </td><td>232            </td><td>0              </td><td>0              </td><td> 1             </td><td>232            </td><td>562            </td><td>331            </td><td>3e-123         </td><td>429.0          </td></tr>\n",
       "\t<tr><td>OTU12510:PosG  </td><td> 8             </td><td> 95.62         </td><td>137            </td><td>4              </td><td>2              </td><td> 1             </td><td>135            </td><td>451            </td><td>315            </td><td> 4e-60         </td><td>219.0          </td></tr>\n",
       "\t<tr><td>OTU3723:Dc-PosG</td><td> 1             </td><td> 95.00         </td><td>140            </td><td>5              </td><td>2              </td><td> 1             </td><td>140            </td><td>434            </td><td>297            </td><td> 4e-60         </td><td>219.0          </td></tr>\n",
       "\t<tr><td>OTU4453:Dc-PosG</td><td> 2             </td><td>100.00         </td><td>143            </td><td>0              </td><td>0              </td><td> 1             </td><td>143            </td><td>463            </td><td>321            </td><td> 5e-74         </td><td>265.0          </td></tr>\n",
       "\t<tr><td>OTU608:Dc-PosG </td><td>11             </td><td>100.00         </td><td>174            </td><td>0              </td><td>0              </td><td> 1             </td><td>174            </td><td>487            </td><td>314            </td><td> 4e-91         </td><td>322.0          </td></tr>\n",
       "\t<tr><td>OTU3183:Dc-PosG</td><td> 8             </td><td> 94.89         </td><td>137            </td><td>5              </td><td>2              </td><td> 1             </td><td>135            </td><td>451            </td><td>315            </td><td> 2e-58         </td><td>213.0          </td></tr>\n",
       "\t<tr><td>OTU826:Dc-PosG </td><td> 3             </td><td>100.00         </td><td>157            </td><td>0              </td><td>0              </td><td> 1             </td><td>157            </td><td>555            </td><td>399            </td><td> 9e-82         </td><td>291.0          </td></tr>\n",
       "\t<tr><td>OTU733:Dc-PosG </td><td>23             </td><td>100.00         </td><td>208            </td><td>0              </td><td>0              </td><td> 1             </td><td>208            </td><td>528            </td><td>321            </td><td>6e-110         </td><td>385.0          </td></tr>\n",
       "\t<tr><td>OTU8986:Dc-PosG</td><td>13             </td><td> 99.39         </td><td>163            </td><td>1              </td><td>0              </td><td>15             </td><td>177            </td><td>475            </td><td>313            </td><td> 2e-83         </td><td>296.0          </td></tr>\n",
       "\t<tr><td>OTU8401:Dc-PosG</td><td> 1             </td><td> 99.16         </td><td>119            </td><td>1              </td><td>0              </td><td>19             </td><td>137            </td><td>409            </td><td>291            </td><td> 5e-59         </td><td>215.0          </td></tr>\n",
       "\t<tr><td>OTU560:Dc-PosG </td><td> 4             </td><td>100.00         </td><td>180            </td><td>0              </td><td>0              </td><td> 1             </td><td>180            </td><td>485            </td><td>306            </td><td> 2e-94         </td><td>333.0          </td></tr>\n",
       "\t<tr><td>OTU10988:PosG  </td><td> 8             </td><td>100.00         </td><td>118            </td><td>0              </td><td>0              </td><td>19             </td><td>136            </td><td>426            </td><td>309            </td><td> 4e-60         </td><td>219.0          </td></tr>\n",
       "\t<tr><td>OTU84:38w      </td><td> 9             </td><td>100.00         </td><td> 31            </td><td>0              </td><td>0              </td><td>27             </td><td> 57            </td><td>530            </td><td>500            </td><td> 1e-11         </td><td> 58.4          </td></tr>\n",
       "\t<tr><td>OTU12503:PosG  </td><td>16             </td><td> 95.43         </td><td>175            </td><td>2              </td><td>4              </td><td> 8             </td><td>181            </td><td>492            </td><td>323            </td><td> 1e-76         </td><td>274.0          </td></tr>\n",
       "</tbody>\n",
       "</table>\n"
      ],
      "text/latex": [
       "\\begin{tabular}{r|llllllllllll}\n",
       " qseqid & sseqid & pident & length & mismatch & gapopen & qstart & qend & sstart & send & evalue & bitscore\\\\\n",
       "\\hline\n",
       "\t OTU256:Dc-X     &  6              & 100.00          & 184             & 0               & 0               &  1              & 184             & 535             & 352             &  1e-96          & 340.0          \\\\\n",
       "\t OTU306:Dc-PosG  &  9              & 100.00          & 176             & 0               & 0               &  1              & 176             & 504             & 329             &  3e-92          & 326.0          \\\\\n",
       "\t OTU119:Dc-PosG  &  1              &  99.31          & 144             & 1               & 0               &  1              & 144             & 434             & 291             &  7e-73          & 261.0          \\\\\n",
       "\t OTU220:Dc-PosG  & 22              & 100.00          & 168             & 0               & 0               &  1              & 168             & 512             & 345             &  8e-88          & 311.0          \\\\\n",
       "\t OTU270:Dc-PosG  & 12              & 100.00          & 178             & 0               & 0               &  1              & 178             & 501             & 324             &  2e-93          & 329.0          \\\\\n",
       "\t OTU191:Dc-PosG  & 14              & 100.00          & 197             & 0               & 0               &  1              & 197             & 566             & 370             & 7e-104          & 364.0          \\\\\n",
       "\t OTU164:Dc-PosG  &  8              & 100.00          & 143             & 0               & 0               &  1              & 143             & 451             & 309             &  5e-74          & 265.0          \\\\\n",
       "\t OTU235:Dc-PosG  & 20              & 100.00          & 217             & 0               & 0               &  1              & 217             & 605             & 389             & 6e-115          & 401.0          \\\\\n",
       "\t OTU358:Dc-PosG  & 15              & 100.00          & 241             & 0               & 0               &  1              & 241             & 553             & 313             & 3e-128          & 446.0          \\\\\n",
       "\t OTU106:Dc-PosG  & 10              & 100.00          & 174             & 0               & 0               &  1              & 174             & 482             & 309             &  4e-91          & 322.0          \\\\\n",
       "\t OTU3674:Dc-PosG &  1              &  95.24          & 126             & 6               & 0               & 19              & 144             & 416             & 291             &  1e-54          & 200.0          \\\\\n",
       "\t OTU386:Dc-PosG  & 19              & 100.00          & 175             & 0               & 0               &  1              & 175             & 513             & 339             &  1e-91          & 324.0          \\\\\n",
       "\t OTU271:Dc-PosG  & 24              & 100.00          & 209             & 0               & 0               &  1              & 209             & 537             & 329             & 2e-110          & 387.0          \\\\\n",
       "\t OTU407:Dc-PosG  &  7              & 100.00          & 193             & 0               & 0               &  1              & 193             & 524             & 332             & 1e-101          & 357.0          \\\\\n",
       "\t OTU258:Dc-PosG  & 13              & 100.00          & 180             & 0               & 0               &  1              & 180             & 492             & 313             &  2e-94          & 333.0          \\\\\n",
       "\t OTU264:Dc-PosG  & 16              & 100.00          & 180             & 0               & 0               &  1              & 180             & 502             & 323             &  2e-94          & 333.0          \\\\\n",
       "\t OTU4210:Dc-PosG &  8              &  96.00          & 125             & 5               & 0               & 19              & 143             & 433             & 309             &  1e-55          & 204.0          \\\\\n",
       "\t OTU1153:Dc-PosI & 18              & 100.00          & 361             & 0               & 0               &  1              & 361             & 761             & 401             &  0e+00          & 667.0          \\\\\n",
       "\t OTU526:Dc-PosG  &  5              & 100.00          & 232             & 0               & 0               &  1              & 232             & 562             & 331             & 3e-123          & 429.0          \\\\\n",
       "\t OTU12510:PosG   &  8              &  95.62          & 137             & 4               & 2               &  1              & 135             & 451             & 315             &  4e-60          & 219.0          \\\\\n",
       "\t OTU3723:Dc-PosG &  1              &  95.00          & 140             & 5               & 2               &  1              & 140             & 434             & 297             &  4e-60          & 219.0          \\\\\n",
       "\t OTU4453:Dc-PosG &  2              & 100.00          & 143             & 0               & 0               &  1              & 143             & 463             & 321             &  5e-74          & 265.0          \\\\\n",
       "\t OTU608:Dc-PosG  & 11              & 100.00          & 174             & 0               & 0               &  1              & 174             & 487             & 314             &  4e-91          & 322.0          \\\\\n",
       "\t OTU3183:Dc-PosG &  8              &  94.89          & 137             & 5               & 2               &  1              & 135             & 451             & 315             &  2e-58          & 213.0          \\\\\n",
       "\t OTU826:Dc-PosG  &  3              & 100.00          & 157             & 0               & 0               &  1              & 157             & 555             & 399             &  9e-82          & 291.0          \\\\\n",
       "\t OTU733:Dc-PosG  & 23              & 100.00          & 208             & 0               & 0               &  1              & 208             & 528             & 321             & 6e-110          & 385.0          \\\\\n",
       "\t OTU8986:Dc-PosG & 13              &  99.39          & 163             & 1               & 0               & 15              & 177             & 475             & 313             &  2e-83          & 296.0          \\\\\n",
       "\t OTU8401:Dc-PosG &  1              &  99.16          & 119             & 1               & 0               & 19              & 137             & 409             & 291             &  5e-59          & 215.0          \\\\\n",
       "\t OTU560:Dc-PosG  &  4              & 100.00          & 180             & 0               & 0               &  1              & 180             & 485             & 306             &  2e-94          & 333.0          \\\\\n",
       "\t OTU10988:PosG   &  8              & 100.00          & 118             & 0               & 0               & 19              & 136             & 426             & 309             &  4e-60          & 219.0          \\\\\n",
       "\t OTU84:38w       &  9              & 100.00          &  31             & 0               & 0               & 27              &  57             & 530             & 500             &  1e-11          &  58.4          \\\\\n",
       "\t OTU12503:PosG   & 16              &  95.43          & 175             & 2               & 4               &  8              & 181             & 492             & 323             &  1e-76          & 274.0          \\\\\n",
       "\\end{tabular}\n"
      ],
      "text/markdown": [
       "\n",
       "qseqid | sseqid | pident | length | mismatch | gapopen | qstart | qend | sstart | send | evalue | bitscore | \n",
       "|---|---|---|---|---|---|---|---|---|---|---|---|---|---|---|---|---|---|---|---|---|---|---|---|---|---|---|---|---|---|---|---|\n",
       "| OTU256:Dc-X     |  6              | 100.00          | 184             | 0               | 0               |  1              | 184             | 535             | 352             |  1e-96          | 340.0           | \n",
       "| OTU306:Dc-PosG  |  9              | 100.00          | 176             | 0               | 0               |  1              | 176             | 504             | 329             |  3e-92          | 326.0           | \n",
       "| OTU119:Dc-PosG  |  1              |  99.31          | 144             | 1               | 0               |  1              | 144             | 434             | 291             |  7e-73          | 261.0           | \n",
       "| OTU220:Dc-PosG  | 22              | 100.00          | 168             | 0               | 0               |  1              | 168             | 512             | 345             |  8e-88          | 311.0           | \n",
       "| OTU270:Dc-PosG  | 12              | 100.00          | 178             | 0               | 0               |  1              | 178             | 501             | 324             |  2e-93          | 329.0           | \n",
       "| OTU191:Dc-PosG  | 14              | 100.00          | 197             | 0               | 0               |  1              | 197             | 566             | 370             | 7e-104          | 364.0           | \n",
       "| OTU164:Dc-PosG  |  8              | 100.00          | 143             | 0               | 0               |  1              | 143             | 451             | 309             |  5e-74          | 265.0           | \n",
       "| OTU235:Dc-PosG  | 20              | 100.00          | 217             | 0               | 0               |  1              | 217             | 605             | 389             | 6e-115          | 401.0           | \n",
       "| OTU358:Dc-PosG  | 15              | 100.00          | 241             | 0               | 0               |  1              | 241             | 553             | 313             | 3e-128          | 446.0           | \n",
       "| OTU106:Dc-PosG  | 10              | 100.00          | 174             | 0               | 0               |  1              | 174             | 482             | 309             |  4e-91          | 322.0           | \n",
       "| OTU3674:Dc-PosG |  1              |  95.24          | 126             | 6               | 0               | 19              | 144             | 416             | 291             |  1e-54          | 200.0           | \n",
       "| OTU386:Dc-PosG  | 19              | 100.00          | 175             | 0               | 0               |  1              | 175             | 513             | 339             |  1e-91          | 324.0           | \n",
       "| OTU271:Dc-PosG  | 24              | 100.00          | 209             | 0               | 0               |  1              | 209             | 537             | 329             | 2e-110          | 387.0           | \n",
       "| OTU407:Dc-PosG  |  7              | 100.00          | 193             | 0               | 0               |  1              | 193             | 524             | 332             | 1e-101          | 357.0           | \n",
       "| OTU258:Dc-PosG  | 13              | 100.00          | 180             | 0               | 0               |  1              | 180             | 492             | 313             |  2e-94          | 333.0           | \n",
       "| OTU264:Dc-PosG  | 16              | 100.00          | 180             | 0               | 0               |  1              | 180             | 502             | 323             |  2e-94          | 333.0           | \n",
       "| OTU4210:Dc-PosG |  8              |  96.00          | 125             | 5               | 0               | 19              | 143             | 433             | 309             |  1e-55          | 204.0           | \n",
       "| OTU1153:Dc-PosI | 18              | 100.00          | 361             | 0               | 0               |  1              | 361             | 761             | 401             |  0e+00          | 667.0           | \n",
       "| OTU526:Dc-PosG  |  5              | 100.00          | 232             | 0               | 0               |  1              | 232             | 562             | 331             | 3e-123          | 429.0           | \n",
       "| OTU12510:PosG   |  8              |  95.62          | 137             | 4               | 2               |  1              | 135             | 451             | 315             |  4e-60          | 219.0           | \n",
       "| OTU3723:Dc-PosG |  1              |  95.00          | 140             | 5               | 2               |  1              | 140             | 434             | 297             |  4e-60          | 219.0           | \n",
       "| OTU4453:Dc-PosG |  2              | 100.00          | 143             | 0               | 0               |  1              | 143             | 463             | 321             |  5e-74          | 265.0           | \n",
       "| OTU608:Dc-PosG  | 11              | 100.00          | 174             | 0               | 0               |  1              | 174             | 487             | 314             |  4e-91          | 322.0           | \n",
       "| OTU3183:Dc-PosG |  8              |  94.89          | 137             | 5               | 2               |  1              | 135             | 451             | 315             |  2e-58          | 213.0           | \n",
       "| OTU826:Dc-PosG  |  3              | 100.00          | 157             | 0               | 0               |  1              | 157             | 555             | 399             |  9e-82          | 291.0           | \n",
       "| OTU733:Dc-PosG  | 23              | 100.00          | 208             | 0               | 0               |  1              | 208             | 528             | 321             | 6e-110          | 385.0           | \n",
       "| OTU8986:Dc-PosG | 13              |  99.39          | 163             | 1               | 0               | 15              | 177             | 475             | 313             |  2e-83          | 296.0           | \n",
       "| OTU8401:Dc-PosG |  1              |  99.16          | 119             | 1               | 0               | 19              | 137             | 409             | 291             |  5e-59          | 215.0           | \n",
       "| OTU560:Dc-PosG  |  4              | 100.00          | 180             | 0               | 0               |  1              | 180             | 485             | 306             |  2e-94          | 333.0           | \n",
       "| OTU10988:PosG   |  8              | 100.00          | 118             | 0               | 0               | 19              | 136             | 426             | 309             |  4e-60          | 219.0           | \n",
       "| OTU84:38w       |  9              | 100.00          |  31             | 0               | 0               | 27              |  57             | 530             | 500             |  1e-11          |  58.4           | \n",
       "| OTU12503:PosG   | 16              |  95.43          | 175             | 2               | 4               |  8              | 181             | 492             | 323             |  1e-76          | 274.0           | \n",
       "\n",
       "\n"
      ],
      "text/plain": [
       "   qseqid          sseqid pident length mismatch gapopen qstart qend sstart\n",
       "1  OTU256:Dc-X      6     100.00 184    0        0        1     184  535   \n",
       "2  OTU306:Dc-PosG   9     100.00 176    0        0        1     176  504   \n",
       "3  OTU119:Dc-PosG   1      99.31 144    1        0        1     144  434   \n",
       "4  OTU220:Dc-PosG  22     100.00 168    0        0        1     168  512   \n",
       "5  OTU270:Dc-PosG  12     100.00 178    0        0        1     178  501   \n",
       "6  OTU191:Dc-PosG  14     100.00 197    0        0        1     197  566   \n",
       "7  OTU164:Dc-PosG   8     100.00 143    0        0        1     143  451   \n",
       "8  OTU235:Dc-PosG  20     100.00 217    0        0        1     217  605   \n",
       "9  OTU358:Dc-PosG  15     100.00 241    0        0        1     241  553   \n",
       "10 OTU106:Dc-PosG  10     100.00 174    0        0        1     174  482   \n",
       "11 OTU3674:Dc-PosG  1      95.24 126    6        0       19     144  416   \n",
       "12 OTU386:Dc-PosG  19     100.00 175    0        0        1     175  513   \n",
       "13 OTU271:Dc-PosG  24     100.00 209    0        0        1     209  537   \n",
       "14 OTU407:Dc-PosG   7     100.00 193    0        0        1     193  524   \n",
       "15 OTU258:Dc-PosG  13     100.00 180    0        0        1     180  492   \n",
       "16 OTU264:Dc-PosG  16     100.00 180    0        0        1     180  502   \n",
       "17 OTU4210:Dc-PosG  8      96.00 125    5        0       19     143  433   \n",
       "18 OTU1153:Dc-PosI 18     100.00 361    0        0        1     361  761   \n",
       "19 OTU526:Dc-PosG   5     100.00 232    0        0        1     232  562   \n",
       "20 OTU12510:PosG    8      95.62 137    4        2        1     135  451   \n",
       "21 OTU3723:Dc-PosG  1      95.00 140    5        2        1     140  434   \n",
       "22 OTU4453:Dc-PosG  2     100.00 143    0        0        1     143  463   \n",
       "23 OTU608:Dc-PosG  11     100.00 174    0        0        1     174  487   \n",
       "24 OTU3183:Dc-PosG  8      94.89 137    5        2        1     135  451   \n",
       "25 OTU826:Dc-PosG   3     100.00 157    0        0        1     157  555   \n",
       "26 OTU733:Dc-PosG  23     100.00 208    0        0        1     208  528   \n",
       "27 OTU8986:Dc-PosG 13      99.39 163    1        0       15     177  475   \n",
       "28 OTU8401:Dc-PosG  1      99.16 119    1        0       19     137  409   \n",
       "29 OTU560:Dc-PosG   4     100.00 180    0        0        1     180  485   \n",
       "30 OTU10988:PosG    8     100.00 118    0        0       19     136  426   \n",
       "31 OTU84:38w        9     100.00  31    0        0       27      57  530   \n",
       "32 OTU12503:PosG   16      95.43 175    2        4        8     181  492   \n",
       "   send evalue bitscore\n",
       "1  352   1e-96 340.0   \n",
       "2  329   3e-92 326.0   \n",
       "3  291   7e-73 261.0   \n",
       "4  345   8e-88 311.0   \n",
       "5  324   2e-93 329.0   \n",
       "6  370  7e-104 364.0   \n",
       "7  309   5e-74 265.0   \n",
       "8  389  6e-115 401.0   \n",
       "9  313  3e-128 446.0   \n",
       "10 309   4e-91 322.0   \n",
       "11 291   1e-54 200.0   \n",
       "12 339   1e-91 324.0   \n",
       "13 329  2e-110 387.0   \n",
       "14 332  1e-101 357.0   \n",
       "15 313   2e-94 333.0   \n",
       "16 323   2e-94 333.0   \n",
       "17 309   1e-55 204.0   \n",
       "18 401   0e+00 667.0   \n",
       "19 331  3e-123 429.0   \n",
       "20 315   4e-60 219.0   \n",
       "21 297   4e-60 219.0   \n",
       "22 321   5e-74 265.0   \n",
       "23 314   4e-91 322.0   \n",
       "24 315   2e-58 213.0   \n",
       "25 399   9e-82 291.0   \n",
       "26 321  6e-110 385.0   \n",
       "27 313   2e-83 296.0   \n",
       "28 291   5e-59 215.0   \n",
       "29 306   2e-94 333.0   \n",
       "30 309   4e-60 219.0   \n",
       "31 500   1e-11  58.4   \n",
       "32 323   1e-76 274.0   "
      ]
     },
     "metadata": {},
     "output_type": "display_data"
    }
   ],
   "source": [
    "blast <- read.csv(\"mcblast_Dangen95.csv\", stringsAsFactors=FALSE)\n",
    "blast"
   ]
  },
  {
   "cell_type": "markdown",
   "metadata": {},
   "source": [
    "Let's get rid of the short match, this is probably just a bit of the ssu or 5.8s."
   ]
  },
  {
   "cell_type": "code",
   "execution_count": 6,
   "metadata": {},
   "outputs": [],
   "source": [
    "goodblast <- blast[blast$length > 100,]"
   ]
  },
  {
   "cell_type": "markdown",
   "metadata": {},
   "source": [
    "The sseqid column values are equivalent to numbers that we gave each DNA sample from our individual pure cultures. They go from MC1 to MC24, with sample MC21 skipped. "
   ]
  },
  {
   "cell_type": "code",
   "execution_count": 7,
   "metadata": {
    "scrolled": false
   },
   "outputs": [
    {
     "data": {
      "text/html": [
       "<ol class=list-inline>\n",
       "\t<li>TRUE</li>\n",
       "\t<li>TRUE</li>\n",
       "\t<li>TRUE</li>\n",
       "\t<li>TRUE</li>\n",
       "\t<li>TRUE</li>\n",
       "\t<li>TRUE</li>\n",
       "\t<li>TRUE</li>\n",
       "\t<li>TRUE</li>\n",
       "\t<li>TRUE</li>\n",
       "\t<li>TRUE</li>\n",
       "\t<li>TRUE</li>\n",
       "\t<li>TRUE</li>\n",
       "\t<li>TRUE</li>\n",
       "\t<li>TRUE</li>\n",
       "\t<li>TRUE</li>\n",
       "\t<li>TRUE</li>\n",
       "\t<li>FALSE</li>\n",
       "\t<li>TRUE</li>\n",
       "\t<li>TRUE</li>\n",
       "\t<li>TRUE</li>\n",
       "\t<li>FALSE</li>\n",
       "\t<li>TRUE</li>\n",
       "\t<li>TRUE</li>\n",
       "\t<li>TRUE</li>\n",
       "</ol>\n"
      ],
      "text/latex": [
       "\\begin{enumerate*}\n",
       "\\item TRUE\n",
       "\\item TRUE\n",
       "\\item TRUE\n",
       "\\item TRUE\n",
       "\\item TRUE\n",
       "\\item TRUE\n",
       "\\item TRUE\n",
       "\\item TRUE\n",
       "\\item TRUE\n",
       "\\item TRUE\n",
       "\\item TRUE\n",
       "\\item TRUE\n",
       "\\item TRUE\n",
       "\\item TRUE\n",
       "\\item TRUE\n",
       "\\item TRUE\n",
       "\\item FALSE\n",
       "\\item TRUE\n",
       "\\item TRUE\n",
       "\\item TRUE\n",
       "\\item FALSE\n",
       "\\item TRUE\n",
       "\\item TRUE\n",
       "\\item TRUE\n",
       "\\end{enumerate*}\n"
      ],
      "text/markdown": [
       "1. TRUE\n",
       "2. TRUE\n",
       "3. TRUE\n",
       "4. TRUE\n",
       "5. TRUE\n",
       "6. TRUE\n",
       "7. TRUE\n",
       "8. TRUE\n",
       "9. TRUE\n",
       "10. TRUE\n",
       "11. TRUE\n",
       "12. TRUE\n",
       "13. TRUE\n",
       "14. TRUE\n",
       "15. TRUE\n",
       "16. TRUE\n",
       "17. FALSE\n",
       "18. TRUE\n",
       "19. TRUE\n",
       "20. TRUE\n",
       "21. FALSE\n",
       "22. TRUE\n",
       "23. TRUE\n",
       "24. TRUE\n",
       "\n",
       "\n"
      ],
      "text/plain": [
       " [1]  TRUE  TRUE  TRUE  TRUE  TRUE  TRUE  TRUE  TRUE  TRUE  TRUE  TRUE  TRUE\n",
       "[13]  TRUE  TRUE  TRUE  TRUE FALSE  TRUE  TRUE  TRUE FALSE  TRUE  TRUE  TRUE"
      ]
     },
     "metadata": {},
     "output_type": "display_data"
    }
   ],
   "source": [
    "1:24 %in% goodblast$sseqid"
   ]
  },
  {
   "cell_type": "code",
   "execution_count": 8,
   "metadata": {
    "scrolled": false
   },
   "outputs": [
    {
     "data": {
      "text/html": [
       "<ol class=list-inline>\n",
       "\t<li>1</li>\n",
       "\t<li>2</li>\n",
       "\t<li>3</li>\n",
       "\t<li>4</li>\n",
       "\t<li>5</li>\n",
       "\t<li>6</li>\n",
       "\t<li>7</li>\n",
       "\t<li>8</li>\n",
       "\t<li>9</li>\n",
       "\t<li>10</li>\n",
       "\t<li>11</li>\n",
       "\t<li>12</li>\n",
       "\t<li>13</li>\n",
       "\t<li>14</li>\n",
       "\t<li>15</li>\n",
       "\t<li>16</li>\n",
       "\t<li>18</li>\n",
       "\t<li>19</li>\n",
       "\t<li>20</li>\n",
       "\t<li>22</li>\n",
       "\t<li>23</li>\n",
       "\t<li>24</li>\n",
       "</ol>\n"
      ],
      "text/latex": [
       "\\begin{enumerate*}\n",
       "\\item 1\n",
       "\\item 2\n",
       "\\item 3\n",
       "\\item 4\n",
       "\\item 5\n",
       "\\item 6\n",
       "\\item 7\n",
       "\\item 8\n",
       "\\item 9\n",
       "\\item 10\n",
       "\\item 11\n",
       "\\item 12\n",
       "\\item 13\n",
       "\\item 14\n",
       "\\item 15\n",
       "\\item 16\n",
       "\\item 18\n",
       "\\item 19\n",
       "\\item 20\n",
       "\\item 22\n",
       "\\item 23\n",
       "\\item 24\n",
       "\\end{enumerate*}\n"
      ],
      "text/markdown": [
       "1. 1\n",
       "2. 2\n",
       "3. 3\n",
       "4. 4\n",
       "5. 5\n",
       "6. 6\n",
       "7. 7\n",
       "8. 8\n",
       "9. 9\n",
       "10. 10\n",
       "11. 11\n",
       "12. 12\n",
       "13. 13\n",
       "14. 14\n",
       "15. 15\n",
       "16. 16\n",
       "17. 18\n",
       "18. 19\n",
       "19. 20\n",
       "20. 22\n",
       "21. 23\n",
       "22. 24\n",
       "\n",
       "\n"
      ],
      "text/plain": [
       " [1]  1  2  3  4  5  6  7  8  9 10 11 12 13 14 15 16 18 19 20 22 23 24"
      ]
     },
     "metadata": {},
     "output_type": "display_data"
    },
    {
     "data": {
      "text/html": [
       "22"
      ],
      "text/latex": [
       "22"
      ],
      "text/markdown": [
       "22"
      ],
      "text/plain": [
       "[1] 22"
      ]
     },
     "metadata": {},
     "output_type": "display_data"
    }
   ],
   "source": [
    "sort(unique(goodblast$sseqid)); length(unique(goodblast$sseqid))"
   ]
  },
  {
   "cell_type": "markdown",
   "metadata": {},
   "source": [
    "As per last time, we are missing MC17, which corresponds to *Schizosaccaromyces pombe*."
   ]
  },
  {
   "cell_type": "markdown",
   "metadata": {},
   "source": [
    "Put together some info for a plot/dataframe"
   ]
  },
  {
   "cell_type": "code",
   "execution_count": 11,
   "metadata": {
    "scrolled": true
   },
   "outputs": [],
   "source": [
    "member <- names(dangen95) %in% goodblast$qseqid\n",
    "MC <- vector(length = length(dangen95))\n",
    "dangen95bar <- data.frame(cbind(dangen95, member, MC))\n",
    "for (i in 1:nrow(dangen95bar)){\n",
    "        if (rownames(dangen95bar)[i] %in% goodblast$qseqid) {\n",
    "                search <- grep(rownames(dangen95bar)[i], goodblast$qseqid)\n",
    "                dangen95bar$MC[i] <- goodblast$sseqid[search]\n",
    "        }\n",
    "    }"
   ]
  },
  {
   "cell_type": "code",
   "execution_count": 12,
   "metadata": {
    "scrolled": true
   },
   "outputs": [
    {
     "data": {
      "text/html": [
       "<table>\n",
       "<thead><tr><th></th><th scope=col>dangen95</th><th scope=col>member</th><th scope=col>MC</th></tr></thead>\n",
       "<tbody>\n",
       "\t<tr><th scope=row>OTU106:Dc-PosG</th><td>11662</td><td>1    </td><td>10   </td></tr>\n",
       "\t<tr><th scope=row>OTU119:Dc-PosG</th><td> 9537</td><td>1    </td><td> 1   </td></tr>\n",
       "\t<tr><th scope=row>OTU164:Dc-PosG</th><td> 7742</td><td>1    </td><td> 8   </td></tr>\n",
       "\t<tr><th scope=row>OTU191:Dc-PosG</th><td> 5581</td><td>1    </td><td>14   </td></tr>\n",
       "\t<tr><th scope=row>OTU220:Dc-PosG</th><td> 4737</td><td>1    </td><td>22   </td></tr>\n",
       "\t<tr><th scope=row>OTU235:Dc-PosG</th><td> 4521</td><td>1    </td><td>20   </td></tr>\n",
       "</tbody>\n",
       "</table>\n"
      ],
      "text/latex": [
       "\\begin{tabular}{r|lll}\n",
       "  & dangen95 & member & MC\\\\\n",
       "\\hline\n",
       "\tOTU106:Dc-PosG & 11662 & 1     & 10   \\\\\n",
       "\tOTU119:Dc-PosG &  9537 & 1     &  1   \\\\\n",
       "\tOTU164:Dc-PosG &  7742 & 1     &  8   \\\\\n",
       "\tOTU191:Dc-PosG &  5581 & 1     & 14   \\\\\n",
       "\tOTU220:Dc-PosG &  4737 & 1     & 22   \\\\\n",
       "\tOTU235:Dc-PosG &  4521 & 1     & 20   \\\\\n",
       "\\end{tabular}\n"
      ],
      "text/markdown": [
       "\n",
       "| <!--/--> | dangen95 | member | MC | \n",
       "|---|---|---|---|---|---|\n",
       "| OTU106:Dc-PosG | 11662 | 1     | 10    | \n",
       "| OTU119:Dc-PosG |  9537 | 1     |  1    | \n",
       "| OTU164:Dc-PosG |  7742 | 1     |  8    | \n",
       "| OTU191:Dc-PosG |  5581 | 1     | 14    | \n",
       "| OTU220:Dc-PosG |  4737 | 1     | 22    | \n",
       "| OTU235:Dc-PosG |  4521 | 1     | 20    | \n",
       "\n",
       "\n"
      ],
      "text/plain": [
       "               dangen95 member MC\n",
       "OTU106:Dc-PosG 11662    1      10\n",
       "OTU119:Dc-PosG  9537    1       1\n",
       "OTU164:Dc-PosG  7742    1       8\n",
       "OTU191:Dc-PosG  5581    1      14\n",
       "OTU220:Dc-PosG  4737    1      22\n",
       "OTU235:Dc-PosG  4521    1      20"
      ]
     },
     "metadata": {},
     "output_type": "display_data"
    }
   ],
   "source": [
    "head(dangen95bar)"
   ]
  },
  {
   "cell_type": "code",
   "execution_count": 13,
   "metadata": {
    "scrolled": true
   },
   "outputs": [
    {
     "data": {
      "image/png": "[encoded data removed]",
      "text/plain": [
       "Plot with title “Dan Genomic Positive Control\n",
       "95% similarity radius OTU's”"
      ]
     },
     "metadata": {},
     "output_type": "display_data"
    }
   ],
   "source": [
    "options(repr.plot.width = 10, repr.plot.height = 5)\n",
    "barplot(dangen95bar$dangen95, names.arg=NULL, col = dangen95bar$member,\n",
    "        log=\"y\", main=\"Dan Genomic Positive Control\\n95% similarity radius OTU's\",\n",
    "        xlab='OTUs present in illumina positive control sample')\n",
    "        legend(\"top\", legend=c('member','non-member'), fill=c(1,0))"
   ]
  },
  {
   "cell_type": "markdown",
   "metadata": {},
   "source": [
    "Log transformed. OTUs with no match to our sanger sequences are colored white. Notice that most of the rare OTUs are not members of our original mock community. They are presumably contaminants or the results of tag-switching.\n",
    "\n",
    "How many of these MCs have been split?"
   ]
  },
  {
   "cell_type": "code",
   "execution_count": 14,
   "metadata": {},
   "outputs": [
    {
     "data": {
      "text/plain": [
       "\n",
       " 1  2  3  4  5  6  7  8  9 10 11 12 13 14 15 16 18 19 20 22 23 24 \n",
       " 4  1  1  1  1  1  1  5  1  1  1  1  2  1  1  2  1  1  1  1  1  1 "
      ]
     },
     "metadata": {},
     "output_type": "display_data"
    }
   ],
   "source": [
    "dtab <- table(dangen95bar$MC)\n",
    "dtab <- dtab[-1] #exclude non-members\n",
    "dtab"
   ]
  },
  {
   "cell_type": "markdown",
   "metadata": {},
   "source": [
    "This table shows us that MC1,8,13,16 were split up by our bioinformatics. Let's visualize this, and compare to our other radius. For the plotter, get a matrix, each column representing our sanger-sequence sample numbers, and each row our otus in the illumina sample that matched to these sanger-sequences (MC#'s). "
   ]
  },
  {
   "cell_type": "code",
   "execution_count": 15,
   "metadata": {},
   "outputs": [],
   "source": [
    "stackmat <- matrix(nrow=max(dtab), ncol=24)\n",
    "stackmat[] <- 0\n",
    "stackmatnames <- paste(\"MC\", 1:24, sep='')\n",
    "colnames(stackmat) <- stackmatnames\n",
    "\n",
    "for (i in 1:24){\n",
    "        bb <- dangen95bar[dangen95bar$MC == i,, drop=FALSE]\n",
    "        for (j in 1:nrow(bb)){stackmat[j,i] <- bb$dangen95[j]}\n",
    "    }"
   ]
  },
  {
   "cell_type": "code",
   "execution_count": 16,
   "metadata": {},
   "outputs": [
    {
     "data": {
      "text/html": [
       "<table>\n",
       "<thead><tr><th scope=col>MC10</th><th scope=col>MC1</th><th scope=col>MC8</th><th scope=col>MC14</th><th scope=col>MC22</th><th scope=col>MC20</th><th scope=col>MC13</th><th scope=col>MC24</th><th scope=col>MC12</th><th scope=col>MC15</th><th scope=col>⋯</th><th scope=col>MC5</th><th scope=col>MC7</th><th scope=col>MC6</th><th scope=col>MC11</th><th scope=col>MC3</th><th scope=col>MC2</th><th scope=col>MC23</th><th scope=col>MC4</th><th scope=col>MC18</th><th scope=col>MC17</th></tr></thead>\n",
       "<tbody>\n",
       "\t<tr><td>11662</td><td>9537 </td><td>7742 </td><td>5581 </td><td>4737 </td><td>4521 </td><td>3593 </td><td>3484 </td><td>3090 </td><td>2800 </td><td>⋯    </td><td>397  </td><td>112  </td><td>75   </td><td>69   </td><td>54   </td><td>30   </td><td>23   </td><td>4    </td><td>4    </td><td>NA   </td></tr>\n",
       "\t<tr><td>    0</td><td>  39 </td><td>  40 </td><td>   0 </td><td>   0 </td><td>   0 </td><td>   1 </td><td>   0 </td><td>   0 </td><td>   0 </td><td>⋯    </td><td>  0  </td><td>  0  </td><td> 0   </td><td> 0   </td><td> 0   </td><td> 0   </td><td> 0   </td><td>0    </td><td>0    </td><td> 0   </td></tr>\n",
       "\t<tr><td>    0</td><td>  34 </td><td>  34 </td><td>   0 </td><td>   0 </td><td>   0 </td><td>   0 </td><td>   0 </td><td>   0 </td><td>   0 </td><td>⋯    </td><td>  0  </td><td>  0  </td><td> 0   </td><td> 0   </td><td> 0   </td><td> 0   </td><td> 0   </td><td>0    </td><td>0    </td><td> 0   </td></tr>\n",
       "\t<tr><td>    0</td><td>   1 </td><td>  28 </td><td>   0 </td><td>   0 </td><td>   0 </td><td>   0 </td><td>   0 </td><td>   0 </td><td>   0 </td><td>⋯    </td><td>  0  </td><td>  0  </td><td> 0   </td><td> 0   </td><td> 0   </td><td> 0   </td><td> 0   </td><td>0    </td><td>0    </td><td> 0   </td></tr>\n",
       "\t<tr><td>    0</td><td>   0 </td><td>   2 </td><td>   0 </td><td>   0 </td><td>   0 </td><td>   0 </td><td>   0 </td><td>   0 </td><td>   0 </td><td>⋯    </td><td>  0  </td><td>  0  </td><td> 0   </td><td> 0   </td><td> 0   </td><td> 0   </td><td> 0   </td><td>0    </td><td>0    </td><td> 0   </td></tr>\n",
       "</tbody>\n",
       "</table>\n"
      ],
      "text/latex": [
       "\\begin{tabular}{lllllllllllllllllllllll}\n",
       " MC10 & MC1 & MC8 & MC14 & MC22 & MC20 & MC13 & MC24 & MC12 & MC15 & ⋯ & MC5 & MC7 & MC6 & MC11 & MC3 & MC2 & MC23 & MC4 & MC18 & MC17\\\\\n",
       "\\hline\n",
       "\t 11662 & 9537  & 7742  & 5581  & 4737  & 4521  & 3593  & 3484  & 3090  & 2800  & ⋯     & 397   & 112   & 75    & 69    & 54    & 30    & 23    & 4     & 4     & NA   \\\\\n",
       "\t     0 &   39  &   40  &    0  &    0  &    0  &    1  &    0  &    0  &    0  & ⋯     &   0   &   0   &  0    &  0    &  0    &  0    &  0    & 0     & 0     &  0   \\\\\n",
       "\t     0 &   34  &   34  &    0  &    0  &    0  &    0  &    0  &    0  &    0  & ⋯     &   0   &   0   &  0    &  0    &  0    &  0    &  0    & 0     & 0     &  0   \\\\\n",
       "\t     0 &    1  &   28  &    0  &    0  &    0  &    0  &    0  &    0  &    0  & ⋯     &   0   &   0   &  0    &  0    &  0    &  0    &  0    & 0     & 0     &  0   \\\\\n",
       "\t     0 &    0  &    2  &    0  &    0  &    0  &    0  &    0  &    0  &    0  & ⋯     &   0   &   0   &  0    &  0    &  0    &  0    &  0    & 0     & 0     &  0   \\\\\n",
       "\\end{tabular}\n"
      ],
      "text/markdown": [
       "\n",
       "MC10 | MC1 | MC8 | MC14 | MC22 | MC20 | MC13 | MC24 | MC12 | MC15 | ⋯ | MC5 | MC7 | MC6 | MC11 | MC3 | MC2 | MC23 | MC4 | MC18 | MC17 | \n",
       "|---|---|---|---|---|\n",
       "| 11662 | 9537  | 7742  | 5581  | 4737  | 4521  | 3593  | 3484  | 3090  | 2800  | ⋯     | 397   | 112   | 75    | 69    | 54    | 30    | 23    | 4     | 4     | NA    | \n",
       "|     0 |   39  |   40  |    0  |    0  |    0  |    1  |    0  |    0  |    0  | ⋯     |   0   |   0   |  0    |  0    |  0    |  0    |  0    | 0     | 0     |  0    | \n",
       "|     0 |   34  |   34  |    0  |    0  |    0  |    0  |    0  |    0  |    0  | ⋯     |   0   |   0   |  0    |  0    |  0    |  0    |  0    | 0     | 0     |  0    | \n",
       "|     0 |    1  |   28  |    0  |    0  |    0  |    0  |    0  |    0  |    0  | ⋯     |   0   |   0   |  0    |  0    |  0    |  0    |  0    | 0     | 0     |  0    | \n",
       "|     0 |    0  |    2  |    0  |    0  |    0  |    0  |    0  |    0  |    0  | ⋯     |   0   |   0   |  0    |  0    |  0    |  0    |  0    | 0     | 0     |  0    | \n",
       "\n",
       "\n"
      ],
      "text/plain": [
       "     MC10  MC1  MC8  MC14 MC22 MC20 MC13 MC24 MC12 MC15 ⋯ MC5 MC7 MC6 MC11 MC3\n",
       "[1,] 11662 9537 7742 5581 4737 4521 3593 3484 3090 2800 ⋯ 397 112 75  69   54 \n",
       "[2,]     0   39   40    0    0    0    1    0    0    0 ⋯   0   0  0   0    0 \n",
       "[3,]     0   34   34    0    0    0    0    0    0    0 ⋯   0   0  0   0    0 \n",
       "[4,]     0    1   28    0    0    0    0    0    0    0 ⋯   0   0  0   0    0 \n",
       "[5,]     0    0    2    0    0    0    0    0    0    0 ⋯   0   0  0   0    0 \n",
       "     MC2 MC23 MC4 MC18 MC17\n",
       "[1,] 30  23   4   4    NA  \n",
       "[2,]  0   0   0   0     0  \n",
       "[3,]  0   0   0   0     0  \n",
       "[4,]  0   0   0   0     0  \n",
       "[5,]  0   0   0   0     0  "
      ]
     },
     "metadata": {},
     "output_type": "display_data"
    }
   ],
   "source": [
    "stackmat <- stackmat[,-21] ## no MC21, wasn't put into MC mix\n",
    "## sort by read abundances:\n",
    "stackmat <- stackmat[,order(colSums(stackmat), decreasing = TRUE)]\n",
    "stackmat"
   ]
  },
  {
   "cell_type": "markdown",
   "metadata": {},
   "source": [
    "Now use this to plot our read abundances, to look at splitting of OTUs at this radius:"
   ]
  },
  {
   "cell_type": "code",
   "execution_count": 17,
   "metadata": {
    "scrolled": false
   },
   "outputs": [
    {
     "data": {
      "image/png": "[encoded data removed]",
      "text/plain": [
       "Plot with title “Dan Positive Control 95% radius”"
      ]
     },
     "metadata": {},
     "output_type": "display_data"
    }
   ],
   "source": [
    "## make our colors from a palette. Randomize for better separation\n",
    "bcols <- rep(sample(1:ncol(stackmat), replace=FALSE, size=23), each=nrow(stackmat))\n",
    "\n",
    "par(cex.axis=.5)\n",
    "## we can see our lower abundances better with sqrt:\n",
    "barplot(sqrt(stackmat), beside = TRUE, col = bcols, main=\"Dan Positive Control 95% radius\") \n",
    "par(mfrow=c(1,1))"
   ]
  },
  {
   "cell_type": "markdown",
   "metadata": {},
   "source": [
    "Square root transformed axis, so abundance differences are quite large. MC1 is *Phaeocryptopus gaeumannii* and MC8 is a *Ramularia* sp."
   ]
  },
  {
   "cell_type": "markdown",
   "metadata": {},
   "source": [
    "<a id='iPos'><h4>ITS-only positive control</h4></a>"
   ]
  },
  {
   "cell_type": "markdown",
   "metadata": {},
   "source": [
    "As a second positive control, we amplified the full ITS region of each our cultures from our mock community, then introduced equal concentrations of ITS PCR product into a single sample and put it in with the rest of the study. As per our genomic positive contol..."
   ]
  },
  {
   "cell_type": "code",
   "execution_count": 3,
   "metadata": {
    "scrolled": true
   },
   "outputs": [
    {
     "data": {
      "text/html": [
       "<ol class=list-inline>\n",
       "\t<li>'OTU256:Dc-X'</li>\n",
       "\t<li>'OTU119:Dc-PosG'</li>\n",
       "\t<li>'OTU106:Dc-PosG'</li>\n",
       "\t<li>'OTU386:Dc-PosG'</li>\n",
       "\t<li>'OTU306:Dc-PosG'</li>\n",
       "\t<li>'OTU264:Dc-PosG'</li>\n",
       "\t<li>'OTU407:Dc-PosG'</li>\n",
       "\t<li>'OTU191:Dc-PosG'</li>\n",
       "\t<li>'OTU270:Dc-PosG'</li>\n",
       "\t<li>'OTU271:Dc-PosG'</li>\n",
       "\t<li>'OTU220:Dc-PosG'</li>\n",
       "\t<li>'OTU258:Dc-PosG'</li>\n",
       "\t<li>'OTU526:Dc-PosG'</li>\n",
       "\t<li>'OTU235:Dc-PosG'</li>\n",
       "\t<li>'OTU560:Dc-PosG'</li>\n",
       "\t<li>'OTU164:Dc-PosG'</li>\n",
       "\t<li>'OTU608:Dc-PosG'</li>\n",
       "\t<li>'OTU733:Dc-PosG'</li>\n",
       "\t<li>'OTU358:Dc-PosG'</li>\n",
       "\t<li>'OTU826:Dc-PosG'</li>\n",
       "\t<li>'OTU1153:Dc-PosI'</li>\n",
       "\t<li>'OTU4210:Dc-PosG'</li>\n",
       "\t<li>'OTU3674:Dc-PosG'</li>\n",
       "\t<li>'OTU12510:PosG'</li>\n",
       "\t<li>'OTU3183:Dc-PosG'</li>\n",
       "\t<li>'OTU3723:Dc-PosG'</li>\n",
       "\t<li>'OTU4453:Dc-PosG'</li>\n",
       "\t<li>'OTU10694:Dc-PosI'</li>\n",
       "\t<li>'OTU77:1w'</li>\n",
       "\t<li>'OTU298:2w'</li>\n",
       "\t<li>'OTU87:17w'</li>\n",
       "\t<li>'OTU12521:Dc-PosG'</li>\n",
       "\t<li>'OTU8401:Dc-PosG'</li>\n",
       "\t<li>'OTU12516:PosI'</li>\n",
       "\t<li>'OTU1183:36w'</li>\n",
       "\t<li>'OTU98:2w'</li>\n",
       "\t<li>'OTU41:1w'</li>\n",
       "\t<li>'OTU249:1w'</li>\n",
       "\t<li>'OTU410:37w'</li>\n",
       "\t<li>'OTU84:38w'</li>\n",
       "\t<li>'OTU1520:30w'</li>\n",
       "\t<li>'OTU8984:Dc-PosG'</li>\n",
       "\t<li>'OTU8986:Dc-PosG'</li>\n",
       "\t<li>'OTU7914:Dc-PosG'</li>\n",
       "\t<li>'OTU9035:Dc-PosG'</li>\n",
       "\t<li>'OTU10988:PosG'</li>\n",
       "\t<li>'OTU9833:Dc-PosI'</li>\n",
       "\t<li>'OTU186:1w'</li>\n",
       "\t<li>'OTU471:5w'</li>\n",
       "\t<li>'OTU192:1w'</li>\n",
       "\t<li>'OTU28:2w'</li>\n",
       "\t<li>'OTU1216:1w'</li>\n",
       "\t<li>'OTU958:19w'</li>\n",
       "\t<li>'OTU338:1w'</li>\n",
       "\t<li>'OTU1292:32w'</li>\n",
       "\t<li>'OTU18:9w'</li>\n",
       "\t<li>'OTU6703:17w'</li>\n",
       "\t<li>'OTU2954:1w'</li>\n",
       "\t<li>'OTU161:2w'</li>\n",
       "\t<li>'OTU387:2w'</li>\n",
       "\t<li>'OTU2446:2w'</li>\n",
       "\t<li>'OTU1279:15w'</li>\n",
       "\t<li>'OTU2202:3w'</li>\n",
       "\t<li>'OTU5187:68w'</li>\n",
       "\t<li>'OTU250:4w'</li>\n",
       "\t<li>'OTU1599:9w'</li>\n",
       "\t<li>'OTU1973:131w'</li>\n",
       "\t<li>'OTU3711:17w'</li>\n",
       "\t<li>'OTU1612:18w'</li>\n",
       "\t<li>'OTU6688:19w'</li>\n",
       "\t<li>'OTU281:109w'</li>\n",
       "\t<li>'OTU210:27w'</li>\n",
       "\t<li>'OTU2860:70w'</li>\n",
       "\t<li>'OTU839:57w'</li>\n",
       "\t<li>'OTU2567:130w'</li>\n",
       "\t<li>'OTU12503:PosG'</li>\n",
       "</ol>\n"
      ],
      "text/latex": [
       "\\begin{enumerate*}\n",
       "\\item 'OTU256:Dc-X'\n",
       "\\item 'OTU119:Dc-PosG'\n",
       "\\item 'OTU106:Dc-PosG'\n",
       "\\item 'OTU386:Dc-PosG'\n",
       "\\item 'OTU306:Dc-PosG'\n",
       "\\item 'OTU264:Dc-PosG'\n",
       "\\item 'OTU407:Dc-PosG'\n",
       "\\item 'OTU191:Dc-PosG'\n",
       "\\item 'OTU270:Dc-PosG'\n",
       "\\item 'OTU271:Dc-PosG'\n",
       "\\item 'OTU220:Dc-PosG'\n",
       "\\item 'OTU258:Dc-PosG'\n",
       "\\item 'OTU526:Dc-PosG'\n",
       "\\item 'OTU235:Dc-PosG'\n",
       "\\item 'OTU560:Dc-PosG'\n",
       "\\item 'OTU164:Dc-PosG'\n",
       "\\item 'OTU608:Dc-PosG'\n",
       "\\item 'OTU733:Dc-PosG'\n",
       "\\item 'OTU358:Dc-PosG'\n",
       "\\item 'OTU826:Dc-PosG'\n",
       "\\item 'OTU1153:Dc-PosI'\n",
       "\\item 'OTU4210:Dc-PosG'\n",
       "\\item 'OTU3674:Dc-PosG'\n",
       "\\item 'OTU12510:PosG'\n",
       "\\item 'OTU3183:Dc-PosG'\n",
       "\\item 'OTU3723:Dc-PosG'\n",
       "\\item 'OTU4453:Dc-PosG'\n",
       "\\item 'OTU10694:Dc-PosI'\n",
       "\\item 'OTU77:1w'\n",
       "\\item 'OTU298:2w'\n",
       "\\item 'OTU87:17w'\n",
       "\\item 'OTU12521:Dc-PosG'\n",
       "\\item 'OTU8401:Dc-PosG'\n",
       "\\item 'OTU12516:PosI'\n",
       "\\item 'OTU1183:36w'\n",
       "\\item 'OTU98:2w'\n",
       "\\item 'OTU41:1w'\n",
       "\\item 'OTU249:1w'\n",
       "\\item 'OTU410:37w'\n",
       "\\item 'OTU84:38w'\n",
       "\\item 'OTU1520:30w'\n",
       "\\item 'OTU8984:Dc-PosG'\n",
       "\\item 'OTU8986:Dc-PosG'\n",
       "\\item 'OTU7914:Dc-PosG'\n",
       "\\item 'OTU9035:Dc-PosG'\n",
       "\\item 'OTU10988:PosG'\n",
       "\\item 'OTU9833:Dc-PosI'\n",
       "\\item 'OTU186:1w'\n",
       "\\item 'OTU471:5w'\n",
       "\\item 'OTU192:1w'\n",
       "\\item 'OTU28:2w'\n",
       "\\item 'OTU1216:1w'\n",
       "\\item 'OTU958:19w'\n",
       "\\item 'OTU338:1w'\n",
       "\\item 'OTU1292:32w'\n",
       "\\item 'OTU18:9w'\n",
       "\\item 'OTU6703:17w'\n",
       "\\item 'OTU2954:1w'\n",
       "\\item 'OTU161:2w'\n",
       "\\item 'OTU387:2w'\n",
       "\\item 'OTU2446:2w'\n",
       "\\item 'OTU1279:15w'\n",
       "\\item 'OTU2202:3w'\n",
       "\\item 'OTU5187:68w'\n",
       "\\item 'OTU250:4w'\n",
       "\\item 'OTU1599:9w'\n",
       "\\item 'OTU1973:131w'\n",
       "\\item 'OTU3711:17w'\n",
       "\\item 'OTU1612:18w'\n",
       "\\item 'OTU6688:19w'\n",
       "\\item 'OTU281:109w'\n",
       "\\item 'OTU210:27w'\n",
       "\\item 'OTU2860:70w'\n",
       "\\item 'OTU839:57w'\n",
       "\\item 'OTU2567:130w'\n",
       "\\item 'OTU12503:PosG'\n",
       "\\end{enumerate*}\n"
      ],
      "text/markdown": [
       "1. 'OTU256:Dc-X'\n",
       "2. 'OTU119:Dc-PosG'\n",
       "3. 'OTU106:Dc-PosG'\n",
       "4. 'OTU386:Dc-PosG'\n",
       "5. 'OTU306:Dc-PosG'\n",
       "6. 'OTU264:Dc-PosG'\n",
       "7. 'OTU407:Dc-PosG'\n",
       "8. 'OTU191:Dc-PosG'\n",
       "9. 'OTU270:Dc-PosG'\n",
       "10. 'OTU271:Dc-PosG'\n",
       "11. 'OTU220:Dc-PosG'\n",
       "12. 'OTU258:Dc-PosG'\n",
       "13. 'OTU526:Dc-PosG'\n",
       "14. 'OTU235:Dc-PosG'\n",
       "15. 'OTU560:Dc-PosG'\n",
       "16. 'OTU164:Dc-PosG'\n",
       "17. 'OTU608:Dc-PosG'\n",
       "18. 'OTU733:Dc-PosG'\n",
       "19. 'OTU358:Dc-PosG'\n",
       "20. 'OTU826:Dc-PosG'\n",
       "21. 'OTU1153:Dc-PosI'\n",
       "22. 'OTU4210:Dc-PosG'\n",
       "23. 'OTU3674:Dc-PosG'\n",
       "24. 'OTU12510:PosG'\n",
       "25. 'OTU3183:Dc-PosG'\n",
       "26. 'OTU3723:Dc-PosG'\n",
       "27. 'OTU4453:Dc-PosG'\n",
       "28. 'OTU10694:Dc-PosI'\n",
       "29. 'OTU77:1w'\n",
       "30. 'OTU298:2w'\n",
       "31. 'OTU87:17w'\n",
       "32. 'OTU12521:Dc-PosG'\n",
       "33. 'OTU8401:Dc-PosG'\n",
       "34. 'OTU12516:PosI'\n",
       "35. 'OTU1183:36w'\n",
       "36. 'OTU98:2w'\n",
       "37. 'OTU41:1w'\n",
       "38. 'OTU249:1w'\n",
       "39. 'OTU410:37w'\n",
       "40. 'OTU84:38w'\n",
       "41. 'OTU1520:30w'\n",
       "42. 'OTU8984:Dc-PosG'\n",
       "43. 'OTU8986:Dc-PosG'\n",
       "44. 'OTU7914:Dc-PosG'\n",
       "45. 'OTU9035:Dc-PosG'\n",
       "46. 'OTU10988:PosG'\n",
       "47. 'OTU9833:Dc-PosI'\n",
       "48. 'OTU186:1w'\n",
       "49. 'OTU471:5w'\n",
       "50. 'OTU192:1w'\n",
       "51. 'OTU28:2w'\n",
       "52. 'OTU1216:1w'\n",
       "53. 'OTU958:19w'\n",
       "54. 'OTU338:1w'\n",
       "55. 'OTU1292:32w'\n",
       "56. 'OTU18:9w'\n",
       "57. 'OTU6703:17w'\n",
       "58. 'OTU2954:1w'\n",
       "59. 'OTU161:2w'\n",
       "60. 'OTU387:2w'\n",
       "61. 'OTU2446:2w'\n",
       "62. 'OTU1279:15w'\n",
       "63. 'OTU2202:3w'\n",
       "64. 'OTU5187:68w'\n",
       "65. 'OTU250:4w'\n",
       "66. 'OTU1599:9w'\n",
       "67. 'OTU1973:131w'\n",
       "68. 'OTU3711:17w'\n",
       "69. 'OTU1612:18w'\n",
       "70. 'OTU6688:19w'\n",
       "71. 'OTU281:109w'\n",
       "72. 'OTU210:27w'\n",
       "73. 'OTU2860:70w'\n",
       "74. 'OTU839:57w'\n",
       "75. 'OTU2567:130w'\n",
       "76. 'OTU12503:PosG'\n",
       "\n",
       "\n"
      ],
      "text/plain": [
       " [1] \"OTU256:Dc-X\"      \"OTU119:Dc-PosG\"   \"OTU106:Dc-PosG\"   \"OTU386:Dc-PosG\"  \n",
       " [5] \"OTU306:Dc-PosG\"   \"OTU264:Dc-PosG\"   \"OTU407:Dc-PosG\"   \"OTU191:Dc-PosG\"  \n",
       " [9] \"OTU270:Dc-PosG\"   \"OTU271:Dc-PosG\"   \"OTU220:Dc-PosG\"   \"OTU258:Dc-PosG\"  \n",
       "[13] \"OTU526:Dc-PosG\"   \"OTU235:Dc-PosG\"   \"OTU560:Dc-PosG\"   \"OTU164:Dc-PosG\"  \n",
       "[17] \"OTU608:Dc-PosG\"   \"OTU733:Dc-PosG\"   \"OTU358:Dc-PosG\"   \"OTU826:Dc-PosG\"  \n",
       "[21] \"OTU1153:Dc-PosI\"  \"OTU4210:Dc-PosG\"  \"OTU3674:Dc-PosG\"  \"OTU12510:PosG\"   \n",
       "[25] \"OTU3183:Dc-PosG\"  \"OTU3723:Dc-PosG\"  \"OTU4453:Dc-PosG\"  \"OTU10694:Dc-PosI\"\n",
       "[29] \"OTU77:1w\"         \"OTU298:2w\"        \"OTU87:17w\"        \"OTU12521:Dc-PosG\"\n",
       "[33] \"OTU8401:Dc-PosG\"  \"OTU12516:PosI\"    \"OTU1183:36w\"      \"OTU98:2w\"        \n",
       "[37] \"OTU41:1w\"         \"OTU249:1w\"        \"OTU410:37w\"       \"OTU84:38w\"       \n",
       "[41] \"OTU1520:30w\"      \"OTU8984:Dc-PosG\"  \"OTU8986:Dc-PosG\"  \"OTU7914:Dc-PosG\" \n",
       "[45] \"OTU9035:Dc-PosG\"  \"OTU10988:PosG\"    \"OTU9833:Dc-PosI\"  \"OTU186:1w\"       \n",
       "[49] \"OTU471:5w\"        \"OTU192:1w\"        \"OTU28:2w\"         \"OTU1216:1w\"      \n",
       "[53] \"OTU958:19w\"       \"OTU338:1w\"        \"OTU1292:32w\"      \"OTU18:9w\"        \n",
       "[57] \"OTU6703:17w\"      \"OTU2954:1w\"       \"OTU161:2w\"        \"OTU387:2w\"       \n",
       "[61] \"OTU2446:2w\"       \"OTU1279:15w\"      \"OTU2202:3w\"       \"OTU5187:68w\"     \n",
       "[65] \"OTU250:4w\"        \"OTU1599:9w\"       \"OTU1973:131w\"     \"OTU3711:17w\"     \n",
       "[69] \"OTU1612:18w\"      \"OTU6688:19w\"      \"OTU281:109w\"      \"OTU210:27w\"      \n",
       "[73] \"OTU2860:70w\"      \"OTU839:57w\"       \"OTU2567:130w\"     \"OTU12503:PosG\"   "
      ]
     },
     "metadata": {},
     "output_type": "display_data"
    }
   ],
   "source": [
    "aa95 <- subset_samples(biom95, sample_names(biom95) == 'PosI')\n",
    "danITSreads <- taxa_sums(aa95)[taxa_sums(aa95) > 0]\n",
    "danITSreads <- sort(danITSreads, decreasing = TRUE)\n",
    "sink('danITSreads.txt') ## read out these OTUs so we can use them in python env\n",
    "names(danITSreads)\n",
    "sink()"
   ]
  },
  {
   "cell_type": "code",
   "execution_count": 2,
   "metadata": {},
   "outputs": [
    {
     "name": "stdout",
     "output_type": "stream",
     "text": [
      "mcseq=(\"OTU256:Dc-X\",\"OTU119:Dc-PosG\",\"OTU106:Dc-PosG\",\"OTU386:Dc-PosG\",\n",
      "\"OTU306:Dc-PosG\",\"OTU264:Dc-PosG\",\"OTU407:Dc-PosG\",\"OTU191:Dc-PosG\",\n",
      "\"OTU270:Dc-PosG\",\"OTU271:Dc-PosG\",\"OTU220:Dc-PosG\",\"OTU258:Dc-PosG\",\n",
      "\"OTU526:Dc-PosG\",\"OTU235:Dc-PosG\",\"OTU560:Dc-PosG\",\"OTU164:Dc-PosG\",\n",
      "\"OTU608:Dc-PosG\",\"OTU733:Dc-PosG\",\"OTU358:Dc-PosG\",\"OTU826:Dc-PosG\",\n",
      "\"OTU1153:Dc-PosI\",\"OTU4210:Dc-PosG\",\"OTU3674:Dc-PosG\",\"OTU12510:PosG\",\n",
      "\"OTU3183:Dc-PosG\",\"OTU3723:Dc-PosG\",\"OTU4453:Dc-PosG\",\"OTU10694:Dc-PosI\"\n",
      "\"OTU77:1w\",\"OTU298:2w\",\"OTU87:17w\",\"OTU12521:Dc-PosG\"\n",
      "\"OTU8401:Dc-PosG\",\"OTU12516:PosI\",\"OTU1183:36w\",\"OTU98:2w\",\n",
      "\"OTU41:1w\",\"OTU249:1w\",\"OTU410:37w\",\"OTU84:38w\",\n",
      "\"OTU1520:30w\",\"OTU8984:Dc-PosG\",\"OTU8986:Dc-PosG\",\"OTU7914:Dc-PosG\",\n",
      "\"OTU9035:Dc-PosG\",\"OTU10988:PosG\",\"OTU9833:Dc-PosI\",\"OTU186:1w\",\n",
      "\"OTU471:5w\",\"OTU192:1w\",\"OTU28:2w\",\"OTU1216:1w\",\n",
      "\"OTU958:19w\",\"OTU338:1w\",\"OTU1292:32w\",\"OTU18:9w\",\n",
      "\"OTU6703:17w\",\"OTU2954:1w\",\"OTU161:2w\",\"OTU387:2w\",\n",
      "\"OTU2446:2w\",\"OTU1279:15w\",\"OTU2202:3w\",\"OTU5187:68w\",\n",
      "\"OTU250:4w\",\"OTU1599:9w\",\"OTU1973:131w\",\"OTU3711:17w\",\n",
      "\"OTU1612:18w\",\"OTU6688:19w\",\"OTU281:109w\",\"OTU210:27w\",\n",
      "\"OTU2860:70w\",\"OTU839:57w\",\"OTU2567:130w\",\"OTU12503:PosG\")\n",
      "\n",
      "with open('otus_95_combo_nolb.fasta', 'r') as zoop:\n",
      "        refseq = zoop.readlines()\n",
      "\n",
      "with open('seqs_danITS95.fasta', 'w') as goop:\n",
      "        for j,otu in enumerate(mcseq):\n",
      "                for i,line in enumerate(refseq):\n",
      "                        if otu in line:\n",
      "                                goop.write(line)\n",
      "                                goop.write(refseq[i+1])\n"
     ]
    }
   ],
   "source": [
    "cat danITS_makeMCseq.py"
   ]
  },
  {
   "cell_type": "code",
   "execution_count": 3,
   "metadata": {},
   "outputs": [],
   "source": [
    "python3 danITS_makeMCseq.py"
   ]
  },
  {
   "cell_type": "code",
   "execution_count": 4,
   "metadata": {},
   "outputs": [],
   "source": [
    "sed -i '/^>/ s/;size=.*//' seqs_danITS95.fasta \n",
    "\n",
    "blastn -query seqs_danITS95.fasta -db mcsanger.fasta -out mcblast_danITS95.txt -num_descriptions 3 -num_alignments 3\n",
    "blastn -query seqs_danITS95.fasta -db mcsanger.fasta -out mcblast_danITS95.csv -outfmt 10 -max_target_seqs 1\n",
    "\n",
    "sed '1 i\\qseqid,sseqid,pident,length,mismatch,gapopen,qstart,qend,sstart,send,evalue,bitscore' mcblast_danITS95.csv -i\n",
    "sed 's/_ITS[1,4],/,/g' mcblast_danITS95.csv -i\n",
    "sed 's/Sample//g' mcblast_danITS95.csv -i"
   ]
  },
  {
   "cell_type": "markdown",
   "metadata": {},
   "source": [
    "Back to R..."
   ]
  },
  {
   "cell_type": "code",
   "execution_count": 3,
   "metadata": {
    "scrolled": true
   },
   "outputs": [
    {
     "data": {
      "text/html": [
       "<table>\n",
       "<thead><tr><th scope=col>qseqid</th><th scope=col>sseqid</th><th scope=col>pident</th><th scope=col>length</th><th scope=col>mismatch</th><th scope=col>gapopen</th><th scope=col>qstart</th><th scope=col>qend</th><th scope=col>sstart</th><th scope=col>send</th><th scope=col>evalue</th><th scope=col>bitscore</th></tr></thead>\n",
       "<tbody>\n",
       "\t<tr><td>OTU256:Dc-X    </td><td> 6             </td><td>100.00         </td><td>184            </td><td> 0             </td><td>0              </td><td> 1             </td><td>184            </td><td>535            </td><td>352            </td><td> 1e-96         </td><td>340.0          </td></tr>\n",
       "\t<tr><td>OTU119:Dc-PosG </td><td> 1             </td><td> 99.31         </td><td>144            </td><td> 1             </td><td>0              </td><td> 1             </td><td>144            </td><td>434            </td><td>291            </td><td> 7e-73         </td><td>261.0          </td></tr>\n",
       "\t<tr><td>OTU106:Dc-PosG </td><td>10             </td><td>100.00         </td><td>174            </td><td> 0             </td><td>0              </td><td> 1             </td><td>174            </td><td>482            </td><td>309            </td><td> 4e-91         </td><td>322.0          </td></tr>\n",
       "\t<tr><td>OTU386:Dc-PosG </td><td>19             </td><td>100.00         </td><td>175            </td><td> 0             </td><td>0              </td><td> 1             </td><td>175            </td><td>513            </td><td>339            </td><td> 1e-91         </td><td>324.0          </td></tr>\n",
       "\t<tr><td>OTU306:Dc-PosG </td><td> 9             </td><td>100.00         </td><td>176            </td><td> 0             </td><td>0              </td><td> 1             </td><td>176            </td><td>504            </td><td>329            </td><td> 3e-92         </td><td>326.0          </td></tr>\n",
       "\t<tr><td>OTU264:Dc-PosG </td><td>16             </td><td>100.00         </td><td>180            </td><td> 0             </td><td>0              </td><td> 1             </td><td>180            </td><td>502            </td><td>323            </td><td> 2e-94         </td><td>333.0          </td></tr>\n",
       "\t<tr><td>OTU407:Dc-PosG </td><td> 7             </td><td>100.00         </td><td>193            </td><td> 0             </td><td>0              </td><td> 1             </td><td>193            </td><td>524            </td><td>332            </td><td>1e-101         </td><td>357.0          </td></tr>\n",
       "\t<tr><td>OTU191:Dc-PosG </td><td>14             </td><td>100.00         </td><td>197            </td><td> 0             </td><td>0              </td><td> 1             </td><td>197            </td><td>566            </td><td>370            </td><td>7e-104         </td><td>364.0          </td></tr>\n",
       "\t<tr><td>OTU270:Dc-PosG </td><td>12             </td><td>100.00         </td><td>178            </td><td> 0             </td><td>0              </td><td> 1             </td><td>178            </td><td>501            </td><td>324            </td><td> 2e-93         </td><td>329.0          </td></tr>\n",
       "\t<tr><td>OTU271:Dc-PosG </td><td>24             </td><td>100.00         </td><td>209            </td><td> 0             </td><td>0              </td><td> 1             </td><td>209            </td><td>537            </td><td>329            </td><td>2e-110         </td><td>387.0          </td></tr>\n",
       "\t<tr><td>OTU220:Dc-PosG </td><td>22             </td><td>100.00         </td><td>168            </td><td> 0             </td><td>0              </td><td> 1             </td><td>168            </td><td>512            </td><td>345            </td><td> 8e-88         </td><td>311.0          </td></tr>\n",
       "\t<tr><td>OTU258:Dc-PosG </td><td>13             </td><td>100.00         </td><td>180            </td><td> 0             </td><td>0              </td><td> 1             </td><td>180            </td><td>492            </td><td>313            </td><td> 2e-94         </td><td>333.0          </td></tr>\n",
       "\t<tr><td>OTU526:Dc-PosG </td><td> 5             </td><td>100.00         </td><td>232            </td><td> 0             </td><td>0              </td><td> 1             </td><td>232            </td><td>562            </td><td>331            </td><td>3e-123         </td><td>429.0          </td></tr>\n",
       "\t<tr><td>OTU235:Dc-PosG </td><td>20             </td><td>100.00         </td><td>217            </td><td> 0             </td><td>0              </td><td> 1             </td><td>217            </td><td>605            </td><td>389            </td><td>6e-115         </td><td>401.0          </td></tr>\n",
       "\t<tr><td>OTU560:Dc-PosG </td><td> 4             </td><td>100.00         </td><td>180            </td><td> 0             </td><td>0              </td><td> 1             </td><td>180            </td><td>485            </td><td>306            </td><td> 2e-94         </td><td>333.0          </td></tr>\n",
       "\t<tr><td>OTU164:Dc-PosG </td><td> 8             </td><td>100.00         </td><td>143            </td><td> 0             </td><td>0              </td><td> 1             </td><td>143            </td><td>451            </td><td>309            </td><td> 5e-74         </td><td>265.0          </td></tr>\n",
       "\t<tr><td>OTU608:Dc-PosG </td><td>11             </td><td>100.00         </td><td>174            </td><td> 0             </td><td>0              </td><td> 1             </td><td>174            </td><td>487            </td><td>314            </td><td> 4e-91         </td><td>322.0          </td></tr>\n",
       "\t<tr><td>OTU733:Dc-PosG </td><td>23             </td><td>100.00         </td><td>208            </td><td> 0             </td><td>0              </td><td> 1             </td><td>208            </td><td>528            </td><td>321            </td><td>6e-110         </td><td>385.0          </td></tr>\n",
       "\t<tr><td>OTU358:Dc-PosG </td><td>15             </td><td>100.00         </td><td>241            </td><td> 0             </td><td>0              </td><td> 1             </td><td>241            </td><td>553            </td><td>313            </td><td>3e-128         </td><td>446.0          </td></tr>\n",
       "\t<tr><td>OTU826:Dc-PosG </td><td> 3             </td><td>100.00         </td><td>157            </td><td> 0             </td><td>0              </td><td> 1             </td><td>157            </td><td>555            </td><td>399            </td><td> 9e-82         </td><td>291.0          </td></tr>\n",
       "\t<tr><td>OTU1153:Dc-PosI</td><td>18             </td><td>100.00         </td><td>361            </td><td> 0             </td><td>0              </td><td> 1             </td><td>361            </td><td>761            </td><td>401            </td><td> 0e+00         </td><td>667.0          </td></tr>\n",
       "\t<tr><td>OTU4210:Dc-PosG</td><td> 8             </td><td> 96.00         </td><td>125            </td><td> 5             </td><td>0              </td><td>19             </td><td>143            </td><td>433            </td><td>309            </td><td> 1e-55         </td><td>204.0          </td></tr>\n",
       "\t<tr><td>OTU3674:Dc-PosG</td><td> 1             </td><td> 95.24         </td><td>126            </td><td> 6             </td><td>0              </td><td>19             </td><td>144            </td><td>416            </td><td>291            </td><td> 1e-54         </td><td>200.0          </td></tr>\n",
       "\t<tr><td>OTU12510:PosG  </td><td> 8             </td><td> 95.62         </td><td>137            </td><td> 4             </td><td>2              </td><td> 1             </td><td>135            </td><td>451            </td><td>315            </td><td> 4e-60         </td><td>219.0          </td></tr>\n",
       "\t<tr><td>OTU3183:Dc-PosG</td><td> 8             </td><td> 94.89         </td><td>137            </td><td> 5             </td><td>2              </td><td> 1             </td><td>135            </td><td>451            </td><td>315            </td><td> 2e-58         </td><td>213.0          </td></tr>\n",
       "\t<tr><td>OTU3723:Dc-PosG</td><td> 1             </td><td> 95.00         </td><td>140            </td><td> 5             </td><td>2              </td><td> 1             </td><td>140            </td><td>434            </td><td>297            </td><td> 4e-60         </td><td>219.0          </td></tr>\n",
       "\t<tr><td>OTU4453:Dc-PosG</td><td> 2             </td><td>100.00         </td><td>143            </td><td> 0             </td><td>0              </td><td> 1             </td><td>143            </td><td>463            </td><td>321            </td><td> 5e-74         </td><td>265.0          </td></tr>\n",
       "\t<tr><td>OTU12516:PosI  </td><td> 4             </td><td> 96.10         </td><td>154            </td><td> 4             </td><td>2              </td><td>18             </td><td>170            </td><td>458            </td><td>306            </td><td> 2e-69         </td><td>250.0          </td></tr>\n",
       "\t<tr><td>OTU84:38w      </td><td> 9             </td><td>100.00         </td><td> 31            </td><td> 0             </td><td>0              </td><td>27             </td><td> 57            </td><td>530            </td><td>500            </td><td> 1e-11         </td><td> 58.4          </td></tr>\n",
       "\t<tr><td>OTU8986:Dc-PosG</td><td>13             </td><td> 99.39         </td><td>163            </td><td> 1             </td><td>0              </td><td>15             </td><td>177            </td><td>475            </td><td>313            </td><td> 2e-83         </td><td>296.0          </td></tr>\n",
       "\t<tr><td>OTU10988:PosG  </td><td> 8             </td><td>100.00         </td><td>118            </td><td> 0             </td><td>0              </td><td>19             </td><td>136            </td><td>426            </td><td>309            </td><td> 4e-60         </td><td>219.0          </td></tr>\n",
       "\t<tr><td>OTU2446:2w     </td><td>19             </td><td> 79.88         </td><td>169            </td><td>22             </td><td>7              </td><td>12             </td><td>174            </td><td>501            </td><td>339            </td><td> 2e-28         </td><td>113.0          </td></tr>\n",
       "\t<tr><td>OTU1599:9w     </td><td> 1             </td><td> 90.22         </td><td> 92            </td><td> 8             </td><td>1              </td><td>37             </td><td>128            </td><td>459            </td><td>369            </td><td> 6e-30         </td><td>119.0          </td></tr>\n",
       "\t<tr><td>OTU6688:19w    </td><td>11             </td><td> 89.22         </td><td>167            </td><td>15             </td><td>3              </td><td> 3             </td><td>167            </td><td>485            </td><td>320            </td><td> 4e-56         </td><td>206.0          </td></tr>\n",
       "\t<tr><td>OTU12503:PosG  </td><td>16             </td><td> 95.43         </td><td>175            </td><td> 2             </td><td>4              </td><td> 8             </td><td>181            </td><td>492            </td><td>323            </td><td> 1e-76         </td><td>274.0          </td></tr>\n",
       "</tbody>\n",
       "</table>\n"
      ],
      "text/latex": [
       "\\begin{tabular}{r|llllllllllll}\n",
       " qseqid & sseqid & pident & length & mismatch & gapopen & qstart & qend & sstart & send & evalue & bitscore\\\\\n",
       "\\hline\n",
       "\t OTU256:Dc-X     &  6              & 100.00          & 184             &  0              & 0               &  1              & 184             & 535             & 352             &  1e-96          & 340.0          \\\\\n",
       "\t OTU119:Dc-PosG  &  1              &  99.31          & 144             &  1              & 0               &  1              & 144             & 434             & 291             &  7e-73          & 261.0          \\\\\n",
       "\t OTU106:Dc-PosG  & 10              & 100.00          & 174             &  0              & 0               &  1              & 174             & 482             & 309             &  4e-91          & 322.0          \\\\\n",
       "\t OTU386:Dc-PosG  & 19              & 100.00          & 175             &  0              & 0               &  1              & 175             & 513             & 339             &  1e-91          & 324.0          \\\\\n",
       "\t OTU306:Dc-PosG  &  9              & 100.00          & 176             &  0              & 0               &  1              & 176             & 504             & 329             &  3e-92          & 326.0          \\\\\n",
       "\t OTU264:Dc-PosG  & 16              & 100.00          & 180             &  0              & 0               &  1              & 180             & 502             & 323             &  2e-94          & 333.0          \\\\\n",
       "\t OTU407:Dc-PosG  &  7              & 100.00          & 193             &  0              & 0               &  1              & 193             & 524             & 332             & 1e-101          & 357.0          \\\\\n",
       "\t OTU191:Dc-PosG  & 14              & 100.00          & 197             &  0              & 0               &  1              & 197             & 566             & 370             & 7e-104          & 364.0          \\\\\n",
       "\t OTU270:Dc-PosG  & 12              & 100.00          & 178             &  0              & 0               &  1              & 178             & 501             & 324             &  2e-93          & 329.0          \\\\\n",
       "\t OTU271:Dc-PosG  & 24              & 100.00          & 209             &  0              & 0               &  1              & 209             & 537             & 329             & 2e-110          & 387.0          \\\\\n",
       "\t OTU220:Dc-PosG  & 22              & 100.00          & 168             &  0              & 0               &  1              & 168             & 512             & 345             &  8e-88          & 311.0          \\\\\n",
       "\t OTU258:Dc-PosG  & 13              & 100.00          & 180             &  0              & 0               &  1              & 180             & 492             & 313             &  2e-94          & 333.0          \\\\\n",
       "\t OTU526:Dc-PosG  &  5              & 100.00          & 232             &  0              & 0               &  1              & 232             & 562             & 331             & 3e-123          & 429.0          \\\\\n",
       "\t OTU235:Dc-PosG  & 20              & 100.00          & 217             &  0              & 0               &  1              & 217             & 605             & 389             & 6e-115          & 401.0          \\\\\n",
       "\t OTU560:Dc-PosG  &  4              & 100.00          & 180             &  0              & 0               &  1              & 180             & 485             & 306             &  2e-94          & 333.0          \\\\\n",
       "\t OTU164:Dc-PosG  &  8              & 100.00          & 143             &  0              & 0               &  1              & 143             & 451             & 309             &  5e-74          & 265.0          \\\\\n",
       "\t OTU608:Dc-PosG  & 11              & 100.00          & 174             &  0              & 0               &  1              & 174             & 487             & 314             &  4e-91          & 322.0          \\\\\n",
       "\t OTU733:Dc-PosG  & 23              & 100.00          & 208             &  0              & 0               &  1              & 208             & 528             & 321             & 6e-110          & 385.0          \\\\\n",
       "\t OTU358:Dc-PosG  & 15              & 100.00          & 241             &  0              & 0               &  1              & 241             & 553             & 313             & 3e-128          & 446.0          \\\\\n",
       "\t OTU826:Dc-PosG  &  3              & 100.00          & 157             &  0              & 0               &  1              & 157             & 555             & 399             &  9e-82          & 291.0          \\\\\n",
       "\t OTU1153:Dc-PosI & 18              & 100.00          & 361             &  0              & 0               &  1              & 361             & 761             & 401             &  0e+00          & 667.0          \\\\\n",
       "\t OTU4210:Dc-PosG &  8              &  96.00          & 125             &  5              & 0               & 19              & 143             & 433             & 309             &  1e-55          & 204.0          \\\\\n",
       "\t OTU3674:Dc-PosG &  1              &  95.24          & 126             &  6              & 0               & 19              & 144             & 416             & 291             &  1e-54          & 200.0          \\\\\n",
       "\t OTU12510:PosG   &  8              &  95.62          & 137             &  4              & 2               &  1              & 135             & 451             & 315             &  4e-60          & 219.0          \\\\\n",
       "\t OTU3183:Dc-PosG &  8              &  94.89          & 137             &  5              & 2               &  1              & 135             & 451             & 315             &  2e-58          & 213.0          \\\\\n",
       "\t OTU3723:Dc-PosG &  1              &  95.00          & 140             &  5              & 2               &  1              & 140             & 434             & 297             &  4e-60          & 219.0          \\\\\n",
       "\t OTU4453:Dc-PosG &  2              & 100.00          & 143             &  0              & 0               &  1              & 143             & 463             & 321             &  5e-74          & 265.0          \\\\\n",
       "\t OTU12516:PosI   &  4              &  96.10          & 154             &  4              & 2               & 18              & 170             & 458             & 306             &  2e-69          & 250.0          \\\\\n",
       "\t OTU84:38w       &  9              & 100.00          &  31             &  0              & 0               & 27              &  57             & 530             & 500             &  1e-11          &  58.4          \\\\\n",
       "\t OTU8986:Dc-PosG & 13              &  99.39          & 163             &  1              & 0               & 15              & 177             & 475             & 313             &  2e-83          & 296.0          \\\\\n",
       "\t OTU10988:PosG   &  8              & 100.00          & 118             &  0              & 0               & 19              & 136             & 426             & 309             &  4e-60          & 219.0          \\\\\n",
       "\t OTU2446:2w      & 19              &  79.88          & 169             & 22              & 7               & 12              & 174             & 501             & 339             &  2e-28          & 113.0          \\\\\n",
       "\t OTU1599:9w      &  1              &  90.22          &  92             &  8              & 1               & 37              & 128             & 459             & 369             &  6e-30          & 119.0          \\\\\n",
       "\t OTU6688:19w     & 11              &  89.22          & 167             & 15              & 3               &  3              & 167             & 485             & 320             &  4e-56          & 206.0          \\\\\n",
       "\t OTU12503:PosG   & 16              &  95.43          & 175             &  2              & 4               &  8              & 181             & 492             & 323             &  1e-76          & 274.0          \\\\\n",
       "\\end{tabular}\n"
      ],
      "text/markdown": [
       "\n",
       "qseqid | sseqid | pident | length | mismatch | gapopen | qstart | qend | sstart | send | evalue | bitscore | \n",
       "|---|---|---|---|---|---|---|---|---|---|---|---|---|---|---|---|---|---|---|---|---|---|---|---|---|---|---|---|---|---|---|---|---|---|---|\n",
       "| OTU256:Dc-X     |  6              | 100.00          | 184             |  0              | 0               |  1              | 184             | 535             | 352             |  1e-96          | 340.0           | \n",
       "| OTU119:Dc-PosG  |  1              |  99.31          | 144             |  1              | 0               |  1              | 144             | 434             | 291             |  7e-73          | 261.0           | \n",
       "| OTU106:Dc-PosG  | 10              | 100.00          | 174             |  0              | 0               |  1              | 174             | 482             | 309             |  4e-91          | 322.0           | \n",
       "| OTU386:Dc-PosG  | 19              | 100.00          | 175             |  0              | 0               |  1              | 175             | 513             | 339             |  1e-91          | 324.0           | \n",
       "| OTU306:Dc-PosG  |  9              | 100.00          | 176             |  0              | 0               |  1              | 176             | 504             | 329             |  3e-92          | 326.0           | \n",
       "| OTU264:Dc-PosG  | 16              | 100.00          | 180             |  0              | 0               |  1              | 180             | 502             | 323             |  2e-94          | 333.0           | \n",
       "| OTU407:Dc-PosG  |  7              | 100.00          | 193             |  0              | 0               |  1              | 193             | 524             | 332             | 1e-101          | 357.0           | \n",
       "| OTU191:Dc-PosG  | 14              | 100.00          | 197             |  0              | 0               |  1              | 197             | 566             | 370             | 7e-104          | 364.0           | \n",
       "| OTU270:Dc-PosG  | 12              | 100.00          | 178             |  0              | 0               |  1              | 178             | 501             | 324             |  2e-93          | 329.0           | \n",
       "| OTU271:Dc-PosG  | 24              | 100.00          | 209             |  0              | 0               |  1              | 209             | 537             | 329             | 2e-110          | 387.0           | \n",
       "| OTU220:Dc-PosG  | 22              | 100.00          | 168             |  0              | 0               |  1              | 168             | 512             | 345             |  8e-88          | 311.0           | \n",
       "| OTU258:Dc-PosG  | 13              | 100.00          | 180             |  0              | 0               |  1              | 180             | 492             | 313             |  2e-94          | 333.0           | \n",
       "| OTU526:Dc-PosG  |  5              | 100.00          | 232             |  0              | 0               |  1              | 232             | 562             | 331             | 3e-123          | 429.0           | \n",
       "| OTU235:Dc-PosG  | 20              | 100.00          | 217             |  0              | 0               |  1              | 217             | 605             | 389             | 6e-115          | 401.0           | \n",
       "| OTU560:Dc-PosG  |  4              | 100.00          | 180             |  0              | 0               |  1              | 180             | 485             | 306             |  2e-94          | 333.0           | \n",
       "| OTU164:Dc-PosG  |  8              | 100.00          | 143             |  0              | 0               |  1              | 143             | 451             | 309             |  5e-74          | 265.0           | \n",
       "| OTU608:Dc-PosG  | 11              | 100.00          | 174             |  0              | 0               |  1              | 174             | 487             | 314             |  4e-91          | 322.0           | \n",
       "| OTU733:Dc-PosG  | 23              | 100.00          | 208             |  0              | 0               |  1              | 208             | 528             | 321             | 6e-110          | 385.0           | \n",
       "| OTU358:Dc-PosG  | 15              | 100.00          | 241             |  0              | 0               |  1              | 241             | 553             | 313             | 3e-128          | 446.0           | \n",
       "| OTU826:Dc-PosG  |  3              | 100.00          | 157             |  0              | 0               |  1              | 157             | 555             | 399             |  9e-82          | 291.0           | \n",
       "| OTU1153:Dc-PosI | 18              | 100.00          | 361             |  0              | 0               |  1              | 361             | 761             | 401             |  0e+00          | 667.0           | \n",
       "| OTU4210:Dc-PosG |  8              |  96.00          | 125             |  5              | 0               | 19              | 143             | 433             | 309             |  1e-55          | 204.0           | \n",
       "| OTU3674:Dc-PosG |  1              |  95.24          | 126             |  6              | 0               | 19              | 144             | 416             | 291             |  1e-54          | 200.0           | \n",
       "| OTU12510:PosG   |  8              |  95.62          | 137             |  4              | 2               |  1              | 135             | 451             | 315             |  4e-60          | 219.0           | \n",
       "| OTU3183:Dc-PosG |  8              |  94.89          | 137             |  5              | 2               |  1              | 135             | 451             | 315             |  2e-58          | 213.0           | \n",
       "| OTU3723:Dc-PosG |  1              |  95.00          | 140             |  5              | 2               |  1              | 140             | 434             | 297             |  4e-60          | 219.0           | \n",
       "| OTU4453:Dc-PosG |  2              | 100.00          | 143             |  0              | 0               |  1              | 143             | 463             | 321             |  5e-74          | 265.0           | \n",
       "| OTU12516:PosI   |  4              |  96.10          | 154             |  4              | 2               | 18              | 170             | 458             | 306             |  2e-69          | 250.0           | \n",
       "| OTU84:38w       |  9              | 100.00          |  31             |  0              | 0               | 27              |  57             | 530             | 500             |  1e-11          |  58.4           | \n",
       "| OTU8986:Dc-PosG | 13              |  99.39          | 163             |  1              | 0               | 15              | 177             | 475             | 313             |  2e-83          | 296.0           | \n",
       "| OTU10988:PosG   |  8              | 100.00          | 118             |  0              | 0               | 19              | 136             | 426             | 309             |  4e-60          | 219.0           | \n",
       "| OTU2446:2w      | 19              |  79.88          | 169             | 22              | 7               | 12              | 174             | 501             | 339             |  2e-28          | 113.0           | \n",
       "| OTU1599:9w      |  1              |  90.22          |  92             |  8              | 1               | 37              | 128             | 459             | 369             |  6e-30          | 119.0           | \n",
       "| OTU6688:19w     | 11              |  89.22          | 167             | 15              | 3               |  3              | 167             | 485             | 320             |  4e-56          | 206.0           | \n",
       "| OTU12503:PosG   | 16              |  95.43          | 175             |  2              | 4               |  8              | 181             | 492             | 323             |  1e-76          | 274.0           | \n",
       "\n",
       "\n"
      ],
      "text/plain": [
       "   qseqid          sseqid pident length mismatch gapopen qstart qend sstart\n",
       "1  OTU256:Dc-X      6     100.00 184     0       0        1     184  535   \n",
       "2  OTU119:Dc-PosG   1      99.31 144     1       0        1     144  434   \n",
       "3  OTU106:Dc-PosG  10     100.00 174     0       0        1     174  482   \n",
       "4  OTU386:Dc-PosG  19     100.00 175     0       0        1     175  513   \n",
       "5  OTU306:Dc-PosG   9     100.00 176     0       0        1     176  504   \n",
       "6  OTU264:Dc-PosG  16     100.00 180     0       0        1     180  502   \n",
       "7  OTU407:Dc-PosG   7     100.00 193     0       0        1     193  524   \n",
       "8  OTU191:Dc-PosG  14     100.00 197     0       0        1     197  566   \n",
       "9  OTU270:Dc-PosG  12     100.00 178     0       0        1     178  501   \n",
       "10 OTU271:Dc-PosG  24     100.00 209     0       0        1     209  537   \n",
       "11 OTU220:Dc-PosG  22     100.00 168     0       0        1     168  512   \n",
       "12 OTU258:Dc-PosG  13     100.00 180     0       0        1     180  492   \n",
       "13 OTU526:Dc-PosG   5     100.00 232     0       0        1     232  562   \n",
       "14 OTU235:Dc-PosG  20     100.00 217     0       0        1     217  605   \n",
       "15 OTU560:Dc-PosG   4     100.00 180     0       0        1     180  485   \n",
       "16 OTU164:Dc-PosG   8     100.00 143     0       0        1     143  451   \n",
       "17 OTU608:Dc-PosG  11     100.00 174     0       0        1     174  487   \n",
       "18 OTU733:Dc-PosG  23     100.00 208     0       0        1     208  528   \n",
       "19 OTU358:Dc-PosG  15     100.00 241     0       0        1     241  553   \n",
       "20 OTU826:Dc-PosG   3     100.00 157     0       0        1     157  555   \n",
       "21 OTU1153:Dc-PosI 18     100.00 361     0       0        1     361  761   \n",
       "22 OTU4210:Dc-PosG  8      96.00 125     5       0       19     143  433   \n",
       "23 OTU3674:Dc-PosG  1      95.24 126     6       0       19     144  416   \n",
       "24 OTU12510:PosG    8      95.62 137     4       2        1     135  451   \n",
       "25 OTU3183:Dc-PosG  8      94.89 137     5       2        1     135  451   \n",
       "26 OTU3723:Dc-PosG  1      95.00 140     5       2        1     140  434   \n",
       "27 OTU4453:Dc-PosG  2     100.00 143     0       0        1     143  463   \n",
       "28 OTU12516:PosI    4      96.10 154     4       2       18     170  458   \n",
       "29 OTU84:38w        9     100.00  31     0       0       27      57  530   \n",
       "30 OTU8986:Dc-PosG 13      99.39 163     1       0       15     177  475   \n",
       "31 OTU10988:PosG    8     100.00 118     0       0       19     136  426   \n",
       "32 OTU2446:2w      19      79.88 169    22       7       12     174  501   \n",
       "33 OTU1599:9w       1      90.22  92     8       1       37     128  459   \n",
       "34 OTU6688:19w     11      89.22 167    15       3        3     167  485   \n",
       "35 OTU12503:PosG   16      95.43 175     2       4        8     181  492   \n",
       "   send evalue bitscore\n",
       "1  352   1e-96 340.0   \n",
       "2  291   7e-73 261.0   \n",
       "3  309   4e-91 322.0   \n",
       "4  339   1e-91 324.0   \n",
       "5  329   3e-92 326.0   \n",
       "6  323   2e-94 333.0   \n",
       "7  332  1e-101 357.0   \n",
       "8  370  7e-104 364.0   \n",
       "9  324   2e-93 329.0   \n",
       "10 329  2e-110 387.0   \n",
       "11 345   8e-88 311.0   \n",
       "12 313   2e-94 333.0   \n",
       "13 331  3e-123 429.0   \n",
       "14 389  6e-115 401.0   \n",
       "15 306   2e-94 333.0   \n",
       "16 309   5e-74 265.0   \n",
       "17 314   4e-91 322.0   \n",
       "18 321  6e-110 385.0   \n",
       "19 313  3e-128 446.0   \n",
       "20 399   9e-82 291.0   \n",
       "21 401   0e+00 667.0   \n",
       "22 309   1e-55 204.0   \n",
       "23 291   1e-54 200.0   \n",
       "24 315   4e-60 219.0   \n",
       "25 315   2e-58 213.0   \n",
       "26 297   4e-60 219.0   \n",
       "27 321   5e-74 265.0   \n",
       "28 306   2e-69 250.0   \n",
       "29 500   1e-11  58.4   \n",
       "30 313   2e-83 296.0   \n",
       "31 309   4e-60 219.0   \n",
       "32 339   2e-28 113.0   \n",
       "33 369   6e-30 119.0   \n",
       "34 320   4e-56 206.0   \n",
       "35 323   1e-76 274.0   "
      ]
     },
     "metadata": {},
     "output_type": "display_data"
    }
   ],
   "source": [
    "blast <- read.csv(\"mcblast_danITS95.csv\", stringsAsFactors=FALSE)\n",
    "blast"
   ]
  },
  {
   "cell_type": "code",
   "execution_count": 4,
   "metadata": {},
   "outputs": [],
   "source": [
    "goodblast <- blast[blast$length > 100,]"
   ]
  },
  {
   "cell_type": "markdown",
   "metadata": {},
   "source": [
    "Check MC presence/absence..."
   ]
  },
  {
   "cell_type": "code",
   "execution_count": 5,
   "metadata": {
    "scrolled": false
   },
   "outputs": [
    {
     "data": {
      "text/html": [
       "<ol class=list-inline>\n",
       "\t<li>TRUE</li>\n",
       "\t<li>TRUE</li>\n",
       "\t<li>TRUE</li>\n",
       "\t<li>TRUE</li>\n",
       "\t<li>TRUE</li>\n",
       "\t<li>TRUE</li>\n",
       "\t<li>TRUE</li>\n",
       "\t<li>TRUE</li>\n",
       "\t<li>TRUE</li>\n",
       "\t<li>TRUE</li>\n",
       "\t<li>TRUE</li>\n",
       "\t<li>TRUE</li>\n",
       "\t<li>TRUE</li>\n",
       "\t<li>TRUE</li>\n",
       "\t<li>TRUE</li>\n",
       "\t<li>TRUE</li>\n",
       "\t<li>FALSE</li>\n",
       "\t<li>TRUE</li>\n",
       "\t<li>TRUE</li>\n",
       "\t<li>TRUE</li>\n",
       "\t<li>FALSE</li>\n",
       "\t<li>TRUE</li>\n",
       "\t<li>TRUE</li>\n",
       "\t<li>TRUE</li>\n",
       "</ol>\n"
      ],
      "text/latex": [
       "\\begin{enumerate*}\n",
       "\\item TRUE\n",
       "\\item TRUE\n",
       "\\item TRUE\n",
       "\\item TRUE\n",
       "\\item TRUE\n",
       "\\item TRUE\n",
       "\\item TRUE\n",
       "\\item TRUE\n",
       "\\item TRUE\n",
       "\\item TRUE\n",
       "\\item TRUE\n",
       "\\item TRUE\n",
       "\\item TRUE\n",
       "\\item TRUE\n",
       "\\item TRUE\n",
       "\\item TRUE\n",
       "\\item FALSE\n",
       "\\item TRUE\n",
       "\\item TRUE\n",
       "\\item TRUE\n",
       "\\item FALSE\n",
       "\\item TRUE\n",
       "\\item TRUE\n",
       "\\item TRUE\n",
       "\\end{enumerate*}\n"
      ],
      "text/markdown": [
       "1. TRUE\n",
       "2. TRUE\n",
       "3. TRUE\n",
       "4. TRUE\n",
       "5. TRUE\n",
       "6. TRUE\n",
       "7. TRUE\n",
       "8. TRUE\n",
       "9. TRUE\n",
       "10. TRUE\n",
       "11. TRUE\n",
       "12. TRUE\n",
       "13. TRUE\n",
       "14. TRUE\n",
       "15. TRUE\n",
       "16. TRUE\n",
       "17. FALSE\n",
       "18. TRUE\n",
       "19. TRUE\n",
       "20. TRUE\n",
       "21. FALSE\n",
       "22. TRUE\n",
       "23. TRUE\n",
       "24. TRUE\n",
       "\n",
       "\n"
      ],
      "text/plain": [
       " [1]  TRUE  TRUE  TRUE  TRUE  TRUE  TRUE  TRUE  TRUE  TRUE  TRUE  TRUE  TRUE\n",
       "[13]  TRUE  TRUE  TRUE  TRUE FALSE  TRUE  TRUE  TRUE FALSE  TRUE  TRUE  TRUE"
      ]
     },
     "metadata": {},
     "output_type": "display_data"
    }
   ],
   "source": [
    "1:24 %in% goodblast$sseqid"
   ]
  },
  {
   "cell_type": "code",
   "execution_count": 6,
   "metadata": {
    "scrolled": true
   },
   "outputs": [
    {
     "data": {
      "text/html": [
       "<ol class=list-inline>\n",
       "\t<li>1</li>\n",
       "\t<li>2</li>\n",
       "\t<li>3</li>\n",
       "\t<li>4</li>\n",
       "\t<li>5</li>\n",
       "\t<li>6</li>\n",
       "\t<li>7</li>\n",
       "\t<li>8</li>\n",
       "\t<li>9</li>\n",
       "\t<li>10</li>\n",
       "\t<li>11</li>\n",
       "\t<li>12</li>\n",
       "\t<li>13</li>\n",
       "\t<li>14</li>\n",
       "\t<li>15</li>\n",
       "\t<li>16</li>\n",
       "\t<li>18</li>\n",
       "\t<li>19</li>\n",
       "\t<li>20</li>\n",
       "\t<li>22</li>\n",
       "\t<li>23</li>\n",
       "\t<li>24</li>\n",
       "</ol>\n"
      ],
      "text/latex": [
       "\\begin{enumerate*}\n",
       "\\item 1\n",
       "\\item 2\n",
       "\\item 3\n",
       "\\item 4\n",
       "\\item 5\n",
       "\\item 6\n",
       "\\item 7\n",
       "\\item 8\n",
       "\\item 9\n",
       "\\item 10\n",
       "\\item 11\n",
       "\\item 12\n",
       "\\item 13\n",
       "\\item 14\n",
       "\\item 15\n",
       "\\item 16\n",
       "\\item 18\n",
       "\\item 19\n",
       "\\item 20\n",
       "\\item 22\n",
       "\\item 23\n",
       "\\item 24\n",
       "\\end{enumerate*}\n"
      ],
      "text/markdown": [
       "1. 1\n",
       "2. 2\n",
       "3. 3\n",
       "4. 4\n",
       "5. 5\n",
       "6. 6\n",
       "7. 7\n",
       "8. 8\n",
       "9. 9\n",
       "10. 10\n",
       "11. 11\n",
       "12. 12\n",
       "13. 13\n",
       "14. 14\n",
       "15. 15\n",
       "16. 16\n",
       "17. 18\n",
       "18. 19\n",
       "19. 20\n",
       "20. 22\n",
       "21. 23\n",
       "22. 24\n",
       "\n",
       "\n"
      ],
      "text/plain": [
       " [1]  1  2  3  4  5  6  7  8  9 10 11 12 13 14 15 16 18 19 20 22 23 24"
      ]
     },
     "metadata": {},
     "output_type": "display_data"
    },
    {
     "data": {
      "text/html": [
       "22"
      ],
      "text/latex": [
       "22"
      ],
      "text/markdown": [
       "22"
      ],
      "text/plain": [
       "[1] 22"
      ]
     },
     "metadata": {},
     "output_type": "display_data"
    }
   ],
   "source": [
    "sort(unique(goodblast$sseqid)); length(unique(goodblast$sseqid))"
   ]
  },
  {
   "cell_type": "markdown",
   "metadata": {},
   "source": [
    "Still missing MC17."
   ]
  },
  {
   "cell_type": "code",
   "execution_count": 12,
   "metadata": {},
   "outputs": [],
   "source": [
    "member <- names(danITS95) %in% goodblast$qseqid ## danITS95 created above \n",
    "MC <- vector(length = length(danITS95))\n",
    "danITS95bar <- data.frame(cbind(danITS95, member, MC))\n",
    "for (i in 1:nrow(danITS95bar)){\n",
    "        if (rownames(danITS95bar)[i] %in% goodblast$qseqid) {\n",
    "                search <- grep(rownames(danITS95bar)[i], goodblast$qseqid)\n",
    "                danITS95bar$MC[i] <- goodblast$sseqid[search]\n",
    "        }\n",
    "    }"
   ]
  },
  {
   "cell_type": "code",
   "execution_count": 16,
   "metadata": {},
   "outputs": [
    {
     "data": {
      "image/png": "[encoded data removed]",
      "text/plain": [
       "Plot with title “Dan ITS Positive Control\n",
       "95% similarity radius OTU's”"
      ]
     },
     "metadata": {},
     "output_type": "display_data"
    }
   ],
   "source": [
    "options(repr.plot.width = 10, repr.plot.height = 5)\n",
    "barplot(danITS95bar$danITS95, names.arg=NULL, col = danITS95bar$member,\n",
    "        main=\"Dan ITS Positive Control\\n95% similarity radius OTU's\",\n",
    "        xlab='OTUs present in illumina positive control sample')\n",
    "        legend(\"top\", legend=c('member','non-member'), fill=c(1,0))"
   ]
  },
  {
   "cell_type": "code",
   "execution_count": 17,
   "metadata": {
    "scrolled": false
   },
   "outputs": [
    {
     "data": {
      "image/png": "[encoded data removed]",
      "text/plain": [
       "Plot with title “Dan ITS Positive Control\n",
       "95% similarity radius OTU's\n",
       "log-transformed”"
      ]
     },
     "metadata": {},
     "output_type": "display_data"
    }
   ],
   "source": [
    "options(repr.plot.width = 10, repr.plot.height = 5)\n",
    "barplot(danITS95bar$danITS95, names.arg=NULL, col = danITS95bar$member,\n",
    "        log=\"y\", main=\"Dan ITS Positive Control\\n95% similarity radius OTU's\\nlog-transformed\",\n",
    "        xlab='OTUs present in illumina positive control sample')\n",
    "        legend(\"top\", legend=c('member','non-member'), fill=c(1,0))"
   ]
  },
  {
   "cell_type": "markdown",
   "metadata": {},
   "source": [
    "Mostly intended members of the mock community were present... let's look at OTU splitting:"
   ]
  },
  {
   "cell_type": "code",
   "execution_count": 19,
   "metadata": {
    "scrolled": false
   },
   "outputs": [
    {
     "data": {
      "text/plain": [
       "\n",
       " 1  2  3  4  5  6  7  8  9 10 11 12 13 14 15 16 18 19 20 22 23 24 \n",
       " 3  1  1  2  1  1  1  5  1  1  2  1  2  1  1  2  1  2  1  1  1  1 "
      ]
     },
     "metadata": {},
     "output_type": "display_data"
    }
   ],
   "source": [
    "dtab <- table(danITS95bar$MC)\n",
    "dtab <- dtab[-1] #exclude non-members\n",
    "dtab"
   ]
  },
  {
   "cell_type": "markdown",
   "metadata": {},
   "source": [
    "Huh, seems like even more splitting in the ITS..."
   ]
  },
  {
   "cell_type": "code",
   "execution_count": 20,
   "metadata": {},
   "outputs": [],
   "source": [
    "stackmat <- matrix(nrow=max(dtab), ncol=24)\n",
    "stackmat[] <- 0\n",
    "stackmatnames <- paste(\"MC\", 1:24, sep='')\n",
    "colnames(stackmat) <- stackmatnames\n",
    "\n",
    "for (i in 1:24){\n",
    "        bb <- danITS95bar[danITS95bar$MC == i,, drop=FALSE]\n",
    "        for (j in 1:nrow(bb)){stackmat[j,i] <- bb$danITS95[j]}\n",
    "    }"
   ]
  },
  {
   "cell_type": "code",
   "execution_count": 21,
   "metadata": {
    "scrolled": true
   },
   "outputs": [
    {
     "data": {
      "text/html": [
       "<table>\n",
       "<thead><tr><th scope=col>MC6</th><th scope=col>MC1</th><th scope=col>MC10</th><th scope=col>MC19</th><th scope=col>MC9</th><th scope=col>MC16</th><th scope=col>MC7</th><th scope=col>MC14</th><th scope=col>MC12</th><th scope=col>MC24</th><th scope=col>⋯</th><th scope=col>MC20</th><th scope=col>MC4</th><th scope=col>MC8</th><th scope=col>MC11</th><th scope=col>MC23</th><th scope=col>MC15</th><th scope=col>MC3</th><th scope=col>MC18</th><th scope=col>MC2</th><th scope=col>MC17</th></tr></thead>\n",
       "<tbody>\n",
       "\t<tr><td>3669</td><td>3385</td><td>2865</td><td>2566</td><td>2241</td><td>2239</td><td>2185</td><td>2137</td><td>2038</td><td>1906</td><td>⋯   </td><td>1710</td><td>1590</td><td>1542</td><td>1427</td><td>1303</td><td>891 </td><td>842 </td><td>433 </td><td>4   </td><td>NA  </td></tr>\n",
       "\t<tr><td>   0</td><td>   7</td><td>   0</td><td>   1</td><td>   0</td><td>   1</td><td>   0</td><td>   0</td><td>   0</td><td>   0</td><td>⋯   </td><td>   0</td><td>   2</td><td>   8</td><td>   1</td><td>   0</td><td>  0 </td><td>  0 </td><td>  0 </td><td>0   </td><td> 0  </td></tr>\n",
       "\t<tr><td>   0</td><td>   4</td><td>   0</td><td>   0</td><td>   0</td><td>   0</td><td>   0</td><td>   0</td><td>   0</td><td>   0</td><td>⋯   </td><td>   0</td><td>   0</td><td>   6</td><td>   0</td><td>   0</td><td>  0 </td><td>  0 </td><td>  0 </td><td>0   </td><td> 0  </td></tr>\n",
       "\t<tr><td>   0</td><td>   0</td><td>   0</td><td>   0</td><td>   0</td><td>   0</td><td>   0</td><td>   0</td><td>   0</td><td>   0</td><td>⋯   </td><td>   0</td><td>   0</td><td>   5</td><td>   0</td><td>   0</td><td>  0 </td><td>  0 </td><td>  0 </td><td>0   </td><td> 0  </td></tr>\n",
       "\t<tr><td>   0</td><td>   0</td><td>   0</td><td>   0</td><td>   0</td><td>   0</td><td>   0</td><td>   0</td><td>   0</td><td>   0</td><td>⋯   </td><td>   0</td><td>   0</td><td>   1</td><td>   0</td><td>   0</td><td>  0 </td><td>  0 </td><td>  0 </td><td>0   </td><td> 0  </td></tr>\n",
       "</tbody>\n",
       "</table>\n"
      ],
      "text/latex": [
       "\\begin{tabular}{lllllllllllllllllllllll}\n",
       " MC6 & MC1 & MC10 & MC19 & MC9 & MC16 & MC7 & MC14 & MC12 & MC24 & ⋯ & MC20 & MC4 & MC8 & MC11 & MC23 & MC15 & MC3 & MC18 & MC2 & MC17\\\\\n",
       "\\hline\n",
       "\t 3669 & 3385 & 2865 & 2566 & 2241 & 2239 & 2185 & 2137 & 2038 & 1906 & ⋯    & 1710 & 1590 & 1542 & 1427 & 1303 & 891  & 842  & 433  & 4    & NA  \\\\\n",
       "\t    0 &    7 &    0 &    1 &    0 &    1 &    0 &    0 &    0 &    0 & ⋯    &    0 &    2 &    8 &    1 &    0 &   0  &   0  &   0  & 0    &  0  \\\\\n",
       "\t    0 &    4 &    0 &    0 &    0 &    0 &    0 &    0 &    0 &    0 & ⋯    &    0 &    0 &    6 &    0 &    0 &   0  &   0  &   0  & 0    &  0  \\\\\n",
       "\t    0 &    0 &    0 &    0 &    0 &    0 &    0 &    0 &    0 &    0 & ⋯    &    0 &    0 &    5 &    0 &    0 &   0  &   0  &   0  & 0    &  0  \\\\\n",
       "\t    0 &    0 &    0 &    0 &    0 &    0 &    0 &    0 &    0 &    0 & ⋯    &    0 &    0 &    1 &    0 &    0 &   0  &   0  &   0  & 0    &  0  \\\\\n",
       "\\end{tabular}\n"
      ],
      "text/markdown": [
       "\n",
       "MC6 | MC1 | MC10 | MC19 | MC9 | MC16 | MC7 | MC14 | MC12 | MC24 | ⋯ | MC20 | MC4 | MC8 | MC11 | MC23 | MC15 | MC3 | MC18 | MC2 | MC17 | \n",
       "|---|---|---|---|---|\n",
       "| 3669 | 3385 | 2865 | 2566 | 2241 | 2239 | 2185 | 2137 | 2038 | 1906 | ⋯    | 1710 | 1590 | 1542 | 1427 | 1303 | 891  | 842  | 433  | 4    | NA   | \n",
       "|    0 |    7 |    0 |    1 |    0 |    1 |    0 |    0 |    0 |    0 | ⋯    |    0 |    2 |    8 |    1 |    0 |   0  |   0  |   0  | 0    |  0   | \n",
       "|    0 |    4 |    0 |    0 |    0 |    0 |    0 |    0 |    0 |    0 | ⋯    |    0 |    0 |    6 |    0 |    0 |   0  |   0  |   0  | 0    |  0   | \n",
       "|    0 |    0 |    0 |    0 |    0 |    0 |    0 |    0 |    0 |    0 | ⋯    |    0 |    0 |    5 |    0 |    0 |   0  |   0  |   0  | 0    |  0   | \n",
       "|    0 |    0 |    0 |    0 |    0 |    0 |    0 |    0 |    0 |    0 | ⋯    |    0 |    0 |    1 |    0 |    0 |   0  |   0  |   0  | 0    |  0   | \n",
       "\n",
       "\n"
      ],
      "text/plain": [
       "     MC6  MC1  MC10 MC19 MC9  MC16 MC7  MC14 MC12 MC24 ⋯ MC20 MC4  MC8  MC11\n",
       "[1,] 3669 3385 2865 2566 2241 2239 2185 2137 2038 1906 ⋯ 1710 1590 1542 1427\n",
       "[2,]    0    7    0    1    0    1    0    0    0    0 ⋯    0    2    8    1\n",
       "[3,]    0    4    0    0    0    0    0    0    0    0 ⋯    0    0    6    0\n",
       "[4,]    0    0    0    0    0    0    0    0    0    0 ⋯    0    0    5    0\n",
       "[5,]    0    0    0    0    0    0    0    0    0    0 ⋯    0    0    1    0\n",
       "     MC23 MC15 MC3 MC18 MC2 MC17\n",
       "[1,] 1303 891  842 433  4   NA  \n",
       "[2,]    0   0    0   0  0    0  \n",
       "[3,]    0   0    0   0  0    0  \n",
       "[4,]    0   0    0   0  0    0  \n",
       "[5,]    0   0    0   0  0    0  "
      ]
     },
     "metadata": {},
     "output_type": "display_data"
    }
   ],
   "source": [
    "stackmat <- stackmat[,-21] ## no MC21, wasn't put into MC mix\n",
    "## sort by read abundances:\n",
    "stackmat <- stackmat[,order(colSums(stackmat), decreasing = TRUE)]\n",
    "stackmat"
   ]
  },
  {
   "cell_type": "code",
   "execution_count": 22,
   "metadata": {},
   "outputs": [
    {
     "data": {
      "image/png": "[encoded data removed]",
      "text/plain": [
       "Plot with title “Dan ITS Positive Control 95% radius”"
      ]
     },
     "metadata": {},
     "output_type": "display_data"
    }
   ],
   "source": [
    "## make our colors from a palette. Randomize for better separation\n",
    "bcols <- rep(sample(1:ncol(stackmat), replace=FALSE, size=23), each=nrow(stackmat))\n",
    "\n",
    "par(cex.axis=.5)\n",
    "## we can see our lower abundances better with sqrt:\n",
    "barplot(sqrt(stackmat), beside = TRUE, col = bcols, main=\"Dan ITS Positive Control 95% radius\") \n",
    "par(mfrow=c(1,1))"
   ]
  },
  {
   "cell_type": "markdown",
   "metadata": {},
   "source": [
    "Same basic story, as far as OTU splitting."
   ]
  },
  {
   "cell_type": "markdown",
   "metadata": {},
   "source": [
    "<a id='cleanup'><h3>Cleanup using controls</h3></a>\n",
    "\n",
    "We'll use our positive and negative controls to get estimates of rates of contamination and tag-switching, and institute cutoffs to reduce error from these sources. This is our pipeline for getting our reads ready to ask ecological questions. "
   ]
  },
  {
   "cell_type": "markdown",
   "metadata": {},
   "source": [
    "<a id='lowSamp'><h4>Removing low abundance samples:</h4></a>"
   ]
  },
  {
   "cell_type": "code",
   "execution_count": 24,
   "metadata": {
    "scrolled": true
   },
   "outputs": [
    {
     "data": {
      "text/html": [
       "<dl class=dl-horizontal>\n",
       "\t<dt>106leaf</dt>\n",
       "\t\t<dd>8</dd>\n",
       "\t<dt>112leafA</dt>\n",
       "\t\t<dd>17</dd>\n",
       "\t<dt>113leafA</dt>\n",
       "\t\t<dd>78</dd>\n",
       "\t<dt>113leafB</dt>\n",
       "\t\t<dd>24</dd>\n",
       "\t<dt>126leafB</dt>\n",
       "\t\t<dd>20</dd>\n",
       "\t<dt>18leaf</dt>\n",
       "\t\t<dd>1648</dd>\n",
       "\t<dt>74leaf</dt>\n",
       "\t\t<dd>341</dd>\n",
       "\t<dt>86leaf</dt>\n",
       "\t\t<dd>1769</dd>\n",
       "\t<dt>91leaf</dt>\n",
       "\t\t<dd>12</dd>\n",
       "\t<dt>Neg</dt>\n",
       "\t\t<dd>1501</dd>\n",
       "</dl>\n"
      ],
      "text/latex": [
       "\\begin{description*}\n",
       "\\item[106leaf] 8\n",
       "\\item[112leafA] 17\n",
       "\\item[113leafA] 78\n",
       "\\item[113leafB] 24\n",
       "\\item[126leafB] 20\n",
       "\\item[18leaf] 1648\n",
       "\\item[74leaf] 341\n",
       "\\item[86leaf] 1769\n",
       "\\item[91leaf] 12\n",
       "\\item[Neg] 1501\n",
       "\\end{description*}\n"
      ],
      "text/markdown": [
       "106leaf\n",
       ":   8112leafA\n",
       ":   17113leafA\n",
       ":   78113leafB\n",
       ":   24126leafB\n",
       ":   2018leaf\n",
       ":   164874leaf\n",
       ":   34186leaf\n",
       ":   176991leaf\n",
       ":   12Neg\n",
       ":   1501\n",
       "\n"
      ],
      "text/plain": [
       " 106leaf 112leafA 113leafA 113leafB 126leafB   18leaf   74leaf   86leaf \n",
       "       8       17       78       24       20     1648      341     1769 \n",
       "  91leaf      Neg \n",
       "      12     1501 "
      ]
     },
     "metadata": {},
     "output_type": "display_data"
    }
   ],
   "source": [
    "sample_sums(biom95)[sample_sums(biom95) < 2000]"
   ]
  },
  {
   "cell_type": "markdown",
   "metadata": {},
   "source": [
    "Looks like some of the leaf sites will be lost... Controls are low also, but we need to get rid of these anyway later."
   ]
  },
  {
   "cell_type": "code",
   "execution_count": 37,
   "metadata": {},
   "outputs": [],
   "source": [
    "biom95eco <- subset_samples(biom95, SorC=='Sample')\n",
    "biom95eco_hiread <- prune_samples(sample_sums(biom95eco)>=2000, biom95eco)"
   ]
  },
  {
   "cell_type": "code",
   "execution_count": 38,
   "metadata": {
    "scrolled": false
   },
   "outputs": [
    {
     "data": {
      "text/plain": [
       "phyloseq-class experiment-level object\n",
       "otu_table()   OTU Table:         [ 11588 taxa and 214 samples ]\n",
       "sample_data() Sample Data:       [ 214 samples by 11 sample variables ]\n",
       "tax_table()   Taxonomy Table:    [ 11588 taxa by 7 taxonomic ranks ]"
      ]
     },
     "metadata": {},
     "output_type": "display_data"
    }
   ],
   "source": [
    "biom95eco_hiread"
   ]
  },
  {
   "cell_type": "markdown",
   "metadata": {},
   "source": [
    "<a id='minAbund'><h4>Minimum abundances of observations and contaminant removal</h4></a>"
   ]
  },
  {
   "cell_type": "markdown",
   "metadata": {},
   "source": [
    "I define an observation as the presence of a OTU within a sample, regardless of read abundance. But to be acknowledged as a \"real\" observation, it is reasonable to ask that an observation meet a certain abundance, or we can throw it out. To address spurious OTUs that result from OTU-splitting, we can define this abundance threshold by looking a little more closely at our genomic positive and negative controls:"
   ]
  },
  {
   "cell_type": "code",
   "execution_count": 33,
   "metadata": {
    "scrolled": true
   },
   "outputs": [
    {
     "data": {
      "image/png": "[encoded data removed]",
      "text/plain": [
       "Plot with title “Dan genomic positive Control 95% radius”"
      ]
     },
     "metadata": {},
     "output_type": "display_data"
    }
   ],
   "source": [
    "smShort <- stackmat ## rerun genomic control code above to get this. \n",
    "smShort[smShort > 150] <- 150\n",
    "#save(smShort, file='posGtrun.rda')\n",
    "barplot(smShort, beside = TRUE, main=\"Dan genomic positive Control 95% radius\") \n",
    "par(mfrow=c(1,1))"
   ]
  },
  {
   "cell_type": "code",
   "execution_count": 32,
   "metadata": {},
   "outputs": [
    {
     "data": {
      "text/html": [
       "<strong>png:</strong> 2"
      ],
      "text/latex": [
       "\\textbf{png:} 2"
      ],
      "text/markdown": [
       "**png:** 2"
      ],
      "text/plain": [
       "png \n",
       "  2 "
      ]
     },
     "metadata": {},
     "output_type": "display_data"
    }
   ],
   "source": [
    "svg(file='outsplitting_genomic.svg')\n",
    "smShort <- stackmat ## rerun genomic control code above to get this. \n",
    "smShort[smShort > 150] <- 150\n",
    "barplot(smShort, beside = TRUE, main=\"Dan genomic positive Control 95% radius\") \n",
    "par(mfrow=c(1,1))\n",
    "dev.off()"
   ]
  },
  {
   "cell_type": "markdown",
   "metadata": {},
   "source": [
    "So to control for OTU splitting, looks like, in my positive control, most OTUs that are a result of splitting in the genomic positive control are at ~40 reads. For tag switching, if we look at the tagswitched OTUs in our negative control, we see that in our negative control that tag switching events seem to be ~100 reads or lower ([graph here](#NegGraph)):"
   ]
  },
  {
   "cell_type": "code",
   "execution_count": 102,
   "metadata": {
    "scrolled": false
   },
   "outputs": [
    {
     "data": {
      "text/html": [
       "<table>\n",
       "<thead><tr><th></th><th scope=col>reads</th><th scope=col>member</th><th scope=col>MC</th><th scope=col>Genus</th><th scope=col>Species</th></tr></thead>\n",
       "<tbody>\n",
       "\t<tr><th scope=row>OTU306:Dc-PosG</th><td>96                                  </td><td>TRUE                                </td><td> 9                                  </td><td>NoID                                </td><td>NoID                                </td></tr>\n",
       "\t<tr><th scope=row>OTU386:Dc-PosG</th><td>88                                  </td><td>TRUE                                </td><td>19                                  </td><td>Nemania                             </td><td>Nemania_aenea_SH217392.07FU         </td></tr>\n",
       "\t<tr><th scope=row>OTU164:Dc-PosG</th><td>51                                  </td><td>TRUE                                </td><td> 8                                  </td><td>Mycosphaerella                      </td><td>Mycosphaerella_rubella_SH206848.07FU</td></tr>\n",
       "\t<tr><th scope=row>OTU560:Dc-PosG</th><td>39                                  </td><td>TRUE                                </td><td> 4                                  </td><td>Diaporthe                           </td><td>Diaporthe_cynaroidis_SH090428.07FU  </td></tr>\n",
       "\t<tr><th scope=row>OTU256:Dc-X</th><td>35                                  </td><td>TRUE                                </td><td> 6                                  </td><td>Trametes                            </td><td>NoID                                </td></tr>\n",
       "\t<tr><th scope=row>OTU119:Dc-PosG</th><td> 1                                  </td><td>TRUE                                </td><td> 1                                  </td><td>Phaeocryptopus                      </td><td>NoID                                </td></tr>\n",
       "\t<tr><th scope=row>OTU220:Dc-PosG</th><td> 1                                  </td><td>TRUE                                </td><td>22                                  </td><td>NoID                                </td><td>NoID                                </td></tr>\n",
       "\t<tr><th scope=row>OTU235:Dc-PosG</th><td> 1                                  </td><td>TRUE                                </td><td>20                                  </td><td>Psilocybe                           </td><td>Psilocybe_cyanescens_SH262625.07FU  </td></tr>\n",
       "\t<tr><th scope=row>OTU264:Dc-PosG</th><td> 1                                  </td><td>TRUE                                </td><td>16                                  </td><td>Xylaria                             </td><td>NoID                                </td></tr>\n",
       "</tbody>\n",
       "</table>\n"
      ],
      "text/latex": [
       "\\begin{tabular}{r|lllll}\n",
       "  & reads & member & MC & Genus & Species\\\\\n",
       "\\hline\n",
       "\tOTU306:Dc-PosG & 96                                   & TRUE                                 &  9                                   & NoID                                 & NoID                                \\\\\n",
       "\tOTU386:Dc-PosG & 88                                       & TRUE                                     & 19                                       & Nemania                                  & Nemania\\_aenea\\_SH217392.07FU         \\\\\n",
       "\tOTU164:Dc-PosG & 51                                       & TRUE                                     &  8                                       & Mycosphaerella                           & Mycosphaerella\\_rubella\\_SH206848.07FU\\\\\n",
       "\tOTU560:Dc-PosG & 39                                       & TRUE                                     &  4                                       & Diaporthe                                & Diaporthe\\_cynaroidis\\_SH090428.07FU  \\\\\n",
       "\tOTU256:Dc-X & 35                                   & TRUE                                 &  6                                   & Trametes                             & NoID                                \\\\\n",
       "\tOTU119:Dc-PosG &  1                                   & TRUE                                 &  1                                   & Phaeocryptopus                       & NoID                                \\\\\n",
       "\tOTU220:Dc-PosG &  1                                   & TRUE                                 & 22                                   & NoID                                 & NoID                                \\\\\n",
       "\tOTU235:Dc-PosG &  1                                       & TRUE                                     & 20                                       & Psilocybe                                & Psilocybe\\_cyanescens\\_SH262625.07FU  \\\\\n",
       "\tOTU264:Dc-PosG &  1                                   & TRUE                                 & 16                                   & Xylaria                              & NoID                                \\\\\n",
       "\\end{tabular}\n"
      ],
      "text/markdown": [
       "\n",
       "| <!--/--> | reads | member | MC | Genus | Species | \n",
       "|---|---|---|---|---|---|---|---|---|\n",
       "| OTU306:Dc-PosG | 96                                   | TRUE                                 |  9                                   | NoID                                 | NoID                                 | \n",
       "| OTU386:Dc-PosG | 88                                   | TRUE                                 | 19                                   | Nemania                              | Nemania_aenea_SH217392.07FU          | \n",
       "| OTU164:Dc-PosG | 51                                   | TRUE                                 |  8                                   | Mycosphaerella                       | Mycosphaerella_rubella_SH206848.07FU | \n",
       "| OTU560:Dc-PosG | 39                                   | TRUE                                 |  4                                   | Diaporthe                            | Diaporthe_cynaroidis_SH090428.07FU   | \n",
       "| OTU256:Dc-X | 35                                   | TRUE                                 |  6                                   | Trametes                             | NoID                                 | \n",
       "| OTU119:Dc-PosG |  1                                   | TRUE                                 |  1                                   | Phaeocryptopus                       | NoID                                 | \n",
       "| OTU220:Dc-PosG |  1                                   | TRUE                                 | 22                                   | NoID                                 | NoID                                 | \n",
       "| OTU235:Dc-PosG |  1                                   | TRUE                                 | 20                                   | Psilocybe                            | Psilocybe_cyanescens_SH262625.07FU   | \n",
       "| OTU264:Dc-PosG |  1                                   | TRUE                                 | 16                                   | Xylaria                              | NoID                                 | \n",
       "\n",
       "\n"
      ],
      "text/plain": [
       "               reads member MC Genus         \n",
       "OTU306:Dc-PosG 96    TRUE    9 NoID          \n",
       "OTU386:Dc-PosG 88    TRUE   19 Nemania       \n",
       "OTU164:Dc-PosG 51    TRUE    8 Mycosphaerella\n",
       "OTU560:Dc-PosG 39    TRUE    4 Diaporthe     \n",
       "OTU256:Dc-X    35    TRUE    6 Trametes      \n",
       "OTU119:Dc-PosG  1    TRUE    1 Phaeocryptopus\n",
       "OTU220:Dc-PosG  1    TRUE   22 NoID          \n",
       "OTU235:Dc-PosG  1    TRUE   20 Psilocybe     \n",
       "OTU264:Dc-PosG  1    TRUE   16 Xylaria       \n",
       "               Species                             \n",
       "OTU306:Dc-PosG NoID                                \n",
       "OTU386:Dc-PosG Nemania_aenea_SH217392.07FU         \n",
       "OTU164:Dc-PosG Mycosphaerella_rubella_SH206848.07FU\n",
       "OTU560:Dc-PosG Diaporthe_cynaroidis_SH090428.07FU  \n",
       "OTU256:Dc-X    NoID                                \n",
       "OTU119:Dc-PosG NoID                                \n",
       "OTU220:Dc-PosG NoID                                \n",
       "OTU235:Dc-PosG Psilocybe_cyanescens_SH262625.07FU  \n",
       "OTU264:Dc-PosG NoID                                "
      ]
     },
     "metadata": {},
     "output_type": "display_data"
    }
   ],
   "source": [
    "Neg95bar[Neg95bar$member==TRUE,]"
   ]
  },
  {
   "cell_type": "markdown",
   "metadata": {},
   "source": [
    "But I don't want to cut off observations at ~100 reads, we would lose a lot of information. This would begin to be as intellectually dishonest as doing no removal at all, erring too far in excluding real information from our results. As per our previous analysis, it seems about require a minimum threshold of 60 reads per observation in our wood samples. This eliminates all the observed events of OTU splitting, and 7 out of 9 tag switch events in our negative control. It also keeps us in line with our previous analysis. This threshold of 60 reads does eleminate the 7 lowest-abundance members of our 22 detected members of the mock community, indicating a large loss of information. Always a trade-off. \n",
    "\n",
    "As per our previous analysis, we'll scale up the number of leaf reads to be proportionate. To quote myself:\n",
    "\n",
    ">We have no positive controls from the leaf data, since Roo sequenced those in a separate study, so for now we'll assume that these samples have a +/- similar level of error from tag-switching. To figure the level of subtraction for tag-switching and splinter OTUs in his study, we'll subtract the same proportion of reads/library as the wood. Relative to the total number of reads (4,521,655) in the wood library, this is a reduction in each OTU/sample observation of 60/4,521,655 = 0.000013269 times the library size. If we multiply the size of the leaf library by this, we get (0.000013269)x(10,751,750 reads) = 142.6972, or 143 reads. \n",
    "\n",
    "We'll round to 140 reads.\n",
    "\n",
    "In addition, this is a good time to remove the contaminants we find in our controls, while the leaf and wood abundances are being considered separately. We're going to remove all of our mock community members from wherever they appear in the study in a downstream step anyway (see below), so we can treat our positive controls just like negatives here, removing all that we find."
   ]
  },
  {
   "cell_type": "markdown",
   "metadata": {},
   "source": [
    "Split the OTU abundance table into leaf and wood libraries:"
   ]
  },
  {
   "cell_type": "code",
   "execution_count": 204,
   "metadata": {},
   "outputs": [],
   "source": [
    "leafeco <- subset_samples(biom95eco_hiread, Library=='L')\n",
    "woodeco <- subset_samples(biom95eco_hiread, Library=='W')"
   ]
  },
  {
   "cell_type": "markdown",
   "metadata": {},
   "source": [
    "Wood reads:"
   ]
  },
  {
   "cell_type": "code",
   "execution_count": 205,
   "metadata": {
    "scrolled": true
   },
   "outputs": [
    {
     "data": {
      "text/html": [
       "122"
      ],
      "text/latex": [
       "122"
      ],
      "text/markdown": [
       "122"
      ],
      "text/plain": [
       "[1] 122"
      ]
     },
     "metadata": {},
     "output_type": "display_data"
    }
   ],
   "source": [
    "## what are the maximums from our controls?:\n",
    "\n",
    "woodControls <- prune_samples(sample_names(biom95)=='Neg' |\n",
    "                              sample_names(biom95)=='PosG' |\n",
    "                              sample_names(biom95)=='PosI',\n",
    "                              biom95)\n",
    "\n",
    "## get maximums\n",
    "woodContam <- apply(otu_table(woodControls), 1, max)\n",
    "\n",
    "## how many control OTUs are there?\n",
    "sum(woodContam>0)"
   ]
  },
  {
   "cell_type": "code",
   "execution_count": 218,
   "metadata": {},
   "outputs": [
    {
     "data": {
      "text/html": [
       "<dl class=dl-horizontal>\n",
       "\t<dt>OTU8986:Dc-PosG</dt>\n",
       "\t\t<dd>1</dd>\n",
       "\t<dt>OTU7914:Dc-PosG</dt>\n",
       "\t\t<dd>1</dd>\n",
       "\t<dt>OTU186:1w</dt>\n",
       "\t\t<dd>1</dd>\n",
       "\t<dt>OTU471:5w</dt>\n",
       "\t\t<dd>1</dd>\n",
       "\t<dt>OTU64:1w</dt>\n",
       "\t\t<dd>1</dd>\n",
       "\t<dt>OTU192:1w</dt>\n",
       "\t\t<dd>1</dd>\n",
       "\t<dt>OTU409:4w</dt>\n",
       "\t\t<dd>1</dd>\n",
       "\t<dt>OTU152:1w</dt>\n",
       "\t\t<dd>1</dd>\n",
       "\t<dt>OTU28:2w</dt>\n",
       "\t\t<dd>1</dd>\n",
       "\t<dt>OTU1216:1w</dt>\n",
       "\t\t<dd>1</dd>\n",
       "\t<dt>OTU958:19w</dt>\n",
       "\t\t<dd>1</dd>\n",
       "\t<dt>OTU437:1w</dt>\n",
       "\t\t<dd>1</dd>\n",
       "\t<dt>OTU338:1w</dt>\n",
       "\t\t<dd>1</dd>\n",
       "\t<dt>OTU1292:32w</dt>\n",
       "\t\t<dd>1</dd>\n",
       "\t<dt>OTU5738:17w</dt>\n",
       "\t\t<dd>1</dd>\n",
       "\t<dt>OTU414:13w</dt>\n",
       "\t\t<dd>1</dd>\n",
       "\t<dt>OTU6703:17w</dt>\n",
       "\t\t<dd>1</dd>\n",
       "\t<dt>OTU655:1w</dt>\n",
       "\t\t<dd>1</dd>\n",
       "\t<dt>OTU2954:1w</dt>\n",
       "\t\t<dd>1</dd>\n",
       "\t<dt>OTU1075:100w</dt>\n",
       "\t\t<dd>1</dd>\n",
       "\t<dt>OTU161:2w</dt>\n",
       "\t\t<dd>1</dd>\n",
       "\t<dt>OTU391:2w</dt>\n",
       "\t\t<dd>1</dd>\n",
       "\t<dt>OTU2029:2w</dt>\n",
       "\t\t<dd>1</dd>\n",
       "\t<dt>OTU387:2w</dt>\n",
       "\t\t<dd>1</dd>\n",
       "\t<dt>OTU2446:2w</dt>\n",
       "\t\t<dd>1</dd>\n",
       "\t<dt>OTU1279:15w</dt>\n",
       "\t\t<dd>1</dd>\n",
       "\t<dt>OTU2202:3w</dt>\n",
       "\t\t<dd>1</dd>\n",
       "\t<dt>OTU5187:68w</dt>\n",
       "\t\t<dd>1</dd>\n",
       "\t<dt>OTU250:4w</dt>\n",
       "\t\t<dd>1</dd>\n",
       "\t<dt>OTU1524:3w</dt>\n",
       "\t\t<dd>1</dd>\n",
       "\t<dt>OTU7955:106w</dt>\n",
       "\t\t<dd>1</dd>\n",
       "\t<dt>OTU1973:131w</dt>\n",
       "\t\t<dd>1</dd>\n",
       "\t<dt>OTU5111:14w</dt>\n",
       "\t\t<dd>1</dd>\n",
       "\t<dt>OTU1124:36w</dt>\n",
       "\t\t<dd>1</dd>\n",
       "\t<dt>OTU7329:38w</dt>\n",
       "\t\t<dd>1</dd>\n",
       "\t<dt>OTU1466:9w</dt>\n",
       "\t\t<dd>1</dd>\n",
       "\t<dt>OTU925:133w</dt>\n",
       "\t\t<dd>1</dd>\n",
       "\t<dt>OTU1941:17w</dt>\n",
       "\t\t<dd>1</dd>\n",
       "\t<dt>OTU3711:17w</dt>\n",
       "\t\t<dd>1</dd>\n",
       "\t<dt>OTU1612:18w</dt>\n",
       "\t\t<dd>1</dd>\n",
       "\t<dt>OTU6688:19w</dt>\n",
       "\t\t<dd>1</dd>\n",
       "\t<dt>OTU1496:23w</dt>\n",
       "\t\t<dd>1</dd>\n",
       "\t<dt>OTU588:32w</dt>\n",
       "\t\t<dd>1</dd>\n",
       "\t<dt>OTU1888:25w</dt>\n",
       "\t\t<dd>1</dd>\n",
       "\t<dt>OTU281:109w</dt>\n",
       "\t\t<dd>1</dd>\n",
       "\t<dt>OTU210:27w</dt>\n",
       "\t\t<dd>1</dd>\n",
       "\t<dt>OTU2860:70w</dt>\n",
       "\t\t<dd>1</dd>\n",
       "\t<dt>OTU428:45w</dt>\n",
       "\t\t<dd>1</dd>\n",
       "\t<dt>OTU839:57w</dt>\n",
       "\t\t<dd>1</dd>\n",
       "\t<dt>OTU2567:130w</dt>\n",
       "\t\t<dd>1</dd>\n",
       "\t<dt>OTU972:130w</dt>\n",
       "\t\t<dd>1</dd>\n",
       "\t<dt>OTU1516:133w</dt>\n",
       "\t\t<dd>1</dd>\n",
       "\t<dt>OTU1866:133w</dt>\n",
       "\t\t<dd>1</dd>\n",
       "\t<dt>OTU12503:PosG</dt>\n",
       "\t\t<dd>1</dd>\n",
       "\t<dt>OTU8401:Dc-PosG</dt>\n",
       "\t\t<dd>2</dd>\n",
       "\t<dt>OTU10988:PosG</dt>\n",
       "\t\t<dd>2</dd>\n",
       "\t<dt>OTU12516:PosI</dt>\n",
       "\t\t<dd>2</dd>\n",
       "\t<dt>OTU9833:Dc-PosI</dt>\n",
       "\t\t<dd>2</dd>\n",
       "\t<dt>OTU1183:36w</dt>\n",
       "\t\t<dd>2</dd>\n",
       "\t<dt>OTU248:20w</dt>\n",
       "\t\t<dd>2</dd>\n",
       "\t<dt>OTU98:2w</dt>\n",
       "\t\t<dd>2</dd>\n",
       "\t<dt>OTU41:1w</dt>\n",
       "\t\t<dd>2</dd>\n",
       "\t<dt>OTU249:1w</dt>\n",
       "\t\t<dd>2</dd>\n",
       "\t<dt>OTU18:9w</dt>\n",
       "\t\t<dd>2</dd>\n",
       "\t<dt>OTU610:1w</dt>\n",
       "\t\t<dd>2</dd>\n",
       "\t<dt>OTU257:3w</dt>\n",
       "\t\t<dd>2</dd>\n",
       "\t<dt>OTU410:37w</dt>\n",
       "\t\t<dd>2</dd>\n",
       "\t<dt>OTU1520:30w</dt>\n",
       "\t\t<dd>2</dd>\n",
       "\t<dt>OTU2115:131w</dt>\n",
       "\t\t<dd>2</dd>\n",
       "\t<dt>OTU12502:PosG</dt>\n",
       "\t\t<dd>2</dd>\n",
       "\t<dt>OTU8984:Dc-PosG</dt>\n",
       "\t\t<dd>3</dd>\n",
       "\t<dt>OTU12521:Dc-PosG</dt>\n",
       "\t\t<dd>3</dd>\n",
       "\t<dt>OTU46:60w</dt>\n",
       "\t\t<dd>3</dd>\n",
       "\t<dt>OTU10694:Dc-PosI</dt>\n",
       "\t\t<dd>4</dd>\n",
       "\t<dt>OTU77:1w</dt>\n",
       "\t\t<dd>4</dd>\n",
       "\t<dt>OTU298:2w</dt>\n",
       "\t\t<dd>4</dd>\n",
       "\t<dt>OTU1599:9w</dt>\n",
       "\t\t<dd>4</dd>\n",
       "\t<dt>OTU2831:5w</dt>\n",
       "\t\t<dd>4</dd>\n",
       "\t<dt>OTU87:17w</dt>\n",
       "\t\t<dd>4</dd>\n",
       "\t<dt>OTU9035:Dc-PosG</dt>\n",
       "\t\t<dd>5</dd>\n",
       "\t<dt>OTU84:38w</dt>\n",
       "\t\t<dd>12</dd>\n",
       "\t<dt>OTU417:1w</dt>\n",
       "\t\t<dd>15</dd>\n",
       "\t<dt>OTU6852:Neg</dt>\n",
       "\t\t<dd>20</dd>\n",
       "\t<dt>OTU4210:Dc-PosG</dt>\n",
       "\t\t<dd>28</dd>\n",
       "\t<dt>OTU1432:2w</dt>\n",
       "\t\t<dd>28</dd>\n",
       "\t<dt>OTU1549:104w</dt>\n",
       "\t\t<dd>28</dd>\n",
       "\t<dt>OTU4453:Dc-PosG</dt>\n",
       "\t\t<dd>30</dd>\n",
       "\t<dt>OTU3674:Dc-PosG</dt>\n",
       "\t\t<dd>34</dd>\n",
       "\t<dt>OTU12510:PosG</dt>\n",
       "\t\t<dd>34</dd>\n",
       "\t<dt>OTU1444:49w</dt>\n",
       "\t\t<dd>38</dd>\n",
       "\t<dt>OTU3723:Dc-PosG</dt>\n",
       "\t\t<dd>39</dd>\n",
       "\t<dt>OTU3183:Dc-PosG</dt>\n",
       "\t\t<dd>40</dd>\n",
       "\t<dt>OTU2003:Neg</dt>\n",
       "\t\t<dd>42</dd>\n",
       "\t<dt>OTU1332:11w</dt>\n",
       "\t\t<dd>44</dd>\n",
       "\t<dt>OTU762:Dc-X</dt>\n",
       "\t\t<dd>53</dd>\n",
       "\t<dt>OTU1214:9w</dt>\n",
       "\t\t<dd>53</dd>\n",
       "\t<dt>OTU1747:11w</dt>\n",
       "\t\t<dd>53</dd>\n",
       "\t<dt>OTU891:1w</dt>\n",
       "\t\t<dd>58</dd>\n",
       "\t<dt>OTU187:Dc-PosG</dt>\n",
       "\t\t<dd>85</dd>\n",
       "\t<dt>OTU315:4w</dt>\n",
       "\t\t<dd>162</dd>\n",
       "\t<dt>OTU1153:Dc-PosI</dt>\n",
       "\t\t<dd>433</dd>\n",
       "\t<dt>OTU167:Dc-X</dt>\n",
       "\t\t<dd>469</dd>\n",
       "\t<dt>OTU826:Dc-PosG</dt>\n",
       "\t\t<dd>842</dd>\n",
       "\t<dt>OTU733:Dc-PosG</dt>\n",
       "\t\t<dd>1303</dd>\n",
       "\t<dt>OTU608:Dc-PosG</dt>\n",
       "\t\t<dd>1427</dd>\n",
       "\t<dt>OTU560:Dc-PosG</dt>\n",
       "\t\t<dd>1590</dd>\n",
       "\t<dt>OTU526:Dc-PosG</dt>\n",
       "\t\t<dd>1723</dd>\n",
       "\t<dt>OTU407:Dc-PosG</dt>\n",
       "\t\t<dd>2185</dd>\n",
       "\t<dt>OTU264:Dc-PosG</dt>\n",
       "\t\t<dd>2239</dd>\n",
       "\t<dt>OTU306:Dc-PosG</dt>\n",
       "\t\t<dd>2241</dd>\n",
       "\t<dt>OTU386:Dc-PosG</dt>\n",
       "\t\t<dd>2566</dd>\n",
       "\t<dt>OTU358:Dc-PosG</dt>\n",
       "\t\t<dd>2800</dd>\n",
       "\t<dt>OTU270:Dc-PosG</dt>\n",
       "\t\t<dd>3090</dd>\n",
       "\t<dt>OTU271:Dc-PosG</dt>\n",
       "\t\t<dd>3484</dd>\n",
       "\t<dt>OTU258:Dc-PosG</dt>\n",
       "\t\t<dd>3593</dd>\n",
       "\t<dt>OTU256:Dc-X</dt>\n",
       "\t\t<dd>3669</dd>\n",
       "\t<dt>OTU235:Dc-PosG</dt>\n",
       "\t\t<dd>4521</dd>\n",
       "\t<dt>OTU220:Dc-PosG</dt>\n",
       "\t\t<dd>4737</dd>\n",
       "\t<dt>OTU191:Dc-PosG</dt>\n",
       "\t\t<dd>5581</dd>\n",
       "\t<dt>OTU164:Dc-PosG</dt>\n",
       "\t\t<dd>7742</dd>\n",
       "\t<dt>OTU119:Dc-PosG</dt>\n",
       "\t\t<dd>9537</dd>\n",
       "\t<dt>OTU106:Dc-PosG</dt>\n",
       "\t\t<dd>11662</dd>\n",
       "</dl>\n"
      ],
      "text/latex": [
       "\\begin{description*}\n",
       "\\item[OTU8986:Dc-PosG] 1\n",
       "\\item[OTU7914:Dc-PosG] 1\n",
       "\\item[OTU186:1w] 1\n",
       "\\item[OTU471:5w] 1\n",
       "\\item[OTU64:1w] 1\n",
       "\\item[OTU192:1w] 1\n",
       "\\item[OTU409:4w] 1\n",
       "\\item[OTU152:1w] 1\n",
       "\\item[OTU28:2w] 1\n",
       "\\item[OTU1216:1w] 1\n",
       "\\item[OTU958:19w] 1\n",
       "\\item[OTU437:1w] 1\n",
       "\\item[OTU338:1w] 1\n",
       "\\item[OTU1292:32w] 1\n",
       "\\item[OTU5738:17w] 1\n",
       "\\item[OTU414:13w] 1\n",
       "\\item[OTU6703:17w] 1\n",
       "\\item[OTU655:1w] 1\n",
       "\\item[OTU2954:1w] 1\n",
       "\\item[OTU1075:100w] 1\n",
       "\\item[OTU161:2w] 1\n",
       "\\item[OTU391:2w] 1\n",
       "\\item[OTU2029:2w] 1\n",
       "\\item[OTU387:2w] 1\n",
       "\\item[OTU2446:2w] 1\n",
       "\\item[OTU1279:15w] 1\n",
       "\\item[OTU2202:3w] 1\n",
       "\\item[OTU5187:68w] 1\n",
       "\\item[OTU250:4w] 1\n",
       "\\item[OTU1524:3w] 1\n",
       "\\item[OTU7955:106w] 1\n",
       "\\item[OTU1973:131w] 1\n",
       "\\item[OTU5111:14w] 1\n",
       "\\item[OTU1124:36w] 1\n",
       "\\item[OTU7329:38w] 1\n",
       "\\item[OTU1466:9w] 1\n",
       "\\item[OTU925:133w] 1\n",
       "\\item[OTU1941:17w] 1\n",
       "\\item[OTU3711:17w] 1\n",
       "\\item[OTU1612:18w] 1\n",
       "\\item[OTU6688:19w] 1\n",
       "\\item[OTU1496:23w] 1\n",
       "\\item[OTU588:32w] 1\n",
       "\\item[OTU1888:25w] 1\n",
       "\\item[OTU281:109w] 1\n",
       "\\item[OTU210:27w] 1\n",
       "\\item[OTU2860:70w] 1\n",
       "\\item[OTU428:45w] 1\n",
       "\\item[OTU839:57w] 1\n",
       "\\item[OTU2567:130w] 1\n",
       "\\item[OTU972:130w] 1\n",
       "\\item[OTU1516:133w] 1\n",
       "\\item[OTU1866:133w] 1\n",
       "\\item[OTU12503:PosG] 1\n",
       "\\item[OTU8401:Dc-PosG] 2\n",
       "\\item[OTU10988:PosG] 2\n",
       "\\item[OTU12516:PosI] 2\n",
       "\\item[OTU9833:Dc-PosI] 2\n",
       "\\item[OTU1183:36w] 2\n",
       "\\item[OTU248:20w] 2\n",
       "\\item[OTU98:2w] 2\n",
       "\\item[OTU41:1w] 2\n",
       "\\item[OTU249:1w] 2\n",
       "\\item[OTU18:9w] 2\n",
       "\\item[OTU610:1w] 2\n",
       "\\item[OTU257:3w] 2\n",
       "\\item[OTU410:37w] 2\n",
       "\\item[OTU1520:30w] 2\n",
       "\\item[OTU2115:131w] 2\n",
       "\\item[OTU12502:PosG] 2\n",
       "\\item[OTU8984:Dc-PosG] 3\n",
       "\\item[OTU12521:Dc-PosG] 3\n",
       "\\item[OTU46:60w] 3\n",
       "\\item[OTU10694:Dc-PosI] 4\n",
       "\\item[OTU77:1w] 4\n",
       "\\item[OTU298:2w] 4\n",
       "\\item[OTU1599:9w] 4\n",
       "\\item[OTU2831:5w] 4\n",
       "\\item[OTU87:17w] 4\n",
       "\\item[OTU9035:Dc-PosG] 5\n",
       "\\item[OTU84:38w] 12\n",
       "\\item[OTU417:1w] 15\n",
       "\\item[OTU6852:Neg] 20\n",
       "\\item[OTU4210:Dc-PosG] 28\n",
       "\\item[OTU1432:2w] 28\n",
       "\\item[OTU1549:104w] 28\n",
       "\\item[OTU4453:Dc-PosG] 30\n",
       "\\item[OTU3674:Dc-PosG] 34\n",
       "\\item[OTU12510:PosG] 34\n",
       "\\item[OTU1444:49w] 38\n",
       "\\item[OTU3723:Dc-PosG] 39\n",
       "\\item[OTU3183:Dc-PosG] 40\n",
       "\\item[OTU2003:Neg] 42\n",
       "\\item[OTU1332:11w] 44\n",
       "\\item[OTU762:Dc-X] 53\n",
       "\\item[OTU1214:9w] 53\n",
       "\\item[OTU1747:11w] 53\n",
       "\\item[OTU891:1w] 58\n",
       "\\item[OTU187:Dc-PosG] 85\n",
       "\\item[OTU315:4w] 162\n",
       "\\item[OTU1153:Dc-PosI] 433\n",
       "\\item[OTU167:Dc-X] 469\n",
       "\\item[OTU826:Dc-PosG] 842\n",
       "\\item[OTU733:Dc-PosG] 1303\n",
       "\\item[OTU608:Dc-PosG] 1427\n",
       "\\item[OTU560:Dc-PosG] 1590\n",
       "\\item[OTU526:Dc-PosG] 1723\n",
       "\\item[OTU407:Dc-PosG] 2185\n",
       "\\item[OTU264:Dc-PosG] 2239\n",
       "\\item[OTU306:Dc-PosG] 2241\n",
       "\\item[OTU386:Dc-PosG] 2566\n",
       "\\item[OTU358:Dc-PosG] 2800\n",
       "\\item[OTU270:Dc-PosG] 3090\n",
       "\\item[OTU271:Dc-PosG] 3484\n",
       "\\item[OTU258:Dc-PosG] 3593\n",
       "\\item[OTU256:Dc-X] 3669\n",
       "\\item[OTU235:Dc-PosG] 4521\n",
       "\\item[OTU220:Dc-PosG] 4737\n",
       "\\item[OTU191:Dc-PosG] 5581\n",
       "\\item[OTU164:Dc-PosG] 7742\n",
       "\\item[OTU119:Dc-PosG] 9537\n",
       "\\item[OTU106:Dc-PosG] 11662\n",
       "\\end{description*}\n"
      ],
      "text/markdown": [
       "OTU8986:Dc-PosG\n",
       ":   1OTU7914:Dc-PosG\n",
       ":   1OTU186:1w\n",
       ":   1OTU471:5w\n",
       ":   1OTU64:1w\n",
       ":   1OTU192:1w\n",
       ":   1OTU409:4w\n",
       ":   1OTU152:1w\n",
       ":   1OTU28:2w\n",
       ":   1OTU1216:1w\n",
       ":   1OTU958:19w\n",
       ":   1OTU437:1w\n",
       ":   1OTU338:1w\n",
       ":   1OTU1292:32w\n",
       ":   1OTU5738:17w\n",
       ":   1OTU414:13w\n",
       ":   1OTU6703:17w\n",
       ":   1OTU655:1w\n",
       ":   1OTU2954:1w\n",
       ":   1OTU1075:100w\n",
       ":   1OTU161:2w\n",
       ":   1OTU391:2w\n",
       ":   1OTU2029:2w\n",
       ":   1OTU387:2w\n",
       ":   1OTU2446:2w\n",
       ":   1OTU1279:15w\n",
       ":   1OTU2202:3w\n",
       ":   1OTU5187:68w\n",
       ":   1OTU250:4w\n",
       ":   1OTU1524:3w\n",
       ":   1OTU7955:106w\n",
       ":   1OTU1973:131w\n",
       ":   1OTU5111:14w\n",
       ":   1OTU1124:36w\n",
       ":   1OTU7329:38w\n",
       ":   1OTU1466:9w\n",
       ":   1OTU925:133w\n",
       ":   1OTU1941:17w\n",
       ":   1OTU3711:17w\n",
       ":   1OTU1612:18w\n",
       ":   1OTU6688:19w\n",
       ":   1OTU1496:23w\n",
       ":   1OTU588:32w\n",
       ":   1OTU1888:25w\n",
       ":   1OTU281:109w\n",
       ":   1OTU210:27w\n",
       ":   1OTU2860:70w\n",
       ":   1OTU428:45w\n",
       ":   1OTU839:57w\n",
       ":   1OTU2567:130w\n",
       ":   1OTU972:130w\n",
       ":   1OTU1516:133w\n",
       ":   1OTU1866:133w\n",
       ":   1OTU12503:PosG\n",
       ":   1OTU8401:Dc-PosG\n",
       ":   2OTU10988:PosG\n",
       ":   2OTU12516:PosI\n",
       ":   2OTU9833:Dc-PosI\n",
       ":   2OTU1183:36w\n",
       ":   2OTU248:20w\n",
       ":   2OTU98:2w\n",
       ":   2OTU41:1w\n",
       ":   2OTU249:1w\n",
       ":   2OTU18:9w\n",
       ":   2OTU610:1w\n",
       ":   2OTU257:3w\n",
       ":   2OTU410:37w\n",
       ":   2OTU1520:30w\n",
       ":   2OTU2115:131w\n",
       ":   2OTU12502:PosG\n",
       ":   2OTU8984:Dc-PosG\n",
       ":   3OTU12521:Dc-PosG\n",
       ":   3OTU46:60w\n",
       ":   3OTU10694:Dc-PosI\n",
       ":   4OTU77:1w\n",
       ":   4OTU298:2w\n",
       ":   4OTU1599:9w\n",
       ":   4OTU2831:5w\n",
       ":   4OTU87:17w\n",
       ":   4OTU9035:Dc-PosG\n",
       ":   5OTU84:38w\n",
       ":   12OTU417:1w\n",
       ":   15OTU6852:Neg\n",
       ":   20OTU4210:Dc-PosG\n",
       ":   28OTU1432:2w\n",
       ":   28OTU1549:104w\n",
       ":   28OTU4453:Dc-PosG\n",
       ":   30OTU3674:Dc-PosG\n",
       ":   34OTU12510:PosG\n",
       ":   34OTU1444:49w\n",
       ":   38OTU3723:Dc-PosG\n",
       ":   39OTU3183:Dc-PosG\n",
       ":   40OTU2003:Neg\n",
       ":   42OTU1332:11w\n",
       ":   44OTU762:Dc-X\n",
       ":   53OTU1214:9w\n",
       ":   53OTU1747:11w\n",
       ":   53OTU891:1w\n",
       ":   58OTU187:Dc-PosG\n",
       ":   85OTU315:4w\n",
       ":   162OTU1153:Dc-PosI\n",
       ":   433OTU167:Dc-X\n",
       ":   469OTU826:Dc-PosG\n",
       ":   842OTU733:Dc-PosG\n",
       ":   1303OTU608:Dc-PosG\n",
       ":   1427OTU560:Dc-PosG\n",
       ":   1590OTU526:Dc-PosG\n",
       ":   1723OTU407:Dc-PosG\n",
       ":   2185OTU264:Dc-PosG\n",
       ":   2239OTU306:Dc-PosG\n",
       ":   2241OTU386:Dc-PosG\n",
       ":   2566OTU358:Dc-PosG\n",
       ":   2800OTU270:Dc-PosG\n",
       ":   3090OTU271:Dc-PosG\n",
       ":   3484OTU258:Dc-PosG\n",
       ":   3593OTU256:Dc-X\n",
       ":   3669OTU235:Dc-PosG\n",
       ":   4521OTU220:Dc-PosG\n",
       ":   4737OTU191:Dc-PosG\n",
       ":   5581OTU164:Dc-PosG\n",
       ":   7742OTU119:Dc-PosG\n",
       ":   9537OTU106:Dc-PosG\n",
       ":   11662\n",
       "\n"
      ],
      "text/plain": [
       " OTU8986:Dc-PosG  OTU7914:Dc-PosG        OTU186:1w        OTU471:5w \n",
       "               1                1                1                1 \n",
       "        OTU64:1w        OTU192:1w        OTU409:4w        OTU152:1w \n",
       "               1                1                1                1 \n",
       "        OTU28:2w       OTU1216:1w       OTU958:19w        OTU437:1w \n",
       "               1                1                1                1 \n",
       "       OTU338:1w      OTU1292:32w      OTU5738:17w       OTU414:13w \n",
       "               1                1                1                1 \n",
       "     OTU6703:17w        OTU655:1w       OTU2954:1w     OTU1075:100w \n",
       "               1                1                1                1 \n",
       "       OTU161:2w        OTU391:2w       OTU2029:2w        OTU387:2w \n",
       "               1                1                1                1 \n",
       "      OTU2446:2w      OTU1279:15w       OTU2202:3w      OTU5187:68w \n",
       "               1                1                1                1 \n",
       "       OTU250:4w       OTU1524:3w     OTU7955:106w     OTU1973:131w \n",
       "               1                1                1                1 \n",
       "     OTU5111:14w      OTU1124:36w      OTU7329:38w       OTU1466:9w \n",
       "               1                1                1                1 \n",
       "     OTU925:133w      OTU1941:17w      OTU3711:17w      OTU1612:18w \n",
       "               1                1                1                1 \n",
       "     OTU6688:19w      OTU1496:23w       OTU588:32w      OTU1888:25w \n",
       "               1                1                1                1 \n",
       "     OTU281:109w       OTU210:27w      OTU2860:70w       OTU428:45w \n",
       "               1                1                1                1 \n",
       "      OTU839:57w     OTU2567:130w      OTU972:130w     OTU1516:133w \n",
       "               1                1                1                1 \n",
       "    OTU1866:133w    OTU12503:PosG  OTU8401:Dc-PosG    OTU10988:PosG \n",
       "               1                1                2                2 \n",
       "   OTU12516:PosI  OTU9833:Dc-PosI      OTU1183:36w       OTU248:20w \n",
       "               2                2                2                2 \n",
       "        OTU98:2w         OTU41:1w        OTU249:1w         OTU18:9w \n",
       "               2                2                2                2 \n",
       "       OTU610:1w        OTU257:3w       OTU410:37w      OTU1520:30w \n",
       "               2                2                2                2 \n",
       "    OTU2115:131w    OTU12502:PosG  OTU8984:Dc-PosG OTU12521:Dc-PosG \n",
       "               2                2                3                3 \n",
       "       OTU46:60w OTU10694:Dc-PosI         OTU77:1w        OTU298:2w \n",
       "               3                4                4                4 \n",
       "      OTU1599:9w       OTU2831:5w        OTU87:17w  OTU9035:Dc-PosG \n",
       "               4                4                4                5 \n",
       "       OTU84:38w        OTU417:1w      OTU6852:Neg  OTU4210:Dc-PosG \n",
       "              12               15               20               28 \n",
       "      OTU1432:2w     OTU1549:104w  OTU4453:Dc-PosG  OTU3674:Dc-PosG \n",
       "              28               28               30               34 \n",
       "   OTU12510:PosG      OTU1444:49w  OTU3723:Dc-PosG  OTU3183:Dc-PosG \n",
       "              34               38               39               40 \n",
       "     OTU2003:Neg      OTU1332:11w      OTU762:Dc-X       OTU1214:9w \n",
       "              42               44               53               53 \n",
       "     OTU1747:11w        OTU891:1w   OTU187:Dc-PosG        OTU315:4w \n",
       "              53               58               85              162 \n",
       " OTU1153:Dc-PosI      OTU167:Dc-X   OTU826:Dc-PosG   OTU733:Dc-PosG \n",
       "             433              469              842             1303 \n",
       "  OTU608:Dc-PosG   OTU560:Dc-PosG   OTU526:Dc-PosG   OTU407:Dc-PosG \n",
       "            1427             1590             1723             2185 \n",
       "  OTU264:Dc-PosG   OTU306:Dc-PosG   OTU386:Dc-PosG   OTU358:Dc-PosG \n",
       "            2239             2241             2566             2800 \n",
       "  OTU270:Dc-PosG   OTU271:Dc-PosG   OTU258:Dc-PosG      OTU256:Dc-X \n",
       "            3090             3484             3593             3669 \n",
       "  OTU235:Dc-PosG   OTU220:Dc-PosG   OTU191:Dc-PosG   OTU164:Dc-PosG \n",
       "            4521             4737             5581             7742 \n",
       "  OTU119:Dc-PosG   OTU106:Dc-PosG \n",
       "            9537            11662 "
      ]
     },
     "metadata": {},
     "output_type": "display_data"
    }
   ],
   "source": [
    "sort(woodContam[woodContam > 0])"
   ]
  },
  {
   "cell_type": "code",
   "execution_count": 206,
   "metadata": {
    "scrolled": false
   },
   "outputs": [
    {
     "data": {
      "text/html": [
       "11588"
      ],
      "text/latex": [
       "11588"
      ],
      "text/markdown": [
       "11588"
      ],
      "text/plain": [
       "[1] 11588"
      ]
     },
     "metadata": {},
     "output_type": "display_data"
    },
    {
     "data": {
      "text/html": [
       "TRUE"
      ],
      "text/latex": [
       "TRUE"
      ],
      "text/markdown": [
       "TRUE"
      ],
      "text/plain": [
       "[1] TRUE"
      ]
     },
     "metadata": {},
     "output_type": "display_data"
    }
   ],
   "source": [
    "## just checking...\n",
    "length(woodContam); all(names(woodContam) == rownames(otu_table(woodeco)))"
   ]
  },
  {
   "cell_type": "code",
   "execution_count": 207,
   "metadata": {},
   "outputs": [],
   "source": [
    "woodCotu <- otu_table(woodeco) - woodContam ## subtract contaminants\n",
    "woodCotu <- woodCotu-60 ## subtract minimum threshold\n",
    "woodCotu[woodCotu < 0] <- 0 ## bring negatives up to zero\n",
    "woodeco.contam.rem <- woodeco ## make a copy, just in case\n",
    "otu_table(woodeco.contam.rem) <- woodCotu ## insert the corrected OTU"
   ]
  },
  {
   "cell_type": "markdown",
   "metadata": {},
   "source": [
    "Now leaf reads, subtract contaminants and minimum threshold:"
   ]
  },
  {
   "cell_type": "code",
   "execution_count": 208,
   "metadata": {
    "scrolled": true
   },
   "outputs": [
    {
     "data": {
      "text/html": [
       "89"
      ],
      "text/latex": [
       "89"
      ],
      "text/markdown": [
       "89"
      ],
      "text/plain": [
       "[1] 89"
      ]
     },
     "metadata": {},
     "output_type": "display_data"
    }
   ],
   "source": [
    "## what are the maximums from our controls?:\n",
    "\n",
    "leafControls <- prune_samples(sample_names(biom95)=='leafNCA' |\n",
    "                              sample_names(biom95)=='leafNCB',\n",
    "                              biom95)\n",
    "\n",
    "## get maximums\n",
    "leafContam <- apply(otu_table(leafControls), 1, max)\n",
    "\n",
    "## how many control OTUs are there?\n",
    "sum(leafContam>0)"
   ]
  },
  {
   "cell_type": "code",
   "execution_count": 209,
   "metadata": {
    "scrolled": false
   },
   "outputs": [
    {
     "data": {
      "text/html": [
       "11588"
      ],
      "text/latex": [
       "11588"
      ],
      "text/markdown": [
       "11588"
      ],
      "text/plain": [
       "[1] 11588"
      ]
     },
     "metadata": {},
     "output_type": "display_data"
    },
    {
     "data": {
      "text/html": [
       "TRUE"
      ],
      "text/latex": [
       "TRUE"
      ],
      "text/markdown": [
       "TRUE"
      ],
      "text/plain": [
       "[1] TRUE"
      ]
     },
     "metadata": {},
     "output_type": "display_data"
    }
   ],
   "source": [
    "## just checking...\n",
    "length(leafContam); all(names(leafContam) == rownames(otu_table(leafeco)))"
   ]
  },
  {
   "cell_type": "code",
   "execution_count": 210,
   "metadata": {},
   "outputs": [],
   "source": [
    "leafCotu <- otu_table(leafeco) - leafContam ## subtract contaminants\n",
    "leafCotu <- leafCotu-140 ## subtract minimum threshold\n",
    "leafCotu[leafCotu < 0] <- 0 ## bring negatives up to zero\n",
    "leafeco.contam.rem <- leafeco ## make a copy, just in case\n",
    "otu_table(leafeco.contam.rem) <- leafCotu ## insert the corrected OTU"
   ]
  },
  {
   "cell_type": "markdown",
   "metadata": {},
   "source": [
    "Okay, now reunite the leaf and wood reads:"
   ]
  },
  {
   "cell_type": "code",
   "execution_count": 211,
   "metadata": {},
   "outputs": [],
   "source": [
    "## does \"merging\" work here to bring these back together?\n",
    "biom95.mend <- merge_phyloseq(woodeco.contam.rem,leafeco.contam.rem)"
   ]
  },
  {
   "cell_type": "code",
   "execution_count": 253,
   "metadata": {},
   "outputs": [],
   "source": [
    "#save(biom95.mend, file=\"biom95.mend.rda\")"
   ]
  },
  {
   "cell_type": "markdown",
   "metadata": {},
   "source": [
    "Run some checks:"
   ]
  },
  {
   "cell_type": "code",
   "execution_count": 243,
   "metadata": {
    "scrolled": false
   },
   "outputs": [
    {
     "data": {
      "text/html": [
       "<ol class=list-inline>\n",
       "\t<li>11588</li>\n",
       "\t<li>214</li>\n",
       "</ol>\n"
      ],
      "text/latex": [
       "\\begin{enumerate*}\n",
       "\\item 11588\n",
       "\\item 214\n",
       "\\end{enumerate*}\n"
      ],
      "text/markdown": [
       "1. 11588\n",
       "2. 214\n",
       "\n",
       "\n"
      ],
      "text/plain": [
       "[1] 11588   214"
      ]
     },
     "metadata": {},
     "output_type": "display_data"
    },
    {
     "data": {
      "text/html": [
       "<ol class=list-inline>\n",
       "\t<li>11588</li>\n",
       "\t<li>214</li>\n",
       "</ol>\n"
      ],
      "text/latex": [
       "\\begin{enumerate*}\n",
       "\\item 11588\n",
       "\\item 214\n",
       "\\end{enumerate*}\n"
      ],
      "text/markdown": [
       "1. 11588\n",
       "2. 214\n",
       "\n",
       "\n"
      ],
      "text/plain": [
       "[1] 11588   214"
      ]
     },
     "metadata": {},
     "output_type": "display_data"
    }
   ],
   "source": [
    "## check to make sure structure is intact\n",
    "dim(otu_table(biom95eco_hiread))\n",
    "dim(otu_table(biom95.mend))"
   ]
  },
  {
   "cell_type": "code",
   "execution_count": 244,
   "metadata": {
    "scrolled": false
   },
   "outputs": [
    {
     "data": {
      "text/html": [
       "TRUE"
      ],
      "text/latex": [
       "TRUE"
      ],
      "text/markdown": [
       "TRUE"
      ],
      "text/plain": [
       "[1] TRUE"
      ]
     },
     "metadata": {},
     "output_type": "display_data"
    },
    {
     "data": {
      "text/html": [
       "TRUE"
      ],
      "text/latex": [
       "TRUE"
      ],
      "text/markdown": [
       "TRUE"
      ],
      "text/plain": [
       "[1] TRUE"
      ]
     },
     "metadata": {},
     "output_type": "display_data"
    },
    {
     "data": {
      "text/html": [
       "TRUE"
      ],
      "text/latex": [
       "TRUE"
      ],
      "text/markdown": [
       "TRUE"
      ],
      "text/plain": [
       "[1] TRUE"
      ]
     },
     "metadata": {},
     "output_type": "display_data"
    },
    {
     "data": {
      "text/html": [
       "TRUE"
      ],
      "text/latex": [
       "TRUE"
      ],
      "text/markdown": [
       "TRUE"
      ],
      "text/plain": [
       "[1] TRUE"
      ]
     },
     "metadata": {},
     "output_type": "display_data"
    }
   ],
   "source": [
    "## row and column order changed after merging?\n",
    "all(rownames(otu_table(biom95.mend)) %in% rownames(otu_table(biom95eco_hiread)))\n",
    "all(colnames(otu_table(biom95.mend)) %in% colnames(otu_table(biom95eco_hiread)))\n",
    "\n",
    "all(rownames(otu_table(biom95eco_hiread)) %in%  rownames(otu_table(biom95.mend)))\n",
    "all(colnames(otu_table(biom95eco_hiread) %in% colnames(otu_table(biom95.mend))))"
   ]
  },
  {
   "cell_type": "code",
   "execution_count": 245,
   "metadata": {},
   "outputs": [],
   "source": [
    "## dup tables\n",
    "aa <- otu_table(biom95eco_hiread); bb <- otu_table(biom95.mend)\n",
    "## reorder columns so they match, for spot checking the matrices\n",
    "eco_reord <- aa[,order(colnames(aa))]; mend_reord <- bb[,order(colnames(bb))]"
   ]
  },
  {
   "cell_type": "code",
   "execution_count": 246,
   "metadata": {
    "scrolled": false
   },
   "outputs": [
    {
     "data": {
      "text/html": [
       "<table>\n",
       "<thead><tr><th></th><th scope=col>100leaf</th><th scope=col>100w</th><th scope=col>101leaf</th><th scope=col>101w</th><th scope=col>102leaf</th></tr></thead>\n",
       "<tbody>\n",
       "\t<tr><th scope=row>OTU19:100leaf</th><td>81511</td><td>0    </td><td> 178 </td><td>0    </td><td>  0  </td></tr>\n",
       "\t<tr><th scope=row>OTU108:100leaf</th><td>26184</td><td>0    </td><td>   0 </td><td>0    </td><td>  0  </td></tr>\n",
       "\t<tr><th scope=row>OTU1:100leaf</th><td> 2735</td><td>0    </td><td>6795 </td><td>0    </td><td>586  </td></tr>\n",
       "\t<tr><th scope=row>OTU202:100leaf</th><td> 3214</td><td>0    </td><td>   0 </td><td>0    </td><td>  0  </td></tr>\n",
       "\t<tr><th scope=row>OTU426:100leaf</th><td> 5943</td><td>0    </td><td>   0 </td><td>0    </td><td>  0  </td></tr>\n",
       "</tbody>\n",
       "</table>\n"
      ],
      "text/latex": [
       "\\begin{tabular}{r|lllll}\n",
       "  & 100leaf & 100w & 101leaf & 101w & 102leaf\\\\\n",
       "\\hline\n",
       "\tOTU19:100leaf & 81511 & 0     &  178  & 0     &   0  \\\\\n",
       "\tOTU108:100leaf & 26184 & 0     &    0  & 0     &   0  \\\\\n",
       "\tOTU1:100leaf &  2735 & 0     & 6795  & 0     & 586  \\\\\n",
       "\tOTU202:100leaf &  3214 & 0     &    0  & 0     &   0  \\\\\n",
       "\tOTU426:100leaf &  5943 & 0     &    0  & 0     &   0  \\\\\n",
       "\\end{tabular}\n"
      ],
      "text/markdown": [
       "\n",
       "| <!--/--> | 100leaf | 100w | 101leaf | 101w | 102leaf | \n",
       "|---|---|---|---|---|\n",
       "| OTU19:100leaf | 81511 | 0     |  178  | 0     |   0   | \n",
       "| OTU108:100leaf | 26184 | 0     |    0  | 0     |   0   | \n",
       "| OTU1:100leaf |  2735 | 0     | 6795  | 0     | 586   | \n",
       "| OTU202:100leaf |  3214 | 0     |    0  | 0     |   0   | \n",
       "| OTU426:100leaf |  5943 | 0     |    0  | 0     |   0   | \n",
       "\n",
       "\n"
      ],
      "text/plain": [
       "               100leaf 100w 101leaf 101w 102leaf\n",
       "OTU19:100leaf  81511   0     178    0      0    \n",
       "OTU108:100leaf 26184   0       0    0      0    \n",
       "OTU1:100leaf    2735   0    6795    0    586    \n",
       "OTU202:100leaf  3214   0       0    0      0    \n",
       "OTU426:100leaf  5943   0       0    0      0    "
      ]
     },
     "metadata": {},
     "output_type": "display_data"
    },
    {
     "data": {
      "text/html": [
       "<table>\n",
       "<thead><tr><th></th><th scope=col>100leaf</th><th scope=col>100w</th><th scope=col>101leaf</th><th scope=col>101w</th><th scope=col>102leaf</th></tr></thead>\n",
       "<tbody>\n",
       "\t<tr><th scope=row>OTU19:100leaf</th><td>81371</td><td>0    </td><td>  38 </td><td>0    </td><td>  0  </td></tr>\n",
       "\t<tr><th scope=row>OTU108:100leaf</th><td>26044</td><td>0    </td><td>   0 </td><td>0    </td><td>  0  </td></tr>\n",
       "\t<tr><th scope=row>OTU1:100leaf</th><td> 2594</td><td>0    </td><td>6654 </td><td>0    </td><td>445  </td></tr>\n",
       "\t<tr><th scope=row>OTU202:100leaf</th><td> 3074</td><td>0    </td><td>   0 </td><td>0    </td><td>  0  </td></tr>\n",
       "\t<tr><th scope=row>OTU426:100leaf</th><td> 5803</td><td>0    </td><td>   0 </td><td>0    </td><td>  0  </td></tr>\n",
       "</tbody>\n",
       "</table>\n"
      ],
      "text/latex": [
       "\\begin{tabular}{r|lllll}\n",
       "  & 100leaf & 100w & 101leaf & 101w & 102leaf\\\\\n",
       "\\hline\n",
       "\tOTU19:100leaf & 81371 & 0     &   38  & 0     &   0  \\\\\n",
       "\tOTU108:100leaf & 26044 & 0     &    0  & 0     &   0  \\\\\n",
       "\tOTU1:100leaf &  2594 & 0     & 6654  & 0     & 445  \\\\\n",
       "\tOTU202:100leaf &  3074 & 0     &    0  & 0     &   0  \\\\\n",
       "\tOTU426:100leaf &  5803 & 0     &    0  & 0     &   0  \\\\\n",
       "\\end{tabular}\n"
      ],
      "text/markdown": [
       "\n",
       "| <!--/--> | 100leaf | 100w | 101leaf | 101w | 102leaf | \n",
       "|---|---|---|---|---|\n",
       "| OTU19:100leaf | 81371 | 0     |   38  | 0     |   0   | \n",
       "| OTU108:100leaf | 26044 | 0     |    0  | 0     |   0   | \n",
       "| OTU1:100leaf |  2594 | 0     | 6654  | 0     | 445   | \n",
       "| OTU202:100leaf |  3074 | 0     |    0  | 0     |   0   | \n",
       "| OTU426:100leaf |  5803 | 0     |    0  | 0     |   0   | \n",
       "\n",
       "\n"
      ],
      "text/plain": [
       "               100leaf 100w 101leaf 101w 102leaf\n",
       "OTU19:100leaf  81371   0      38    0      0    \n",
       "OTU108:100leaf 26044   0       0    0      0    \n",
       "OTU1:100leaf    2594   0    6654    0    445    \n",
       "OTU202:100leaf  3074   0       0    0      0    \n",
       "OTU426:100leaf  5803   0       0    0      0    "
      ]
     },
     "metadata": {},
     "output_type": "display_data"
    }
   ],
   "source": [
    "## spot check\n",
    "eco_reord[1:5,1:5]\n",
    "mend_reord[1:5,1:5] ## should be lower, more zeroes but no negs"
   ]
  },
  {
   "cell_type": "code",
   "execution_count": 110,
   "metadata": {
    "scrolled": true
   },
   "outputs": [
    {
     "data": {
      "text/html": [
       "<table>\n",
       "<thead><tr><th></th><th scope=col>100leaf</th><th scope=col>100w</th><th scope=col>101leaf</th><th scope=col>101w</th><th scope=col>102leaf</th></tr></thead>\n",
       "<tbody>\n",
       "\t<tr><th scope=row>OTU19:100leaf</th><td>81511</td><td>0    </td><td> 178 </td><td>0    </td><td>  0  </td></tr>\n",
       "\t<tr><th scope=row>OTU108:100leaf</th><td>26184</td><td>0    </td><td>   0 </td><td>0    </td><td>  0  </td></tr>\n",
       "\t<tr><th scope=row>OTU1:100leaf</th><td> 2735</td><td>0    </td><td>6795 </td><td>0    </td><td>586  </td></tr>\n",
       "\t<tr><th scope=row>OTU202:100leaf</th><td> 3214</td><td>0    </td><td>   0 </td><td>0    </td><td>  0  </td></tr>\n",
       "\t<tr><th scope=row>OTU426:100leaf</th><td> 5943</td><td>0    </td><td>   0 </td><td>0    </td><td>  0  </td></tr>\n",
       "</tbody>\n",
       "</table>\n"
      ],
      "text/latex": [
       "\\begin{tabular}{r|lllll}\n",
       "  & 100leaf & 100w & 101leaf & 101w & 102leaf\\\\\n",
       "\\hline\n",
       "\tOTU19:100leaf & 81511 & 0     &  178  & 0     &   0  \\\\\n",
       "\tOTU108:100leaf & 26184 & 0     &    0  & 0     &   0  \\\\\n",
       "\tOTU1:100leaf &  2735 & 0     & 6795  & 0     & 586  \\\\\n",
       "\tOTU202:100leaf &  3214 & 0     &    0  & 0     &   0  \\\\\n",
       "\tOTU426:100leaf &  5943 & 0     &    0  & 0     &   0  \\\\\n",
       "\\end{tabular}\n"
      ],
      "text/markdown": [
       "\n",
       "| <!--/--> | 100leaf | 100w | 101leaf | 101w | 102leaf | \n",
       "|---|---|---|---|---|\n",
       "| OTU19:100leaf | 81511 | 0     |  178  | 0     |   0   | \n",
       "| OTU108:100leaf | 26184 | 0     |    0  | 0     |   0   | \n",
       "| OTU1:100leaf |  2735 | 0     | 6795  | 0     | 586   | \n",
       "| OTU202:100leaf |  3214 | 0     |    0  | 0     |   0   | \n",
       "| OTU426:100leaf |  5943 | 0     |    0  | 0     |   0   | \n",
       "\n",
       "\n"
      ],
      "text/plain": [
       "               100leaf 100w 101leaf 101w 102leaf\n",
       "OTU19:100leaf  81511   0     178    0      0    \n",
       "OTU108:100leaf 26184   0       0    0      0    \n",
       "OTU1:100leaf    2735   0    6795    0    586    \n",
       "OTU202:100leaf  3214   0       0    0      0    \n",
       "OTU426:100leaf  5943   0       0    0      0    "
      ]
     },
     "metadata": {},
     "output_type": "display_data"
    },
    {
     "data": {
      "text/html": [
       "<table>\n",
       "<thead><tr><th></th><th scope=col>100leaf</th><th scope=col>100w</th><th scope=col>101leaf</th><th scope=col>101w</th><th scope=col>102leaf</th></tr></thead>\n",
       "<tbody>\n",
       "\t<tr><th scope=row>OTU19:100leaf</th><td>81371</td><td>0    </td><td>  38 </td><td>0    </td><td>  0  </td></tr>\n",
       "\t<tr><th scope=row>OTU108:100leaf</th><td>26044</td><td>0    </td><td>   0 </td><td>0    </td><td>  0  </td></tr>\n",
       "\t<tr><th scope=row>OTU1:100leaf</th><td> 2595</td><td>0    </td><td>6655 </td><td>0    </td><td>446  </td></tr>\n",
       "\t<tr><th scope=row>OTU202:100leaf</th><td> 3074</td><td>0    </td><td>   0 </td><td>0    </td><td>  0  </td></tr>\n",
       "\t<tr><th scope=row>OTU426:100leaf</th><td> 5803</td><td>0    </td><td>   0 </td><td>0    </td><td>  0  </td></tr>\n",
       "</tbody>\n",
       "</table>\n"
      ],
      "text/latex": [
       "\\begin{tabular}{r|lllll}\n",
       "  & 100leaf & 100w & 101leaf & 101w & 102leaf\\\\\n",
       "\\hline\n",
       "\tOTU19:100leaf & 81371 & 0     &   38  & 0     &   0  \\\\\n",
       "\tOTU108:100leaf & 26044 & 0     &    0  & 0     &   0  \\\\\n",
       "\tOTU1:100leaf &  2595 & 0     & 6655  & 0     & 446  \\\\\n",
       "\tOTU202:100leaf &  3074 & 0     &    0  & 0     &   0  \\\\\n",
       "\tOTU426:100leaf &  5803 & 0     &    0  & 0     &   0  \\\\\n",
       "\\end{tabular}\n"
      ],
      "text/markdown": [
       "\n",
       "| <!--/--> | 100leaf | 100w | 101leaf | 101w | 102leaf | \n",
       "|---|---|---|---|---|\n",
       "| OTU19:100leaf | 81371 | 0     |   38  | 0     |   0   | \n",
       "| OTU108:100leaf | 26044 | 0     |    0  | 0     |   0   | \n",
       "| OTU1:100leaf |  2595 | 0     | 6655  | 0     | 446   | \n",
       "| OTU202:100leaf |  3074 | 0     |    0  | 0     |   0   | \n",
       "| OTU426:100leaf |  5803 | 0     |    0  | 0     |   0   | \n",
       "\n",
       "\n"
      ],
      "text/plain": [
       "               100leaf 100w 101leaf 101w 102leaf\n",
       "OTU19:100leaf  81371   0      38    0      0    \n",
       "OTU108:100leaf 26044   0       0    0      0    \n",
       "OTU1:100leaf    2595   0    6655    0    446    \n",
       "OTU202:100leaf  3074   0       0    0      0    \n",
       "OTU426:100leaf  5803   0       0    0      0    "
      ]
     },
     "metadata": {},
     "output_type": "display_data"
    }
   ],
   "source": [
    "## spot check\n",
    "eco_reord[1:5,1:5]\n",
    "mend_reord[1:5,1:5] ## should be lower, more zeroes but no negs"
   ]
  },
  {
   "cell_type": "code",
   "execution_count": 111,
   "metadata": {
    "scrolled": true
   },
   "outputs": [
    {
     "data": {
      "text/html": [
       "<table>\n",
       "<thead><tr><th></th><th scope=col>76w</th><th scope=col>77leaf</th><th scope=col>78leaf</th><th scope=col>79leaf</th><th scope=col>79w</th><th scope=col>7leaf</th></tr></thead>\n",
       "<tbody>\n",
       "\t<tr><th scope=row>OTU1101:Dc-Neg</th><td>   0</td><td>0   </td><td>0   </td><td>0   </td><td> 0  </td><td>0   </td></tr>\n",
       "\t<tr><th scope=row>OTU1517:Dc-Neg</th><td>   0</td><td>0   </td><td>0   </td><td>0   </td><td> 0  </td><td>0   </td></tr>\n",
       "\t<tr><th scope=row>OTU351:Dc-Neg</th><td>6945</td><td>0   </td><td>0   </td><td>0   </td><td> 0  </td><td>0   </td></tr>\n",
       "\t<tr><th scope=row>OTU1562:Dc-Neg</th><td>   0</td><td>0   </td><td>0   </td><td>0   </td><td> 0  </td><td>0   </td></tr>\n",
       "\t<tr><th scope=row>OTU1227:Dc-Neg</th><td>   0</td><td>0   </td><td>0   </td><td>0   </td><td>11  </td><td>0   </td></tr>\n",
       "\t<tr><th scope=row>OTU1949:Dc-Neg</th><td>   0</td><td>0   </td><td>0   </td><td>0   </td><td> 0  </td><td>0   </td></tr>\n",
       "</tbody>\n",
       "</table>\n"
      ],
      "text/latex": [
       "\\begin{tabular}{r|llllll}\n",
       "  & 76w & 77leaf & 78leaf & 79leaf & 79w & 7leaf\\\\\n",
       "\\hline\n",
       "\tOTU1101:Dc-Neg &    0 & 0    & 0    & 0    &  0   & 0   \\\\\n",
       "\tOTU1517:Dc-Neg &    0 & 0    & 0    & 0    &  0   & 0   \\\\\n",
       "\tOTU351:Dc-Neg & 6945 & 0    & 0    & 0    &  0   & 0   \\\\\n",
       "\tOTU1562:Dc-Neg &    0 & 0    & 0    & 0    &  0   & 0   \\\\\n",
       "\tOTU1227:Dc-Neg &    0 & 0    & 0    & 0    & 11   & 0   \\\\\n",
       "\tOTU1949:Dc-Neg &    0 & 0    & 0    & 0    &  0   & 0   \\\\\n",
       "\\end{tabular}\n"
      ],
      "text/markdown": [
       "\n",
       "| <!--/--> | 76w | 77leaf | 78leaf | 79leaf | 79w | 7leaf | \n",
       "|---|---|---|---|---|---|\n",
       "| OTU1101:Dc-Neg |    0 | 0    | 0    | 0    |  0   | 0    | \n",
       "| OTU1517:Dc-Neg |    0 | 0    | 0    | 0    |  0   | 0    | \n",
       "| OTU351:Dc-Neg | 6945 | 0    | 0    | 0    |  0   | 0    | \n",
       "| OTU1562:Dc-Neg |    0 | 0    | 0    | 0    |  0   | 0    | \n",
       "| OTU1227:Dc-Neg |    0 | 0    | 0    | 0    | 11   | 0    | \n",
       "| OTU1949:Dc-Neg |    0 | 0    | 0    | 0    |  0   | 0    | \n",
       "\n",
       "\n"
      ],
      "text/plain": [
       "               76w  77leaf 78leaf 79leaf 79w 7leaf\n",
       "OTU1101:Dc-Neg    0 0      0      0       0  0    \n",
       "OTU1517:Dc-Neg    0 0      0      0       0  0    \n",
       "OTU351:Dc-Neg  6945 0      0      0       0  0    \n",
       "OTU1562:Dc-Neg    0 0      0      0       0  0    \n",
       "OTU1227:Dc-Neg    0 0      0      0      11  0    \n",
       "OTU1949:Dc-Neg    0 0      0      0       0  0    "
      ]
     },
     "metadata": {},
     "output_type": "display_data"
    },
    {
     "data": {
      "text/html": [
       "<table>\n",
       "<thead><tr><th></th><th scope=col>76w</th><th scope=col>77leaf</th><th scope=col>78leaf</th><th scope=col>79leaf</th><th scope=col>79w</th><th scope=col>7leaf</th></tr></thead>\n",
       "<tbody>\n",
       "\t<tr><th scope=row>OTU1101:Dc-Neg</th><td>   0</td><td>0   </td><td>0   </td><td>0   </td><td>0   </td><td>0   </td></tr>\n",
       "\t<tr><th scope=row>OTU1517:Dc-Neg</th><td>   0</td><td>0   </td><td>0   </td><td>0   </td><td>0   </td><td>0   </td></tr>\n",
       "\t<tr><th scope=row>OTU351:Dc-Neg</th><td>6885</td><td>0   </td><td>0   </td><td>0   </td><td>0   </td><td>0   </td></tr>\n",
       "\t<tr><th scope=row>OTU1562:Dc-Neg</th><td>   0</td><td>0   </td><td>0   </td><td>0   </td><td>0   </td><td>0   </td></tr>\n",
       "\t<tr><th scope=row>OTU1227:Dc-Neg</th><td>   0</td><td>0   </td><td>0   </td><td>0   </td><td>0   </td><td>0   </td></tr>\n",
       "\t<tr><th scope=row>OTU1949:Dc-Neg</th><td>   0</td><td>0   </td><td>0   </td><td>0   </td><td>0   </td><td>0   </td></tr>\n",
       "</tbody>\n",
       "</table>\n"
      ],
      "text/latex": [
       "\\begin{tabular}{r|llllll}\n",
       "  & 76w & 77leaf & 78leaf & 79leaf & 79w & 7leaf\\\\\n",
       "\\hline\n",
       "\tOTU1101:Dc-Neg &    0 & 0    & 0    & 0    & 0    & 0   \\\\\n",
       "\tOTU1517:Dc-Neg &    0 & 0    & 0    & 0    & 0    & 0   \\\\\n",
       "\tOTU351:Dc-Neg & 6885 & 0    & 0    & 0    & 0    & 0   \\\\\n",
       "\tOTU1562:Dc-Neg &    0 & 0    & 0    & 0    & 0    & 0   \\\\\n",
       "\tOTU1227:Dc-Neg &    0 & 0    & 0    & 0    & 0    & 0   \\\\\n",
       "\tOTU1949:Dc-Neg &    0 & 0    & 0    & 0    & 0    & 0   \\\\\n",
       "\\end{tabular}\n"
      ],
      "text/markdown": [
       "\n",
       "| <!--/--> | 76w | 77leaf | 78leaf | 79leaf | 79w | 7leaf | \n",
       "|---|---|---|---|---|---|\n",
       "| OTU1101:Dc-Neg |    0 | 0    | 0    | 0    | 0    | 0    | \n",
       "| OTU1517:Dc-Neg |    0 | 0    | 0    | 0    | 0    | 0    | \n",
       "| OTU351:Dc-Neg | 6885 | 0    | 0    | 0    | 0    | 0    | \n",
       "| OTU1562:Dc-Neg |    0 | 0    | 0    | 0    | 0    | 0    | \n",
       "| OTU1227:Dc-Neg |    0 | 0    | 0    | 0    | 0    | 0    | \n",
       "| OTU1949:Dc-Neg |    0 | 0    | 0    | 0    | 0    | 0    | \n",
       "\n",
       "\n"
      ],
      "text/plain": [
       "               76w  77leaf 78leaf 79leaf 79w 7leaf\n",
       "OTU1101:Dc-Neg    0 0      0      0      0   0    \n",
       "OTU1517:Dc-Neg    0 0      0      0      0   0    \n",
       "OTU351:Dc-Neg  6885 0      0      0      0   0    \n",
       "OTU1562:Dc-Neg    0 0      0      0      0   0    \n",
       "OTU1227:Dc-Neg    0 0      0      0      0   0    \n",
       "OTU1949:Dc-Neg    0 0      0      0      0   0    "
      ]
     },
     "metadata": {},
     "output_type": "display_data"
    }
   ],
   "source": [
    "## more spot checks\n",
    "eco_reord[5140:5145,172:177]\n",
    "mend_reord[5140:5145,172:177]"
   ]
  },
  {
   "cell_type": "code",
   "execution_count": 82,
   "metadata": {
    "scrolled": false
   },
   "outputs": [
    {
     "data": {
      "text/html": [
       "<table>\n",
       "<thead><tr><th></th><th scope=col>76w</th><th scope=col>77leaf</th><th scope=col>78leaf</th><th scope=col>79leaf</th><th scope=col>79w</th><th scope=col>7leaf</th></tr></thead>\n",
       "<tbody>\n",
       "\t<tr><th scope=row>OTU1101:Dc-Neg</th><td>   0</td><td>0   </td><td>0   </td><td>0   </td><td> 0  </td><td>0   </td></tr>\n",
       "\t<tr><th scope=row>OTU1517:Dc-Neg</th><td>   0</td><td>0   </td><td>0   </td><td>0   </td><td> 0  </td><td>0   </td></tr>\n",
       "\t<tr><th scope=row>OTU351:Dc-Neg</th><td>6945</td><td>0   </td><td>0   </td><td>0   </td><td> 0  </td><td>0   </td></tr>\n",
       "\t<tr><th scope=row>OTU1562:Dc-Neg</th><td>   0</td><td>0   </td><td>0   </td><td>0   </td><td> 0  </td><td>0   </td></tr>\n",
       "\t<tr><th scope=row>OTU1227:Dc-Neg</th><td>   0</td><td>0   </td><td>0   </td><td>0   </td><td>11  </td><td>0   </td></tr>\n",
       "\t<tr><th scope=row>OTU1949:Dc-Neg</th><td>   0</td><td>0   </td><td>0   </td><td>0   </td><td> 0  </td><td>0   </td></tr>\n",
       "</tbody>\n",
       "</table>\n"
      ],
      "text/latex": [
       "\\begin{tabular}{r|llllll}\n",
       "  & 76w & 77leaf & 78leaf & 79leaf & 79w & 7leaf\\\\\n",
       "\\hline\n",
       "\tOTU1101:Dc-Neg &    0 & 0    & 0    & 0    &  0   & 0   \\\\\n",
       "\tOTU1517:Dc-Neg &    0 & 0    & 0    & 0    &  0   & 0   \\\\\n",
       "\tOTU351:Dc-Neg & 6945 & 0    & 0    & 0    &  0   & 0   \\\\\n",
       "\tOTU1562:Dc-Neg &    0 & 0    & 0    & 0    &  0   & 0   \\\\\n",
       "\tOTU1227:Dc-Neg &    0 & 0    & 0    & 0    & 11   & 0   \\\\\n",
       "\tOTU1949:Dc-Neg &    0 & 0    & 0    & 0    &  0   & 0   \\\\\n",
       "\\end{tabular}\n"
      ],
      "text/markdown": [
       "\n",
       "| <!--/--> | 76w | 77leaf | 78leaf | 79leaf | 79w | 7leaf | \n",
       "|---|---|---|---|---|---|\n",
       "| OTU1101:Dc-Neg |    0 | 0    | 0    | 0    |  0   | 0    | \n",
       "| OTU1517:Dc-Neg |    0 | 0    | 0    | 0    |  0   | 0    | \n",
       "| OTU351:Dc-Neg | 6945 | 0    | 0    | 0    |  0   | 0    | \n",
       "| OTU1562:Dc-Neg |    0 | 0    | 0    | 0    |  0   | 0    | \n",
       "| OTU1227:Dc-Neg |    0 | 0    | 0    | 0    | 11   | 0    | \n",
       "| OTU1949:Dc-Neg |    0 | 0    | 0    | 0    |  0   | 0    | \n",
       "\n",
       "\n"
      ],
      "text/plain": [
       "               76w  77leaf 78leaf 79leaf 79w 7leaf\n",
       "OTU1101:Dc-Neg    0 0      0      0       0  0    \n",
       "OTU1517:Dc-Neg    0 0      0      0       0  0    \n",
       "OTU351:Dc-Neg  6945 0      0      0       0  0    \n",
       "OTU1562:Dc-Neg    0 0      0      0       0  0    \n",
       "OTU1227:Dc-Neg    0 0      0      0      11  0    \n",
       "OTU1949:Dc-Neg    0 0      0      0       0  0    "
      ]
     },
     "metadata": {},
     "output_type": "display_data"
    },
    {
     "data": {
      "text/html": [
       "<table>\n",
       "<thead><tr><th></th><th scope=col>76w</th><th scope=col>77leaf</th><th scope=col>78leaf</th><th scope=col>79leaf</th><th scope=col>79w</th><th scope=col>7leaf</th></tr></thead>\n",
       "<tbody>\n",
       "\t<tr><th scope=row>OTU1101:Dc-Neg</th><td>   0</td><td>0   </td><td>0   </td><td>0   </td><td>0   </td><td>0   </td></tr>\n",
       "\t<tr><th scope=row>OTU1517:Dc-Neg</th><td>   0</td><td>0   </td><td>0   </td><td>0   </td><td>0   </td><td>0   </td></tr>\n",
       "\t<tr><th scope=row>OTU351:Dc-Neg</th><td>6885</td><td>0   </td><td>0   </td><td>0   </td><td>0   </td><td>0   </td></tr>\n",
       "\t<tr><th scope=row>OTU1562:Dc-Neg</th><td>   0</td><td>0   </td><td>0   </td><td>0   </td><td>0   </td><td>0   </td></tr>\n",
       "\t<tr><th scope=row>OTU1227:Dc-Neg</th><td>   0</td><td>0   </td><td>0   </td><td>0   </td><td>0   </td><td>0   </td></tr>\n",
       "\t<tr><th scope=row>OTU1949:Dc-Neg</th><td>   0</td><td>0   </td><td>0   </td><td>0   </td><td>0   </td><td>0   </td></tr>\n",
       "</tbody>\n",
       "</table>\n"
      ],
      "text/latex": [
       "\\begin{tabular}{r|llllll}\n",
       "  & 76w & 77leaf & 78leaf & 79leaf & 79w & 7leaf\\\\\n",
       "\\hline\n",
       "\tOTU1101:Dc-Neg &    0 & 0    & 0    & 0    & 0    & 0   \\\\\n",
       "\tOTU1517:Dc-Neg &    0 & 0    & 0    & 0    & 0    & 0   \\\\\n",
       "\tOTU351:Dc-Neg & 6885 & 0    & 0    & 0    & 0    & 0   \\\\\n",
       "\tOTU1562:Dc-Neg &    0 & 0    & 0    & 0    & 0    & 0   \\\\\n",
       "\tOTU1227:Dc-Neg &    0 & 0    & 0    & 0    & 0    & 0   \\\\\n",
       "\tOTU1949:Dc-Neg &    0 & 0    & 0    & 0    & 0    & 0   \\\\\n",
       "\\end{tabular}\n"
      ],
      "text/markdown": [
       "\n",
       "| <!--/--> | 76w | 77leaf | 78leaf | 79leaf | 79w | 7leaf | \n",
       "|---|---|---|---|---|---|\n",
       "| OTU1101:Dc-Neg |    0 | 0    | 0    | 0    | 0    | 0    | \n",
       "| OTU1517:Dc-Neg |    0 | 0    | 0    | 0    | 0    | 0    | \n",
       "| OTU351:Dc-Neg | 6885 | 0    | 0    | 0    | 0    | 0    | \n",
       "| OTU1562:Dc-Neg |    0 | 0    | 0    | 0    | 0    | 0    | \n",
       "| OTU1227:Dc-Neg |    0 | 0    | 0    | 0    | 0    | 0    | \n",
       "| OTU1949:Dc-Neg |    0 | 0    | 0    | 0    | 0    | 0    | \n",
       "\n",
       "\n"
      ],
      "text/plain": [
       "               76w  77leaf 78leaf 79leaf 79w 7leaf\n",
       "OTU1101:Dc-Neg    0 0      0      0      0   0    \n",
       "OTU1517:Dc-Neg    0 0      0      0      0   0    \n",
       "OTU351:Dc-Neg  6885 0      0      0      0   0    \n",
       "OTU1562:Dc-Neg    0 0      0      0      0   0    \n",
       "OTU1227:Dc-Neg    0 0      0      0      0   0    \n",
       "OTU1949:Dc-Neg    0 0      0      0      0   0    "
      ]
     },
     "metadata": {},
     "output_type": "display_data"
    }
   ],
   "source": [
    "## more spot checks\n",
    "eco_reord[5140:5145,172:177]\n",
    "mend_reord[5140:5145,172:177]"
   ]
  },
  {
   "cell_type": "code",
   "execution_count": 80,
   "metadata": {
    "scrolled": false
   },
   "outputs": [
    {
     "data": {
      "text/html": [
       "<table>\n",
       "<thead><tr><th></th><th scope=col>49w</th><th scope=col>4leaf</th><th scope=col>4w</th><th scope=col>50leaf</th><th scope=col>50w</th><th scope=col>51leaf</th><th scope=col>52leaf</th><th scope=col>52w</th><th scope=col>53leaf</th><th scope=col>54leaf</th><th scope=col>55leaf</th></tr></thead>\n",
       "<tbody>\n",
       "\t<tr><th scope=row>OTU9024:109leaf</th><td>0    </td><td>0    </td><td>0    </td><td>    0</td><td>0    </td><td>   0 </td><td>0    </td><td>0    </td><td>0    </td><td>  0  </td><td>0    </td></tr>\n",
       "\t<tr><th scope=row>OTU10740:109leaf</th><td>0    </td><td>0    </td><td>0    </td><td>    0</td><td>0    </td><td>   0 </td><td>0    </td><td>0    </td><td>0    </td><td>  0  </td><td>0    </td></tr>\n",
       "\t<tr><th scope=row>OTU10278:109leaf</th><td>0    </td><td>0    </td><td>0    </td><td>    0</td><td>0    </td><td>   0 </td><td>0    </td><td>0    </td><td>0    </td><td>  0  </td><td>0    </td></tr>\n",
       "\t<tr><th scope=row>OTU9776:109leaf</th><td>0    </td><td>0    </td><td>0    </td><td>    0</td><td>0    </td><td>   0 </td><td>0    </td><td>0    </td><td>0    </td><td>  0  </td><td>0    </td></tr>\n",
       "\t<tr><th scope=row>OTU2355:109leaf</th><td>0    </td><td>0    </td><td>0    </td><td>    0</td><td>0    </td><td>   0 </td><td>0    </td><td>0    </td><td>0    </td><td>  0  </td><td>0    </td></tr>\n",
       "\t<tr><th scope=row>OTU9034:109leaf</th><td>0    </td><td>0    </td><td>0    </td><td>    0</td><td>0    </td><td>   0 </td><td>0    </td><td>0    </td><td>0    </td><td>  0  </td><td>0    </td></tr>\n",
       "\t<tr><th scope=row>OTU51:109leaf</th><td>0    </td><td>0    </td><td>0    </td><td>13568</td><td>0    </td><td>6203 </td><td>0    </td><td>0    </td><td>0    </td><td>496  </td><td>0    </td></tr>\n",
       "\t<tr><th scope=row>OTU8420:109leaf</th><td>0    </td><td>0    </td><td>0    </td><td>    0</td><td>0    </td><td>   0 </td><td>0    </td><td>0    </td><td>0    </td><td>  0  </td><td>0    </td></tr>\n",
       "\t<tr><th scope=row>OTU8927:109leaf</th><td>0    </td><td>0    </td><td>0    </td><td>    0</td><td>0    </td><td>   0 </td><td>0    </td><td>0    </td><td>0    </td><td>  0  </td><td>0    </td></tr>\n",
       "\t<tr><th scope=row>OTU11707:109leaf</th><td>0    </td><td>0    </td><td>0    </td><td>    0</td><td>0    </td><td>   0 </td><td>0    </td><td>0    </td><td>0    </td><td>  0  </td><td>0    </td></tr>\n",
       "\t<tr><th scope=row>OTU1985:109leaf</th><td>0    </td><td>0    </td><td>0    </td><td>    0</td><td>0    </td><td>   0 </td><td>0    </td><td>0    </td><td>0    </td><td>  0  </td><td>0    </td></tr>\n",
       "</tbody>\n",
       "</table>\n"
      ],
      "text/latex": [
       "\\begin{tabular}{r|lllllllllll}\n",
       "  & 49w & 4leaf & 4w & 50leaf & 50w & 51leaf & 52leaf & 52w & 53leaf & 54leaf & 55leaf\\\\\n",
       "\\hline\n",
       "\tOTU9024:109leaf & 0     & 0     & 0     &     0 & 0     &    0  & 0     & 0     & 0     &   0   & 0    \\\\\n",
       "\tOTU10740:109leaf & 0     & 0     & 0     &     0 & 0     &    0  & 0     & 0     & 0     &   0   & 0    \\\\\n",
       "\tOTU10278:109leaf & 0     & 0     & 0     &     0 & 0     &    0  & 0     & 0     & 0     &   0   & 0    \\\\\n",
       "\tOTU9776:109leaf & 0     & 0     & 0     &     0 & 0     &    0  & 0     & 0     & 0     &   0   & 0    \\\\\n",
       "\tOTU2355:109leaf & 0     & 0     & 0     &     0 & 0     &    0  & 0     & 0     & 0     &   0   & 0    \\\\\n",
       "\tOTU9034:109leaf & 0     & 0     & 0     &     0 & 0     &    0  & 0     & 0     & 0     &   0   & 0    \\\\\n",
       "\tOTU51:109leaf & 0     & 0     & 0     & 13568 & 0     & 6203  & 0     & 0     & 0     & 496   & 0    \\\\\n",
       "\tOTU8420:109leaf & 0     & 0     & 0     &     0 & 0     &    0  & 0     & 0     & 0     &   0   & 0    \\\\\n",
       "\tOTU8927:109leaf & 0     & 0     & 0     &     0 & 0     &    0  & 0     & 0     & 0     &   0   & 0    \\\\\n",
       "\tOTU11707:109leaf & 0     & 0     & 0     &     0 & 0     &    0  & 0     & 0     & 0     &   0   & 0    \\\\\n",
       "\tOTU1985:109leaf & 0     & 0     & 0     &     0 & 0     &    0  & 0     & 0     & 0     &   0   & 0    \\\\\n",
       "\\end{tabular}\n"
      ],
      "text/markdown": [
       "\n",
       "| <!--/--> | 49w | 4leaf | 4w | 50leaf | 50w | 51leaf | 52leaf | 52w | 53leaf | 54leaf | 55leaf | \n",
       "|---|---|---|---|---|---|---|---|---|---|---|\n",
       "| OTU9024:109leaf | 0     | 0     | 0     |     0 | 0     |    0  | 0     | 0     | 0     |   0   | 0     | \n",
       "| OTU10740:109leaf | 0     | 0     | 0     |     0 | 0     |    0  | 0     | 0     | 0     |   0   | 0     | \n",
       "| OTU10278:109leaf | 0     | 0     | 0     |     0 | 0     |    0  | 0     | 0     | 0     |   0   | 0     | \n",
       "| OTU9776:109leaf | 0     | 0     | 0     |     0 | 0     |    0  | 0     | 0     | 0     |   0   | 0     | \n",
       "| OTU2355:109leaf | 0     | 0     | 0     |     0 | 0     |    0  | 0     | 0     | 0     |   0   | 0     | \n",
       "| OTU9034:109leaf | 0     | 0     | 0     |     0 | 0     |    0  | 0     | 0     | 0     |   0   | 0     | \n",
       "| OTU51:109leaf | 0     | 0     | 0     | 13568 | 0     | 6203  | 0     | 0     | 0     | 496   | 0     | \n",
       "| OTU8420:109leaf | 0     | 0     | 0     |     0 | 0     |    0  | 0     | 0     | 0     |   0   | 0     | \n",
       "| OTU8927:109leaf | 0     | 0     | 0     |     0 | 0     |    0  | 0     | 0     | 0     |   0   | 0     | \n",
       "| OTU11707:109leaf | 0     | 0     | 0     |     0 | 0     |    0  | 0     | 0     | 0     |   0   | 0     | \n",
       "| OTU1985:109leaf | 0     | 0     | 0     |     0 | 0     |    0  | 0     | 0     | 0     |   0   | 0     | \n",
       "\n",
       "\n"
      ],
      "text/plain": [
       "                 49w 4leaf 4w 50leaf 50w 51leaf 52leaf 52w 53leaf 54leaf 55leaf\n",
       "OTU9024:109leaf  0   0     0      0  0      0   0      0   0        0    0     \n",
       "OTU10740:109leaf 0   0     0      0  0      0   0      0   0        0    0     \n",
       "OTU10278:109leaf 0   0     0      0  0      0   0      0   0        0    0     \n",
       "OTU9776:109leaf  0   0     0      0  0      0   0      0   0        0    0     \n",
       "OTU2355:109leaf  0   0     0      0  0      0   0      0   0        0    0     \n",
       "OTU9034:109leaf  0   0     0      0  0      0   0      0   0        0    0     \n",
       "OTU51:109leaf    0   0     0  13568  0   6203   0      0   0      496    0     \n",
       "OTU8420:109leaf  0   0     0      0  0      0   0      0   0        0    0     \n",
       "OTU8927:109leaf  0   0     0      0  0      0   0      0   0        0    0     \n",
       "OTU11707:109leaf 0   0     0      0  0      0   0      0   0        0    0     \n",
       "OTU1985:109leaf  0   0     0      0  0      0   0      0   0        0    0     "
      ]
     },
     "metadata": {},
     "output_type": "display_data"
    },
    {
     "data": {
      "text/html": [
       "<table>\n",
       "<thead><tr><th></th><th scope=col>49w</th><th scope=col>4leaf</th><th scope=col>4w</th><th scope=col>50leaf</th><th scope=col>50w</th><th scope=col>51leaf</th><th scope=col>52leaf</th><th scope=col>52w</th><th scope=col>53leaf</th><th scope=col>54leaf</th><th scope=col>55leaf</th></tr></thead>\n",
       "<tbody>\n",
       "\t<tr><th scope=row>OTU9024:109leaf</th><td>0    </td><td>0    </td><td>0    </td><td>    0</td><td>0    </td><td>   0 </td><td>0    </td><td>0    </td><td>0    </td><td>  0  </td><td>0    </td></tr>\n",
       "\t<tr><th scope=row>OTU10740:109leaf</th><td>0    </td><td>0    </td><td>0    </td><td>    0</td><td>0    </td><td>   0 </td><td>0    </td><td>0    </td><td>0    </td><td>  0  </td><td>0    </td></tr>\n",
       "\t<tr><th scope=row>OTU10278:109leaf</th><td>0    </td><td>0    </td><td>0    </td><td>    0</td><td>0    </td><td>   0 </td><td>0    </td><td>0    </td><td>0    </td><td>  0  </td><td>0    </td></tr>\n",
       "\t<tr><th scope=row>OTU9776:109leaf</th><td>0    </td><td>0    </td><td>0    </td><td>    0</td><td>0    </td><td>   0 </td><td>0    </td><td>0    </td><td>0    </td><td>  0  </td><td>0    </td></tr>\n",
       "\t<tr><th scope=row>OTU2355:109leaf</th><td>0    </td><td>0    </td><td>0    </td><td>    0</td><td>0    </td><td>   0 </td><td>0    </td><td>0    </td><td>0    </td><td>  0  </td><td>0    </td></tr>\n",
       "\t<tr><th scope=row>OTU9034:109leaf</th><td>0    </td><td>0    </td><td>0    </td><td>    0</td><td>0    </td><td>   0 </td><td>0    </td><td>0    </td><td>0    </td><td>  0  </td><td>0    </td></tr>\n",
       "\t<tr><th scope=row>OTU51:109leaf</th><td>0    </td><td>0    </td><td>0    </td><td>13428</td><td>0    </td><td>6063 </td><td>0    </td><td>0    </td><td>0    </td><td>356  </td><td>0    </td></tr>\n",
       "\t<tr><th scope=row>OTU8420:109leaf</th><td>0    </td><td>0    </td><td>0    </td><td>    0</td><td>0    </td><td>   0 </td><td>0    </td><td>0    </td><td>0    </td><td>  0  </td><td>0    </td></tr>\n",
       "\t<tr><th scope=row>OTU8927:109leaf</th><td>0    </td><td>0    </td><td>0    </td><td>    0</td><td>0    </td><td>   0 </td><td>0    </td><td>0    </td><td>0    </td><td>  0  </td><td>0    </td></tr>\n",
       "\t<tr><th scope=row>OTU11707:109leaf</th><td>0    </td><td>0    </td><td>0    </td><td>    0</td><td>0    </td><td>   0 </td><td>0    </td><td>0    </td><td>0    </td><td>  0  </td><td>0    </td></tr>\n",
       "\t<tr><th scope=row>OTU1985:109leaf</th><td>0    </td><td>0    </td><td>0    </td><td>    0</td><td>0    </td><td>   0 </td><td>0    </td><td>0    </td><td>0    </td><td>  0  </td><td>0    </td></tr>\n",
       "</tbody>\n",
       "</table>\n"
      ],
      "text/latex": [
       "\\begin{tabular}{r|lllllllllll}\n",
       "  & 49w & 4leaf & 4w & 50leaf & 50w & 51leaf & 52leaf & 52w & 53leaf & 54leaf & 55leaf\\\\\n",
       "\\hline\n",
       "\tOTU9024:109leaf & 0     & 0     & 0     &     0 & 0     &    0  & 0     & 0     & 0     &   0   & 0    \\\\\n",
       "\tOTU10740:109leaf & 0     & 0     & 0     &     0 & 0     &    0  & 0     & 0     & 0     &   0   & 0    \\\\\n",
       "\tOTU10278:109leaf & 0     & 0     & 0     &     0 & 0     &    0  & 0     & 0     & 0     &   0   & 0    \\\\\n",
       "\tOTU9776:109leaf & 0     & 0     & 0     &     0 & 0     &    0  & 0     & 0     & 0     &   0   & 0    \\\\\n",
       "\tOTU2355:109leaf & 0     & 0     & 0     &     0 & 0     &    0  & 0     & 0     & 0     &   0   & 0    \\\\\n",
       "\tOTU9034:109leaf & 0     & 0     & 0     &     0 & 0     &    0  & 0     & 0     & 0     &   0   & 0    \\\\\n",
       "\tOTU51:109leaf & 0     & 0     & 0     & 13428 & 0     & 6063  & 0     & 0     & 0     & 356   & 0    \\\\\n",
       "\tOTU8420:109leaf & 0     & 0     & 0     &     0 & 0     &    0  & 0     & 0     & 0     &   0   & 0    \\\\\n",
       "\tOTU8927:109leaf & 0     & 0     & 0     &     0 & 0     &    0  & 0     & 0     & 0     &   0   & 0    \\\\\n",
       "\tOTU11707:109leaf & 0     & 0     & 0     &     0 & 0     &    0  & 0     & 0     & 0     &   0   & 0    \\\\\n",
       "\tOTU1985:109leaf & 0     & 0     & 0     &     0 & 0     &    0  & 0     & 0     & 0     &   0   & 0    \\\\\n",
       "\\end{tabular}\n"
      ],
      "text/markdown": [
       "\n",
       "| <!--/--> | 49w | 4leaf | 4w | 50leaf | 50w | 51leaf | 52leaf | 52w | 53leaf | 54leaf | 55leaf | \n",
       "|---|---|---|---|---|---|---|---|---|---|---|\n",
       "| OTU9024:109leaf | 0     | 0     | 0     |     0 | 0     |    0  | 0     | 0     | 0     |   0   | 0     | \n",
       "| OTU10740:109leaf | 0     | 0     | 0     |     0 | 0     |    0  | 0     | 0     | 0     |   0   | 0     | \n",
       "| OTU10278:109leaf | 0     | 0     | 0     |     0 | 0     |    0  | 0     | 0     | 0     |   0   | 0     | \n",
       "| OTU9776:109leaf | 0     | 0     | 0     |     0 | 0     |    0  | 0     | 0     | 0     |   0   | 0     | \n",
       "| OTU2355:109leaf | 0     | 0     | 0     |     0 | 0     |    0  | 0     | 0     | 0     |   0   | 0     | \n",
       "| OTU9034:109leaf | 0     | 0     | 0     |     0 | 0     |    0  | 0     | 0     | 0     |   0   | 0     | \n",
       "| OTU51:109leaf | 0     | 0     | 0     | 13428 | 0     | 6063  | 0     | 0     | 0     | 356   | 0     | \n",
       "| OTU8420:109leaf | 0     | 0     | 0     |     0 | 0     |    0  | 0     | 0     | 0     |   0   | 0     | \n",
       "| OTU8927:109leaf | 0     | 0     | 0     |     0 | 0     |    0  | 0     | 0     | 0     |   0   | 0     | \n",
       "| OTU11707:109leaf | 0     | 0     | 0     |     0 | 0     |    0  | 0     | 0     | 0     |   0   | 0     | \n",
       "| OTU1985:109leaf | 0     | 0     | 0     |     0 | 0     |    0  | 0     | 0     | 0     |   0   | 0     | \n",
       "\n",
       "\n"
      ],
      "text/plain": [
       "                 49w 4leaf 4w 50leaf 50w 51leaf 52leaf 52w 53leaf 54leaf 55leaf\n",
       "OTU9024:109leaf  0   0     0      0  0      0   0      0   0        0    0     \n",
       "OTU10740:109leaf 0   0     0      0  0      0   0      0   0        0    0     \n",
       "OTU10278:109leaf 0   0     0      0  0      0   0      0   0        0    0     \n",
       "OTU9776:109leaf  0   0     0      0  0      0   0      0   0        0    0     \n",
       "OTU2355:109leaf  0   0     0      0  0      0   0      0   0        0    0     \n",
       "OTU9034:109leaf  0   0     0      0  0      0   0      0   0        0    0     \n",
       "OTU51:109leaf    0   0     0  13428  0   6063   0      0   0      356    0     \n",
       "OTU8420:109leaf  0   0     0      0  0      0   0      0   0        0    0     \n",
       "OTU8927:109leaf  0   0     0      0  0      0   0      0   0        0    0     \n",
       "OTU11707:109leaf 0   0     0      0  0      0   0      0   0        0    0     \n",
       "OTU1985:109leaf  0   0     0      0  0      0   0      0   0        0    0     "
      ]
     },
     "metadata": {},
     "output_type": "display_data"
    }
   ],
   "source": [
    "## more spot checks\n",
    "eco_reord[1140:1150,120:130]\n",
    "mend_reord[1140:1150,120:130]"
   ]
  },
  {
   "cell_type": "markdown",
   "metadata": {},
   "source": [
    "To check our contaminant removal: wood otus that are contaminants should be 60 + highest abundance found in any of the three wood controls. For instance, OTU315:4w is a contaminant found in our negative control:"
   ]
  },
  {
   "cell_type": "code",
   "execution_count": 240,
   "metadata": {
    "scrolled": true
   },
   "outputs": [
    {
     "data": {
      "text/html": [
       "<table>\n",
       "<thead><tr><th></th><th scope=col>Neg</th><th scope=col>PosG</th><th scope=col>PosI</th></tr></thead>\n",
       "<tbody>\n",
       "\t<tr><th scope=row>OTU315:4w</th><td>162</td><td>0  </td><td>0  </td></tr>\n",
       "</tbody>\n",
       "</table>\n"
      ],
      "text/latex": [
       "\\begin{tabular}{r|lll}\n",
       "  & Neg & PosG & PosI\\\\\n",
       "\\hline\n",
       "\tOTU315:4w & 162 & 0   & 0  \\\\\n",
       "\\end{tabular}\n"
      ],
      "text/markdown": [
       "\n",
       "| <!--/--> | Neg | PosG | PosI | \n",
       "|---|\n",
       "| OTU315:4w | 162 | 0   | 0   | \n",
       "\n",
       "\n"
      ],
      "text/plain": [
       "          Neg PosG PosI\n",
       "OTU315:4w 162 0    0   "
      ]
     },
     "metadata": {},
     "output_type": "display_data"
    }
   ],
   "source": [
    "otu_table(woodControls)[\"OTU315:4w\",]"
   ]
  },
  {
   "cell_type": "markdown",
   "metadata": {},
   "source": [
    "This means that after our thresholds and subtraction of negative control abundances we should see a 162+60=222 read loss where ever OTU315:4w is observed in wood samples (or 162+140=302 read loss for leaves):"
   ]
  },
  {
   "cell_type": "code",
   "execution_count": 242,
   "metadata": {},
   "outputs": [
    {
     "data": {
      "text/html": [
       "<table>\n",
       "<thead><tr><th></th><th scope=col>before cleanup</th><th scope=col>after cleanup</th></tr></thead>\n",
       "<tbody>\n",
       "\t<tr><th scope=row>102w</th><td>  18</td><td>   0</td></tr>\n",
       "\t<tr><th scope=row>10w</th><td>   3</td><td>   0</td></tr>\n",
       "\t<tr><th scope=row>11w</th><td>  16</td><td>   0</td></tr>\n",
       "\t<tr><th scope=row>121w</th><td>   2</td><td>   0</td></tr>\n",
       "\t<tr><th scope=row>130w</th><td>  14</td><td>   0</td></tr>\n",
       "\t<tr><th scope=row>14w</th><td>   1</td><td>   0</td></tr>\n",
       "\t<tr><th scope=row>16w</th><td>   1</td><td>   0</td></tr>\n",
       "\t<tr><th scope=row>17w</th><td>   8</td><td>   0</td></tr>\n",
       "\t<tr><th scope=row>18w</th><td>   1</td><td>   0</td></tr>\n",
       "\t<tr><th scope=row>19w</th><td>3612</td><td>3390</td></tr>\n",
       "\t<tr><th scope=row>20w</th><td>  76</td><td>   0</td></tr>\n",
       "\t<tr><th scope=row>21w</th><td>  44</td><td>   0</td></tr>\n",
       "\t<tr><th scope=row>25w</th><td>  21</td><td>   0</td></tr>\n",
       "\t<tr><th scope=row>26w</th><td>   3</td><td>   0</td></tr>\n",
       "\t<tr><th scope=row>27w</th><td>   2</td><td>   0</td></tr>\n",
       "\t<tr><th scope=row>28w</th><td>   7</td><td>   0</td></tr>\n",
       "\t<tr><th scope=row>29w</th><td> 131</td><td>   0</td></tr>\n",
       "\t<tr><th scope=row>30w</th><td>  17</td><td>   0</td></tr>\n",
       "\t<tr><th scope=row>35w</th><td>  24</td><td>   0</td></tr>\n",
       "\t<tr><th scope=row>3w</th><td>   8</td><td>   0</td></tr>\n",
       "\t<tr><th scope=row>45w</th><td>   2</td><td>   0</td></tr>\n",
       "\t<tr><th scope=row>49w</th><td> 101</td><td>   0</td></tr>\n",
       "\t<tr><th scope=row>4w</th><td>  16</td><td>   0</td></tr>\n",
       "\t<tr><th scope=row>50w</th><td>   2</td><td>   0</td></tr>\n",
       "\t<tr><th scope=row>55w</th><td>3726</td><td>3504</td></tr>\n",
       "\t<tr><th scope=row>56w</th><td>   7</td><td>   0</td></tr>\n",
       "\t<tr><th scope=row>57w</th><td>  16</td><td>   0</td></tr>\n",
       "\t<tr><th scope=row>5w</th><td>  48</td><td>   0</td></tr>\n",
       "\t<tr><th scope=row>64w</th><td>   1</td><td>   0</td></tr>\n",
       "\t<tr><th scope=row>68w</th><td>  17</td><td>   0</td></tr>\n",
       "\t<tr><th scope=row>73w</th><td>  11</td><td>   0</td></tr>\n",
       "\t<tr><th scope=row>75w</th><td>   7</td><td>   0</td></tr>\n",
       "\t<tr><th scope=row>76w</th><td>   1</td><td>   0</td></tr>\n",
       "\t<tr><th scope=row>89w</th><td>   7</td><td>   0</td></tr>\n",
       "\t<tr><th scope=row>95w</th><td>  14</td><td>   0</td></tr>\n",
       "\t<tr><th scope=row>99w</th><td>  30</td><td>   0</td></tr>\n",
       "</tbody>\n",
       "</table>\n"
      ],
      "text/latex": [
       "\\begin{tabular}{r|ll}\n",
       "  & before cleanup & after cleanup\\\\\n",
       "\\hline\n",
       "\t102w &   18 &    0\\\\\n",
       "\t10w &    3 &    0\\\\\n",
       "\t11w &   16 &    0\\\\\n",
       "\t121w &    2 &    0\\\\\n",
       "\t130w &   14 &    0\\\\\n",
       "\t14w &    1 &    0\\\\\n",
       "\t16w &    1 &    0\\\\\n",
       "\t17w &    8 &    0\\\\\n",
       "\t18w &    1 &    0\\\\\n",
       "\t19w & 3612 & 3390\\\\\n",
       "\t20w &   76 &    0\\\\\n",
       "\t21w &   44 &    0\\\\\n",
       "\t25w &   21 &    0\\\\\n",
       "\t26w &    3 &    0\\\\\n",
       "\t27w &    2 &    0\\\\\n",
       "\t28w &    7 &    0\\\\\n",
       "\t29w &  131 &    0\\\\\n",
       "\t30w &   17 &    0\\\\\n",
       "\t35w &   24 &    0\\\\\n",
       "\t3w &    8 &    0\\\\\n",
       "\t45w &    2 &    0\\\\\n",
       "\t49w &  101 &    0\\\\\n",
       "\t4w &   16 &    0\\\\\n",
       "\t50w &    2 &    0\\\\\n",
       "\t55w & 3726 & 3504\\\\\n",
       "\t56w &    7 &    0\\\\\n",
       "\t57w &   16 &    0\\\\\n",
       "\t5w &   48 &    0\\\\\n",
       "\t64w &    1 &    0\\\\\n",
       "\t68w &   17 &    0\\\\\n",
       "\t73w &   11 &    0\\\\\n",
       "\t75w &    7 &    0\\\\\n",
       "\t76w &    1 &    0\\\\\n",
       "\t89w &    7 &    0\\\\\n",
       "\t95w &   14 &    0\\\\\n",
       "\t99w &   30 &    0\\\\\n",
       "\\end{tabular}\n"
      ],
      "text/markdown": [
       "\n",
       "| <!--/--> | before cleanup | after cleanup | \n",
       "|---|---|---|---|---|---|---|---|---|---|---|---|---|---|---|---|---|---|---|---|---|---|---|---|---|---|---|---|---|---|---|---|---|---|---|---|\n",
       "| 102w |   18 |    0 | \n",
       "| 10w |    3 |    0 | \n",
       "| 11w |   16 |    0 | \n",
       "| 121w |    2 |    0 | \n",
       "| 130w |   14 |    0 | \n",
       "| 14w |    1 |    0 | \n",
       "| 16w |    1 |    0 | \n",
       "| 17w |    8 |    0 | \n",
       "| 18w |    1 |    0 | \n",
       "| 19w | 3612 | 3390 | \n",
       "| 20w |   76 |    0 | \n",
       "| 21w |   44 |    0 | \n",
       "| 25w |   21 |    0 | \n",
       "| 26w |    3 |    0 | \n",
       "| 27w |    2 |    0 | \n",
       "| 28w |    7 |    0 | \n",
       "| 29w |  131 |    0 | \n",
       "| 30w |   17 |    0 | \n",
       "| 35w |   24 |    0 | \n",
       "| 3w |    8 |    0 | \n",
       "| 45w |    2 |    0 | \n",
       "| 49w |  101 |    0 | \n",
       "| 4w |   16 |    0 | \n",
       "| 50w |    2 |    0 | \n",
       "| 55w | 3726 | 3504 | \n",
       "| 56w |    7 |    0 | \n",
       "| 57w |   16 |    0 | \n",
       "| 5w |   48 |    0 | \n",
       "| 64w |    1 |    0 | \n",
       "| 68w |   17 |    0 | \n",
       "| 73w |   11 |    0 | \n",
       "| 75w |    7 |    0 | \n",
       "| 76w |    1 |    0 | \n",
       "| 89w |    7 |    0 | \n",
       "| 95w |   14 |    0 | \n",
       "| 99w |   30 |    0 | \n",
       "\n",
       "\n"
      ],
      "text/plain": [
       "     before cleanup after cleanup\n",
       "102w   18              0         \n",
       "10w     3              0         \n",
       "11w    16              0         \n",
       "121w    2              0         \n",
       "130w   14              0         \n",
       "14w     1              0         \n",
       "16w     1              0         \n",
       "17w     8              0         \n",
       "18w     1              0         \n",
       "19w  3612           3390         \n",
       "20w    76              0         \n",
       "21w    44              0         \n",
       "25w    21              0         \n",
       "26w     3              0         \n",
       "27w     2              0         \n",
       "28w     7              0         \n",
       "29w   131              0         \n",
       "30w    17              0         \n",
       "35w    24              0         \n",
       "3w      8              0         \n",
       "45w     2              0         \n",
       "49w   101              0         \n",
       "4w     16              0         \n",
       "50w     2              0         \n",
       "55w  3726           3504         \n",
       "56w     7              0         \n",
       "57w    16              0         \n",
       "5w     48              0         \n",
       "64w     1              0         \n",
       "68w    17              0         \n",
       "73w    11              0         \n",
       "75w     7              0         \n",
       "76w     1              0         \n",
       "89w     7              0         \n",
       "95w    14              0         \n",
       "99w    30              0         "
      ]
     },
     "metadata": {},
     "output_type": "display_data"
    }
   ],
   "source": [
    "aa <- t(rbind(eco_reord['OTU315:4w',],mend_reord['OTU315:4w',]))\n",
    "colnames(aa) <- c('before cleanup', 'after cleanup')\n",
    "aa[rowSums(aa) > 0,]"
   ]
  },
  {
   "cell_type": "markdown",
   "metadata": {},
   "source": [
    "Looks like the cleanup worked as intended. "
   ]
  },
  {
   "cell_type": "markdown",
   "metadata": {},
   "source": [
    "<a id='remMCs'><h3>Remove all mock community OTUs</h3></a>\n",
    "\n",
    "Unfortunately, it looks like our mock community bled out quite a lot into our other samples. So I can't really trust any OTUs that match to our positive controls, any observations of these OTUs could well be the result of tag switching. To get rid of them, we'll use the same basic method as above when identifying which OTUs were members of the mock community. But this time we'll blast our entire set of OTUs against our list of sanger sequences for the positive control. Any strong hits will be considered as possibly resulting from tag-switching, and will be removed. "
   ]
  },
  {
   "cell_type": "code",
   "execution_count": 1,
   "metadata": {
    "scrolled": true
   },
   "outputs": [],
   "source": [
    "## clean up our cluster names a little\n",
    "sed '/>OTU/ s/;size=.*//g' otus_95_combo_nolb.fasta > otus_95.fasta"
   ]
  },
  {
   "cell_type": "code",
   "execution_count": 2,
   "metadata": {},
   "outputs": [],
   "source": [
    "blastn -query otus_95.fasta -db mcsanger.fasta -out mcblast_allOTUs.csv -outfmt 10 -max_target_seqs 1"
   ]
  },
  {
   "cell_type": "markdown",
   "metadata": {},
   "source": [
    "Read this into R, assign some column names."
   ]
  },
  {
   "cell_type": "code",
   "execution_count": 4,
   "metadata": {},
   "outputs": [],
   "source": [
    "## pick the biom tables back up into workspace\n",
    "load(\"biom95.mend.rda\") \n",
    "load('biom95.rda')"
   ]
  },
  {
   "cell_type": "code",
   "execution_count": 8,
   "metadata": {},
   "outputs": [],
   "source": [
    "blast <- read.csv('mcblast_allOTUs.csv', header=FALSE)\n",
    "blasthead <- c('qseqid','sseqid','pident','length','mismatch','gapopen','qstart','qend','sstart','send','evalue','bitscore')\n",
    "colnames(blast) <- blasthead"
   ]
  },
  {
   "cell_type": "code",
   "execution_count": 10,
   "metadata": {},
   "outputs": [
    {
     "data": {
      "text/html": [
       "<table>\n",
       "<thead><tr><th scope=col>qseqid</th><th scope=col>sseqid</th><th scope=col>pident</th><th scope=col>length</th><th scope=col>mismatch</th><th scope=col>gapopen</th><th scope=col>qstart</th><th scope=col>qend</th><th scope=col>sstart</th><th scope=col>send</th><th scope=col>evalue</th><th scope=col>bitscore</th></tr></thead>\n",
       "<tbody>\n",
       "\t<tr><td>OTU3:leafNotChim_102  </td><td>Sample1_ITS4          </td><td>87.67                 </td><td>146                   </td><td>16                    </td><td> 1                    </td><td> 1                    </td><td>146                   </td><td>307                   </td><td>450                   </td><td>4e-45                 </td><td>169.0                 </td></tr>\n",
       "\t<tr><td>OTU10:leafNotChim_100 </td><td>Sample15_ITS4         </td><td>86.94                 </td><td>245                   </td><td>19                    </td><td>10                    </td><td> 3                    </td><td>239                   </td><td>330                   </td><td>569                   </td><td>3e-73                 </td><td>263.0                 </td></tr>\n",
       "\t<tr><td>OTU16:leafNotChim_100 </td><td>Sample15_ITS4         </td><td>86.90                 </td><td>229                   </td><td>16                    </td><td>10                    </td><td>20                    </td><td>240                   </td><td>347                   </td><td>569                   </td><td>1e-67                 </td><td>244.0                 </td></tr>\n",
       "\t<tr><td>OTU20:leafNotChim_108 </td><td>Sample16_ITS4         </td><td>88.57                 </td><td> 70                   </td><td> 5                    </td><td> 1                    </td><td>89                    </td><td>155                   </td><td>449                   </td><td>518                   </td><td>6e-19                 </td><td> 82.4                 </td></tr>\n",
       "\t<tr><td>OTU21:leafNotChim_112B</td><td>Sample1_ITS4          </td><td>85.71                 </td><td>147                   </td><td>14                    </td><td> 7                    </td><td> 2                    </td><td>144                   </td><td>307                   </td><td>450                   </td><td>5e-39                 </td><td>148.0                 </td></tr>\n",
       "\t<tr><td>OTU33:Dc-X            </td><td>Sample16_ITS4         </td><td>95.24                 </td><td> 63                   </td><td> 3                    </td><td> 0                    </td><td> 1                    </td><td> 63                   </td><td>502                   </td><td>440                   </td><td>2e-24                 </td><td>100.0                 </td></tr>\n",
       "</tbody>\n",
       "</table>\n"
      ],
      "text/latex": [
       "\\begin{tabular}{r|llllllllllll}\n",
       " qseqid & sseqid & pident & length & mismatch & gapopen & qstart & qend & sstart & send & evalue & bitscore\\\\\n",
       "\\hline\n",
       "\t OTU3:leafNotChim\\_102   & Sample1\\_ITS4           & 87.67                    & 146                      & 16                       &  1                       &  1                       & 146                      & 307                      & 450                      & 4e-45                    & 169.0                   \\\\\n",
       "\t OTU10:leafNotChim\\_100  & Sample15\\_ITS4          & 86.94                    & 245                      & 19                       & 10                       &  3                       & 239                      & 330                      & 569                      & 3e-73                    & 263.0                   \\\\\n",
       "\t OTU16:leafNotChim\\_100  & Sample15\\_ITS4          & 86.90                    & 229                      & 16                       & 10                       & 20                       & 240                      & 347                      & 569                      & 1e-67                    & 244.0                   \\\\\n",
       "\t OTU20:leafNotChim\\_108  & Sample16\\_ITS4          & 88.57                    &  70                      &  5                       &  1                       & 89                       & 155                      & 449                      & 518                      & 6e-19                    &  82.4                   \\\\\n",
       "\t OTU21:leafNotChim\\_112B & Sample1\\_ITS4           & 85.71                    & 147                      & 14                       &  7                       &  2                       & 144                      & 307                      & 450                      & 5e-39                    & 148.0                   \\\\\n",
       "\t OTU33:Dc-X             & Sample16\\_ITS4        & 95.24                  &  63                    &  3                     &  0                     &  1                     &  63                    & 502                    & 440                    & 2e-24                  & 100.0                 \\\\\n",
       "\\end{tabular}\n"
      ],
      "text/markdown": [
       "\n",
       "qseqid | sseqid | pident | length | mismatch | gapopen | qstart | qend | sstart | send | evalue | bitscore | \n",
       "|---|---|---|---|---|---|\n",
       "| OTU3:leafNotChim_102   | Sample1_ITS4           | 87.67                  | 146                    | 16                     |  1                     |  1                     | 146                    | 307                    | 450                    | 4e-45                  | 169.0                  | \n",
       "| OTU10:leafNotChim_100  | Sample15_ITS4          | 86.94                  | 245                    | 19                     | 10                     |  3                     | 239                    | 330                    | 569                    | 3e-73                  | 263.0                  | \n",
       "| OTU16:leafNotChim_100  | Sample15_ITS4          | 86.90                  | 229                    | 16                     | 10                     | 20                     | 240                    | 347                    | 569                    | 1e-67                  | 244.0                  | \n",
       "| OTU20:leafNotChim_108  | Sample16_ITS4          | 88.57                  |  70                    |  5                     |  1                     | 89                     | 155                    | 449                    | 518                    | 6e-19                  |  82.4                  | \n",
       "| OTU21:leafNotChim_112B | Sample1_ITS4           | 85.71                  | 147                    | 14                     |  7                     |  2                     | 144                    | 307                    | 450                    | 5e-39                  | 148.0                  | \n",
       "| OTU33:Dc-X             | Sample16_ITS4          | 95.24                  |  63                    |  3                     |  0                     |  1                     |  63                    | 502                    | 440                    | 2e-24                  | 100.0                  | \n",
       "\n",
       "\n"
      ],
      "text/plain": [
       "  qseqid                 sseqid        pident length mismatch gapopen qstart\n",
       "1 OTU3:leafNotChim_102   Sample1_ITS4  87.67  146    16        1       1    \n",
       "2 OTU10:leafNotChim_100  Sample15_ITS4 86.94  245    19       10       3    \n",
       "3 OTU16:leafNotChim_100  Sample15_ITS4 86.90  229    16       10      20    \n",
       "4 OTU20:leafNotChim_108  Sample16_ITS4 88.57   70     5        1      89    \n",
       "5 OTU21:leafNotChim_112B Sample1_ITS4  85.71  147    14        7       2    \n",
       "6 OTU33:Dc-X             Sample16_ITS4 95.24   63     3        0       1    \n",
       "  qend sstart send evalue bitscore\n",
       "1 146  307    450  4e-45  169.0   \n",
       "2 239  330    569  3e-73  263.0   \n",
       "3 240  347    569  1e-67  244.0   \n",
       "4 155  449    518  6e-19   82.4   \n",
       "5 144  307    450  5e-39  148.0   \n",
       "6  63  502    440  2e-24  100.0   "
      ]
     },
     "metadata": {},
     "output_type": "display_data"
    },
    {
     "data": {
      "text/html": [
       "<ol class=list-inline>\n",
       "\t<li>769</li>\n",
       "\t<li>12</li>\n",
       "</ol>\n"
      ],
      "text/latex": [
       "\\begin{enumerate*}\n",
       "\\item 769\n",
       "\\item 12\n",
       "\\end{enumerate*}\n"
      ],
      "text/markdown": [
       "1. 769\n",
       "2. 12\n",
       "\n",
       "\n"
      ],
      "text/plain": [
       "[1] 769  12"
      ]
     },
     "metadata": {},
     "output_type": "display_data"
    }
   ],
   "source": [
    "head(blast); dim(blast)"
   ]
  },
  {
   "cell_type": "code",
   "execution_count": 13,
   "metadata": {
    "scrolled": false
   },
   "outputs": [],
   "source": [
    "## keep only strong matches\n",
    "goodblast <- blast[blast$pident > 95 & blast$length > 100,] "
   ]
  },
  {
   "cell_type": "code",
   "execution_count": 14,
   "metadata": {},
   "outputs": [
    {
     "data": {
      "text/html": [
       "769"
      ],
      "text/latex": [
       "769"
      ],
      "text/markdown": [
       "769"
      ],
      "text/plain": [
       "[1] 769"
      ]
     },
     "metadata": {},
     "output_type": "display_data"
    },
    {
     "data": {
      "text/html": [
       "54"
      ],
      "text/latex": [
       "54"
      ],
      "text/markdown": [
       "54"
      ],
      "text/plain": [
       "[1] 54"
      ]
     },
     "metadata": {},
     "output_type": "display_data"
    }
   ],
   "source": [
    "nrow(blast) \n",
    "nrow(goodblast)"
   ]
  },
  {
   "cell_type": "markdown",
   "metadata": {},
   "source": [
    "769 otus matched somehow to an MC sequence, but only 54 OTUs are strong matches, so these are the ones to get rid of. "
   ]
  },
  {
   "cell_type": "code",
   "execution_count": 15,
   "metadata": {},
   "outputs": [],
   "source": [
    "## which of our rownames (= OTU names) are not in this list of strong matches?\n",
    "pcotus <- !(rownames(otu_table(biom95)) %in% goodblast$qseqid) \n",
    "## keep only these:\n",
    "biom95.mc.rem <- prune_taxa(pcotus, biom95.mend)"
   ]
  },
  {
   "cell_type": "code",
   "execution_count": 16,
   "metadata": {},
   "outputs": [],
   "source": [
    "#save(biom95.mc.rem, file='biom95.mc.rem.rda')"
   ]
  },
  {
   "cell_type": "markdown",
   "metadata": {},
   "source": [
    "Check the losses in reads, samples, etc:"
   ]
  },
  {
   "cell_type": "code",
   "execution_count": 17,
   "metadata": {},
   "outputs": [
    {
     "data": {
      "text/plain": [
       "phyloseq-class experiment-level object\n",
       "otu_table()   OTU Table:         [ 11588 taxa and 232 samples ]\n",
       "sample_data() Sample Data:       [ 232 samples by 11 sample variables ]\n",
       "tax_table()   Taxonomy Table:    [ 11588 taxa by 7 taxonomic ranks ]"
      ]
     },
     "metadata": {},
     "output_type": "display_data"
    },
    {
     "data": {
      "text/plain": [
       "phyloseq-class experiment-level object\n",
       "otu_table()   OTU Table:         [ 11553 taxa and 214 samples ]\n",
       "sample_data() Sample Data:       [ 214 samples by 11 sample variables ]\n",
       "tax_table()   Taxonomy Table:    [ 11553 taxa by 7 taxonomic ranks ]"
      ]
     },
     "metadata": {},
     "output_type": "display_data"
    }
   ],
   "source": [
    "biom95; biom95.mc.rem"
   ]
  },
  {
   "cell_type": "code",
   "execution_count": 18,
   "metadata": {},
   "outputs": [
    {
     "data": {
      "text/html": [
       "15442054"
      ],
      "text/latex": [
       "15442054"
      ],
      "text/markdown": [
       "15442054"
      ],
      "text/plain": [
       "[1] 15442054"
      ]
     },
     "metadata": {},
     "output_type": "display_data"
    },
    {
     "data": {
      "text/html": [
       "13189412"
      ],
      "text/latex": [
       "13189412"
      ],
      "text/markdown": [
       "13189412"
      ],
      "text/plain": [
       "[1] 13189412"
      ]
     },
     "metadata": {},
     "output_type": "display_data"
    }
   ],
   "source": [
    "sum(sample_sums(biom95))\n",
    "sum(sample_sums(biom95.mc.rem))"
   ]
  },
  {
   "cell_type": "markdown",
   "metadata": {},
   "source": [
    "2,252,642 reads removed by the cleanup from controls. How many observations were lost?"
   ]
  },
  {
   "cell_type": "code",
   "execution_count": 19,
   "metadata": {},
   "outputs": [
    {
     "data": {
      "text/html": [
       "51625"
      ],
      "text/latex": [
       "51625"
      ],
      "text/markdown": [
       "51625"
      ],
      "text/plain": [
       "[1] 51625"
      ]
     },
     "metadata": {},
     "output_type": "display_data"
    },
    {
     "data": {
      "text/html": [
       "9684"
      ],
      "text/latex": [
       "9684"
      ],
      "text/markdown": [
       "9684"
      ],
      "text/plain": [
       "[1] 9684"
      ]
     },
     "metadata": {},
     "output_type": "display_data"
    }
   ],
   "source": [
    "sum(otu_table(biom95) > 0)\n",
    "sum(otu_table(biom95.mc.rem) > 0)"
   ]
  },
  {
   "cell_type": "markdown",
   "metadata": {},
   "source": [
    "41941 observations removed, ~80% of all observations... that's a lot. \n",
    "\n",
    "How many taxa removed entirely from the study?"
   ]
  },
  {
   "cell_type": "code",
   "execution_count": 29,
   "metadata": {},
   "outputs": [
    {
     "data": {
      "text/html": [
       "11588"
      ],
      "text/latex": [
       "11588"
      ],
      "text/markdown": [
       "11588"
      ],
      "text/plain": [
       "[1] 11588"
      ]
     },
     "metadata": {},
     "output_type": "display_data"
    },
    {
     "data": {
      "text/html": [
       "3330"
      ],
      "text/latex": [
       "3330"
      ],
      "text/markdown": [
       "3330"
      ],
      "text/plain": [
       "[1] 3330"
      ]
     },
     "metadata": {},
     "output_type": "display_data"
    }
   ],
   "source": [
    "sum(rowSums(otu_table(biom95)) > 0)\n",
    "\n",
    "sum(rowSums(otu_table(biom95.mc.rem)) > 0)"
   ]
  },
  {
   "cell_type": "markdown",
   "metadata": {},
   "source": [
    "That's a lot. Oh well. Onward. "
   ]
  },
  {
   "cell_type": "markdown",
   "metadata": {},
   "source": [
    "<a id='varstab'><h2>Variance stabilization of reads</h2></a>"
   ]
  },
  {
   "cell_type": "markdown",
   "metadata": {},
   "source": [
    "<a id='DESeq2'><h3>Apply DESeq2 algorithms</h3></a>"
   ]
  },
  {
   "cell_type": "markdown",
   "metadata": {},
   "source": [
    "Let's stabilize the variance among our samples using DESeq2. Let's use Roo's old script for doing this, hope it still works after three years..."
   ]
  },
  {
   "cell_type": "code",
   "execution_count": 32,
   "metadata": {},
   "outputs": [],
   "source": [
    "DESeq_varstab <- function(phyloseq, design) {\n",
    "# phyloseq = the input phyloseq object that you want to get DESeq transformed counts for\n",
    "# design_variable = the design for the conversion to the DESeq object. must be in the form \"as a function of\", for example \"~Host_Genus\", must be a variable in the phyloseq object\n",
    "        deseq.vst = NULL\n",
    "        geo_Means = NULL\n",
    "        phyloseq.DESeq = NULL\n",
    "        # Convert to a DESeq object\n",
    "        deseq = phyloseq_to_deseq2(phyloseq, design)\n",
    "        # calculate geometric means prior to estimate size factors\n",
    "        gm_mean = function(x, na.rm=TRUE){\n",
    "                exp(sum(log(x[x > 0]), na.rm=na.rm) / length(x))\n",
    "                }\n",
    "        geo_Means = apply(counts(deseq), 1, gm_mean)\n",
    "        # Check to see if any columns (samples) don't have any OTUs in them:\n",
    "        if(sum(colSums(counts(deseq)) == 0) == 0) { # if all samples have taxa, go on\n",
    "                # Now we step through the size factors, dispersions, and varience stabilization:\n",
    "                deseq = estimateSizeFactors(deseq, geoMeans = geo_Means)\n",
    "                deseq = estimateDispersions(deseq) # long step\n",
    "                deseq.vst = getVarianceStabilizedData(deseq)\n",
    "                # replace negatives with zeros\n",
    "                deseq.vst[deseq.vst <0] <- 0\n",
    "                # add the varience stabilized otu numbers into the dataset:\n",
    "                otu_table(phyloseq) <- otu_table(deseq.vst, taxa_are_rows = TRUE)\n",
    "                # create a new object for the varience stabalized set\n",
    "                phyloseq -> phyloseq.DESeq\n",
    "                # And, filter any taxa that became 0s all the way across\n",
    "                phyloseq.DESeq = filter_taxa(phyloseq.DESeq, function(x) sum(x) > 0.1, T)\n",
    "                # return the new phyloseq object\n",
    "                return(phyloseq.DESeq)\n",
    "        } # end of IF loop \n",
    "        else {return(\"Error: your phyloseq object has samples with no taxa present.\")}\n",
    "} # end function\n"
   ]
  },
  {
   "cell_type": "code",
   "execution_count": 33,
   "metadata": {},
   "outputs": [
    {
     "name": "stderr",
     "output_type": "stream",
     "text": [
      "converting counts to integer mode\n",
      "Warning message in DESeqDataSet(se, design = design, ignoreRank):\n",
      "“some variables in design formula are characters, converting to factors”gene-wise dispersion estimates\n",
      "mean-dispersion relationship\n",
      "final dispersion estimates\n"
     ]
    }
   ],
   "source": [
    "deseq95 <- DESeq_varstab(biom95.mc.rem, ~Library)"
   ]
  },
  {
   "cell_type": "code",
   "execution_count": 34,
   "metadata": {},
   "outputs": [],
   "source": [
    "#save(deseq95, file='deseq95.rda')"
   ]
  },
  {
   "cell_type": "code",
   "execution_count": 35,
   "metadata": {},
   "outputs": [
    {
     "data": {
      "text/plain": [
       "phyloseq-class experiment-level object\n",
       "otu_table()   OTU Table:         [ 3327 taxa and 214 samples ]\n",
       "sample_data() Sample Data:       [ 214 samples by 11 sample variables ]\n",
       "tax_table()   Taxonomy Table:    [ 3327 taxa by 7 taxonomic ranks ]"
      ]
     },
     "metadata": {},
     "output_type": "display_data"
    }
   ],
   "source": [
    "deseq95"
   ]
  },
  {
   "cell_type": "code",
   "execution_count": 36,
   "metadata": {},
   "outputs": [
    {
     "data": {
      "text/plain": [
       "phyloseq-class experiment-level object\n",
       "otu_table()   OTU Table:         [ 11553 taxa and 214 samples ]\n",
       "sample_data() Sample Data:       [ 214 samples by 11 sample variables ]\n",
       "tax_table()   Taxonomy Table:    [ 11553 taxa by 7 taxonomic ranks ]"
      ]
     },
     "metadata": {},
     "output_type": "display_data"
    }
   ],
   "source": [
    "biom95.mc.rem"
   ]
  },
  {
   "cell_type": "markdown",
   "metadata": {},
   "source": [
    "Looks like a big drop in taxa, but not really. Most of these taxa-rows, were emptied out during our cleanup from the controls. We really only lost 3330 - 3327 = 3 otus. "
   ]
  },
  {
   "cell_type": "markdown",
   "metadata": {},
   "source": [
    "<a id='BAvarstab'><h3>Compare pre/post variance-stabilization distibutions</h3></a>\n"
   ]
  },
  {
   "cell_type": "markdown",
   "metadata": {},
   "source": [
    "<h4>Overall distributions of reads among leaf/wood samples:</h4>"
   ]
  },
  {
   "cell_type": "code",
   "execution_count": 38,
   "metadata": {},
   "outputs": [
    {
     "data": {
      "image/png": "[encoded data removed]",
      "text/plain": [
       "plot without title"
      ]
     },
     "metadata": {},
     "output_type": "display_data"
    }
   ],
   "source": [
    "par(mfrow = c(1,2))\n",
    "options(repr.plot.width = 10, repr.plot.height = 4)\n",
    "\n",
    "barplot(sample_sums(biom95.mc.rem), axisnames=FALSE)\n",
    "mtext(text='wood', side = 1, at=50)\n",
    "mtext(text='leaf', side = 1, at=170)\n",
    "\n",
    "barplot(sample_sums(deseq95), axisnames=FALSE)\n",
    "mtext(text='wood', side = 1, at=50)\n",
    "mtext(text='leaf', side = 1, at=170)"
   ]
  },
  {
   "cell_type": "markdown",
   "metadata": {},
   "source": [
    "<h4>Positive controls after variance stabilization</h4>"
   ]
  },
  {
   "cell_type": "code",
   "execution_count": 72,
   "metadata": {
    "scrolled": true
   },
   "outputs": [
    {
     "data": {
      "text/html": [
       "<ol class=list-inline>\n",
       "\t<li>TRUE</li>\n",
       "\t<li>TRUE</li>\n",
       "\t<li>TRUE</li>\n",
       "\t<li>TRUE</li>\n",
       "\t<li>TRUE</li>\n",
       "\t<li>TRUE</li>\n",
       "\t<li>TRUE</li>\n",
       "\t<li>TRUE</li>\n",
       "\t<li>TRUE</li>\n",
       "\t<li>TRUE</li>\n",
       "\t<li>TRUE</li>\n",
       "\t<li>TRUE</li>\n",
       "\t<li>TRUE</li>\n",
       "\t<li>TRUE</li>\n",
       "\t<li>TRUE</li>\n",
       "\t<li>TRUE</li>\n",
       "\t<li>TRUE</li>\n",
       "\t<li>TRUE</li>\n",
       "\t<li>TRUE</li>\n",
       "\t<li>TRUE</li>\n",
       "\t<li>TRUE</li>\n",
       "\t<li>TRUE</li>\n",
       "\t<li>TRUE</li>\n",
       "\t<li>TRUE</li>\n",
       "\t<li>TRUE</li>\n",
       "\t<li>TRUE</li>\n",
       "\t<li>TRUE</li>\n",
       "\t<li>TRUE</li>\n",
       "\t<li>TRUE</li>\n",
       "\t<li>TRUE</li>\n",
       "\t<li>TRUE</li>\n",
       "\t<li>TRUE</li>\n",
       "\t<li>TRUE</li>\n",
       "\t<li>TRUE</li>\n",
       "\t<li>TRUE</li>\n",
       "\t<li>TRUE</li>\n",
       "\t<li>TRUE</li>\n",
       "\t<li>TRUE</li>\n",
       "\t<li>TRUE</li>\n",
       "\t<li>TRUE</li>\n",
       "\t<li>TRUE</li>\n",
       "\t<li>TRUE</li>\n",
       "\t<li>TRUE</li>\n",
       "\t<li>TRUE</li>\n",
       "\t<li>TRUE</li>\n",
       "\t<li>TRUE</li>\n",
       "\t<li>TRUE</li>\n",
       "\t<li>TRUE</li>\n",
       "\t<li>TRUE</li>\n",
       "\t<li>TRUE</li>\n",
       "\t<li>TRUE</li>\n",
       "\t<li>TRUE</li>\n",
       "\t<li>TRUE</li>\n",
       "\t<li>TRUE</li>\n",
       "\t<li>TRUE</li>\n",
       "\t<li>TRUE</li>\n",
       "\t<li>TRUE</li>\n",
       "\t<li>TRUE</li>\n",
       "</ol>\n"
      ],
      "text/latex": [
       "\\begin{enumerate*}\n",
       "\\item TRUE\n",
       "\\item TRUE\n",
       "\\item TRUE\n",
       "\\item TRUE\n",
       "\\item TRUE\n",
       "\\item TRUE\n",
       "\\item TRUE\n",
       "\\item TRUE\n",
       "\\item TRUE\n",
       "\\item TRUE\n",
       "\\item TRUE\n",
       "\\item TRUE\n",
       "\\item TRUE\n",
       "\\item TRUE\n",
       "\\item TRUE\n",
       "\\item TRUE\n",
       "\\item TRUE\n",
       "\\item TRUE\n",
       "\\item TRUE\n",
       "\\item TRUE\n",
       "\\item TRUE\n",
       "\\item TRUE\n",
       "\\item TRUE\n",
       "\\item TRUE\n",
       "\\item TRUE\n",
       "\\item TRUE\n",
       "\\item TRUE\n",
       "\\item TRUE\n",
       "\\item TRUE\n",
       "\\item TRUE\n",
       "\\item TRUE\n",
       "\\item TRUE\n",
       "\\item TRUE\n",
       "\\item TRUE\n",
       "\\item TRUE\n",
       "\\item TRUE\n",
       "\\item TRUE\n",
       "\\item TRUE\n",
       "\\item TRUE\n",
       "\\item TRUE\n",
       "\\item TRUE\n",
       "\\item TRUE\n",
       "\\item TRUE\n",
       "\\item TRUE\n",
       "\\item TRUE\n",
       "\\item TRUE\n",
       "\\item TRUE\n",
       "\\item TRUE\n",
       "\\item TRUE\n",
       "\\item TRUE\n",
       "\\item TRUE\n",
       "\\item TRUE\n",
       "\\item TRUE\n",
       "\\item TRUE\n",
       "\\item TRUE\n",
       "\\item TRUE\n",
       "\\item TRUE\n",
       "\\item TRUE\n",
       "\\end{enumerate*}\n"
      ],
      "text/markdown": [
       "1. TRUE\n",
       "2. TRUE\n",
       "3. TRUE\n",
       "4. TRUE\n",
       "5. TRUE\n",
       "6. TRUE\n",
       "7. TRUE\n",
       "8. TRUE\n",
       "9. TRUE\n",
       "10. TRUE\n",
       "11. TRUE\n",
       "12. TRUE\n",
       "13. TRUE\n",
       "14. TRUE\n",
       "15. TRUE\n",
       "16. TRUE\n",
       "17. TRUE\n",
       "18. TRUE\n",
       "19. TRUE\n",
       "20. TRUE\n",
       "21. TRUE\n",
       "22. TRUE\n",
       "23. TRUE\n",
       "24. TRUE\n",
       "25. TRUE\n",
       "26. TRUE\n",
       "27. TRUE\n",
       "28. TRUE\n",
       "29. TRUE\n",
       "30. TRUE\n",
       "31. TRUE\n",
       "32. TRUE\n",
       "33. TRUE\n",
       "34. TRUE\n",
       "35. TRUE\n",
       "36. TRUE\n",
       "37. TRUE\n",
       "38. TRUE\n",
       "39. TRUE\n",
       "40. TRUE\n",
       "41. TRUE\n",
       "42. TRUE\n",
       "43. TRUE\n",
       "44. TRUE\n",
       "45. TRUE\n",
       "46. TRUE\n",
       "47. TRUE\n",
       "48. TRUE\n",
       "49. TRUE\n",
       "50. TRUE\n",
       "51. TRUE\n",
       "52. TRUE\n",
       "53. TRUE\n",
       "54. TRUE\n",
       "55. TRUE\n",
       "56. TRUE\n",
       "57. TRUE\n",
       "58. TRUE\n",
       "\n",
       "\n"
      ],
      "text/plain": [
       " [1] TRUE TRUE TRUE TRUE TRUE TRUE TRUE TRUE TRUE TRUE TRUE TRUE TRUE TRUE TRUE\n",
       "[16] TRUE TRUE TRUE TRUE TRUE TRUE TRUE TRUE TRUE TRUE TRUE TRUE TRUE TRUE TRUE\n",
       "[31] TRUE TRUE TRUE TRUE TRUE TRUE TRUE TRUE TRUE TRUE TRUE TRUE TRUE TRUE TRUE\n",
       "[46] TRUE TRUE TRUE TRUE TRUE TRUE TRUE TRUE TRUE TRUE TRUE TRUE TRUE"
      ]
     },
     "metadata": {},
     "output_type": "display_data"
    }
   ],
   "source": [
    "aa <- biom95\n",
    "#bb <- DESeq_varstab(biom95, ~Library)\n",
    "\n",
    "aaOTU <- (otu_table(aa)[,'PosG']) ## our control, before\n",
    "aaOTU <- aaOTU[aaOTU != 0]\n",
    "\n",
    "bbOTU <- (otu_table(bb)[,'PosG']) ## our control, after\n",
    "bbOTU <- bbOTU[bbOTU != 0]\n",
    "\n",
    "rownames(aaOTU) %in% rownames(bbOTU) ## did we lose any?\n",
    "\n",
    "## tag them for plotting and comparison\n",
    "lost <- !(rownames(aaOTU) %in% rownames(bbOTU))\n",
    "aalost <- cbind(aaOTU,lost)\n",
    "aalost <- aalost[order(aalost[,'PosG'], decreasing = TRUE),]\n",
    "bbOTU <- bbOTU[order(bbOTU[,'PosG'], decreasing = TRUE),]"
   ]
  },
  {
   "cell_type": "code",
   "execution_count": 73,
   "metadata": {
    "scrolled": false
   },
   "outputs": [
    {
     "data": {
      "image/png": "[encoded data removed]",
      "text/plain": [
       "Plot with title “After”"
      ]
     },
     "metadata": {},
     "output_type": "display_data"
    }
   ],
   "source": [
    "par(mfrow=c(1,2))\n",
    "par(mar=c(2,2,4,2))\n",
    "par(oma=c(0,0,4,0))\n",
    "\n",
    "barplot(aalost[,'PosG'],\n",
    "    col=aalost[,'lost'], \n",
    "    names.arg = '',\n",
    "    main = 'Before',\n",
    "    )\n",
    "\n",
    "barplot(as.vector(bbOTU[,'PosG']),\n",
    "       main = 'After',\n",
    "       )\n",
    "\n",
    "mtext(\"Genomic Postive control before and after DeSeq\", \n",
    "      side = 3, \n",
    "      line = 1, \n",
    "      outer = TRUE, \n",
    "      cex = 2,\n",
    "     )"
   ]
  },
  {
   "cell_type": "markdown",
   "metadata": {},
   "source": [
    "How about the ITS-only positive control? Use the same pipeline..."
   ]
  },
  {
   "cell_type": "code",
   "execution_count": 75,
   "metadata": {
    "scrolled": false
   },
   "outputs": [
    {
     "data": {
      "text/html": [
       "<ol class=list-inline>\n",
       "\t<li>TRUE</li>\n",
       "\t<li>TRUE</li>\n",
       "\t<li>TRUE</li>\n",
       "\t<li>TRUE</li>\n",
       "\t<li>TRUE</li>\n",
       "\t<li>TRUE</li>\n",
       "\t<li>TRUE</li>\n",
       "\t<li>TRUE</li>\n",
       "\t<li>TRUE</li>\n",
       "\t<li>TRUE</li>\n",
       "\t<li>TRUE</li>\n",
       "\t<li>TRUE</li>\n",
       "\t<li>TRUE</li>\n",
       "\t<li>TRUE</li>\n",
       "\t<li>TRUE</li>\n",
       "\t<li>TRUE</li>\n",
       "\t<li>TRUE</li>\n",
       "\t<li>TRUE</li>\n",
       "\t<li>TRUE</li>\n",
       "\t<li>TRUE</li>\n",
       "\t<li>TRUE</li>\n",
       "\t<li>TRUE</li>\n",
       "\t<li>TRUE</li>\n",
       "\t<li>TRUE</li>\n",
       "\t<li>TRUE</li>\n",
       "\t<li>TRUE</li>\n",
       "\t<li>TRUE</li>\n",
       "\t<li>TRUE</li>\n",
       "\t<li>TRUE</li>\n",
       "\t<li>TRUE</li>\n",
       "\t<li>TRUE</li>\n",
       "\t<li>TRUE</li>\n",
       "\t<li>TRUE</li>\n",
       "\t<li>TRUE</li>\n",
       "\t<li>TRUE</li>\n",
       "\t<li>TRUE</li>\n",
       "\t<li>TRUE</li>\n",
       "\t<li>TRUE</li>\n",
       "\t<li>TRUE</li>\n",
       "\t<li>TRUE</li>\n",
       "\t<li>TRUE</li>\n",
       "\t<li>TRUE</li>\n",
       "\t<li>TRUE</li>\n",
       "\t<li>TRUE</li>\n",
       "\t<li>TRUE</li>\n",
       "\t<li>TRUE</li>\n",
       "\t<li>TRUE</li>\n",
       "\t<li>TRUE</li>\n",
       "\t<li>TRUE</li>\n",
       "\t<li>TRUE</li>\n",
       "\t<li>TRUE</li>\n",
       "\t<li>TRUE</li>\n",
       "\t<li>TRUE</li>\n",
       "\t<li>TRUE</li>\n",
       "\t<li>TRUE</li>\n",
       "\t<li>TRUE</li>\n",
       "\t<li>TRUE</li>\n",
       "\t<li>TRUE</li>\n",
       "\t<li>TRUE</li>\n",
       "\t<li>TRUE</li>\n",
       "\t<li>TRUE</li>\n",
       "\t<li>TRUE</li>\n",
       "\t<li>TRUE</li>\n",
       "\t<li>TRUE</li>\n",
       "\t<li>TRUE</li>\n",
       "\t<li>TRUE</li>\n",
       "\t<li>TRUE</li>\n",
       "\t<li>TRUE</li>\n",
       "\t<li>TRUE</li>\n",
       "\t<li>TRUE</li>\n",
       "\t<li>TRUE</li>\n",
       "\t<li>TRUE</li>\n",
       "\t<li>TRUE</li>\n",
       "\t<li>TRUE</li>\n",
       "\t<li>TRUE</li>\n",
       "\t<li>TRUE</li>\n",
       "</ol>\n"
      ],
      "text/latex": [
       "\\begin{enumerate*}\n",
       "\\item TRUE\n",
       "\\item TRUE\n",
       "\\item TRUE\n",
       "\\item TRUE\n",
       "\\item TRUE\n",
       "\\item TRUE\n",
       "\\item TRUE\n",
       "\\item TRUE\n",
       "\\item TRUE\n",
       "\\item TRUE\n",
       "\\item TRUE\n",
       "\\item TRUE\n",
       "\\item TRUE\n",
       "\\item TRUE\n",
       "\\item TRUE\n",
       "\\item TRUE\n",
       "\\item TRUE\n",
       "\\item TRUE\n",
       "\\item TRUE\n",
       "\\item TRUE\n",
       "\\item TRUE\n",
       "\\item TRUE\n",
       "\\item TRUE\n",
       "\\item TRUE\n",
       "\\item TRUE\n",
       "\\item TRUE\n",
       "\\item TRUE\n",
       "\\item TRUE\n",
       "\\item TRUE\n",
       "\\item TRUE\n",
       "\\item TRUE\n",
       "\\item TRUE\n",
       "\\item TRUE\n",
       "\\item TRUE\n",
       "\\item TRUE\n",
       "\\item TRUE\n",
       "\\item TRUE\n",
       "\\item TRUE\n",
       "\\item TRUE\n",
       "\\item TRUE\n",
       "\\item TRUE\n",
       "\\item TRUE\n",
       "\\item TRUE\n",
       "\\item TRUE\n",
       "\\item TRUE\n",
       "\\item TRUE\n",
       "\\item TRUE\n",
       "\\item TRUE\n",
       "\\item TRUE\n",
       "\\item TRUE\n",
       "\\item TRUE\n",
       "\\item TRUE\n",
       "\\item TRUE\n",
       "\\item TRUE\n",
       "\\item TRUE\n",
       "\\item TRUE\n",
       "\\item TRUE\n",
       "\\item TRUE\n",
       "\\item TRUE\n",
       "\\item TRUE\n",
       "\\item TRUE\n",
       "\\item TRUE\n",
       "\\item TRUE\n",
       "\\item TRUE\n",
       "\\item TRUE\n",
       "\\item TRUE\n",
       "\\item TRUE\n",
       "\\item TRUE\n",
       "\\item TRUE\n",
       "\\item TRUE\n",
       "\\item TRUE\n",
       "\\item TRUE\n",
       "\\item TRUE\n",
       "\\item TRUE\n",
       "\\item TRUE\n",
       "\\item TRUE\n",
       "\\end{enumerate*}\n"
      ],
      "text/markdown": [
       "1. TRUE\n",
       "2. TRUE\n",
       "3. TRUE\n",
       "4. TRUE\n",
       "5. TRUE\n",
       "6. TRUE\n",
       "7. TRUE\n",
       "8. TRUE\n",
       "9. TRUE\n",
       "10. TRUE\n",
       "11. TRUE\n",
       "12. TRUE\n",
       "13. TRUE\n",
       "14. TRUE\n",
       "15. TRUE\n",
       "16. TRUE\n",
       "17. TRUE\n",
       "18. TRUE\n",
       "19. TRUE\n",
       "20. TRUE\n",
       "21. TRUE\n",
       "22. TRUE\n",
       "23. TRUE\n",
       "24. TRUE\n",
       "25. TRUE\n",
       "26. TRUE\n",
       "27. TRUE\n",
       "28. TRUE\n",
       "29. TRUE\n",
       "30. TRUE\n",
       "31. TRUE\n",
       "32. TRUE\n",
       "33. TRUE\n",
       "34. TRUE\n",
       "35. TRUE\n",
       "36. TRUE\n",
       "37. TRUE\n",
       "38. TRUE\n",
       "39. TRUE\n",
       "40. TRUE\n",
       "41. TRUE\n",
       "42. TRUE\n",
       "43. TRUE\n",
       "44. TRUE\n",
       "45. TRUE\n",
       "46. TRUE\n",
       "47. TRUE\n",
       "48. TRUE\n",
       "49. TRUE\n",
       "50. TRUE\n",
       "51. TRUE\n",
       "52. TRUE\n",
       "53. TRUE\n",
       "54. TRUE\n",
       "55. TRUE\n",
       "56. TRUE\n",
       "57. TRUE\n",
       "58. TRUE\n",
       "59. TRUE\n",
       "60. TRUE\n",
       "61. TRUE\n",
       "62. TRUE\n",
       "63. TRUE\n",
       "64. TRUE\n",
       "65. TRUE\n",
       "66. TRUE\n",
       "67. TRUE\n",
       "68. TRUE\n",
       "69. TRUE\n",
       "70. TRUE\n",
       "71. TRUE\n",
       "72. TRUE\n",
       "73. TRUE\n",
       "74. TRUE\n",
       "75. TRUE\n",
       "76. TRUE\n",
       "\n",
       "\n"
      ],
      "text/plain": [
       " [1] TRUE TRUE TRUE TRUE TRUE TRUE TRUE TRUE TRUE TRUE TRUE TRUE TRUE TRUE TRUE\n",
       "[16] TRUE TRUE TRUE TRUE TRUE TRUE TRUE TRUE TRUE TRUE TRUE TRUE TRUE TRUE TRUE\n",
       "[31] TRUE TRUE TRUE TRUE TRUE TRUE TRUE TRUE TRUE TRUE TRUE TRUE TRUE TRUE TRUE\n",
       "[46] TRUE TRUE TRUE TRUE TRUE TRUE TRUE TRUE TRUE TRUE TRUE TRUE TRUE TRUE TRUE\n",
       "[61] TRUE TRUE TRUE TRUE TRUE TRUE TRUE TRUE TRUE TRUE TRUE TRUE TRUE TRUE TRUE\n",
       "[76] TRUE"
      ]
     },
     "metadata": {},
     "output_type": "display_data"
    }
   ],
   "source": [
    "#aa <- biom95\n",
    "#bb <- DESeq_varstab(biom95, ~Library)\n",
    "aaOTU <- (otu_table(aa)[,'PosI']) ## our control, before\n",
    "aaOTU <- aaOTU[aaOTU != 0]\n",
    "\n",
    "bbOTU <- (otu_table(bb)[,'PosI']) ## our control, after\n",
    "bbOTU <- bbOTU[bbOTU != 0]\n",
    "\n",
    "rownames(aaOTU) %in% rownames(bbOTU) ## did we lose any?\n",
    "\n",
    "## tag them for plotting and comparison\n",
    "lost <- !(rownames(aaOTU) %in% rownames(bbOTU))\n",
    "aalost <- cbind(aaOTU,lost)\n",
    "aalost <- aalost[order(aalost[,'PosI'], decreasing = TRUE),]\n",
    "bbOTU <- bbOTU[order(bbOTU[,'PosI'], decreasing = TRUE),]"
   ]
  },
  {
   "cell_type": "code",
   "execution_count": 76,
   "metadata": {
    "scrolled": false
   },
   "outputs": [
    {
     "data": {
      "image/png": "[encoded data removed]",
      "text/plain": [
       "Plot with title “After”"
      ]
     },
     "metadata": {},
     "output_type": "display_data"
    }
   ],
   "source": [
    "par(mfrow=c(1,2))\n",
    "par(mar=c(2,2,4,2))\n",
    "par(oma=c(0,0,4,0))\n",
    "\n",
    "barplot(aalost[,'PosI'],\n",
    "    col=aalost[,'lost'], \n",
    "    names.arg = '',\n",
    "    main = 'Before',\n",
    "    )\n",
    "\n",
    "barplot(as.vector(bbOTU[,'PosI']),\n",
    "       main = 'After',\n",
    "       )\n",
    "\n",
    "mtext(\"ITS Postive control before and after DeSeq\", \n",
    "      side = 3, \n",
    "      line = 1, \n",
    "      outer = TRUE, \n",
    "      cex = 2,\n",
    "     )"
   ]
  },
  {
   "cell_type": "markdown",
   "metadata": {},
   "source": [
    "If we get time, color these in with membership of the mock community. "
   ]
  },
  {
   "cell_type": "markdown",
   "metadata": {},
   "source": [
    "<h4>Ecological samples after variance stabilization</h4>"
   ]
  },
  {
   "cell_type": "code",
   "execution_count": 54,
   "metadata": {},
   "outputs": [
    {
     "data": {
      "text/html": [
       "<ol class=list-inline>\n",
       "\t<li>TRUE</li>\n",
       "\t<li>TRUE</li>\n",
       "\t<li>TRUE</li>\n",
       "\t<li>TRUE</li>\n",
       "\t<li>TRUE</li>\n",
       "\t<li>TRUE</li>\n",
       "\t<li>TRUE</li>\n",
       "\t<li>TRUE</li>\n",
       "\t<li>TRUE</li>\n",
       "\t<li>TRUE</li>\n",
       "\t<li>TRUE</li>\n",
       "\t<li>TRUE</li>\n",
       "\t<li>TRUE</li>\n",
       "\t<li>TRUE</li>\n",
       "\t<li>TRUE</li>\n",
       "\t<li>TRUE</li>\n",
       "\t<li>TRUE</li>\n",
       "\t<li>TRUE</li>\n",
       "\t<li>TRUE</li>\n",
       "\t<li>TRUE</li>\n",
       "\t<li>TRUE</li>\n",
       "\t<li>TRUE</li>\n",
       "\t<li>TRUE</li>\n",
       "\t<li>TRUE</li>\n",
       "\t<li>TRUE</li>\n",
       "\t<li>TRUE</li>\n",
       "\t<li>TRUE</li>\n",
       "\t<li>TRUE</li>\n",
       "\t<li>TRUE</li>\n",
       "\t<li>TRUE</li>\n",
       "\t<li>TRUE</li>\n",
       "\t<li>TRUE</li>\n",
       "\t<li>TRUE</li>\n",
       "\t<li>TRUE</li>\n",
       "\t<li>TRUE</li>\n",
       "\t<li>TRUE</li>\n",
       "\t<li>TRUE</li>\n",
       "\t<li>TRUE</li>\n",
       "\t<li>TRUE</li>\n",
       "\t<li>TRUE</li>\n",
       "\t<li>TRUE</li>\n",
       "\t<li>TRUE</li>\n",
       "\t<li>TRUE</li>\n",
       "\t<li>TRUE</li>\n",
       "\t<li>TRUE</li>\n",
       "\t<li>TRUE</li>\n",
       "\t<li>TRUE</li>\n",
       "\t<li>TRUE</li>\n",
       "\t<li>TRUE</li>\n",
       "\t<li>TRUE</li>\n",
       "\t<li>TRUE</li>\n",
       "\t<li>TRUE</li>\n",
       "\t<li>TRUE</li>\n",
       "\t<li>TRUE</li>\n",
       "\t<li>TRUE</li>\n",
       "\t<li>TRUE</li>\n",
       "\t<li>TRUE</li>\n",
       "\t<li>TRUE</li>\n",
       "\t<li>TRUE</li>\n",
       "\t<li>TRUE</li>\n",
       "\t<li>TRUE</li>\n",
       "\t<li>TRUE</li>\n",
       "\t<li>TRUE</li>\n",
       "\t<li>TRUE</li>\n",
       "\t<li>TRUE</li>\n",
       "\t<li>TRUE</li>\n",
       "\t<li>TRUE</li>\n",
       "\t<li>TRUE</li>\n",
       "\t<li>TRUE</li>\n",
       "\t<li>TRUE</li>\n",
       "\t<li>TRUE</li>\n",
       "\t<li>TRUE</li>\n",
       "\t<li>TRUE</li>\n",
       "\t<li>TRUE</li>\n",
       "\t<li>TRUE</li>\n",
       "\t<li>TRUE</li>\n",
       "\t<li>TRUE</li>\n",
       "\t<li>TRUE</li>\n",
       "\t<li>TRUE</li>\n",
       "\t<li>TRUE</li>\n",
       "\t<li>TRUE</li>\n",
       "\t<li>TRUE</li>\n",
       "\t<li>TRUE</li>\n",
       "\t<li>TRUE</li>\n",
       "\t<li>TRUE</li>\n",
       "</ol>\n"
      ],
      "text/latex": [
       "\\begin{enumerate*}\n",
       "\\item TRUE\n",
       "\\item TRUE\n",
       "\\item TRUE\n",
       "\\item TRUE\n",
       "\\item TRUE\n",
       "\\item TRUE\n",
       "\\item TRUE\n",
       "\\item TRUE\n",
       "\\item TRUE\n",
       "\\item TRUE\n",
       "\\item TRUE\n",
       "\\item TRUE\n",
       "\\item TRUE\n",
       "\\item TRUE\n",
       "\\item TRUE\n",
       "\\item TRUE\n",
       "\\item TRUE\n",
       "\\item TRUE\n",
       "\\item TRUE\n",
       "\\item TRUE\n",
       "\\item TRUE\n",
       "\\item TRUE\n",
       "\\item TRUE\n",
       "\\item TRUE\n",
       "\\item TRUE\n",
       "\\item TRUE\n",
       "\\item TRUE\n",
       "\\item TRUE\n",
       "\\item TRUE\n",
       "\\item TRUE\n",
       "\\item TRUE\n",
       "\\item TRUE\n",
       "\\item TRUE\n",
       "\\item TRUE\n",
       "\\item TRUE\n",
       "\\item TRUE\n",
       "\\item TRUE\n",
       "\\item TRUE\n",
       "\\item TRUE\n",
       "\\item TRUE\n",
       "\\item TRUE\n",
       "\\item TRUE\n",
       "\\item TRUE\n",
       "\\item TRUE\n",
       "\\item TRUE\n",
       "\\item TRUE\n",
       "\\item TRUE\n",
       "\\item TRUE\n",
       "\\item TRUE\n",
       "\\item TRUE\n",
       "\\item TRUE\n",
       "\\item TRUE\n",
       "\\item TRUE\n",
       "\\item TRUE\n",
       "\\item TRUE\n",
       "\\item TRUE\n",
       "\\item TRUE\n",
       "\\item TRUE\n",
       "\\item TRUE\n",
       "\\item TRUE\n",
       "\\item TRUE\n",
       "\\item TRUE\n",
       "\\item TRUE\n",
       "\\item TRUE\n",
       "\\item TRUE\n",
       "\\item TRUE\n",
       "\\item TRUE\n",
       "\\item TRUE\n",
       "\\item TRUE\n",
       "\\item TRUE\n",
       "\\item TRUE\n",
       "\\item TRUE\n",
       "\\item TRUE\n",
       "\\item TRUE\n",
       "\\item TRUE\n",
       "\\item TRUE\n",
       "\\item TRUE\n",
       "\\item TRUE\n",
       "\\item TRUE\n",
       "\\item TRUE\n",
       "\\item TRUE\n",
       "\\item TRUE\n",
       "\\item TRUE\n",
       "\\item TRUE\n",
       "\\item TRUE\n",
       "\\end{enumerate*}\n"
      ],
      "text/markdown": [
       "1. TRUE\n",
       "2. TRUE\n",
       "3. TRUE\n",
       "4. TRUE\n",
       "5. TRUE\n",
       "6. TRUE\n",
       "7. TRUE\n",
       "8. TRUE\n",
       "9. TRUE\n",
       "10. TRUE\n",
       "11. TRUE\n",
       "12. TRUE\n",
       "13. TRUE\n",
       "14. TRUE\n",
       "15. TRUE\n",
       "16. TRUE\n",
       "17. TRUE\n",
       "18. TRUE\n",
       "19. TRUE\n",
       "20. TRUE\n",
       "21. TRUE\n",
       "22. TRUE\n",
       "23. TRUE\n",
       "24. TRUE\n",
       "25. TRUE\n",
       "26. TRUE\n",
       "27. TRUE\n",
       "28. TRUE\n",
       "29. TRUE\n",
       "30. TRUE\n",
       "31. TRUE\n",
       "32. TRUE\n",
       "33. TRUE\n",
       "34. TRUE\n",
       "35. TRUE\n",
       "36. TRUE\n",
       "37. TRUE\n",
       "38. TRUE\n",
       "39. TRUE\n",
       "40. TRUE\n",
       "41. TRUE\n",
       "42. TRUE\n",
       "43. TRUE\n",
       "44. TRUE\n",
       "45. TRUE\n",
       "46. TRUE\n",
       "47. TRUE\n",
       "48. TRUE\n",
       "49. TRUE\n",
       "50. TRUE\n",
       "51. TRUE\n",
       "52. TRUE\n",
       "53. TRUE\n",
       "54. TRUE\n",
       "55. TRUE\n",
       "56. TRUE\n",
       "57. TRUE\n",
       "58. TRUE\n",
       "59. TRUE\n",
       "60. TRUE\n",
       "61. TRUE\n",
       "62. TRUE\n",
       "63. TRUE\n",
       "64. TRUE\n",
       "65. TRUE\n",
       "66. TRUE\n",
       "67. TRUE\n",
       "68. TRUE\n",
       "69. TRUE\n",
       "70. TRUE\n",
       "71. TRUE\n",
       "72. TRUE\n",
       "73. TRUE\n",
       "74. TRUE\n",
       "75. TRUE\n",
       "76. TRUE\n",
       "77. TRUE\n",
       "78. TRUE\n",
       "79. TRUE\n",
       "80. TRUE\n",
       "81. TRUE\n",
       "82. TRUE\n",
       "83. TRUE\n",
       "84. TRUE\n",
       "85. TRUE\n",
       "\n",
       "\n"
      ],
      "text/plain": [
       " [1] TRUE TRUE TRUE TRUE TRUE TRUE TRUE TRUE TRUE TRUE TRUE TRUE TRUE TRUE TRUE\n",
       "[16] TRUE TRUE TRUE TRUE TRUE TRUE TRUE TRUE TRUE TRUE TRUE TRUE TRUE TRUE TRUE\n",
       "[31] TRUE TRUE TRUE TRUE TRUE TRUE TRUE TRUE TRUE TRUE TRUE TRUE TRUE TRUE TRUE\n",
       "[46] TRUE TRUE TRUE TRUE TRUE TRUE TRUE TRUE TRUE TRUE TRUE TRUE TRUE TRUE TRUE\n",
       "[61] TRUE TRUE TRUE TRUE TRUE TRUE TRUE TRUE TRUE TRUE TRUE TRUE TRUE TRUE TRUE\n",
       "[76] TRUE TRUE TRUE TRUE TRUE TRUE TRUE TRUE TRUE TRUE"
      ]
     },
     "metadata": {},
     "output_type": "display_data"
    }
   ],
   "source": [
    "load('biom95.mc.rem.rda')\n",
    "aa <- biom95.mc.rem\n",
    "load('deseq95.rda')\n",
    "bb <- deseq95\n",
    "\n",
    "aaOTU <- (otu_table(aa)[,'1w'])\n",
    "aaOTU <- aaOTU[aaOTU != 0]\n",
    "bbOTU <- (otu_table(bb)[,'1w'])\n",
    "bbOTU <- bbOTU[bbOTU != 0]\n",
    "rownames(aaOTU) %in% rownames(bbOTU) \n",
    "## let's tag these, plot them\n",
    "lost <- !(rownames(aaOTU) %in% rownames(bbOTU))*1\n",
    "aalost <- cbind(aaOTU,lost)\n",
    "aalost <- aalost[order(aalost[,'1w'], decreasing = TRUE),]\n",
    "bbOTU <- bbOTU[order(bbOTU[,'1w'], decreasing = TRUE),]\n"
   ]
  },
  {
   "cell_type": "code",
   "execution_count": 56,
   "metadata": {},
   "outputs": [
    {
     "data": {
      "image/png": "[encoded data removed]",
      "text/plain": [
       "Plot with title “After”"
      ]
     },
     "metadata": {},
     "output_type": "display_data"
    }
   ],
   "source": [
    "par(mfrow=c(1,2))\n",
    "par(mar=c(2,2,4,2))\n",
    "par(oma=c(0,0,4,0))\n",
    "\n",
    "barplot(aalost[,'1w']+40, ## add some to make visible\n",
    "    col=aalost[,'lost'], \n",
    "    names.arg = '',\n",
    "    main = 'Before',\n",
    "    )\n",
    "\n",
    "barplot(as.vector(bbOTU[,'1w']),\n",
    "       main = 'After',\n",
    "       )\n",
    "\n",
    "mtext(\"Ecological wood sample  before and after DeSeq\", \n",
    "      side = 3, \n",
    "      line = 1, \n",
    "      outer = TRUE, \n",
    "      cex = 2,\n",
    "     )"
   ]
  },
  {
   "cell_type": "markdown",
   "metadata": {},
   "source": [
    "Huh, unlike in our last analysis, we didn't lose our rare OTUs. I'm not sure why/what was different in the case. Generally, though, the transformation here is pretty clean. As before, deseq's algorithmns improve but don't completely ameliorate the issues of uneven amplification and sequencer detection. \n",
    "\n",
    "Ideally, one should be able to train an algorithm based on performance with a series of positive controls. I can imagine this being part of the future of hi-throughput metabarcoding pipelines. "
   ]
  },
  {
   "cell_type": "code",
   "execution_count": null,
   "metadata": {},
   "outputs": [],
   "source": []
  }
 ],
 "metadata": {
  "kernelspec": {
   "display_name": "R",
   "language": "R",
   "name": "ir"
  },
  "language_info": {
   "codemirror_mode": "r",
   "file_extension": ".r",
   "mimetype": "text/x-r-source",
   "name": "R",
   "pygments_lexer": "r",
   "version": "3.4.4"
  }
 },
 "nbformat": 4,
 "nbformat_minor": 2
}

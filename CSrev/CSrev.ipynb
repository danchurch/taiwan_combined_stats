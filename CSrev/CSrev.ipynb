{
 "cells": [
  {
   "cell_type": "markdown",
   "metadata": {},
   "source": [
    "Okay, time to rebuild our old statistical pipeline as best as we can. We will keep only the essential portions, in the interests of time and clarity."
   ]
  },
  {
   "cell_type": "markdown",
   "metadata": {},
   "source": [
    "## Contents\n",
    "\n",
    "[Importing biom table and setup](#import)  \n",
    "\n",
    "\n",
    "[Controls](#controls)\n",
    " - [Negative controls](#negC)"
   ]
  },
  {
   "cell_type": "markdown",
   "metadata": {},
   "source": [
    "<a id='import'><h2>Importing biom table and setup</h2></a>"
   ]
  },
  {
   "cell_type": "code",
   "execution_count": 4,
   "metadata": {},
   "outputs": [],
   "source": [
    "library('phyloseq')\n",
    "library('DESeq2')\n",
    "library('vegan')\n",
    "library('cooccur')\n",
    "library('igraph')\n",
    "library('ecodist')\n",
    "library('ade4')\n",
    "library('png')"
   ]
  },
  {
   "cell_type": "code",
   "execution_count": 5,
   "metadata": {},
   "outputs": [],
   "source": [
    "biom95 <- import_biom('combo_otu_wMeta.biom', parseFunction=parse_taxonomy_greengenes)"
   ]
  },
  {
   "cell_type": "code",
   "execution_count": 6,
   "metadata": {},
   "outputs": [
    {
     "data": {
      "text/plain": [
       "phyloseq-class experiment-level object\n",
       "otu_table()   OTU Table:         [ 11588 taxa and 232 samples ]\n",
       "sample_data() Sample Data:       [ 232 samples by 11 sample variables ]\n",
       "tax_table()   Taxonomy Table:    [ 11588 taxa by 7 taxonomic ranks ]"
      ]
     },
     "metadata": {},
     "output_type": "display_data"
    }
   ],
   "source": [
    "biom95"
   ]
  },
  {
   "cell_type": "code",
   "execution_count": 10,
   "metadata": {},
   "outputs": [
    {
     "data": {
      "text/html": [
       "<table>\n",
       "<thead><tr><th></th><th scope=col>vegcom</th><th scope=col>stream_distance</th><th scope=col>Host_genus</th><th scope=col>Host_genus_species</th><th scope=col>Library</th><th scope=col>Forest_Type</th><th scope=col>Host_species</th><th scope=col>X</th><th scope=col>Host_family</th><th scope=col>SorC</th><th scope=col>Y</th></tr></thead>\n",
       "<tbody>\n",
       "\t<tr><th scope=row>100leaf</th><td>2                                 </td><td>25.97654                          </td><td>Helicia                           </td><td>Helicia_formosana                 </td><td>L                                 </td><td>7                                 </td><td>formosana                         </td><td>183                               </td><td>Proteaceae                        </td><td>Sample                            </td><td>20                                </td></tr>\n",
       "\t<tr><th scope=row>101leaf</th><td>3                                 </td><td>18.36984                          </td><td>Helicia                           </td><td>Helicia_formosana                 </td><td>L                                 </td><td>7                                 </td><td>formosana                         </td><td>180                               </td><td>Proteaceae                        </td><td>Sample                            </td><td>27                                </td></tr>\n",
       "\t<tr><th scope=row>102leaf</th><td>3                                 </td><td>21.3725                           </td><td>Cleyera                           </td><td>Cleyera_japonica                  </td><td>L                                 </td><td>7                                 </td><td>japonica                          </td><td>187                               </td><td>Theaceae                          </td><td>Sample                            </td><td>27                                </td></tr>\n",
       "\t<tr><th scope=row>103leaf</th><td>3                                 </td><td>11.08831                          </td><td>Helicia                           </td><td>Helicia_formosana                 </td><td>L                                 </td><td>7                                 </td><td>formosana                         </td><td>180                               </td><td>Proteaceae                        </td><td>Sample                            </td><td>35                                </td></tr>\n",
       "\t<tr><th scope=row>104leaf</th><td>3                                 </td><td>1.409998                          </td><td>Helicia                           </td><td>Helicia_formosana                 </td><td>L                                 </td><td>7                                 </td><td>formosana                         </td><td>180                               </td><td>Proteaceae                        </td><td>Sample                            </td><td>51                                </td></tr>\n",
       "\t<tr><th scope=row>105leaf</th><td>3                                 </td><td>22.46722                          </td><td>Limlia                            </td><td>Limlia_uraiana                    </td><td>L                                 </td><td>7                                 </td><td>uraiana                           </td><td>180                               </td><td>Fagaceae                          </td><td>Sample                            </td><td>83                                </td></tr>\n",
       "\t<tr><th scope=row>106leaf</th><td>2                                 </td><td>82.49734                          </td><td>Helicia                           </td><td>Helicia_formosana                 </td><td>L                                 </td><td>3                                 </td><td>formosana                         </td><td>180                               </td><td>Proteaceae                        </td><td>Sample                            </td><td>147                               </td></tr>\n",
       "\t<tr><th scope=row>107leaf</th><td>1                                 </td><td>64.85876                          </td><td>Blastus                           </td><td>Blastus_cochinchinensis           </td><td>L                                 </td><td>3                                 </td><td>cochinchinensis                   </td><td>307                               </td><td>Melastomataceae                   </td><td>Sample                            </td><td>147                               </td></tr>\n",
       "\t<tr><th scope=row>108leaf</th><td>1                                 </td><td>19.02113                          </td><td>Cleyera                           </td><td>Cleyera_japonica                  </td><td>L                                 </td><td>3                                 </td><td>japonica                          </td><td>243                               </td><td>Theaceae                          </td><td>Sample                            </td><td>83                                </td></tr>\n",
       "\t<tr><th scope=row>109leaf</th><td>3                                 </td><td>13.46815                          </td><td>Meliosma                          </td><td>Meliosma_squamulata               </td><td>L                                 </td><td>7                                 </td><td>squamulata                        </td><td>209                               </td><td>Sabiaceae                         </td><td>Sample                            </td><td>49                                </td></tr>\n",
       "\t<tr><th scope=row>110leaf</th><td>3                                 </td><td>13.46815                          </td><td>Limlia                            </td><td>Limlia_uraiana                    </td><td>L                                 </td><td>7                                 </td><td>uraiana                           </td><td>209                               </td><td>Fagaceae                          </td><td>Sample                            </td><td>49                                </td></tr>\n",
       "\t<tr><th scope=row>111leaf</th><td>3                                 </td><td>20.37973                          </td><td>Limlia                            </td><td>Limlia_uraiana                    </td><td>L                                 </td><td>7                                 </td><td>uraiana                           </td><td>195                               </td><td>Fagaceae                          </td><td>Sample                            </td><td>35                                </td></tr>\n",
       "\t<tr><th scope=row>112leafA</th><td>2                                 </td><td>4.250151                          </td><td>Blastus                           </td><td>Blastus_cochinchinensis           </td><td>L                                 </td><td>7                                 </td><td>cochinchinensis                   </td><td>167                               </td><td>Melastomataceae                   </td><td>Sample                            </td><td>40                                </td></tr>\n",
       "\t<tr><th scope=row>112leafB</th><td>2                                 </td><td>4.250151                          </td><td>Blastus                           </td><td>Blastus_cochinchinensis           </td><td>L                                 </td><td>7                                 </td><td>cochinchinensis                   </td><td>167                               </td><td>Melastomataceae                   </td><td>Sample                            </td><td>40                                </td></tr>\n",
       "\t<tr><th scope=row>113leafA</th><td>3                                 </td><td>12.80385                          </td><td>Schefflera                        </td><td>Schefflera_octophylla             </td><td>L                                 </td><td>7                                 </td><td>octophylla                        </td><td>103                               </td><td>Araliaceae                        </td><td>Sample                            </td><td>40                                </td></tr>\n",
       "\t<tr><th scope=row>113leafB</th><td>3                                 </td><td>12.80385                          </td><td>Schefflera                        </td><td>Schefflera_octophylla             </td><td>L                                 </td><td>7                                 </td><td>octophylla                        </td><td>103                               </td><td>Araliaceae                        </td><td>Sample                            </td><td>40                                </td></tr>\n",
       "\t<tr><th scope=row>114leaf</th><td>2                                 </td><td>6.015914                          </td><td>Helicia                           </td><td>Helicia_formosana                 </td><td>L                                 </td><td>7                                 </td><td>formosana                         </td><td>71                                </td><td>Proteaceae                        </td><td>Sample                            </td><td>40                                </td></tr>\n",
       "\t<tr><th scope=row>115leaf</th><td>3                                 </td><td>16.75811                          </td><td>Cyathea                           </td><td>Cyathea_podophylla                </td><td>L                                 </td><td>4                                 </td><td>podophylla                        </td><td>55                                </td><td>Cyatheaceae                       </td><td>Sample                            </td><td>40                                </td></tr>\n",
       "\t<tr><th scope=row>116leaf</th><td>3                                 </td><td>24.2118                           </td><td>Helicia                           </td><td>Helicia_formosana                 </td><td>L                                 </td><td>4                                 </td><td>formosana                         </td><td>47                                </td><td>Proteaceae                        </td><td>Sample                            </td><td>40                                </td></tr>\n",
       "\t<tr><th scope=row>117leaf</th><td>3                                 </td><td>30.79582                          </td><td>Limlia                            </td><td>Limlia_uraiana                    </td><td>L                                 </td><td>7                                 </td><td>uraiana                           </td><td>40                                </td><td>Fagaceae                          </td><td>Sample                            </td><td>40                                </td></tr>\n",
       "\t<tr><th scope=row>118leaf</th><td>3                                 </td><td>30.50139                          </td><td>Limlia                            </td><td>Limlia_uraiana                    </td><td>L                                 </td><td>7                                 </td><td>uraiana                           </td><td>40                                </td><td>Fagaceae                          </td><td>Sample                            </td><td>41                                </td></tr>\n",
       "\t<tr><th scope=row>119leaf</th><td>3                                 </td><td>29.54256                          </td><td>Limlia                            </td><td>Limlia_uraiana                    </td><td>L                                 </td><td>7                                 </td><td>uraiana                           </td><td>41                                </td><td>Fagaceae                          </td><td>Sample                            </td><td>41                                </td></tr>\n",
       "\t<tr><th scope=row>120leaf</th><td>3                                 </td><td>29.84645                          </td><td>Limlia                            </td><td>Limlia_uraiana                    </td><td>L                                 </td><td>7                                 </td><td>uraiana                           </td><td>41                                </td><td>Fagaceae                          </td><td>Sample                            </td><td>40                                </td></tr>\n",
       "\t<tr><th scope=row>121leaf</th><td>3                                 </td><td>27.95829                          </td><td>Blastus                           </td><td>Blastus_cochinchinensis           </td><td>L                                 </td><td>4                                 </td><td>cochinchinensis                   </td><td>43                                </td><td>Melastomataceae                   </td><td>Sample                            </td><td>40                                </td></tr>\n",
       "\t<tr><th scope=row>122leaf</th><td>3                                 </td><td>27.07621                          </td><td>Limlia                            </td><td>Limlia_uraiana                    </td><td>L                                 </td><td>7                                 </td><td>uraiana                           </td><td>43                                </td><td>Fagaceae                          </td><td>Sample                            </td><td>43                                </td></tr>\n",
       "\t<tr><th scope=row>125leaf</th><td>3                                 </td><td>27.32744                          </td><td>Litsea                            </td><td>Litsea_acuminata                  </td><td>L                                 </td><td>4                                 </td><td>acuminata                         </td><td>40                                </td><td>Lauraceae                         </td><td>Sample                            </td><td>55                                </td></tr>\n",
       "\t<tr><th scope=row>126leafA</th><td>3                                 </td><td>20.16175                          </td><td>Blastus                           </td><td>Blastus_cochinchinensis           </td><td>L                                 </td><td>7                                 </td><td>cochinchinensis                   </td><td>40                                </td><td>Melastomataceae                   </td><td>Sample                            </td><td>71                                </td></tr>\n",
       "\t<tr><th scope=row>126leafB</th><td>3                                 </td><td>20.16175                          </td><td>Blastus                           </td><td>Blastus_cochinchinensis           </td><td>L                                 </td><td>7                                 </td><td>cochinchinensis                   </td><td>40                                </td><td>Melastomataceae                   </td><td>Sample                            </td><td>71                                </td></tr>\n",
       "\t<tr><th scope=row>127leaf</th><td>3                                 </td><td>11.69457                          </td><td>Helicia                           </td><td>Helicia_formosana                 </td><td>L                                 </td><td>7                                 </td><td>formosana                         </td><td>40                                </td><td>Proteaceae                        </td><td>Sample                            </td><td>103                               </td></tr>\n",
       "\t<tr><th scope=row>128leaf</th><td>3                                 </td><td>75.54028                          </td><td>Castanopsis                       </td><td>Castanopsis_cuspidata_var_carlesii</td><td>L                                 </td><td>3                                 </td><td>cuspidata var. carlesii           </td><td>40                                </td><td>Fagaceae                          </td><td>Sample                            </td><td>167                               </td></tr>\n",
       "\t<tr><th scope=row>⋮</th><td>⋮</td><td>⋮</td><td>⋮</td><td>⋮</td><td>⋮</td><td>⋮</td><td>⋮</td><td>⋮</td><td>⋮</td><td>⋮</td><td>⋮</td></tr>\n",
       "\t<tr><th scope=row>88w</th><td>2                                 </td><td>47.36483                          </td><td>Cryptocarya                       </td><td>Cryptocarya_chinensis             </td><td>W                                 </td><td>7                                 </td><td>chinensis                         </td><td>307                               </td><td>Lauraceae                         </td><td>Sample                            </td><td>220                               </td></tr>\n",
       "\t<tr><th scope=row>89w</th><td>2                                 </td><td>25.33942                          </td><td>Helicia                           </td><td>Helicia_formosana                 </td><td>W                                 </td><td>7                                 </td><td>formosana                         </td><td>287                               </td><td>Proteaceae                        </td><td>Sample                            </td><td>20                                </td></tr>\n",
       "\t<tr><th scope=row>92w</th><td>2                                 </td><td>31.43415                          </td><td>Blastus                           </td><td>Blastus_cochinchinensis           </td><td>W                                 </td><td>7                                 </td><td>cochinchinensis                   </td><td>195                               </td><td>Melastomataceae                   </td><td>Sample                            </td><td>20                                </td></tr>\n",
       "\t<tr><th scope=row>93w</th><td>2                                 </td><td>27.63549                          </td><td>Prunus                            </td><td>Prunus_phaeosticta                </td><td>W                                 </td><td>6                                 </td><td>phaeosticta                       </td><td>187                               </td><td>Rosaceae                          </td><td>Sample                            </td><td>20                                </td></tr>\n",
       "\t<tr><th scope=row>94w</th><td>2                                 </td><td>25.06622                          </td><td>Ficus                             </td><td>Ficus_erecta_var_beecheyana       </td><td>W                                 </td><td>6                                 </td><td>erecta var. beecheyana            </td><td>180                               </td><td>Moraceae                          </td><td>Sample                            </td><td>20                                </td></tr>\n",
       "\t<tr><th scope=row>95w</th><td>2                                 </td><td>25.33385                          </td><td>Ficus                             </td><td>Ficus_erecta_var_beecheyana       </td><td>W                                 </td><td>6                                 </td><td>erecta var. beecheyana            </td><td>181                               </td><td>Moraceae                          </td><td>Sample                            </td><td>20                                </td></tr>\n",
       "\t<tr><th scope=row>96w</th><td>3                                 </td><td>24.37728                          </td><td>Helicia                           </td><td>Helicia_formosana                 </td><td>W                                 </td><td>7                                 </td><td>formosana                         </td><td>181                               </td><td>Proteaceae                        </td><td>Sample                            </td><td>21                                </td></tr>\n",
       "\t<tr><th scope=row>97w</th><td>3                                 </td><td>24.09903                          </td><td>Helicia                           </td><td>Helicia_formosana                 </td><td>W                                 </td><td>7                                 </td><td>formosana                         </td><td>180                               </td><td>Proteaceae                        </td><td>Sample                            </td><td>21                                </td></tr>\n",
       "\t<tr><th scope=row>99w</th><td>3                                 </td><td>23.19752                          </td><td>Helicia                           </td><td>Helicia_formosana                 </td><td>W                                 </td><td>7                                 </td><td>formosana                         </td><td>183                               </td><td>Proteaceae                        </td><td>Sample                            </td><td>23                                </td></tr>\n",
       "\t<tr><th scope=row>100w</th><td>2                                 </td><td>25.97654                          </td><td>Helicia                           </td><td>Helicia_formosana                 </td><td>W                                 </td><td>7                                 </td><td>formosana                         </td><td>183                               </td><td>Proteaceae                        </td><td>Sample                            </td><td>20                                </td></tr>\n",
       "\t<tr><th scope=row>101w</th><td>3                                 </td><td>18.36984                          </td><td>Helicia                           </td><td>Helicia_formosana                 </td><td>W                                 </td><td>7                                 </td><td>formosana                         </td><td>180                               </td><td>Proteaceae                        </td><td>Sample                            </td><td>27                                </td></tr>\n",
       "\t<tr><th scope=row>102w</th><td>3                                 </td><td>21.3725                           </td><td>Cleyera                           </td><td>Cleyera_japonica                  </td><td>W                                 </td><td>7                                 </td><td>japonica                          </td><td>187                               </td><td>Theaceae                          </td><td>Sample                            </td><td>27                                </td></tr>\n",
       "\t<tr><th scope=row>104w</th><td>3                                 </td><td>1.409998                          </td><td>Helicia                           </td><td>Helicia_formosana                 </td><td>W                                 </td><td>7                                 </td><td>formosana                         </td><td>180                               </td><td>Proteaceae                        </td><td>Sample                            </td><td>51                                </td></tr>\n",
       "\t<tr><th scope=row>106w</th><td>2                                 </td><td>82.49734                          </td><td>Helicia                           </td><td>Helicia_formosana                 </td><td>W                                 </td><td>3                                 </td><td>formosana                         </td><td>180                               </td><td>Proteaceae                        </td><td>Sample                            </td><td>147                               </td></tr>\n",
       "\t<tr><th scope=row>107w</th><td>1                                 </td><td>64.85876                          </td><td>Blastus                           </td><td>Blastus_cochinchinensis           </td><td>W                                 </td><td>3                                 </td><td>cochinchinensis                   </td><td>307                               </td><td>Melastomataceae                   </td><td>Sample                            </td><td>147                               </td></tr>\n",
       "\t<tr><th scope=row>108w</th><td>1                                 </td><td>19.02113                          </td><td>Cleyera                           </td><td>Cleyera_japonica                  </td><td>W                                 </td><td>3                                 </td><td>japonica                          </td><td>243                               </td><td>Theaceae                          </td><td>Sample                            </td><td>83                                </td></tr>\n",
       "\t<tr><th scope=row>109w</th><td>3                                 </td><td>13.46815                          </td><td>Meliosma                          </td><td>Meliosma_squamulata               </td><td>W                                 </td><td>7                                 </td><td>squamulata                        </td><td>209                               </td><td>Sabiaceae                         </td><td>Sample                            </td><td>49                                </td></tr>\n",
       "\t<tr><th scope=row>114w</th><td>2                                 </td><td>6.015914                          </td><td>Helicia                           </td><td>Helicia_formosana                 </td><td>W                                 </td><td>7                                 </td><td>formosana                         </td><td>71                                </td><td>Proteaceae                        </td><td>Sample                            </td><td>40                                </td></tr>\n",
       "\t<tr><th scope=row>115w</th><td>3                                 </td><td>16.75811                          </td><td>Cyathea                           </td><td>Cyathea_podophylla                </td><td>W                                 </td><td>4                                 </td><td>podophylla                        </td><td>55                                </td><td>Cyatheaceae                       </td><td>Sample                            </td><td>40                                </td></tr>\n",
       "\t<tr><th scope=row>121w</th><td>3                                 </td><td>27.95829                          </td><td>Blastus                           </td><td>Blastus_cochinchinensis           </td><td>W                                 </td><td>4                                 </td><td>cochinchinensis                   </td><td>43                                </td><td>Melastomataceae                   </td><td>Sample                            </td><td>40                                </td></tr>\n",
       "\t<tr><th scope=row>124w</th><td>3                                 </td><td>28.9161391514                     </td><td>Glochidion                        </td><td>Glochidion_acuminatum             </td><td>W                                 </td><td>7                                 </td><td>acuminatum                        </td><td>40                                </td><td>Euphorbiaceae                     </td><td>Sample                            </td><td>47                                </td></tr>\n",
       "\t<tr><th scope=row>125w</th><td>3                                 </td><td>27.32744                          </td><td>Litsea                            </td><td>Litsea_acuminata                  </td><td>W                                 </td><td>4                                 </td><td>acuminata                         </td><td>40                                </td><td>Lauraceae                         </td><td>Sample                            </td><td>55                                </td></tr>\n",
       "\t<tr><th scope=row>128w</th><td>3                                 </td><td>75.54028                          </td><td>Castanopsis                       </td><td>Castanopsis_cuspidata_var_carlesii</td><td>W                                 </td><td>3                                 </td><td>cuspidata var. carlesii           </td><td>40                                </td><td>Fagaceae                          </td><td>Sample                            </td><td>167                               </td></tr>\n",
       "\t<tr><th scope=row>129w</th><td>1                                 </td><td>105.2136                          </td><td>Myrsine                           </td><td>Myrsine_seguinii                  </td><td>W                                 </td><td>3                                 </td><td>seguinii                          </td><td>167                               </td><td>Myrsinaceae                       </td><td>Sample                            </td><td>167                               </td></tr>\n",
       "\t<tr><th scope=row>130w</th><td>3                                 </td><td>45.72196                          </td><td>Helicia                           </td><td>Helicia_formosana                 </td><td>W                                 </td><td>7                                 </td><td>formosana                         </td><td>103                               </td><td>Proteaceae                        </td><td>Sample                            </td><td>103                               </td></tr>\n",
       "\t<tr><th scope=row>131w</th><td>4                                 </td><td>5.360382                          </td><td>Helicia                           </td><td>Helicia_formosana                 </td><td>W                                 </td><td>7                                 </td><td>formosana                         </td><td>71                                </td><td>Proteaceae                        </td><td>Sample                            </td><td>71                                </td></tr>\n",
       "\t<tr><th scope=row>133w</th><td>3                                 </td><td>22.16354                          </td><td>Helicia                           </td><td>Helicia_formosana                 </td><td>W                                 </td><td>7                                 </td><td>formosana                         </td><td>47                                </td><td>Proteaceae                        </td><td>Sample                            </td><td>47                                </td></tr>\n",
       "\t<tr><th scope=row>Neg</th><td>NA                                </td><td>NA                                </td><td>NA                                </td><td>NA                                </td><td>W                                 </td><td>NA                                </td><td>NA                                </td><td>NA                                </td><td>NA                                </td><td>Control                           </td><td>NA                                </td></tr>\n",
       "\t<tr><th scope=row>PosG</th><td>NA                                </td><td>NA                                </td><td>NA                                </td><td>NA                                </td><td>W                                 </td><td>NA                                </td><td>NA                                </td><td>NA                                </td><td>NA                                </td><td>Control                           </td><td>NA                                </td></tr>\n",
       "\t<tr><th scope=row>PosI</th><td>NA                                </td><td>NA                                </td><td>NA                                </td><td>NA                                </td><td>W                                 </td><td>NA                                </td><td>NA                                </td><td>NA                                </td><td>NA                                </td><td>Control                           </td><td>NA                                </td></tr>\n",
       "</tbody>\n",
       "</table>\n"
      ],
      "text/latex": [
       "\\begin{tabular}{r|lllllllllll}\n",
       "  & vegcom & stream\\_distance & Host\\_genus & Host\\_genus\\_species & Library & Forest\\_Type & Host\\_species & X & Host\\_family & SorC & Y\\\\\n",
       "\\hline\n",
       "\t100leaf & 2                                    & 25.97654                             & Helicia                              & Helicia\\_formosana                  & L                                    & 7                                    & formosana                            & 183                                  & Proteaceae                           & Sample                               & 20                                  \\\\\n",
       "\t101leaf & 3                                    & 18.36984                             & Helicia                              & Helicia\\_formosana                  & L                                    & 7                                    & formosana                            & 180                                  & Proteaceae                           & Sample                               & 27                                  \\\\\n",
       "\t102leaf & 3                                    & 21.3725                              & Cleyera                              & Cleyera\\_japonica                   & L                                    & 7                                    & japonica                             & 187                                  & Theaceae                             & Sample                               & 27                                  \\\\\n",
       "\t103leaf & 3                                    & 11.08831                             & Helicia                              & Helicia\\_formosana                  & L                                    & 7                                    & formosana                            & 180                                  & Proteaceae                           & Sample                               & 35                                  \\\\\n",
       "\t104leaf & 3                                    & 1.409998                             & Helicia                              & Helicia\\_formosana                  & L                                    & 7                                    & formosana                            & 180                                  & Proteaceae                           & Sample                               & 51                                  \\\\\n",
       "\t105leaf & 3                                    & 22.46722                             & Limlia                               & Limlia\\_uraiana                     & L                                    & 7                                    & uraiana                              & 180                                  & Fagaceae                             & Sample                               & 83                                  \\\\\n",
       "\t106leaf & 2                                    & 82.49734                             & Helicia                              & Helicia\\_formosana                  & L                                    & 3                                    & formosana                            & 180                                  & Proteaceae                           & Sample                               & 147                                 \\\\\n",
       "\t107leaf & 1                                    & 64.85876                             & Blastus                              & Blastus\\_cochinchinensis            & L                                    & 3                                    & cochinchinensis                      & 307                                  & Melastomataceae                      & Sample                               & 147                                 \\\\\n",
       "\t108leaf & 1                                    & 19.02113                             & Cleyera                              & Cleyera\\_japonica                   & L                                    & 3                                    & japonica                             & 243                                  & Theaceae                             & Sample                               & 83                                  \\\\\n",
       "\t109leaf & 3                                    & 13.46815                             & Meliosma                             & Meliosma\\_squamulata                & L                                    & 7                                    & squamulata                           & 209                                  & Sabiaceae                            & Sample                               & 49                                  \\\\\n",
       "\t110leaf & 3                                    & 13.46815                             & Limlia                               & Limlia\\_uraiana                     & L                                    & 7                                    & uraiana                              & 209                                  & Fagaceae                             & Sample                               & 49                                  \\\\\n",
       "\t111leaf & 3                                    & 20.37973                             & Limlia                               & Limlia\\_uraiana                     & L                                    & 7                                    & uraiana                              & 195                                  & Fagaceae                             & Sample                               & 35                                  \\\\\n",
       "\t112leafA & 2                                    & 4.250151                             & Blastus                              & Blastus\\_cochinchinensis            & L                                    & 7                                    & cochinchinensis                      & 167                                  & Melastomataceae                      & Sample                               & 40                                  \\\\\n",
       "\t112leafB & 2                                    & 4.250151                             & Blastus                              & Blastus\\_cochinchinensis            & L                                    & 7                                    & cochinchinensis                      & 167                                  & Melastomataceae                      & Sample                               & 40                                  \\\\\n",
       "\t113leafA & 3                                    & 12.80385                             & Schefflera                           & Schefflera\\_octophylla              & L                                    & 7                                    & octophylla                           & 103                                  & Araliaceae                           & Sample                               & 40                                  \\\\\n",
       "\t113leafB & 3                                    & 12.80385                             & Schefflera                           & Schefflera\\_octophylla              & L                                    & 7                                    & octophylla                           & 103                                  & Araliaceae                           & Sample                               & 40                                  \\\\\n",
       "\t114leaf & 2                                    & 6.015914                             & Helicia                              & Helicia\\_formosana                  & L                                    & 7                                    & formosana                            & 71                                   & Proteaceae                           & Sample                               & 40                                  \\\\\n",
       "\t115leaf & 3                                    & 16.75811                             & Cyathea                              & Cyathea\\_podophylla                 & L                                    & 4                                    & podophylla                           & 55                                   & Cyatheaceae                          & Sample                               & 40                                  \\\\\n",
       "\t116leaf & 3                                    & 24.2118                              & Helicia                              & Helicia\\_formosana                  & L                                    & 4                                    & formosana                            & 47                                   & Proteaceae                           & Sample                               & 40                                  \\\\\n",
       "\t117leaf & 3                                    & 30.79582                             & Limlia                               & Limlia\\_uraiana                     & L                                    & 7                                    & uraiana                              & 40                                   & Fagaceae                             & Sample                               & 40                                  \\\\\n",
       "\t118leaf & 3                                    & 30.50139                             & Limlia                               & Limlia\\_uraiana                     & L                                    & 7                                    & uraiana                              & 40                                   & Fagaceae                             & Sample                               & 41                                  \\\\\n",
       "\t119leaf & 3                                    & 29.54256                             & Limlia                               & Limlia\\_uraiana                     & L                                    & 7                                    & uraiana                              & 41                                   & Fagaceae                             & Sample                               & 41                                  \\\\\n",
       "\t120leaf & 3                                    & 29.84645                             & Limlia                               & Limlia\\_uraiana                     & L                                    & 7                                    & uraiana                              & 41                                   & Fagaceae                             & Sample                               & 40                                  \\\\\n",
       "\t121leaf & 3                                    & 27.95829                             & Blastus                              & Blastus\\_cochinchinensis            & L                                    & 4                                    & cochinchinensis                      & 43                                   & Melastomataceae                      & Sample                               & 40                                  \\\\\n",
       "\t122leaf & 3                                    & 27.07621                             & Limlia                               & Limlia\\_uraiana                     & L                                    & 7                                    & uraiana                              & 43                                   & Fagaceae                             & Sample                               & 43                                  \\\\\n",
       "\t125leaf & 3                                    & 27.32744                             & Litsea                               & Litsea\\_acuminata                   & L                                    & 4                                    & acuminata                            & 40                                   & Lauraceae                            & Sample                               & 55                                  \\\\\n",
       "\t126leafA & 3                                    & 20.16175                             & Blastus                              & Blastus\\_cochinchinensis            & L                                    & 7                                    & cochinchinensis                      & 40                                   & Melastomataceae                      & Sample                               & 71                                  \\\\\n",
       "\t126leafB & 3                                    & 20.16175                             & Blastus                              & Blastus\\_cochinchinensis            & L                                    & 7                                    & cochinchinensis                      & 40                                   & Melastomataceae                      & Sample                               & 71                                  \\\\\n",
       "\t127leaf & 3                                    & 11.69457                             & Helicia                              & Helicia\\_formosana                  & L                                    & 7                                    & formosana                            & 40                                   & Proteaceae                           & Sample                               & 103                                 \\\\\n",
       "\t128leaf & 3                                        & 75.54028                                 & Castanopsis                              & Castanopsis\\_cuspidata\\_var\\_carlesii & L                                        & 3                                        & cuspidata var. carlesii                  & 40                                       & Fagaceae                                 & Sample                                   & 167                                     \\\\\n",
       "\t⋮ & ⋮ & ⋮ & ⋮ & ⋮ & ⋮ & ⋮ & ⋮ & ⋮ & ⋮ & ⋮ & ⋮\\\\\n",
       "\t88w & 2                                    & 47.36483                             & Cryptocarya                          & Cryptocarya\\_chinensis              & W                                    & 7                                    & chinensis                            & 307                                  & Lauraceae                            & Sample                               & 220                                 \\\\\n",
       "\t89w & 2                                    & 25.33942                             & Helicia                              & Helicia\\_formosana                  & W                                    & 7                                    & formosana                            & 287                                  & Proteaceae                           & Sample                               & 20                                  \\\\\n",
       "\t92w & 2                                    & 31.43415                             & Blastus                              & Blastus\\_cochinchinensis            & W                                    & 7                                    & cochinchinensis                      & 195                                  & Melastomataceae                      & Sample                               & 20                                  \\\\\n",
       "\t93w & 2                                    & 27.63549                             & Prunus                               & Prunus\\_phaeosticta                 & W                                    & 6                                    & phaeosticta                          & 187                                  & Rosaceae                             & Sample                               & 20                                  \\\\\n",
       "\t94w & 2                                        & 25.06622                                 & Ficus                                    & Ficus\\_erecta\\_var\\_beecheyana        & W                                        & 6                                        & erecta var. beecheyana                   & 180                                      & Moraceae                                 & Sample                                   & 20                                      \\\\\n",
       "\t95w & 2                                        & 25.33385                                 & Ficus                                    & Ficus\\_erecta\\_var\\_beecheyana        & W                                        & 6                                        & erecta var. beecheyana                   & 181                                      & Moraceae                                 & Sample                                   & 20                                      \\\\\n",
       "\t96w & 3                                    & 24.37728                             & Helicia                              & Helicia\\_formosana                  & W                                    & 7                                    & formosana                            & 181                                  & Proteaceae                           & Sample                               & 21                                  \\\\\n",
       "\t97w & 3                                    & 24.09903                             & Helicia                              & Helicia\\_formosana                  & W                                    & 7                                    & formosana                            & 180                                  & Proteaceae                           & Sample                               & 21                                  \\\\\n",
       "\t99w & 3                                    & 23.19752                             & Helicia                              & Helicia\\_formosana                  & W                                    & 7                                    & formosana                            & 183                                  & Proteaceae                           & Sample                               & 23                                  \\\\\n",
       "\t100w & 2                                    & 25.97654                             & Helicia                              & Helicia\\_formosana                  & W                                    & 7                                    & formosana                            & 183                                  & Proteaceae                           & Sample                               & 20                                  \\\\\n",
       "\t101w & 3                                    & 18.36984                             & Helicia                              & Helicia\\_formosana                  & W                                    & 7                                    & formosana                            & 180                                  & Proteaceae                           & Sample                               & 27                                  \\\\\n",
       "\t102w & 3                                    & 21.3725                              & Cleyera                              & Cleyera\\_japonica                   & W                                    & 7                                    & japonica                             & 187                                  & Theaceae                             & Sample                               & 27                                  \\\\\n",
       "\t104w & 3                                    & 1.409998                             & Helicia                              & Helicia\\_formosana                  & W                                    & 7                                    & formosana                            & 180                                  & Proteaceae                           & Sample                               & 51                                  \\\\\n",
       "\t106w & 2                                    & 82.49734                             & Helicia                              & Helicia\\_formosana                  & W                                    & 3                                    & formosana                            & 180                                  & Proteaceae                           & Sample                               & 147                                 \\\\\n",
       "\t107w & 1                                    & 64.85876                             & Blastus                              & Blastus\\_cochinchinensis            & W                                    & 3                                    & cochinchinensis                      & 307                                  & Melastomataceae                      & Sample                               & 147                                 \\\\\n",
       "\t108w & 1                                    & 19.02113                             & Cleyera                              & Cleyera\\_japonica                   & W                                    & 3                                    & japonica                             & 243                                  & Theaceae                             & Sample                               & 83                                  \\\\\n",
       "\t109w & 3                                    & 13.46815                             & Meliosma                             & Meliosma\\_squamulata                & W                                    & 7                                    & squamulata                           & 209                                  & Sabiaceae                            & Sample                               & 49                                  \\\\\n",
       "\t114w & 2                                    & 6.015914                             & Helicia                              & Helicia\\_formosana                  & W                                    & 7                                    & formosana                            & 71                                   & Proteaceae                           & Sample                               & 40                                  \\\\\n",
       "\t115w & 3                                    & 16.75811                             & Cyathea                              & Cyathea\\_podophylla                 & W                                    & 4                                    & podophylla                           & 55                                   & Cyatheaceae                          & Sample                               & 40                                  \\\\\n",
       "\t121w & 3                                    & 27.95829                             & Blastus                              & Blastus\\_cochinchinensis            & W                                    & 4                                    & cochinchinensis                      & 43                                   & Melastomataceae                      & Sample                               & 40                                  \\\\\n",
       "\t124w & 3                                    & 28.9161391514                        & Glochidion                           & Glochidion\\_acuminatum              & W                                    & 7                                    & acuminatum                           & 40                                   & Euphorbiaceae                        & Sample                               & 47                                  \\\\\n",
       "\t125w & 3                                    & 27.32744                             & Litsea                               & Litsea\\_acuminata                   & W                                    & 4                                    & acuminata                            & 40                                   & Lauraceae                            & Sample                               & 55                                  \\\\\n",
       "\t128w & 3                                        & 75.54028                                 & Castanopsis                              & Castanopsis\\_cuspidata\\_var\\_carlesii & W                                        & 3                                        & cuspidata var. carlesii                  & 40                                       & Fagaceae                                 & Sample                                   & 167                                     \\\\\n",
       "\t129w & 1                                    & 105.2136                             & Myrsine                              & Myrsine\\_seguinii                   & W                                    & 3                                    & seguinii                             & 167                                  & Myrsinaceae                          & Sample                               & 167                                 \\\\\n",
       "\t130w & 3                                    & 45.72196                             & Helicia                              & Helicia\\_formosana                  & W                                    & 7                                    & formosana                            & 103                                  & Proteaceae                           & Sample                               & 103                                 \\\\\n",
       "\t131w & 4                                    & 5.360382                             & Helicia                              & Helicia\\_formosana                  & W                                    & 7                                    & formosana                            & 71                                   & Proteaceae                           & Sample                               & 71                                  \\\\\n",
       "\t133w & 3                                    & 22.16354                             & Helicia                              & Helicia\\_formosana                  & W                                    & 7                                    & formosana                            & 47                                   & Proteaceae                           & Sample                               & 47                                  \\\\\n",
       "\tNeg & NA                                 & NA                                 & NA                                 & NA                                 & W                                  & NA                                 & NA                                 & NA                                 & NA                                 & Control                            & NA                                \\\\\n",
       "\tPosG & NA                                 & NA                                 & NA                                 & NA                                 & W                                  & NA                                 & NA                                 & NA                                 & NA                                 & Control                            & NA                                \\\\\n",
       "\tPosI & NA                                 & NA                                 & NA                                 & NA                                 & W                                  & NA                                 & NA                                 & NA                                 & NA                                 & Control                            & NA                                \\\\\n",
       "\\end{tabular}\n"
      ],
      "text/markdown": [
       "\n",
       "| <!--/--> | vegcom | stream_distance | Host_genus | Host_genus_species | Library | Forest_Type | Host_species | X | Host_family | SorC | Y | \n",
       "|---|---|---|---|---|---|---|---|---|---|---|---|---|---|---|---|---|---|---|---|---|---|---|---|---|---|---|---|---|---|---|---|---|---|---|---|---|---|---|---|---|---|---|---|---|---|---|---|---|---|---|---|---|---|---|---|---|---|---|---|---|\n",
       "| 100leaf | 2                                  | 25.97654                           | Helicia                            | Helicia_formosana                  | L                                  | 7                                  | formosana                          | 183                                | Proteaceae                         | Sample                             | 20                                 | \n",
       "| 101leaf | 3                                  | 18.36984                           | Helicia                            | Helicia_formosana                  | L                                  | 7                                  | formosana                          | 180                                | Proteaceae                         | Sample                             | 27                                 | \n",
       "| 102leaf | 3                                  | 21.3725                            | Cleyera                            | Cleyera_japonica                   | L                                  | 7                                  | japonica                           | 187                                | Theaceae                           | Sample                             | 27                                 | \n",
       "| 103leaf | 3                                  | 11.08831                           | Helicia                            | Helicia_formosana                  | L                                  | 7                                  | formosana                          | 180                                | Proteaceae                         | Sample                             | 35                                 | \n",
       "| 104leaf | 3                                  | 1.409998                           | Helicia                            | Helicia_formosana                  | L                                  | 7                                  | formosana                          | 180                                | Proteaceae                         | Sample                             | 51                                 | \n",
       "| 105leaf | 3                                  | 22.46722                           | Limlia                             | Limlia_uraiana                     | L                                  | 7                                  | uraiana                            | 180                                | Fagaceae                           | Sample                             | 83                                 | \n",
       "| 106leaf | 2                                  | 82.49734                           | Helicia                            | Helicia_formosana                  | L                                  | 3                                  | formosana                          | 180                                | Proteaceae                         | Sample                             | 147                                | \n",
       "| 107leaf | 1                                  | 64.85876                           | Blastus                            | Blastus_cochinchinensis            | L                                  | 3                                  | cochinchinensis                    | 307                                | Melastomataceae                    | Sample                             | 147                                | \n",
       "| 108leaf | 1                                  | 19.02113                           | Cleyera                            | Cleyera_japonica                   | L                                  | 3                                  | japonica                           | 243                                | Theaceae                           | Sample                             | 83                                 | \n",
       "| 109leaf | 3                                  | 13.46815                           | Meliosma                           | Meliosma_squamulata                | L                                  | 7                                  | squamulata                         | 209                                | Sabiaceae                          | Sample                             | 49                                 | \n",
       "| 110leaf | 3                                  | 13.46815                           | Limlia                             | Limlia_uraiana                     | L                                  | 7                                  | uraiana                            | 209                                | Fagaceae                           | Sample                             | 49                                 | \n",
       "| 111leaf | 3                                  | 20.37973                           | Limlia                             | Limlia_uraiana                     | L                                  | 7                                  | uraiana                            | 195                                | Fagaceae                           | Sample                             | 35                                 | \n",
       "| 112leafA | 2                                  | 4.250151                           | Blastus                            | Blastus_cochinchinensis            | L                                  | 7                                  | cochinchinensis                    | 167                                | Melastomataceae                    | Sample                             | 40                                 | \n",
       "| 112leafB | 2                                  | 4.250151                           | Blastus                            | Blastus_cochinchinensis            | L                                  | 7                                  | cochinchinensis                    | 167                                | Melastomataceae                    | Sample                             | 40                                 | \n",
       "| 113leafA | 3                                  | 12.80385                           | Schefflera                         | Schefflera_octophylla              | L                                  | 7                                  | octophylla                         | 103                                | Araliaceae                         | Sample                             | 40                                 | \n",
       "| 113leafB | 3                                  | 12.80385                           | Schefflera                         | Schefflera_octophylla              | L                                  | 7                                  | octophylla                         | 103                                | Araliaceae                         | Sample                             | 40                                 | \n",
       "| 114leaf | 2                                  | 6.015914                           | Helicia                            | Helicia_formosana                  | L                                  | 7                                  | formosana                          | 71                                 | Proteaceae                         | Sample                             | 40                                 | \n",
       "| 115leaf | 3                                  | 16.75811                           | Cyathea                            | Cyathea_podophylla                 | L                                  | 4                                  | podophylla                         | 55                                 | Cyatheaceae                        | Sample                             | 40                                 | \n",
       "| 116leaf | 3                                  | 24.2118                            | Helicia                            | Helicia_formosana                  | L                                  | 4                                  | formosana                          | 47                                 | Proteaceae                         | Sample                             | 40                                 | \n",
       "| 117leaf | 3                                  | 30.79582                           | Limlia                             | Limlia_uraiana                     | L                                  | 7                                  | uraiana                            | 40                                 | Fagaceae                           | Sample                             | 40                                 | \n",
       "| 118leaf | 3                                  | 30.50139                           | Limlia                             | Limlia_uraiana                     | L                                  | 7                                  | uraiana                            | 40                                 | Fagaceae                           | Sample                             | 41                                 | \n",
       "| 119leaf | 3                                  | 29.54256                           | Limlia                             | Limlia_uraiana                     | L                                  | 7                                  | uraiana                            | 41                                 | Fagaceae                           | Sample                             | 41                                 | \n",
       "| 120leaf | 3                                  | 29.84645                           | Limlia                             | Limlia_uraiana                     | L                                  | 7                                  | uraiana                            | 41                                 | Fagaceae                           | Sample                             | 40                                 | \n",
       "| 121leaf | 3                                  | 27.95829                           | Blastus                            | Blastus_cochinchinensis            | L                                  | 4                                  | cochinchinensis                    | 43                                 | Melastomataceae                    | Sample                             | 40                                 | \n",
       "| 122leaf | 3                                  | 27.07621                           | Limlia                             | Limlia_uraiana                     | L                                  | 7                                  | uraiana                            | 43                                 | Fagaceae                           | Sample                             | 43                                 | \n",
       "| 125leaf | 3                                  | 27.32744                           | Litsea                             | Litsea_acuminata                   | L                                  | 4                                  | acuminata                          | 40                                 | Lauraceae                          | Sample                             | 55                                 | \n",
       "| 126leafA | 3                                  | 20.16175                           | Blastus                            | Blastus_cochinchinensis            | L                                  | 7                                  | cochinchinensis                    | 40                                 | Melastomataceae                    | Sample                             | 71                                 | \n",
       "| 126leafB | 3                                  | 20.16175                           | Blastus                            | Blastus_cochinchinensis            | L                                  | 7                                  | cochinchinensis                    | 40                                 | Melastomataceae                    | Sample                             | 71                                 | \n",
       "| 127leaf | 3                                  | 11.69457                           | Helicia                            | Helicia_formosana                  | L                                  | 7                                  | formosana                          | 40                                 | Proteaceae                         | Sample                             | 103                                | \n",
       "| 128leaf | 3                                  | 75.54028                           | Castanopsis                        | Castanopsis_cuspidata_var_carlesii | L                                  | 3                                  | cuspidata var. carlesii            | 40                                 | Fagaceae                           | Sample                             | 167                                | \n",
       "| ⋮ | ⋮ | ⋮ | ⋮ | ⋮ | ⋮ | ⋮ | ⋮ | ⋮ | ⋮ | ⋮ | ⋮ | \n",
       "| 88w | 2                                  | 47.36483                           | Cryptocarya                        | Cryptocarya_chinensis              | W                                  | 7                                  | chinensis                          | 307                                | Lauraceae                          | Sample                             | 220                                | \n",
       "| 89w | 2                                  | 25.33942                           | Helicia                            | Helicia_formosana                  | W                                  | 7                                  | formosana                          | 287                                | Proteaceae                         | Sample                             | 20                                 | \n",
       "| 92w | 2                                  | 31.43415                           | Blastus                            | Blastus_cochinchinensis            | W                                  | 7                                  | cochinchinensis                    | 195                                | Melastomataceae                    | Sample                             | 20                                 | \n",
       "| 93w | 2                                  | 27.63549                           | Prunus                             | Prunus_phaeosticta                 | W                                  | 6                                  | phaeosticta                        | 187                                | Rosaceae                           | Sample                             | 20                                 | \n",
       "| 94w | 2                                  | 25.06622                           | Ficus                              | Ficus_erecta_var_beecheyana        | W                                  | 6                                  | erecta var. beecheyana             | 180                                | Moraceae                           | Sample                             | 20                                 | \n",
       "| 95w | 2                                  | 25.33385                           | Ficus                              | Ficus_erecta_var_beecheyana        | W                                  | 6                                  | erecta var. beecheyana             | 181                                | Moraceae                           | Sample                             | 20                                 | \n",
       "| 96w | 3                                  | 24.37728                           | Helicia                            | Helicia_formosana                  | W                                  | 7                                  | formosana                          | 181                                | Proteaceae                         | Sample                             | 21                                 | \n",
       "| 97w | 3                                  | 24.09903                           | Helicia                            | Helicia_formosana                  | W                                  | 7                                  | formosana                          | 180                                | Proteaceae                         | Sample                             | 21                                 | \n",
       "| 99w | 3                                  | 23.19752                           | Helicia                            | Helicia_formosana                  | W                                  | 7                                  | formosana                          | 183                                | Proteaceae                         | Sample                             | 23                                 | \n",
       "| 100w | 2                                  | 25.97654                           | Helicia                            | Helicia_formosana                  | W                                  | 7                                  | formosana                          | 183                                | Proteaceae                         | Sample                             | 20                                 | \n",
       "| 101w | 3                                  | 18.36984                           | Helicia                            | Helicia_formosana                  | W                                  | 7                                  | formosana                          | 180                                | Proteaceae                         | Sample                             | 27                                 | \n",
       "| 102w | 3                                  | 21.3725                            | Cleyera                            | Cleyera_japonica                   | W                                  | 7                                  | japonica                           | 187                                | Theaceae                           | Sample                             | 27                                 | \n",
       "| 104w | 3                                  | 1.409998                           | Helicia                            | Helicia_formosana                  | W                                  | 7                                  | formosana                          | 180                                | Proteaceae                         | Sample                             | 51                                 | \n",
       "| 106w | 2                                  | 82.49734                           | Helicia                            | Helicia_formosana                  | W                                  | 3                                  | formosana                          | 180                                | Proteaceae                         | Sample                             | 147                                | \n",
       "| 107w | 1                                  | 64.85876                           | Blastus                            | Blastus_cochinchinensis            | W                                  | 3                                  | cochinchinensis                    | 307                                | Melastomataceae                    | Sample                             | 147                                | \n",
       "| 108w | 1                                  | 19.02113                           | Cleyera                            | Cleyera_japonica                   | W                                  | 3                                  | japonica                           | 243                                | Theaceae                           | Sample                             | 83                                 | \n",
       "| 109w | 3                                  | 13.46815                           | Meliosma                           | Meliosma_squamulata                | W                                  | 7                                  | squamulata                         | 209                                | Sabiaceae                          | Sample                             | 49                                 | \n",
       "| 114w | 2                                  | 6.015914                           | Helicia                            | Helicia_formosana                  | W                                  | 7                                  | formosana                          | 71                                 | Proteaceae                         | Sample                             | 40                                 | \n",
       "| 115w | 3                                  | 16.75811                           | Cyathea                            | Cyathea_podophylla                 | W                                  | 4                                  | podophylla                         | 55                                 | Cyatheaceae                        | Sample                             | 40                                 | \n",
       "| 121w | 3                                  | 27.95829                           | Blastus                            | Blastus_cochinchinensis            | W                                  | 4                                  | cochinchinensis                    | 43                                 | Melastomataceae                    | Sample                             | 40                                 | \n",
       "| 124w | 3                                  | 28.9161391514                      | Glochidion                         | Glochidion_acuminatum              | W                                  | 7                                  | acuminatum                         | 40                                 | Euphorbiaceae                      | Sample                             | 47                                 | \n",
       "| 125w | 3                                  | 27.32744                           | Litsea                             | Litsea_acuminata                   | W                                  | 4                                  | acuminata                          | 40                                 | Lauraceae                          | Sample                             | 55                                 | \n",
       "| 128w | 3                                  | 75.54028                           | Castanopsis                        | Castanopsis_cuspidata_var_carlesii | W                                  | 3                                  | cuspidata var. carlesii            | 40                                 | Fagaceae                           | Sample                             | 167                                | \n",
       "| 129w | 1                                  | 105.2136                           | Myrsine                            | Myrsine_seguinii                   | W                                  | 3                                  | seguinii                           | 167                                | Myrsinaceae                        | Sample                             | 167                                | \n",
       "| 130w | 3                                  | 45.72196                           | Helicia                            | Helicia_formosana                  | W                                  | 7                                  | formosana                          | 103                                | Proteaceae                         | Sample                             | 103                                | \n",
       "| 131w | 4                                  | 5.360382                           | Helicia                            | Helicia_formosana                  | W                                  | 7                                  | formosana                          | 71                                 | Proteaceae                         | Sample                             | 71                                 | \n",
       "| 133w | 3                                  | 22.16354                           | Helicia                            | Helicia_formosana                  | W                                  | 7                                  | formosana                          | 47                                 | Proteaceae                         | Sample                             | 47                                 | \n",
       "| Neg | NA                                 | NA                                 | NA                                 | NA                                 | W                                  | NA                                 | NA                                 | NA                                 | NA                                 | Control                            | NA                                 | \n",
       "| PosG | NA                                 | NA                                 | NA                                 | NA                                 | W                                  | NA                                 | NA                                 | NA                                 | NA                                 | Control                            | NA                                 | \n",
       "| PosI | NA                                 | NA                                 | NA                                 | NA                                 | W                                  | NA                                 | NA                                 | NA                                 | NA                                 | Control                            | NA                                 | \n",
       "\n",
       "\n"
      ],
      "text/plain": [
       "         vegcom stream_distance Host_genus  Host_genus_species                \n",
       "100leaf  2      25.97654        Helicia     Helicia_formosana                 \n",
       "101leaf  3      18.36984        Helicia     Helicia_formosana                 \n",
       "102leaf  3      21.3725         Cleyera     Cleyera_japonica                  \n",
       "103leaf  3      11.08831        Helicia     Helicia_formosana                 \n",
       "104leaf  3      1.409998        Helicia     Helicia_formosana                 \n",
       "105leaf  3      22.46722        Limlia      Limlia_uraiana                    \n",
       "106leaf  2      82.49734        Helicia     Helicia_formosana                 \n",
       "107leaf  1      64.85876        Blastus     Blastus_cochinchinensis           \n",
       "108leaf  1      19.02113        Cleyera     Cleyera_japonica                  \n",
       "109leaf  3      13.46815        Meliosma    Meliosma_squamulata               \n",
       "110leaf  3      13.46815        Limlia      Limlia_uraiana                    \n",
       "111leaf  3      20.37973        Limlia      Limlia_uraiana                    \n",
       "112leafA 2      4.250151        Blastus     Blastus_cochinchinensis           \n",
       "112leafB 2      4.250151        Blastus     Blastus_cochinchinensis           \n",
       "113leafA 3      12.80385        Schefflera  Schefflera_octophylla             \n",
       "113leafB 3      12.80385        Schefflera  Schefflera_octophylla             \n",
       "114leaf  2      6.015914        Helicia     Helicia_formosana                 \n",
       "115leaf  3      16.75811        Cyathea     Cyathea_podophylla                \n",
       "116leaf  3      24.2118         Helicia     Helicia_formosana                 \n",
       "117leaf  3      30.79582        Limlia      Limlia_uraiana                    \n",
       "118leaf  3      30.50139        Limlia      Limlia_uraiana                    \n",
       "119leaf  3      29.54256        Limlia      Limlia_uraiana                    \n",
       "120leaf  3      29.84645        Limlia      Limlia_uraiana                    \n",
       "121leaf  3      27.95829        Blastus     Blastus_cochinchinensis           \n",
       "122leaf  3      27.07621        Limlia      Limlia_uraiana                    \n",
       "125leaf  3      27.32744        Litsea      Litsea_acuminata                  \n",
       "126leafA 3      20.16175        Blastus     Blastus_cochinchinensis           \n",
       "126leafB 3      20.16175        Blastus     Blastus_cochinchinensis           \n",
       "127leaf  3      11.69457        Helicia     Helicia_formosana                 \n",
       "128leaf  3      75.54028        Castanopsis Castanopsis_cuspidata_var_carlesii\n",
       "⋮        ⋮      ⋮               ⋮           ⋮                                 \n",
       "88w      2      47.36483        Cryptocarya Cryptocarya_chinensis             \n",
       "89w      2      25.33942        Helicia     Helicia_formosana                 \n",
       "92w      2      31.43415        Blastus     Blastus_cochinchinensis           \n",
       "93w      2      27.63549        Prunus      Prunus_phaeosticta                \n",
       "94w      2      25.06622        Ficus       Ficus_erecta_var_beecheyana       \n",
       "95w      2      25.33385        Ficus       Ficus_erecta_var_beecheyana       \n",
       "96w      3      24.37728        Helicia     Helicia_formosana                 \n",
       "97w      3      24.09903        Helicia     Helicia_formosana                 \n",
       "99w      3      23.19752        Helicia     Helicia_formosana                 \n",
       "100w     2      25.97654        Helicia     Helicia_formosana                 \n",
       "101w     3      18.36984        Helicia     Helicia_formosana                 \n",
       "102w     3      21.3725         Cleyera     Cleyera_japonica                  \n",
       "104w     3      1.409998        Helicia     Helicia_formosana                 \n",
       "106w     2      82.49734        Helicia     Helicia_formosana                 \n",
       "107w     1      64.85876        Blastus     Blastus_cochinchinensis           \n",
       "108w     1      19.02113        Cleyera     Cleyera_japonica                  \n",
       "109w     3      13.46815        Meliosma    Meliosma_squamulata               \n",
       "114w     2      6.015914        Helicia     Helicia_formosana                 \n",
       "115w     3      16.75811        Cyathea     Cyathea_podophylla                \n",
       "121w     3      27.95829        Blastus     Blastus_cochinchinensis           \n",
       "124w     3      28.9161391514   Glochidion  Glochidion_acuminatum             \n",
       "125w     3      27.32744        Litsea      Litsea_acuminata                  \n",
       "128w     3      75.54028        Castanopsis Castanopsis_cuspidata_var_carlesii\n",
       "129w     1      105.2136        Myrsine     Myrsine_seguinii                  \n",
       "130w     3      45.72196        Helicia     Helicia_formosana                 \n",
       "131w     4      5.360382        Helicia     Helicia_formosana                 \n",
       "133w     3      22.16354        Helicia     Helicia_formosana                 \n",
       "Neg      NA     NA              NA          NA                                \n",
       "PosG     NA     NA              NA          NA                                \n",
       "PosI     NA     NA              NA          NA                                \n",
       "         Library Forest_Type Host_species            X   Host_family    \n",
       "100leaf  L       7           formosana               183 Proteaceae     \n",
       "101leaf  L       7           formosana               180 Proteaceae     \n",
       "102leaf  L       7           japonica                187 Theaceae       \n",
       "103leaf  L       7           formosana               180 Proteaceae     \n",
       "104leaf  L       7           formosana               180 Proteaceae     \n",
       "105leaf  L       7           uraiana                 180 Fagaceae       \n",
       "106leaf  L       3           formosana               180 Proteaceae     \n",
       "107leaf  L       3           cochinchinensis         307 Melastomataceae\n",
       "108leaf  L       3           japonica                243 Theaceae       \n",
       "109leaf  L       7           squamulata              209 Sabiaceae      \n",
       "110leaf  L       7           uraiana                 209 Fagaceae       \n",
       "111leaf  L       7           uraiana                 195 Fagaceae       \n",
       "112leafA L       7           cochinchinensis         167 Melastomataceae\n",
       "112leafB L       7           cochinchinensis         167 Melastomataceae\n",
       "113leafA L       7           octophylla              103 Araliaceae     \n",
       "113leafB L       7           octophylla              103 Araliaceae     \n",
       "114leaf  L       7           formosana               71  Proteaceae     \n",
       "115leaf  L       4           podophylla              55  Cyatheaceae    \n",
       "116leaf  L       4           formosana               47  Proteaceae     \n",
       "117leaf  L       7           uraiana                 40  Fagaceae       \n",
       "118leaf  L       7           uraiana                 40  Fagaceae       \n",
       "119leaf  L       7           uraiana                 41  Fagaceae       \n",
       "120leaf  L       7           uraiana                 41  Fagaceae       \n",
       "121leaf  L       4           cochinchinensis         43  Melastomataceae\n",
       "122leaf  L       7           uraiana                 43  Fagaceae       \n",
       "125leaf  L       4           acuminata               40  Lauraceae      \n",
       "126leafA L       7           cochinchinensis         40  Melastomataceae\n",
       "126leafB L       7           cochinchinensis         40  Melastomataceae\n",
       "127leaf  L       7           formosana               40  Proteaceae     \n",
       "128leaf  L       3           cuspidata var. carlesii 40  Fagaceae       \n",
       "⋮        ⋮       ⋮           ⋮                       ⋮   ⋮              \n",
       "88w      W       7           chinensis               307 Lauraceae      \n",
       "89w      W       7           formosana               287 Proteaceae     \n",
       "92w      W       7           cochinchinensis         195 Melastomataceae\n",
       "93w      W       6           phaeosticta             187 Rosaceae       \n",
       "94w      W       6           erecta var. beecheyana  180 Moraceae       \n",
       "95w      W       6           erecta var. beecheyana  181 Moraceae       \n",
       "96w      W       7           formosana               181 Proteaceae     \n",
       "97w      W       7           formosana               180 Proteaceae     \n",
       "99w      W       7           formosana               183 Proteaceae     \n",
       "100w     W       7           formosana               183 Proteaceae     \n",
       "101w     W       7           formosana               180 Proteaceae     \n",
       "102w     W       7           japonica                187 Theaceae       \n",
       "104w     W       7           formosana               180 Proteaceae     \n",
       "106w     W       3           formosana               180 Proteaceae     \n",
       "107w     W       3           cochinchinensis         307 Melastomataceae\n",
       "108w     W       3           japonica                243 Theaceae       \n",
       "109w     W       7           squamulata              209 Sabiaceae      \n",
       "114w     W       7           formosana               71  Proteaceae     \n",
       "115w     W       4           podophylla              55  Cyatheaceae    \n",
       "121w     W       4           cochinchinensis         43  Melastomataceae\n",
       "124w     W       7           acuminatum              40  Euphorbiaceae  \n",
       "125w     W       4           acuminata               40  Lauraceae      \n",
       "128w     W       3           cuspidata var. carlesii 40  Fagaceae       \n",
       "129w     W       3           seguinii                167 Myrsinaceae    \n",
       "130w     W       7           formosana               103 Proteaceae     \n",
       "131w     W       7           formosana               71  Proteaceae     \n",
       "133w     W       7           formosana               47  Proteaceae     \n",
       "Neg      W       NA          NA                      NA  NA             \n",
       "PosG     W       NA          NA                      NA  NA             \n",
       "PosI     W       NA          NA                      NA  NA             \n",
       "         SorC    Y  \n",
       "100leaf  Sample  20 \n",
       "101leaf  Sample  27 \n",
       "102leaf  Sample  27 \n",
       "103leaf  Sample  35 \n",
       "104leaf  Sample  51 \n",
       "105leaf  Sample  83 \n",
       "106leaf  Sample  147\n",
       "107leaf  Sample  147\n",
       "108leaf  Sample  83 \n",
       "109leaf  Sample  49 \n",
       "110leaf  Sample  49 \n",
       "111leaf  Sample  35 \n",
       "112leafA Sample  40 \n",
       "112leafB Sample  40 \n",
       "113leafA Sample  40 \n",
       "113leafB Sample  40 \n",
       "114leaf  Sample  40 \n",
       "115leaf  Sample  40 \n",
       "116leaf  Sample  40 \n",
       "117leaf  Sample  40 \n",
       "118leaf  Sample  41 \n",
       "119leaf  Sample  41 \n",
       "120leaf  Sample  40 \n",
       "121leaf  Sample  40 \n",
       "122leaf  Sample  43 \n",
       "125leaf  Sample  55 \n",
       "126leafA Sample  71 \n",
       "126leafB Sample  71 \n",
       "127leaf  Sample  103\n",
       "128leaf  Sample  167\n",
       "⋮        ⋮       ⋮  \n",
       "88w      Sample  220\n",
       "89w      Sample  20 \n",
       "92w      Sample  20 \n",
       "93w      Sample  20 \n",
       "94w      Sample  20 \n",
       "95w      Sample  20 \n",
       "96w      Sample  21 \n",
       "97w      Sample  21 \n",
       "99w      Sample  23 \n",
       "100w     Sample  20 \n",
       "101w     Sample  27 \n",
       "102w     Sample  27 \n",
       "104w     Sample  51 \n",
       "106w     Sample  147\n",
       "107w     Sample  147\n",
       "108w     Sample  83 \n",
       "109w     Sample  49 \n",
       "114w     Sample  40 \n",
       "115w     Sample  40 \n",
       "121w     Sample  40 \n",
       "124w     Sample  47 \n",
       "125w     Sample  55 \n",
       "128w     Sample  167\n",
       "129w     Sample  167\n",
       "130w     Sample  103\n",
       "131w     Sample  71 \n",
       "133w     Sample  47 \n",
       "Neg      Control NA \n",
       "PosG     Control NA \n",
       "PosI     Control NA "
      ]
     },
     "metadata": {},
     "output_type": "display_data"
    }
   ],
   "source": [
    "sample_data(biom95)"
   ]
  },
  {
   "cell_type": "markdown",
   "metadata": {},
   "source": [
    "<a id='controls'><h2>Controls</h3></a>"
   ]
  },
  {
   "cell_type": "markdown",
   "metadata": {},
   "source": [
    "<a id='negC'><h3>Negative controls</h3></a>"
   ]
  },
  {
   "cell_type": "code",
   "execution_count": 14,
   "metadata": {
    "scrolled": true
   },
   "outputs": [],
   "source": [
    "neg95 <- subset_samples(biom95, sample_names(biom95)=='Neg')"
   ]
  },
  {
   "cell_type": "code",
   "execution_count": 15,
   "metadata": {},
   "outputs": [
    {
     "data": {
      "text/plain": [
       "phyloseq-class experiment-level object\n",
       "otu_table()   OTU Table:         [ 11588 taxa and 1 samples ]\n",
       "sample_data() Sample Data:       [ 1 samples by 11 sample variables ]\n",
       "tax_table()   Taxonomy Table:    [ 11588 taxa by 7 taxonomic ranks ]"
      ]
     },
     "metadata": {},
     "output_type": "display_data"
    }
   ],
   "source": [
    "neg95"
   ]
  },
  {
   "cell_type": "markdown",
   "metadata": {},
   "source": [
    "How many reads are in our negative control?"
   ]
  },
  {
   "cell_type": "code",
   "execution_count": 16,
   "metadata": {},
   "outputs": [
    {
     "data": {
      "text/html": [
       "1501"
      ],
      "text/latex": [
       "1501"
      ],
      "text/markdown": [
       "1501"
      ],
      "text/plain": [
       "[1] 1501"
      ]
     },
     "metadata": {},
     "output_type": "display_data"
    }
   ],
   "source": [
    "sum(taxa_sums(neg95)[taxa_sums(neg95)>0])"
   ]
  },
  {
   "cell_type": "markdown",
   "metadata": {},
   "source": [
    "How many OTUs?"
   ]
  },
  {
   "cell_type": "code",
   "execution_count": 17,
   "metadata": {},
   "outputs": [
    {
     "data": {
      "text/html": [
       "43"
      ],
      "text/latex": [
       "43"
      ],
      "text/markdown": [
       "43"
      ],
      "text/plain": [
       "[1] 43"
      ]
     },
     "metadata": {},
     "output_type": "display_data"
    }
   ],
   "source": [
    "length(taxa_sums(neg95)[taxa_sums(neg95)>0])"
   ]
  },
  {
   "cell_type": "markdown",
   "metadata": {},
   "source": [
    "Which OTUs, and what's their distribution?"
   ]
  },
  {
   "cell_type": "code",
   "execution_count": 19,
   "metadata": {
    "scrolled": true
   },
   "outputs": [
    {
     "data": {
      "text/html": [
       "<dl class=dl-horizontal>\n",
       "\t<dt>OTU167:Dc-X</dt>\n",
       "\t\t<dd>469</dd>\n",
       "\t<dt>OTU187:Dc-PosG</dt>\n",
       "\t\t<dd>85</dd>\n",
       "\t<dt>OTU256:Dc-X</dt>\n",
       "\t\t<dd>35</dd>\n",
       "\t<dt>OTU762:Dc-X</dt>\n",
       "\t\t<dd>53</dd>\n",
       "\t<dt>OTU891:1w</dt>\n",
       "\t\t<dd>58</dd>\n",
       "\t<dt>OTU306:Dc-PosG</dt>\n",
       "\t\t<dd>96</dd>\n",
       "\t<dt>OTU119:Dc-PosG</dt>\n",
       "\t\t<dd>1</dd>\n",
       "\t<dt>OTU220:Dc-PosG</dt>\n",
       "\t\t<dd>1</dd>\n",
       "\t<dt>OTU164:Dc-PosG</dt>\n",
       "\t\t<dd>51</dd>\n",
       "\t<dt>OTU235:Dc-PosG</dt>\n",
       "\t\t<dd>1</dd>\n",
       "\t<dt>OTU386:Dc-PosG</dt>\n",
       "\t\t<dd>88</dd>\n",
       "\t<dt>OTU264:Dc-PosG</dt>\n",
       "\t\t<dd>1</dd>\n",
       "\t<dt>OTU560:Dc-PosG</dt>\n",
       "\t\t<dd>39</dd>\n",
       "\t<dt>OTU1183:36w</dt>\n",
       "\t\t<dd>1</dd>\n",
       "\t<dt>OTU64:1w</dt>\n",
       "\t\t<dd>1</dd>\n",
       "\t<dt>OTU409:4w</dt>\n",
       "\t\t<dd>1</dd>\n",
       "\t<dt>OTU417:1w</dt>\n",
       "\t\t<dd>15</dd>\n",
       "\t<dt>OTU437:1w</dt>\n",
       "\t\t<dd>1</dd>\n",
       "\t<dt>OTU18:9w</dt>\n",
       "\t\t<dd>1</dd>\n",
       "\t<dt>OTU414:13w</dt>\n",
       "\t\t<dd>1</dd>\n",
       "\t<dt>OTU655:1w</dt>\n",
       "\t\t<dd>1</dd>\n",
       "\t<dt>OTU2029:2w</dt>\n",
       "\t\t<dd>1</dd>\n",
       "\t<dt>OTU1432:2w</dt>\n",
       "\t\t<dd>28</dd>\n",
       "\t<dt>OTU1332:11w</dt>\n",
       "\t\t<dd>44</dd>\n",
       "\t<dt>OTU315:4w</dt>\n",
       "\t\t<dd>162</dd>\n",
       "\t<dt>OTU250:4w</dt>\n",
       "\t\t<dd>1</dd>\n",
       "\t<dt>OTU1599:9w</dt>\n",
       "\t\t<dd>4</dd>\n",
       "\t<dt>OTU2831:5w</dt>\n",
       "\t\t<dd>4</dd>\n",
       "\t<dt>OTU84:38w</dt>\n",
       "\t\t<dd>12</dd>\n",
       "\t<dt>OTU7329:38w</dt>\n",
       "\t\t<dd>1</dd>\n",
       "\t<dt>OTU2003:Neg</dt>\n",
       "\t\t<dd>42</dd>\n",
       "\t<dt>OTU925:133w</dt>\n",
       "\t\t<dd>1</dd>\n",
       "\t<dt>OTU1214:9w</dt>\n",
       "\t\t<dd>53</dd>\n",
       "\t<dt>OTU1747:11w</dt>\n",
       "\t\t<dd>53</dd>\n",
       "\t<dt>OTU1549:104w</dt>\n",
       "\t\t<dd>28</dd>\n",
       "\t<dt>OTU6852:Neg</dt>\n",
       "\t\t<dd>20</dd>\n",
       "\t<dt>OTU1496:23w</dt>\n",
       "\t\t<dd>1</dd>\n",
       "\t<dt>OTU588:32w</dt>\n",
       "\t\t<dd>1</dd>\n",
       "\t<dt>OTU1888:25w</dt>\n",
       "\t\t<dd>1</dd>\n",
       "\t<dt>OTU1444:49w</dt>\n",
       "\t\t<dd>38</dd>\n",
       "\t<dt>OTU46:60w</dt>\n",
       "\t\t<dd>3</dd>\n",
       "\t<dt>OTU972:130w</dt>\n",
       "\t\t<dd>1</dd>\n",
       "\t<dt>OTU2115:131w</dt>\n",
       "\t\t<dd>2</dd>\n",
       "</dl>\n"
      ],
      "text/latex": [
       "\\begin{description*}\n",
       "\\item[OTU167:Dc-X] 469\n",
       "\\item[OTU187:Dc-PosG] 85\n",
       "\\item[OTU256:Dc-X] 35\n",
       "\\item[OTU762:Dc-X] 53\n",
       "\\item[OTU891:1w] 58\n",
       "\\item[OTU306:Dc-PosG] 96\n",
       "\\item[OTU119:Dc-PosG] 1\n",
       "\\item[OTU220:Dc-PosG] 1\n",
       "\\item[OTU164:Dc-PosG] 51\n",
       "\\item[OTU235:Dc-PosG] 1\n",
       "\\item[OTU386:Dc-PosG] 88\n",
       "\\item[OTU264:Dc-PosG] 1\n",
       "\\item[OTU560:Dc-PosG] 39\n",
       "\\item[OTU1183:36w] 1\n",
       "\\item[OTU64:1w] 1\n",
       "\\item[OTU409:4w] 1\n",
       "\\item[OTU417:1w] 15\n",
       "\\item[OTU437:1w] 1\n",
       "\\item[OTU18:9w] 1\n",
       "\\item[OTU414:13w] 1\n",
       "\\item[OTU655:1w] 1\n",
       "\\item[OTU2029:2w] 1\n",
       "\\item[OTU1432:2w] 28\n",
       "\\item[OTU1332:11w] 44\n",
       "\\item[OTU315:4w] 162\n",
       "\\item[OTU250:4w] 1\n",
       "\\item[OTU1599:9w] 4\n",
       "\\item[OTU2831:5w] 4\n",
       "\\item[OTU84:38w] 12\n",
       "\\item[OTU7329:38w] 1\n",
       "\\item[OTU2003:Neg] 42\n",
       "\\item[OTU925:133w] 1\n",
       "\\item[OTU1214:9w] 53\n",
       "\\item[OTU1747:11w] 53\n",
       "\\item[OTU1549:104w] 28\n",
       "\\item[OTU6852:Neg] 20\n",
       "\\item[OTU1496:23w] 1\n",
       "\\item[OTU588:32w] 1\n",
       "\\item[OTU1888:25w] 1\n",
       "\\item[OTU1444:49w] 38\n",
       "\\item[OTU46:60w] 3\n",
       "\\item[OTU972:130w] 1\n",
       "\\item[OTU2115:131w] 2\n",
       "\\end{description*}\n"
      ],
      "text/markdown": [
       "OTU167:Dc-X\n",
       ":   469OTU187:Dc-PosG\n",
       ":   85OTU256:Dc-X\n",
       ":   35OTU762:Dc-X\n",
       ":   53OTU891:1w\n",
       ":   58OTU306:Dc-PosG\n",
       ":   96OTU119:Dc-PosG\n",
       ":   1OTU220:Dc-PosG\n",
       ":   1OTU164:Dc-PosG\n",
       ":   51OTU235:Dc-PosG\n",
       ":   1OTU386:Dc-PosG\n",
       ":   88OTU264:Dc-PosG\n",
       ":   1OTU560:Dc-PosG\n",
       ":   39OTU1183:36w\n",
       ":   1OTU64:1w\n",
       ":   1OTU409:4w\n",
       ":   1OTU417:1w\n",
       ":   15OTU437:1w\n",
       ":   1OTU18:9w\n",
       ":   1OTU414:13w\n",
       ":   1OTU655:1w\n",
       ":   1OTU2029:2w\n",
       ":   1OTU1432:2w\n",
       ":   28OTU1332:11w\n",
       ":   44OTU315:4w\n",
       ":   162OTU250:4w\n",
       ":   1OTU1599:9w\n",
       ":   4OTU2831:5w\n",
       ":   4OTU84:38w\n",
       ":   12OTU7329:38w\n",
       ":   1OTU2003:Neg\n",
       ":   42OTU925:133w\n",
       ":   1OTU1214:9w\n",
       ":   53OTU1747:11w\n",
       ":   53OTU1549:104w\n",
       ":   28OTU6852:Neg\n",
       ":   20OTU1496:23w\n",
       ":   1OTU588:32w\n",
       ":   1OTU1888:25w\n",
       ":   1OTU1444:49w\n",
       ":   38OTU46:60w\n",
       ":   3OTU972:130w\n",
       ":   1OTU2115:131w\n",
       ":   2\n",
       "\n"
      ],
      "text/plain": [
       "   OTU167:Dc-X OTU187:Dc-PosG    OTU256:Dc-X    OTU762:Dc-X      OTU891:1w \n",
       "           469             85             35             53             58 \n",
       "OTU306:Dc-PosG OTU119:Dc-PosG OTU220:Dc-PosG OTU164:Dc-PosG OTU235:Dc-PosG \n",
       "            96              1              1             51              1 \n",
       "OTU386:Dc-PosG OTU264:Dc-PosG OTU560:Dc-PosG    OTU1183:36w       OTU64:1w \n",
       "            88              1             39              1              1 \n",
       "     OTU409:4w      OTU417:1w      OTU437:1w       OTU18:9w     OTU414:13w \n",
       "             1             15              1              1              1 \n",
       "     OTU655:1w     OTU2029:2w     OTU1432:2w    OTU1332:11w      OTU315:4w \n",
       "             1              1             28             44            162 \n",
       "     OTU250:4w     OTU1599:9w     OTU2831:5w      OTU84:38w    OTU7329:38w \n",
       "             1              4              4             12              1 \n",
       "   OTU2003:Neg    OTU925:133w     OTU1214:9w    OTU1747:11w   OTU1549:104w \n",
       "            42              1             53             53             28 \n",
       "   OTU6852:Neg    OTU1496:23w     OTU588:32w    OTU1888:25w    OTU1444:49w \n",
       "            20              1              1              1             38 \n",
       "     OTU46:60w    OTU972:130w   OTU2115:131w \n",
       "             3              1              2 "
      ]
     },
     "metadata": {},
     "output_type": "display_data"
    }
   ],
   "source": [
    "taxa_sums(neg95)[taxa_sums(neg95)>0]"
   ]
  },
  {
   "cell_type": "markdown",
   "metadata": {},
   "source": [
    "To check for tag-switching, we'll look at our positive controls, or \"mock-community\" samples, for OTUs shared between the two controls. Such OTUs are good candidates for tag-switching. "
   ]
  },
  {
   "cell_type": "code",
   "execution_count": 20,
   "metadata": {},
   "outputs": [
    {
     "data": {
      "text/html": [
       "<ol class=list-inline>\n",
       "\t<li>'OTU167:Dc-X'</li>\n",
       "\t<li>'OTU315:4w'</li>\n",
       "\t<li>'OTU306:Dc-PosG'</li>\n",
       "\t<li>'OTU386:Dc-PosG'</li>\n",
       "\t<li>'OTU187:Dc-PosG'</li>\n",
       "\t<li>'OTU891:1w'</li>\n",
       "\t<li>'OTU762:Dc-X'</li>\n",
       "\t<li>'OTU1214:9w'</li>\n",
       "\t<li>'OTU1747:11w'</li>\n",
       "\t<li>'OTU164:Dc-PosG'</li>\n",
       "\t<li>'OTU1332:11w'</li>\n",
       "\t<li>'OTU2003:Neg'</li>\n",
       "\t<li>'OTU560:Dc-PosG'</li>\n",
       "\t<li>'OTU1444:49w'</li>\n",
       "\t<li>'OTU256:Dc-X'</li>\n",
       "\t<li>'OTU1432:2w'</li>\n",
       "\t<li>'OTU1549:104w'</li>\n",
       "\t<li>'OTU6852:Neg'</li>\n",
       "\t<li>'OTU417:1w'</li>\n",
       "\t<li>'OTU84:38w'</li>\n",
       "\t<li>'OTU1599:9w'</li>\n",
       "\t<li>'OTU2831:5w'</li>\n",
       "\t<li>'OTU46:60w'</li>\n",
       "\t<li>'OTU2115:131w'</li>\n",
       "\t<li>'OTU119:Dc-PosG'</li>\n",
       "\t<li>'OTU220:Dc-PosG'</li>\n",
       "\t<li>'OTU235:Dc-PosG'</li>\n",
       "\t<li>'OTU264:Dc-PosG'</li>\n",
       "\t<li>'OTU1183:36w'</li>\n",
       "\t<li>'OTU64:1w'</li>\n",
       "\t<li>'OTU409:4w'</li>\n",
       "\t<li>'OTU437:1w'</li>\n",
       "\t<li>'OTU18:9w'</li>\n",
       "\t<li>'OTU414:13w'</li>\n",
       "\t<li>'OTU655:1w'</li>\n",
       "\t<li>'OTU2029:2w'</li>\n",
       "\t<li>'OTU250:4w'</li>\n",
       "\t<li>'OTU7329:38w'</li>\n",
       "\t<li>'OTU925:133w'</li>\n",
       "\t<li>'OTU1496:23w'</li>\n",
       "\t<li>'OTU588:32w'</li>\n",
       "\t<li>'OTU1888:25w'</li>\n",
       "\t<li>'OTU972:130w'</li>\n",
       "</ol>\n"
      ],
      "text/latex": [
       "\\begin{enumerate*}\n",
       "\\item 'OTU167:Dc-X'\n",
       "\\item 'OTU315:4w'\n",
       "\\item 'OTU306:Dc-PosG'\n",
       "\\item 'OTU386:Dc-PosG'\n",
       "\\item 'OTU187:Dc-PosG'\n",
       "\\item 'OTU891:1w'\n",
       "\\item 'OTU762:Dc-X'\n",
       "\\item 'OTU1214:9w'\n",
       "\\item 'OTU1747:11w'\n",
       "\\item 'OTU164:Dc-PosG'\n",
       "\\item 'OTU1332:11w'\n",
       "\\item 'OTU2003:Neg'\n",
       "\\item 'OTU560:Dc-PosG'\n",
       "\\item 'OTU1444:49w'\n",
       "\\item 'OTU256:Dc-X'\n",
       "\\item 'OTU1432:2w'\n",
       "\\item 'OTU1549:104w'\n",
       "\\item 'OTU6852:Neg'\n",
       "\\item 'OTU417:1w'\n",
       "\\item 'OTU84:38w'\n",
       "\\item 'OTU1599:9w'\n",
       "\\item 'OTU2831:5w'\n",
       "\\item 'OTU46:60w'\n",
       "\\item 'OTU2115:131w'\n",
       "\\item 'OTU119:Dc-PosG'\n",
       "\\item 'OTU220:Dc-PosG'\n",
       "\\item 'OTU235:Dc-PosG'\n",
       "\\item 'OTU264:Dc-PosG'\n",
       "\\item 'OTU1183:36w'\n",
       "\\item 'OTU64:1w'\n",
       "\\item 'OTU409:4w'\n",
       "\\item 'OTU437:1w'\n",
       "\\item 'OTU18:9w'\n",
       "\\item 'OTU414:13w'\n",
       "\\item 'OTU655:1w'\n",
       "\\item 'OTU2029:2w'\n",
       "\\item 'OTU250:4w'\n",
       "\\item 'OTU7329:38w'\n",
       "\\item 'OTU925:133w'\n",
       "\\item 'OTU1496:23w'\n",
       "\\item 'OTU588:32w'\n",
       "\\item 'OTU1888:25w'\n",
       "\\item 'OTU972:130w'\n",
       "\\end{enumerate*}\n"
      ],
      "text/markdown": [
       "1. 'OTU167:Dc-X'\n",
       "2. 'OTU315:4w'\n",
       "3. 'OTU306:Dc-PosG'\n",
       "4. 'OTU386:Dc-PosG'\n",
       "5. 'OTU187:Dc-PosG'\n",
       "6. 'OTU891:1w'\n",
       "7. 'OTU762:Dc-X'\n",
       "8. 'OTU1214:9w'\n",
       "9. 'OTU1747:11w'\n",
       "10. 'OTU164:Dc-PosG'\n",
       "11. 'OTU1332:11w'\n",
       "12. 'OTU2003:Neg'\n",
       "13. 'OTU560:Dc-PosG'\n",
       "14. 'OTU1444:49w'\n",
       "15. 'OTU256:Dc-X'\n",
       "16. 'OTU1432:2w'\n",
       "17. 'OTU1549:104w'\n",
       "18. 'OTU6852:Neg'\n",
       "19. 'OTU417:1w'\n",
       "20. 'OTU84:38w'\n",
       "21. 'OTU1599:9w'\n",
       "22. 'OTU2831:5w'\n",
       "23. 'OTU46:60w'\n",
       "24. 'OTU2115:131w'\n",
       "25. 'OTU119:Dc-PosG'\n",
       "26. 'OTU220:Dc-PosG'\n",
       "27. 'OTU235:Dc-PosG'\n",
       "28. 'OTU264:Dc-PosG'\n",
       "29. 'OTU1183:36w'\n",
       "30. 'OTU64:1w'\n",
       "31. 'OTU409:4w'\n",
       "32. 'OTU437:1w'\n",
       "33. 'OTU18:9w'\n",
       "34. 'OTU414:13w'\n",
       "35. 'OTU655:1w'\n",
       "36. 'OTU2029:2w'\n",
       "37. 'OTU250:4w'\n",
       "38. 'OTU7329:38w'\n",
       "39. 'OTU925:133w'\n",
       "40. 'OTU1496:23w'\n",
       "41. 'OTU588:32w'\n",
       "42. 'OTU1888:25w'\n",
       "43. 'OTU972:130w'\n",
       "\n",
       "\n"
      ],
      "text/plain": [
       " [1] \"OTU167:Dc-X\"    \"OTU315:4w\"      \"OTU306:Dc-PosG\" \"OTU386:Dc-PosG\"\n",
       " [5] \"OTU187:Dc-PosG\" \"OTU891:1w\"      \"OTU762:Dc-X\"    \"OTU1214:9w\"    \n",
       " [9] \"OTU1747:11w\"    \"OTU164:Dc-PosG\" \"OTU1332:11w\"    \"OTU2003:Neg\"   \n",
       "[13] \"OTU560:Dc-PosG\" \"OTU1444:49w\"    \"OTU256:Dc-X\"    \"OTU1432:2w\"    \n",
       "[17] \"OTU1549:104w\"   \"OTU6852:Neg\"    \"OTU417:1w\"      \"OTU84:38w\"     \n",
       "[21] \"OTU1599:9w\"     \"OTU2831:5w\"     \"OTU46:60w\"      \"OTU2115:131w\"  \n",
       "[25] \"OTU119:Dc-PosG\" \"OTU220:Dc-PosG\" \"OTU235:Dc-PosG\" \"OTU264:Dc-PosG\"\n",
       "[29] \"OTU1183:36w\"    \"OTU64:1w\"       \"OTU409:4w\"      \"OTU437:1w\"     \n",
       "[33] \"OTU18:9w\"       \"OTU414:13w\"     \"OTU655:1w\"      \"OTU2029:2w\"    \n",
       "[37] \"OTU250:4w\"      \"OTU7329:38w\"    \"OTU925:133w\"    \"OTU1496:23w\"   \n",
       "[41] \"OTU588:32w\"     \"OTU1888:25w\"    \"OTU972:130w\"   "
      ]
     },
     "metadata": {},
     "output_type": "display_data"
    }
   ],
   "source": [
    "reads <- taxa_sums(neg95)[taxa_sums(neg95) > 0]\n",
    "reads <- sort(reads, decreasing = TRUE)\n",
    "sink('neg95names.txt') ## read out these OTUs so we can use them in python env\n",
    "names(reads)\n",
    "sink()"
   ]
  },
  {
   "cell_type": "markdown",
   "metadata": {},
   "source": [
    "Clean up with sed. Back into BASH kernel:"
   ]
  },
  {
   "cell_type": "code",
   "execution_count": 1,
   "metadata": {},
   "outputs": [],
   "source": [
    "## BASH\n",
    "sed 's/\\[.*\\]//g' neg95names.txt |sed 's/^\\s*//g' | sed 's/\\s\\+/,/g' | sed '$s/,$/\\)/' | sed '1s/\\\"OTU/mcseq=\\(\\\"OTU/' > neg95list.txt"
   ]
  },
  {
   "cell_type": "markdown",
   "metadata": {},
   "source": [
    "Checked with vim, had to add a comma or two, not sure why. Anyway, its a a tuple. And the second half of the script:"
   ]
  },
  {
   "cell_type": "code",
   "execution_count": 11,
   "metadata": {
    "scrolled": true
   },
   "outputs": [
    {
     "name": "stdout",
     "output_type": "stream",
     "text": [
      "\n",
      "with open('otus_95_combo_nolb.fasta', 'r') as zoop:\n",
      "        refseq = zoop.readlines()\n",
      "\n",
      "with open('mcseq.txt', 'w') as goop:\n",
      "        for j,otu in enumerate(mcseq):\n",
      "                for i,line in enumerate(refseq):\n",
      "                        if otu in line:\n",
      "                                goop.write(line)\n",
      "                                goop.write(refseq[i+1])\n",
      "\n",
      "\n"
     ]
    }
   ],
   "source": [
    "cat MCseq.py"
   ]
  },
  {
   "cell_type": "code",
   "execution_count": 12,
   "metadata": {},
   "outputs": [],
   "source": [
    "cat neg95list.txt MCseq.py > makeMCseq.py"
   ]
  },
  {
   "cell_type": "code",
   "execution_count": 13,
   "metadata": {},
   "outputs": [
    {
     "name": "stdout",
     "output_type": "stream",
     "text": [
      "mcseq=(\"OTU167:Dc-X\",\"OTU315:4w\",\"OTU306:Dc-PosG\",\"OTU386:Dc-PosG\",\n",
      "\"OTU187:Dc-PosG\",\"OTU891:1w\",\"OTU762:Dc-X\",\"OTU1214:9w\",\n",
      "\"OTU1747:11w\",\"OTU164:Dc-PosG\",\"OTU1332:11w\",\"OTU2003:Neg\",\n",
      "\"OTU560:Dc-PosG\",\"OTU1444:49w\",\"OTU256:Dc-X\",\"OTU1432:2w\",\n",
      "\"OTU1549:104w\",\"OTU6852:Neg\",\"OTU417:1w\",\"OTU84:38w\",\n",
      "\"OTU1599:9w\",\"OTU2831:5w\",\"OTU46:60w\",\"OTU2115:131w\",\n",
      "\"OTU119:Dc-PosG\",\"OTU220:Dc-PosG\",\"OTU235:Dc-PosG\",\"OTU264:Dc-PosG\",\n",
      "\"OTU1183:36w\",\"OTU64:1w\",\"OTU409:4w\",\"OTU437:1w\",\n",
      "\"OTU18:9w\",\"OTU414:13w\",\"OTU655:1w\",\"OTU2029:2w\",\n",
      "\"OTU250:4w\",\"OTU7329:38w\",\"OTU925:133w\",\"OTU1496:23w\",\n",
      "\"OTU588:32w\",\"OTU1888:25w\",\"OTU972:130w\")\n",
      "\n",
      "with open('otus_95_combo_nolb.fasta', 'r') as zoop:\n",
      "        refseq = zoop.readlines()\n",
      "\n",
      "with open('mcseq.txt', 'w') as goop:\n",
      "        for j,otu in enumerate(mcseq):\n",
      "                for i,line in enumerate(refseq):\n",
      "                        if otu in line:\n",
      "                                goop.write(line)\n",
      "                                goop.write(refseq[i+1])\n",
      "\n",
      "\n"
     ]
    }
   ],
   "source": [
    "cat makeMCseq.py"
   ]
  },
  {
   "cell_type": "code",
   "execution_count": 14,
   "metadata": {},
   "outputs": [],
   "source": [
    "## run this to get sequences of OTUs that are in our positive control:\n",
    "python3 makeMCseq.py"
   ]
  },
  {
   "cell_type": "markdown",
   "metadata": {},
   "source": [
    "Make a friendly link to our sanger sequences of full ITS region of our positive control cultures, and make a blastable database from them:"
   ]
  },
  {
   "cell_type": "code",
   "execution_count": 17,
   "metadata": {},
   "outputs": [],
   "source": [
    "aa=$(find ~ -type f -name \"BioI-6098_OConnor_34875.seq.txt\")\n",
    "ln -s $aa ./mcsanger.fasta"
   ]
  },
  {
   "cell_type": "code",
   "execution_count": 19,
   "metadata": {},
   "outputs": [],
   "source": [
    "## make our searchable database of sanger positive control sequences for blast:\n",
    "makeblastdb -in mcsanger.fasta -dbtype nucl -logfile dberrors.txt"
   ]
  },
  {
   "cell_type": "markdown",
   "metadata": {},
   "source": [
    "Do our searches, with a couple of output formats:"
   ]
  },
  {
   "cell_type": "code",
   "execution_count": 20,
   "metadata": {},
   "outputs": [],
   "source": [
    "blastn -query mockseqs_Neg95.fasta -db mcsanger.fasta -out mcblast_Neg95.txt -num_descriptions 3 -num_alignments 3\n",
    "blastn -query mockseqs_Neg95.fasta -db mcsanger.fasta -out mcblast_Neg95.csv -outfmt 10 -max_target_seqs 1\n",
    "\n",
    "sed '1 i\\qseqid,sseqid,pident,length,mismatch,gapopen,qstart,qend,sstart,send,evalue,bitscore' mcblast_Neg95.csv -i\n",
    "sed 's/_ITS[1,4],/,/g' mcblast_Neg95.csv -i\n",
    "sed 's/Sample//g' mcblast_Neg95.csv -i"
   ]
  },
  {
   "cell_type": "markdown",
   "metadata": {},
   "source": [
    "This csv file can be imported as a dataframe into R:"
   ]
  },
  {
   "cell_type": "code",
   "execution_count": 1,
   "metadata": {},
   "outputs": [
    {
     "data": {
      "text/html": [
       "<table>\n",
       "<thead><tr><th scope=col>qseqid</th><th scope=col>sseqid</th><th scope=col>pident</th><th scope=col>length</th><th scope=col>mismatch</th><th scope=col>gapopen</th><th scope=col>qstart</th><th scope=col>qend</th><th scope=col>sstart</th><th scope=col>send</th><th scope=col>evalue</th><th scope=col>bitscore</th></tr></thead>\n",
       "<tbody>\n",
       "\t<tr><td>OTU306:Dc-PosG</td><td> 9            </td><td>100.00        </td><td>176           </td><td>0             </td><td>0             </td><td> 1            </td><td>176           </td><td>504           </td><td>329           </td><td> 3e-92        </td><td>326.0         </td></tr>\n",
       "\t<tr><td>OTU386:Dc-PosG</td><td>19            </td><td>100.00        </td><td>175           </td><td>0             </td><td>0             </td><td> 1            </td><td>175           </td><td>513           </td><td>339           </td><td> 1e-91        </td><td>324.0         </td></tr>\n",
       "\t<tr><td>OTU164:Dc-PosG</td><td> 8            </td><td>100.00        </td><td>143           </td><td>0             </td><td>0             </td><td> 1            </td><td>143           </td><td>451           </td><td>309           </td><td> 5e-74        </td><td>265.0         </td></tr>\n",
       "\t<tr><td>OTU560:Dc-PosG</td><td> 4            </td><td>100.00        </td><td>180           </td><td>0             </td><td>0             </td><td> 1            </td><td>180           </td><td>485           </td><td>306           </td><td> 2e-94        </td><td>333.0         </td></tr>\n",
       "\t<tr><td>OTU256:Dc-X   </td><td> 6            </td><td>100.00        </td><td>184           </td><td>0             </td><td>0             </td><td> 1            </td><td>184           </td><td>535           </td><td>352           </td><td> 1e-96        </td><td>340.0         </td></tr>\n",
       "\t<tr><td>OTU84:38w     </td><td> 9            </td><td>100.00        </td><td> 31           </td><td>0             </td><td>0             </td><td>27            </td><td> 57           </td><td>530           </td><td>500           </td><td> 1e-11        </td><td> 58.4         </td></tr>\n",
       "\t<tr><td>OTU1599:9w    </td><td> 1            </td><td> 90.22        </td><td> 92           </td><td>8             </td><td>1             </td><td>37            </td><td>128           </td><td>459           </td><td>369           </td><td> 6e-30        </td><td>119.0         </td></tr>\n",
       "\t<tr><td>OTU119:Dc-PosG</td><td> 1            </td><td> 99.31        </td><td>144           </td><td>1             </td><td>0             </td><td> 1            </td><td>144           </td><td>434           </td><td>291           </td><td> 7e-73        </td><td>261.0         </td></tr>\n",
       "\t<tr><td>OTU220:Dc-PosG</td><td>22            </td><td>100.00        </td><td>168           </td><td>0             </td><td>0             </td><td> 1            </td><td>168           </td><td>512           </td><td>345           </td><td> 8e-88        </td><td>311.0         </td></tr>\n",
       "\t<tr><td>OTU235:Dc-PosG</td><td>20            </td><td>100.00        </td><td>217           </td><td>0             </td><td>0             </td><td> 1            </td><td>217           </td><td>605           </td><td>389           </td><td>6e-115        </td><td>401.0         </td></tr>\n",
       "\t<tr><td>OTU264:Dc-PosG</td><td>16            </td><td>100.00        </td><td>180           </td><td>0             </td><td>0             </td><td> 1            </td><td>180           </td><td>502           </td><td>323           </td><td> 2e-94        </td><td>333.0         </td></tr>\n",
       "</tbody>\n",
       "</table>\n"
      ],
      "text/latex": [
       "\\begin{tabular}{r|llllllllllll}\n",
       " qseqid & sseqid & pident & length & mismatch & gapopen & qstart & qend & sstart & send & evalue & bitscore\\\\\n",
       "\\hline\n",
       "\t OTU306:Dc-PosG &  9             & 100.00         & 176            & 0              & 0              &  1             & 176            & 504            & 329            &  3e-92         & 326.0         \\\\\n",
       "\t OTU386:Dc-PosG & 19             & 100.00         & 175            & 0              & 0              &  1             & 175            & 513            & 339            &  1e-91         & 324.0         \\\\\n",
       "\t OTU164:Dc-PosG &  8             & 100.00         & 143            & 0              & 0              &  1             & 143            & 451            & 309            &  5e-74         & 265.0         \\\\\n",
       "\t OTU560:Dc-PosG &  4             & 100.00         & 180            & 0              & 0              &  1             & 180            & 485            & 306            &  2e-94         & 333.0         \\\\\n",
       "\t OTU256:Dc-X    &  6             & 100.00         & 184            & 0              & 0              &  1             & 184            & 535            & 352            &  1e-96         & 340.0         \\\\\n",
       "\t OTU84:38w      &  9             & 100.00         &  31            & 0              & 0              & 27             &  57            & 530            & 500            &  1e-11         &  58.4         \\\\\n",
       "\t OTU1599:9w     &  1             &  90.22         &  92            & 8              & 1              & 37             & 128            & 459            & 369            &  6e-30         & 119.0         \\\\\n",
       "\t OTU119:Dc-PosG &  1             &  99.31         & 144            & 1              & 0              &  1             & 144            & 434            & 291            &  7e-73         & 261.0         \\\\\n",
       "\t OTU220:Dc-PosG & 22             & 100.00         & 168            & 0              & 0              &  1             & 168            & 512            & 345            &  8e-88         & 311.0         \\\\\n",
       "\t OTU235:Dc-PosG & 20             & 100.00         & 217            & 0              & 0              &  1             & 217            & 605            & 389            & 6e-115         & 401.0         \\\\\n",
       "\t OTU264:Dc-PosG & 16             & 100.00         & 180            & 0              & 0              &  1             & 180            & 502            & 323            &  2e-94         & 333.0         \\\\\n",
       "\\end{tabular}\n"
      ],
      "text/markdown": [
       "\n",
       "qseqid | sseqid | pident | length | mismatch | gapopen | qstart | qend | sstart | send | evalue | bitscore | \n",
       "|---|---|---|---|---|---|---|---|---|---|---|\n",
       "| OTU306:Dc-PosG |  9             | 100.00         | 176            | 0              | 0              |  1             | 176            | 504            | 329            |  3e-92         | 326.0          | \n",
       "| OTU386:Dc-PosG | 19             | 100.00         | 175            | 0              | 0              |  1             | 175            | 513            | 339            |  1e-91         | 324.0          | \n",
       "| OTU164:Dc-PosG |  8             | 100.00         | 143            | 0              | 0              |  1             | 143            | 451            | 309            |  5e-74         | 265.0          | \n",
       "| OTU560:Dc-PosG |  4             | 100.00         | 180            | 0              | 0              |  1             | 180            | 485            | 306            |  2e-94         | 333.0          | \n",
       "| OTU256:Dc-X    |  6             | 100.00         | 184            | 0              | 0              |  1             | 184            | 535            | 352            |  1e-96         | 340.0          | \n",
       "| OTU84:38w      |  9             | 100.00         |  31            | 0              | 0              | 27             |  57            | 530            | 500            |  1e-11         |  58.4          | \n",
       "| OTU1599:9w     |  1             |  90.22         |  92            | 8              | 1              | 37             | 128            | 459            | 369            |  6e-30         | 119.0          | \n",
       "| OTU119:Dc-PosG |  1             |  99.31         | 144            | 1              | 0              |  1             | 144            | 434            | 291            |  7e-73         | 261.0          | \n",
       "| OTU220:Dc-PosG | 22             | 100.00         | 168            | 0              | 0              |  1             | 168            | 512            | 345            |  8e-88         | 311.0          | \n",
       "| OTU235:Dc-PosG | 20             | 100.00         | 217            | 0              | 0              |  1             | 217            | 605            | 389            | 6e-115         | 401.0          | \n",
       "| OTU264:Dc-PosG | 16             | 100.00         | 180            | 0              | 0              |  1             | 180            | 502            | 323            |  2e-94         | 333.0          | \n",
       "\n",
       "\n"
      ],
      "text/plain": [
       "   qseqid         sseqid pident length mismatch gapopen qstart qend sstart send\n",
       "1  OTU306:Dc-PosG  9     100.00 176    0        0        1     176  504    329 \n",
       "2  OTU386:Dc-PosG 19     100.00 175    0        0        1     175  513    339 \n",
       "3  OTU164:Dc-PosG  8     100.00 143    0        0        1     143  451    309 \n",
       "4  OTU560:Dc-PosG  4     100.00 180    0        0        1     180  485    306 \n",
       "5  OTU256:Dc-X     6     100.00 184    0        0        1     184  535    352 \n",
       "6  OTU84:38w       9     100.00  31    0        0       27      57  530    500 \n",
       "7  OTU1599:9w      1      90.22  92    8        1       37     128  459    369 \n",
       "8  OTU119:Dc-PosG  1      99.31 144    1        0        1     144  434    291 \n",
       "9  OTU220:Dc-PosG 22     100.00 168    0        0        1     168  512    345 \n",
       "10 OTU235:Dc-PosG 20     100.00 217    0        0        1     217  605    389 \n",
       "11 OTU264:Dc-PosG 16     100.00 180    0        0        1     180  502    323 \n",
       "   evalue bitscore\n",
       "1   3e-92 326.0   \n",
       "2   1e-91 324.0   \n",
       "3   5e-74 265.0   \n",
       "4   2e-94 333.0   \n",
       "5   1e-96 340.0   \n",
       "6   1e-11  58.4   \n",
       "7   6e-30 119.0   \n",
       "8   7e-73 261.0   \n",
       "9   8e-88 311.0   \n",
       "10 6e-115 401.0   \n",
       "11  2e-94 333.0   "
      ]
     },
     "metadata": {},
     "output_type": "display_data"
    }
   ],
   "source": [
    "## change kernel to R\n",
    "library('phyloseq')\n",
    "blast <- read.csv(\"mcblast_Neg95.csv\", stringsAsFactors=FALSE)\n",
    "blast"
   ]
  },
  {
   "cell_type": "markdown",
   "metadata": {},
   "source": [
    "Get rid of the lower quality matches:"
   ]
  },
  {
   "cell_type": "code",
   "execution_count": 2,
   "metadata": {},
   "outputs": [],
   "source": [
    "goodblast <- blast[blast$pident > 94 & blast$length > 90,]"
   ]
  },
  {
   "cell_type": "markdown",
   "metadata": {},
   "source": [
    "Make some useful vectors and graph:"
   ]
  },
  {
   "cell_type": "code",
   "execution_count": 4,
   "metadata": {},
   "outputs": [],
   "source": [
    "reads <- taxa_sums(neg95)[taxa_sums(neg95) > 0]\n",
    "reads <- sort(reads, decreasing = TRUE)\n",
    "Neg95.gen <- tax_table(neg95)[names(reads),6] ## genus, from initial tax assignments\n",
    "Neg95.gen[is.na(Neg95.gen)] <- \"NoID\"\n",
    "Neg95.species <- tax_table(neg95)[names(reads),7] ## species, from initial tax assignments\n",
    "Neg95.species[is.na(Neg95.species)] <- \"NoID\"\n",
    "member <- names(reads) %in% goodblast$qseqid ## membership in mock community (probably tag-switchers)\n",
    "MC <- vector(length = length(reads)); MC[] <- 0 ## empty vector, for MC sample #, filled below"
   ]
  },
  {
   "cell_type": "code",
   "execution_count": 6,
   "metadata": {},
   "outputs": [],
   "source": [
    "Neg95bar <- data.frame(reads, member, MC, Neg95.gen, Neg95.species, stringsAsFactors=FALSE) ## dataframe\n",
    "\n",
    "##fill the mock community sample number by querying our csv from blast results\n",
    "\n",
    "colnames(Neg95bar)[1] <- \"reads\"\n",
    "for (i in 1:nrow(Neg95bar)){\n",
    "        if (rownames(Neg95bar)[i] %in% goodblast$qseqid) {\n",
    "                search <- grep(rownames(Neg95bar)[i], goodblast$qseqid)\n",
    "                Neg95bar$MC[i] <- goodblast$sseqid[search]\n",
    "        }\n",
    "    }\n"
   ]
  },
  {
   "cell_type": "code",
   "execution_count": 7,
   "metadata": {},
   "outputs": [
    {
     "data": {
      "image/png": "[encoded data removed]",
      "text/plain": [
       "Plot with title “Dan negative control\n",
       "95% similarity radius”"
      ]
     },
     "metadata": {},
     "output_type": "display_data"
    }
   ],
   "source": [
    "inout <- paste('MC', Neg95bar$MC, sep='')\n",
    "inout[inout=='MC0'] <- NA\n",
    "\n",
    "par(cex.axis = .75, mar=c(7,4,4,2))\n",
    "barplot(Neg95bar$reads,las=3,log='y', names.arg=inout, col = member,\n",
    "       main = 'Dan negative control\\n95% similarity radius')\n",
    "legend(\"top\", legend=c('member','non-member'), fill=c(1,0))"
   ]
  },
  {
   "cell_type": "code",
   "execution_count": null,
   "metadata": {},
   "outputs": [],
   "source": []
  }
 ],
 "metadata": {
  "kernelspec": {
   "display_name": "R",
   "language": "R",
   "name": "ir"
  },
  "language_info": {
   "codemirror_mode": "r",
   "file_extension": ".r",
   "mimetype": "text/x-r-source",
   "name": "R",
   "pygments_lexer": "r",
   "version": "3.4.4"
  }
 },
 "nbformat": 4,
 "nbformat_minor": 2
}

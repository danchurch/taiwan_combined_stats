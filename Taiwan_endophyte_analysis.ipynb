{
 "cells": [
  {
   "cell_type": "markdown",
   "metadata": {},
   "source": [
    "# Taiwan endophyte analysis"
   ]
  },
  {
   "cell_type": "markdown",
   "metadata": {},
   "source": [
    "We will use our combined biom table of leaf and wood endophytes to ask some landscape level ecological questions about both leaf- and sapwood-inhabiting endophytes."
   ]
  },
  {
   "cell_type": "markdown",
   "metadata": {},
   "source": [
    "<a id='contents'></a>"
   ]
  },
  {
   "cell_type": "markdown",
   "metadata": {},
   "source": [
    "## Contents\n",
    "\n",
    "[Importing biom table and setup](#import)  \n",
    "[Controls](#c)  \n",
    "* [Negative control](#nc)  \n",
    "* [Single species](#sing)\n",
    "* [Mock community](#MC)  \n",
    "* [Clean-up using controls](#clean)\n",
    "\n",
    "[Variance Stabilization of Read Counts](#deseq)  \n",
    "[Ordinations](#Ords)\n"
   ]
  },
  {
   "cell_type": "markdown",
   "metadata": {},
   "source": [
    "<a id='import'></a>"
   ]
  },
  {
   "cell_type": "markdown",
   "metadata": {},
   "source": [
    "## Importing biom table and setup"
   ]
  },
  {
   "cell_type": "markdown",
   "metadata": {},
   "source": [
    "Let's get the proper packages and import our biom table."
   ]
  },
  {
   "cell_type": "code",
   "execution_count": 63,
   "metadata": {
    "collapsed": false,
    "scrolled": true
   },
   "outputs": [],
   "source": [
    "library('phyloseq')\n",
    "library('DESeq2')\n",
    "library('repr')\n",
    "library('vegan')"
   ]
  },
  {
   "cell_type": "markdown",
   "metadata": {},
   "source": [
    "Import our biom tables. We used the green genes style of formatting for our taxonomy metadata, I think..."
   ]
  },
  {
   "cell_type": "code",
   "execution_count": 66,
   "metadata": {
    "collapsed": true
   },
   "outputs": [],
   "source": [
    "biom95 <- import_biom('combo_95_wMetaBeta.biom', parseFunction=parse_taxonomy_greengenes)\n",
    "biom97 <- import_biom('combo_97_wMetaBeta.biom', parseFunction=parse_taxonomy_greengenes)"
   ]
  },
  {
   "cell_type": "code",
   "execution_count": 68,
   "metadata": {
    "collapsed": true
   },
   "outputs": [],
   "source": [
    "#save(biom95, file='biom95.rda'); save(biom97, file='biom97.rda')"
   ]
  },
  {
   "cell_type": "code",
   "execution_count": 71,
   "metadata": {
    "collapsed": false,
    "scrolled": true
   },
   "outputs": [
    {
     "data": {
      "text/plain": [
       "phyloseq-class experiment-level object\n",
       "otu_table()   OTU Table:         [ 10271 taxa and 232 samples ]\n",
       "sample_data() Sample Data:       [ 232 samples by 12 sample variables ]\n",
       "tax_table()   Taxonomy Table:    [ 10271 taxa by 7 taxonomic ranks ]"
      ]
     },
     "metadata": {},
     "output_type": "display_data"
    }
   ],
   "source": [
    "biom95"
   ]
  },
  {
   "cell_type": "markdown",
   "metadata": {},
   "source": [
    "Our biom table:"
   ]
  },
  {
   "cell_type": "markdown",
   "metadata": {},
   "source": [
    "Here is our current metadata for samples. We can subset by library type (leaf or wood), sample or control, and sample number. The unique identifiers (first column) were the name of the sample assigned by the illumina software."
   ]
  },
  {
   "cell_type": "code",
   "execution_count": 72,
   "metadata": {
    "collapsed": false,
    "scrolled": false
   },
   "outputs": [
    {
     "data": {
      "text/html": [
       "<table>\n",
       "<thead><tr><th></th><th scope=col>Host_genus</th><th scope=col>Library</th><th scope=col>stream_distance</th><th scope=col>Host_genus_species</th><th scope=col>X</th><th scope=col>Forest_Type</th><th scope=col>Host_species</th><th scope=col>vegcom</th><th scope=col>SampleNumber</th><th scope=col>Y</th><th scope=col>SorC</th><th scope=col>Host_family</th></tr></thead>\n",
       "<tbody>\n",
       "\t<tr><th scope=row>160wood</th><td>NA                       </td><td>W                        </td><td>NA                       </td><td>NA                       </td><td>NA                       </td><td>NA                       </td><td>NA                       </td><td>NA                       </td><td>Dc-X                     </td><td>NA                       </td><td>Control                  </td><td>NA                       </td></tr>\n",
       "\t<tr><th scope=row>161wood</th><td>NA                       </td><td>W                        </td><td>NA                       </td><td>NA                       </td><td>NA                       </td><td>NA                       </td><td>NA                       </td><td>NA                       </td><td>Dc-PosG                  </td><td>NA                       </td><td>Control                  </td><td>NA                       </td></tr>\n",
       "\t<tr><th scope=row>162wood</th><td>NA                       </td><td>W                        </td><td>NA                       </td><td>NA                       </td><td>NA                       </td><td>NA                       </td><td>NA                       </td><td>NA                       </td><td>Dc-PosI                  </td><td>NA                       </td><td>Control                  </td><td>NA                       </td></tr>\n",
       "\t<tr><th scope=row>163wood</th><td>NA                       </td><td>W                        </td><td>NA                       </td><td>NA                       </td><td>NA                       </td><td>NA                       </td><td>NA                       </td><td>NA                       </td><td>Dc-Neg                   </td><td>NA                       </td><td>Control                  </td><td>NA                       </td></tr>\n",
       "\t<tr><th scope=row>164wood</th><td>Engelhardtia             </td><td>W                        </td><td>24.11897                 </td><td>Engelhardtia_roxburghiana</td><td>360                      </td><td>7                        </td><td>roxburghiana             </td><td>2                        </td><td>1                        </td><td>220                      </td><td>Sample                   </td><td>Juglandaceae             </td></tr>\n",
       "\t<tr><th scope=row>165wood</th><td>Pyrenaria                </td><td>W                        </td><td>23.22664                 </td><td>Pyrenaria_shinkoensis    </td><td>360                      </td><td>7                        </td><td>shinkoensis              </td><td>2                        </td><td>2                        </td><td>221                      </td><td>Sample                   </td><td>Theaceae                 </td></tr>\n",
       "</tbody>\n",
       "</table>\n"
      ],
      "text/latex": [
       "\\begin{tabular}{r|llllllllllll}\n",
       "  & Host\\_genus & Library & stream\\_distance & Host\\_genus\\_species & X & Forest\\_Type & Host\\_species & vegcom & SampleNumber & Y & SorC & Host\\_family\\\\\n",
       "\\hline\n",
       "\t160wood & NA                        & W                         & NA                        & NA                        & NA                        & NA                        & NA                        & NA                        & Dc-X                      & NA                        & Control                   & NA                       \\\\\n",
       "\t161wood & NA                        & W                         & NA                        & NA                        & NA                        & NA                        & NA                        & NA                        & Dc-PosG                   & NA                        & Control                   & NA                       \\\\\n",
       "\t162wood & NA                        & W                         & NA                        & NA                        & NA                        & NA                        & NA                        & NA                        & Dc-PosI                   & NA                        & Control                   & NA                       \\\\\n",
       "\t163wood & NA                        & W                         & NA                        & NA                        & NA                        & NA                        & NA                        & NA                        & Dc-Neg                    & NA                        & Control                   & NA                       \\\\\n",
       "\t164wood & Engelhardtia                & W                           & 24.11897                    & Engelhardtia\\_roxburghiana & 360                         & 7                           & roxburghiana                & 2                           & 1                           & 220                         & Sample                      & Juglandaceae               \\\\\n",
       "\t165wood & Pyrenaria                   & W                           & 23.22664                    & Pyrenaria\\_shinkoensis     & 360                         & 7                           & shinkoensis                 & 2                           & 2                           & 221                         & Sample                      & Theaceae                   \\\\\n",
       "\\end{tabular}\n"
      ],
      "text/markdown": [
       "$Host_genus\n",
       ":   1. 'NA'\n",
       "2. 'NA'\n",
       "3. 'NA'\n",
       "4. 'NA'\n",
       "5. 'Engelhardtia'\n",
       "6. 'Pyrenaria'\n",
       "\n",
       "\n",
       "\n",
       "$Library\n",
       ":   1. 'W'\n",
       "2. 'W'\n",
       "3. 'W'\n",
       "4. 'W'\n",
       "5. 'W'\n",
       "6. 'W'\n",
       "\n",
       "\n",
       "\n",
       "$stream_distance\n",
       ":   1. 'NA'\n",
       "2. 'NA'\n",
       "3. 'NA'\n",
       "4. 'NA'\n",
       "5. '24.11897'\n",
       "6. '23.22664'\n",
       "\n",
       "\n",
       "\n",
       "$Host_genus_species\n",
       ":   1. 'NA'\n",
       "2. 'NA'\n",
       "3. 'NA'\n",
       "4. 'NA'\n",
       "5. 'Engelhardtia_roxburghiana'\n",
       "6. 'Pyrenaria_shinkoensis'\n",
       "\n",
       "\n",
       "\n",
       "$X\n",
       ":   1. 'NA'\n",
       "2. 'NA'\n",
       "3. 'NA'\n",
       "4. 'NA'\n",
       "5. '360'\n",
       "6. '360'\n",
       "\n",
       "\n",
       "\n",
       "$Forest_Type\n",
       ":   1. 'NA'\n",
       "2. 'NA'\n",
       "3. 'NA'\n",
       "4. 'NA'\n",
       "5. '7'\n",
       "6. '7'\n",
       "\n",
       "\n",
       "\n",
       "$Host_species\n",
       ":   1. 'NA'\n",
       "2. 'NA'\n",
       "3. 'NA'\n",
       "4. 'NA'\n",
       "5. 'roxburghiana'\n",
       "6. 'shinkoensis'\n",
       "\n",
       "\n",
       "\n",
       "$vegcom\n",
       ":   1. 'NA'\n",
       "2. 'NA'\n",
       "3. 'NA'\n",
       "4. 'NA'\n",
       "5. '2'\n",
       "6. '2'\n",
       "\n",
       "\n",
       "\n",
       "$SampleNumber\n",
       ":   1. 'Dc-X'\n",
       "2. 'Dc-PosG'\n",
       "3. 'Dc-PosI'\n",
       "4. 'Dc-Neg'\n",
       "5. '1'\n",
       "6. '2'\n",
       "\n",
       "\n",
       "\n",
       "$Y\n",
       ":   1. 'NA'\n",
       "2. 'NA'\n",
       "3. 'NA'\n",
       "4. 'NA'\n",
       "5. '220'\n",
       "6. '221'\n",
       "\n",
       "\n",
       "\n",
       "$SorC\n",
       ":   1. 'Control'\n",
       "2. 'Control'\n",
       "3. 'Control'\n",
       "4. 'Control'\n",
       "5. 'Sample'\n",
       "6. 'Sample'\n",
       "\n",
       "\n",
       "\n",
       "$Host_family\n",
       ":   1. 'NA'\n",
       "2. 'NA'\n",
       "3. 'NA'\n",
       "4. 'NA'\n",
       "5. 'Juglandaceae'\n",
       "6. 'Theaceae'\n",
       "\n",
       "\n",
       "\n",
       "\n",
       "\n"
      ],
      "text/plain": [
       "        Host_genus   Library stream_distance Host_genus_species        X  \n",
       "160wood NA           W       NA              NA                        NA \n",
       "161wood NA           W       NA              NA                        NA \n",
       "162wood NA           W       NA              NA                        NA \n",
       "163wood NA           W       NA              NA                        NA \n",
       "164wood Engelhardtia W       24.11897        Engelhardtia_roxburghiana 360\n",
       "165wood Pyrenaria    W       23.22664        Pyrenaria_shinkoensis     360\n",
       "        Forest_Type Host_species vegcom SampleNumber Y   SorC    Host_family \n",
       "160wood NA          NA           NA     Dc-X         NA  Control NA          \n",
       "161wood NA          NA           NA     Dc-PosG      NA  Control NA          \n",
       "162wood NA          NA           NA     Dc-PosI      NA  Control NA          \n",
       "163wood NA          NA           NA     Dc-Neg       NA  Control NA          \n",
       "164wood 7           roxburghiana 2      1            220 Sample  Juglandaceae\n",
       "165wood 7           shinkoensis  2      2            221 Sample  Theaceae    "
      ]
     },
     "metadata": {},
     "output_type": "display_data"
    }
   ],
   "source": [
    "head(sample_data(biom95))"
   ]
  },
  {
   "cell_type": "code",
   "execution_count": 73,
   "metadata": {
    "collapsed": false,
    "scrolled": true
   },
   "outputs": [
    {
     "data": {
      "text/html": [
       "<table>\n",
       "<thead><tr><th></th><th scope=col>Forest_Type</th><th scope=col>Y</th><th scope=col>stream_distance</th><th scope=col>Library</th><th scope=col>Host_genus</th><th scope=col>vegcom</th><th scope=col>SampleNumber</th><th scope=col>Host_species</th><th scope=col>SorC</th><th scope=col>Host_family</th><th scope=col>X</th><th scope=col>Host_genus_species</th></tr></thead>\n",
       "<tbody>\n",
       "\t<tr><th scope=row>160wood</th><td>NA                       </td><td>NA                       </td><td>NA                       </td><td>W                        </td><td>NA                       </td><td>NA                       </td><td>Dc-X                     </td><td>NA                       </td><td>Control                  </td><td>NA                       </td><td>NA                       </td><td>NA                       </td></tr>\n",
       "\t<tr><th scope=row>161wood</th><td>NA                       </td><td>NA                       </td><td>NA                       </td><td>W                        </td><td>NA                       </td><td>NA                       </td><td>Dc-PosG                  </td><td>NA                       </td><td>Control                  </td><td>NA                       </td><td>NA                       </td><td>NA                       </td></tr>\n",
       "\t<tr><th scope=row>162wood</th><td>NA                       </td><td>NA                       </td><td>NA                       </td><td>W                        </td><td>NA                       </td><td>NA                       </td><td>Dc-PosI                  </td><td>NA                       </td><td>Control                  </td><td>NA                       </td><td>NA                       </td><td>NA                       </td></tr>\n",
       "\t<tr><th scope=row>163wood</th><td>NA                       </td><td>NA                       </td><td>NA                       </td><td>W                        </td><td>NA                       </td><td>NA                       </td><td>Dc-Neg                   </td><td>NA                       </td><td>Control                  </td><td>NA                       </td><td>NA                       </td><td>NA                       </td></tr>\n",
       "\t<tr><th scope=row>164wood</th><td>7                        </td><td>220                      </td><td>24.11897                 </td><td>W                        </td><td>Engelhardtia             </td><td>2                        </td><td>1                        </td><td>roxburghiana             </td><td>Sample                   </td><td>Juglandaceae             </td><td>360                      </td><td>Engelhardtia_roxburghiana</td></tr>\n",
       "\t<tr><th scope=row>165wood</th><td>7                        </td><td>221                      </td><td>23.22664                 </td><td>W                        </td><td>Pyrenaria                </td><td>2                        </td><td>2                        </td><td>shinkoensis              </td><td>Sample                   </td><td>Theaceae                 </td><td>360                      </td><td>Pyrenaria_shinkoensis    </td></tr>\n",
       "</tbody>\n",
       "</table>\n"
      ],
      "text/latex": [
       "\\begin{tabular}{r|llllllllllll}\n",
       "  & Forest\\_Type & Y & stream\\_distance & Library & Host\\_genus & vegcom & SampleNumber & Host\\_species & SorC & Host\\_family & X & Host\\_genus\\_species\\\\\n",
       "\\hline\n",
       "\t160wood & NA                        & NA                        & NA                        & W                         & NA                        & NA                        & Dc-X                      & NA                        & Control                   & NA                        & NA                        & NA                       \\\\\n",
       "\t161wood & NA                        & NA                        & NA                        & W                         & NA                        & NA                        & Dc-PosG                   & NA                        & Control                   & NA                        & NA                        & NA                       \\\\\n",
       "\t162wood & NA                        & NA                        & NA                        & W                         & NA                        & NA                        & Dc-PosI                   & NA                        & Control                   & NA                        & NA                        & NA                       \\\\\n",
       "\t163wood & NA                        & NA                        & NA                        & W                         & NA                        & NA                        & Dc-Neg                    & NA                        & Control                   & NA                        & NA                        & NA                       \\\\\n",
       "\t164wood & 7                           & 220                         & 24.11897                    & W                           & Engelhardtia                & 2                           & 1                           & roxburghiana                & Sample                      & Juglandaceae                & 360                         & Engelhardtia\\_roxburghiana\\\\\n",
       "\t165wood & 7                           & 221                         & 23.22664                    & W                           & Pyrenaria                   & 2                           & 2                           & shinkoensis                 & Sample                      & Theaceae                    & 360                         & Pyrenaria\\_shinkoensis    \\\\\n",
       "\\end{tabular}\n"
      ],
      "text/markdown": [
       "$Forest_Type\n",
       ":   1. 'NA'\n",
       "2. 'NA'\n",
       "3. 'NA'\n",
       "4. 'NA'\n",
       "5. '7'\n",
       "6. '7'\n",
       "\n",
       "\n",
       "\n",
       "$Y\n",
       ":   1. 'NA'\n",
       "2. 'NA'\n",
       "3. 'NA'\n",
       "4. 'NA'\n",
       "5. '220'\n",
       "6. '221'\n",
       "\n",
       "\n",
       "\n",
       "$stream_distance\n",
       ":   1. 'NA'\n",
       "2. 'NA'\n",
       "3. 'NA'\n",
       "4. 'NA'\n",
       "5. '24.11897'\n",
       "6. '23.22664'\n",
       "\n",
       "\n",
       "\n",
       "$Library\n",
       ":   1. 'W'\n",
       "2. 'W'\n",
       "3. 'W'\n",
       "4. 'W'\n",
       "5. 'W'\n",
       "6. 'W'\n",
       "\n",
       "\n",
       "\n",
       "$Host_genus\n",
       ":   1. 'NA'\n",
       "2. 'NA'\n",
       "3. 'NA'\n",
       "4. 'NA'\n",
       "5. 'Engelhardtia'\n",
       "6. 'Pyrenaria'\n",
       "\n",
       "\n",
       "\n",
       "$vegcom\n",
       ":   1. 'NA'\n",
       "2. 'NA'\n",
       "3. 'NA'\n",
       "4. 'NA'\n",
       "5. '2'\n",
       "6. '2'\n",
       "\n",
       "\n",
       "\n",
       "$SampleNumber\n",
       ":   1. 'Dc-X'\n",
       "2. 'Dc-PosG'\n",
       "3. 'Dc-PosI'\n",
       "4. 'Dc-Neg'\n",
       "5. '1'\n",
       "6. '2'\n",
       "\n",
       "\n",
       "\n",
       "$Host_species\n",
       ":   1. 'NA'\n",
       "2. 'NA'\n",
       "3. 'NA'\n",
       "4. 'NA'\n",
       "5. 'roxburghiana'\n",
       "6. 'shinkoensis'\n",
       "\n",
       "\n",
       "\n",
       "$SorC\n",
       ":   1. 'Control'\n",
       "2. 'Control'\n",
       "3. 'Control'\n",
       "4. 'Control'\n",
       "5. 'Sample'\n",
       "6. 'Sample'\n",
       "\n",
       "\n",
       "\n",
       "$Host_family\n",
       ":   1. 'NA'\n",
       "2. 'NA'\n",
       "3. 'NA'\n",
       "4. 'NA'\n",
       "5. 'Juglandaceae'\n",
       "6. 'Theaceae'\n",
       "\n",
       "\n",
       "\n",
       "$X\n",
       ":   1. 'NA'\n",
       "2. 'NA'\n",
       "3. 'NA'\n",
       "4. 'NA'\n",
       "5. '360'\n",
       "6. '360'\n",
       "\n",
       "\n",
       "\n",
       "$Host_genus_species\n",
       ":   1. 'NA'\n",
       "2. 'NA'\n",
       "3. 'NA'\n",
       "4. 'NA'\n",
       "5. 'Engelhardtia_roxburghiana'\n",
       "6. 'Pyrenaria_shinkoensis'\n",
       "\n",
       "\n",
       "\n",
       "\n",
       "\n"
      ],
      "text/plain": [
       "        Forest_Type Y   stream_distance Library Host_genus   vegcom\n",
       "160wood NA          NA  NA              W       NA           NA    \n",
       "161wood NA          NA  NA              W       NA           NA    \n",
       "162wood NA          NA  NA              W       NA           NA    \n",
       "163wood NA          NA  NA              W       NA           NA    \n",
       "164wood 7           220 24.11897        W       Engelhardtia 2     \n",
       "165wood 7           221 23.22664        W       Pyrenaria    2     \n",
       "        SampleNumber Host_species SorC    Host_family  X  \n",
       "160wood Dc-X         NA           Control NA           NA \n",
       "161wood Dc-PosG      NA           Control NA           NA \n",
       "162wood Dc-PosI      NA           Control NA           NA \n",
       "163wood Dc-Neg       NA           Control NA           NA \n",
       "164wood 1            roxburghiana Sample  Juglandaceae 360\n",
       "165wood 2            shinkoensis  Sample  Theaceae     360\n",
       "        Host_genus_species       \n",
       "160wood NA                       \n",
       "161wood NA                       \n",
       "162wood NA                       \n",
       "163wood NA                       \n",
       "164wood Engelhardtia_roxburghiana\n",
       "165wood Pyrenaria_shinkoensis    "
      ]
     },
     "metadata": {},
     "output_type": "display_data"
    }
   ],
   "source": [
    "head(sample_data(biom97))"
   ]
  },
  {
   "cell_type": "markdown",
   "metadata": {},
   "source": [
    "Odd that the biom table metadata assignment process changes the order of the metadata columns. But looks okay."
   ]
  },
  {
   "cell_type": "markdown",
   "metadata": {},
   "source": [
    "# Controls"
   ]
  },
  {
   "cell_type": "markdown",
   "metadata": {},
   "source": [
    "<a id='c'></a>"
   ]
  },
  {
   "cell_type": "markdown",
   "metadata": {},
   "source": [
    "To get a glimpse at the biases that may be introduced in the various processes of amplifying, sequencing, and curating our sequences bioimformatically, we've included various types of control samples. We included \"empty\" (sterile water only) samples as negative controls, and three types of positive controls, or \"mock communities.\" These are samples that we include in our illumina sequencing runs with known concentrations of DNA from species of our choice. We can then observe how these communities are presented to us at the end the entire sampling process, and get a clearer picture of what biases we may be introducing. In this study, we included three types of positive control samples: (1) a \"pure\" culture of a single species, *Xylaria hypoxylon*, (2) a mock community of 24 species with approximately equal concentrations of genomic DNA, and (3) a mock community of the same 24 species, but of ITS PCR-product region only. "
   ]
  },
  {
   "cell_type": "markdown",
   "metadata": {},
   "source": [
    "<a id='nc'></a>"
   ]
  },
  {
   "cell_type": "markdown",
   "metadata": {},
   "source": [
    "## Negative controls"
   ]
  },
  {
   "cell_type": "markdown",
   "metadata": {},
   "source": [
    "Okay, as per the recommendations of [Nguyen 2015](http://onlinelibrary.wiley.com/doi/10.1111/nph.12923/full), we'll remove sequences of OTUs found in our negative controls, up to the amount of reads found for these OTUs in our negative controls. These OTUs are presumably a mix of both lab contamination and tag-switching. \n",
    "\n",
    "What do we find in our negatives? Make a phyloseq object of just our wood negative:"
   ]
  },
  {
   "cell_type": "code",
   "execution_count": 13,
   "metadata": {
    "collapsed": true
   },
   "outputs": [],
   "source": [
    "neg95 <- subset_samples(biom95, SampleNumber=='Neg')"
   ]
  },
  {
   "cell_type": "code",
   "execution_count": 14,
   "metadata": {
    "collapsed": false,
    "scrolled": true
   },
   "outputs": [
    {
     "data": {
      "text/plain": [
       "phyloseq-class experiment-level object\n",
       "otu_table()   OTU Table:         [ 10271 taxa and 1 samples ]\n",
       "sample_data() Sample Data:       [ 1 samples by 11 sample variables ]\n",
       "tax_table()   Taxonomy Table:    [ 10271 taxa by 7 taxonomic ranks ]"
      ]
     },
     "metadata": {},
     "output_type": "display_data"
    }
   ],
   "source": [
    "neg95"
   ]
  },
  {
   "cell_type": "markdown",
   "metadata": {},
   "source": [
    "How many contaminants do we have? Total reads:"
   ]
  },
  {
   "cell_type": "code",
   "execution_count": 15,
   "metadata": {
    "collapsed": false
   },
   "outputs": [
    {
     "data": {
      "text/html": [
       "1759"
      ],
      "text/latex": [
       "1759"
      ],
      "text/markdown": [
       "1759"
      ],
      "text/plain": [
       "[1] 1759"
      ]
     },
     "metadata": {},
     "output_type": "display_data"
    }
   ],
   "source": [
    "sum(taxa_sums(neg95)[taxa_sums(neg95)>0])"
   ]
  },
  {
   "cell_type": "markdown",
   "metadata": {},
   "source": [
    "Which OTUs, and how many of each?"
   ]
  },
  {
   "cell_type": "code",
   "execution_count": 16,
   "metadata": {
    "collapsed": false,
    "scrolled": true
   },
   "outputs": [
    {
     "data": {
      "text/html": [
       "<dl class=dl-horizontal>\n",
       "\t<dt>OTU116:65Leaf</dt>\n",
       "\t\t<dd>544</dd>\n",
       "\t<dt>OTU89:65Leaf</dt>\n",
       "\t\t<dd>98</dd>\n",
       "\t<dt>OTU1767:163wood</dt>\n",
       "\t\t<dd>1</dd>\n",
       "\t<dt>OTU247:112.2Leaf</dt>\n",
       "\t\t<dd>40</dd>\n",
       "\t<dt>OTU667:114Leaf</dt>\n",
       "\t\t<dd>61</dd>\n",
       "\t<dt>OTU254:161wood</dt>\n",
       "\t\t<dd>1</dd>\n",
       "\t<dt>OTU737:164wood</dt>\n",
       "\t\t<dd>69</dd>\n",
       "\t<dt>OTU139:161wood</dt>\n",
       "\t\t<dd>3</dd>\n",
       "\t<dt>OTU127:12Leaf</dt>\n",
       "\t\t<dd>1</dd>\n",
       "\t<dt>OTU181:104Leaf</dt>\n",
       "\t\t<dd>56</dd>\n",
       "\t<dt>OTU285:161wood</dt>\n",
       "\t\t<dd>109</dd>\n",
       "\t<dt>OTU234:161wood</dt>\n",
       "\t\t<dd>2</dd>\n",
       "\t<dt>OTU210:161wood</dt>\n",
       "\t\t<dd>1</dd>\n",
       "\t<dt>OTU155:122Leaf</dt>\n",
       "\t\t<dd>2</dd>\n",
       "\t<dt>OTU230:70Leaf</dt>\n",
       "\t\t<dd>1</dd>\n",
       "\t<dt>OTU304:161wood</dt>\n",
       "\t\t<dd>109</dd>\n",
       "\t<dt>OTU246:161wood</dt>\n",
       "\t\t<dd>1</dd>\n",
       "\t<dt>OTU491:161wood</dt>\n",
       "\t\t<dd>51</dd>\n",
       "\t<dt>OTU825:192wood</dt>\n",
       "\t\t<dd>1</dd>\n",
       "\t<dt>OTU97:51Leaf</dt>\n",
       "\t\t<dd>1</dd>\n",
       "\t<dt>OTU339:167wood</dt>\n",
       "\t\t<dd>1</dd>\n",
       "\t<dt>OTU361:164wood</dt>\n",
       "\t\t<dd>20</dd>\n",
       "\t<dt>OTU391:164wood</dt>\n",
       "\t\t<dd>1</dd>\n",
       "\t<dt>OTU282:165wood</dt>\n",
       "\t\t<dd>1</dd>\n",
       "\t<dt>OTU67:14Leaf</dt>\n",
       "\t\t<dd>1</dd>\n",
       "\t<dt>OTU356:173wood</dt>\n",
       "\t\t<dd>1</dd>\n",
       "\t<dt>OTU252:35Leaf</dt>\n",
       "\t\t<dd>1</dd>\n",
       "\t<dt>OTU68:55Leaf</dt>\n",
       "\t\t<dd>1</dd>\n",
       "\t<dt>OTU69:100Leaf</dt>\n",
       "\t\t<dd>1</dd>\n",
       "\t<dt>OTU567:132Leaf</dt>\n",
       "\t\t<dd>1</dd>\n",
       "\t<dt>OTU1231:103Leaf</dt>\n",
       "\t\t<dd>36</dd>\n",
       "\t<dt>OTU1473:172wood</dt>\n",
       "\t\t<dd>64</dd>\n",
       "\t<dt>OTU288:167wood</dt>\n",
       "\t\t<dd>185</dd>\n",
       "\t<dt>OTU216:90Leaf</dt>\n",
       "\t\t<dd>1</dd>\n",
       "\t<dt>OTU1322:170wood</dt>\n",
       "\t\t<dd>4</dd>\n",
       "\t<dt>OTU2396:168wood</dt>\n",
       "\t\t<dd>4</dd>\n",
       "\t<dt>OTU789:254wood</dt>\n",
       "\t\t<dd>1</dd>\n",
       "\t<dt>OTU113:194wood</dt>\n",
       "\t\t<dd>13</dd>\n",
       "\t<dt>OTU2872:34Leaf</dt>\n",
       "\t\t<dd>1</dd>\n",
       "\t<dt>OTU1483:255wood</dt>\n",
       "\t\t<dd>50</dd>\n",
       "\t<dt>OTU1108:125Leaf</dt>\n",
       "\t\t<dd>1</dd>\n",
       "\t<dt>OTU848:121Leaf</dt>\n",
       "\t\t<dd>60</dd>\n",
       "\t<dt>OTU1143:172wood</dt>\n",
       "\t\t<dd>48</dd>\n",
       "\t<dt>OTU1806:252wood</dt>\n",
       "\t\t<dd>1</dd>\n",
       "\t<dt>OTU1376:240wood</dt>\n",
       "\t\t<dd>32</dd>\n",
       "\t<dt>OTU5194:51Leaf</dt>\n",
       "\t\t<dd>23</dd>\n",
       "\t<dt>OTU8517:173wood</dt>\n",
       "\t\t<dd>1</dd>\n",
       "\t<dt>OTU770:48Leaf</dt>\n",
       "\t\t<dd>1</dd>\n",
       "\t<dt>OTU518:190wood</dt>\n",
       "\t\t<dd>1</dd>\n",
       "\t<dt>OTU1591:183wood</dt>\n",
       "\t\t<dd>1</dd>\n",
       "\t<dt>OTU1228:199wood</dt>\n",
       "\t\t<dd>44</dd>\n",
       "\t<dt>OTU80:207wood</dt>\n",
       "\t\t<dd>3</dd>\n",
       "\t<dt>OTU808:252wood</dt>\n",
       "\t\t<dd>1</dd>\n",
       "\t<dt>OTU1816:253wood</dt>\n",
       "\t\t<dd>2</dd>\n",
       "</dl>\n"
      ],
      "text/latex": [
       "\\begin{description*}\n",
       "\\item[OTU116:65Leaf] 544\n",
       "\\item[OTU89:65Leaf] 98\n",
       "\\item[OTU1767:163wood] 1\n",
       "\\item[OTU247:112.2Leaf] 40\n",
       "\\item[OTU667:114Leaf] 61\n",
       "\\item[OTU254:161wood] 1\n",
       "\\item[OTU737:164wood] 69\n",
       "\\item[OTU139:161wood] 3\n",
       "\\item[OTU127:12Leaf] 1\n",
       "\\item[OTU181:104Leaf] 56\n",
       "\\item[OTU285:161wood] 109\n",
       "\\item[OTU234:161wood] 2\n",
       "\\item[OTU210:161wood] 1\n",
       "\\item[OTU155:122Leaf] 2\n",
       "\\item[OTU230:70Leaf] 1\n",
       "\\item[OTU304:161wood] 109\n",
       "\\item[OTU246:161wood] 1\n",
       "\\item[OTU491:161wood] 51\n",
       "\\item[OTU825:192wood] 1\n",
       "\\item[OTU97:51Leaf] 1\n",
       "\\item[OTU339:167wood] 1\n",
       "\\item[OTU361:164wood] 20\n",
       "\\item[OTU391:164wood] 1\n",
       "\\item[OTU282:165wood] 1\n",
       "\\item[OTU67:14Leaf] 1\n",
       "\\item[OTU356:173wood] 1\n",
       "\\item[OTU252:35Leaf] 1\n",
       "\\item[OTU68:55Leaf] 1\n",
       "\\item[OTU69:100Leaf] 1\n",
       "\\item[OTU567:132Leaf] 1\n",
       "\\item[OTU1231:103Leaf] 36\n",
       "\\item[OTU1473:172wood] 64\n",
       "\\item[OTU288:167wood] 185\n",
       "\\item[OTU216:90Leaf] 1\n",
       "\\item[OTU1322:170wood] 4\n",
       "\\item[OTU2396:168wood] 4\n",
       "\\item[OTU789:254wood] 1\n",
       "\\item[OTU113:194wood] 13\n",
       "\\item[OTU2872:34Leaf] 1\n",
       "\\item[OTU1483:255wood] 50\n",
       "\\item[OTU1108:125Leaf] 1\n",
       "\\item[OTU848:121Leaf] 60\n",
       "\\item[OTU1143:172wood] 48\n",
       "\\item[OTU1806:252wood] 1\n",
       "\\item[OTU1376:240wood] 32\n",
       "\\item[OTU5194:51Leaf] 23\n",
       "\\item[OTU8517:173wood] 1\n",
       "\\item[OTU770:48Leaf] 1\n",
       "\\item[OTU518:190wood] 1\n",
       "\\item[OTU1591:183wood] 1\n",
       "\\item[OTU1228:199wood] 44\n",
       "\\item[OTU80:207wood] 3\n",
       "\\item[OTU808:252wood] 1\n",
       "\\item[OTU1816:253wood] 2\n",
       "\\end{description*}\n"
      ],
      "text/markdown": [
       "OTU116:65Leaf\n",
       ":   544OTU89:65Leaf\n",
       ":   98OTU1767:163wood\n",
       ":   1OTU247:112.2Leaf\n",
       ":   40OTU667:114Leaf\n",
       ":   61OTU254:161wood\n",
       ":   1OTU737:164wood\n",
       ":   69OTU139:161wood\n",
       ":   3OTU127:12Leaf\n",
       ":   1OTU181:104Leaf\n",
       ":   56OTU285:161wood\n",
       ":   109OTU234:161wood\n",
       ":   2OTU210:161wood\n",
       ":   1OTU155:122Leaf\n",
       ":   2OTU230:70Leaf\n",
       ":   1OTU304:161wood\n",
       ":   109OTU246:161wood\n",
       ":   1OTU491:161wood\n",
       ":   51OTU825:192wood\n",
       ":   1OTU97:51Leaf\n",
       ":   1OTU339:167wood\n",
       ":   1OTU361:164wood\n",
       ":   20OTU391:164wood\n",
       ":   1OTU282:165wood\n",
       ":   1OTU67:14Leaf\n",
       ":   1OTU356:173wood\n",
       ":   1OTU252:35Leaf\n",
       ":   1OTU68:55Leaf\n",
       ":   1OTU69:100Leaf\n",
       ":   1OTU567:132Leaf\n",
       ":   1OTU1231:103Leaf\n",
       ":   36OTU1473:172wood\n",
       ":   64OTU288:167wood\n",
       ":   185OTU216:90Leaf\n",
       ":   1OTU1322:170wood\n",
       ":   4OTU2396:168wood\n",
       ":   4OTU789:254wood\n",
       ":   1OTU113:194wood\n",
       ":   13OTU2872:34Leaf\n",
       ":   1OTU1483:255wood\n",
       ":   50OTU1108:125Leaf\n",
       ":   1OTU848:121Leaf\n",
       ":   60OTU1143:172wood\n",
       ":   48OTU1806:252wood\n",
       ":   1OTU1376:240wood\n",
       ":   32OTU5194:51Leaf\n",
       ":   23OTU8517:173wood\n",
       ":   1OTU770:48Leaf\n",
       ":   1OTU518:190wood\n",
       ":   1OTU1591:183wood\n",
       ":   1OTU1228:199wood\n",
       ":   44OTU80:207wood\n",
       ":   3OTU808:252wood\n",
       ":   1OTU1816:253wood\n",
       ":   2\n",
       "\n"
      ],
      "text/plain": [
       "   OTU116:65Leaf     OTU89:65Leaf  OTU1767:163wood OTU247:112.2Leaf \n",
       "             544               98                1               40 \n",
       "  OTU667:114Leaf   OTU254:161wood   OTU737:164wood   OTU139:161wood \n",
       "              61                1               69                3 \n",
       "   OTU127:12Leaf   OTU181:104Leaf   OTU285:161wood   OTU234:161wood \n",
       "               1               56              109                2 \n",
       "  OTU210:161wood   OTU155:122Leaf    OTU230:70Leaf   OTU304:161wood \n",
       "               1                2                1              109 \n",
       "  OTU246:161wood   OTU491:161wood   OTU825:192wood     OTU97:51Leaf \n",
       "               1               51                1                1 \n",
       "  OTU339:167wood   OTU361:164wood   OTU391:164wood   OTU282:165wood \n",
       "               1               20                1                1 \n",
       "    OTU67:14Leaf   OTU356:173wood    OTU252:35Leaf     OTU68:55Leaf \n",
       "               1                1                1                1 \n",
       "   OTU69:100Leaf   OTU567:132Leaf  OTU1231:103Leaf  OTU1473:172wood \n",
       "               1                1               36               64 \n",
       "  OTU288:167wood    OTU216:90Leaf  OTU1322:170wood  OTU2396:168wood \n",
       "             185                1                4                4 \n",
       "  OTU789:254wood   OTU113:194wood   OTU2872:34Leaf  OTU1483:255wood \n",
       "               1               13                1               50 \n",
       " OTU1108:125Leaf   OTU848:121Leaf  OTU1143:172wood  OTU1806:252wood \n",
       "               1               60               48                1 \n",
       " OTU1376:240wood   OTU5194:51Leaf  OTU8517:173wood    OTU770:48Leaf \n",
       "              32               23                1                1 \n",
       "  OTU518:190wood  OTU1591:183wood  OTU1228:199wood    OTU80:207wood \n",
       "               1                1               44                3 \n",
       "  OTU808:252wood  OTU1816:253wood \n",
       "               1                2 "
      ]
     },
     "metadata": {},
     "output_type": "display_data"
    }
   ],
   "source": [
    "taxa_sums(neg95)[taxa_sums(neg95)>0]"
   ]
  },
  {
   "cell_type": "markdown",
   "metadata": {},
   "source": [
    "There 54 OTUs in this negative control with a 95% similarity radius for OTU clustering. They are presumably a mix of lab contaminants, tag-switching, possibly with some error-amplification due to splitting of real otus by our similarity radius. \n",
    "\n",
    "How do we know which are contaminants/tag-switched/otu-splits, and which are intended members of our mock community? Ultimately, we probably can't make this distinction. However, we can get an idea of rates of tag switching by using our positive controls. To do this we search our original sanger sequences from our pure cultures that were put into the mock community. Any matches these that we find in our negative control we'll assume are tag-switched, since we did not use common lab contaminants (except for possibly one of our *Penicillium* sp.)\n",
    "\n",
    "Start by getting a list of all the names of the OTU's found in our illumina sample of the mock community. "
   ]
  },
  {
   "cell_type": "code",
   "execution_count": 50,
   "metadata": {
    "collapsed": true
   },
   "outputs": [
    {
     "data": {
      "text/html": [
       "<ol class=list-inline>\n",
       "\t<li>'OTU116:65Leaf'</li>\n",
       "\t<li>'OTU288:167wood'</li>\n",
       "\t<li>'OTU285:161wood'</li>\n",
       "\t<li>'OTU304:161wood'</li>\n",
       "\t<li>'OTU89:65Leaf'</li>\n",
       "\t<li>'OTU737:164wood'</li>\n",
       "\t<li>'OTU1473:172wood'</li>\n",
       "\t<li>'OTU667:114Leaf'</li>\n",
       "\t<li>'OTU848:121Leaf'</li>\n",
       "\t<li>'OTU181:104Leaf'</li>\n",
       "\t<li>'OTU491:161wood'</li>\n",
       "\t<li>'OTU1483:255wood'</li>\n",
       "\t<li>'OTU1143:172wood'</li>\n",
       "\t<li>'OTU1228:199wood'</li>\n",
       "\t<li>'OTU247:112.2Leaf'</li>\n",
       "\t<li>'OTU1231:103Leaf'</li>\n",
       "\t<li>'OTU1376:240wood'</li>\n",
       "\t<li>'OTU5194:51Leaf'</li>\n",
       "\t<li>'OTU361:164wood'</li>\n",
       "\t<li>'OTU113:194wood'</li>\n",
       "\t<li>'OTU1322:170wood'</li>\n",
       "\t<li>'OTU2396:168wood'</li>\n",
       "\t<li>'OTU139:161wood'</li>\n",
       "\t<li>'OTU80:207wood'</li>\n",
       "\t<li>'OTU234:161wood'</li>\n",
       "\t<li>'OTU155:122Leaf'</li>\n",
       "\t<li>'OTU1816:253wood'</li>\n",
       "\t<li>'OTU1767:163wood'</li>\n",
       "\t<li>'OTU254:161wood'</li>\n",
       "\t<li>'OTU127:12Leaf'</li>\n",
       "\t<li>'OTU210:161wood'</li>\n",
       "\t<li>'OTU230:70Leaf'</li>\n",
       "\t<li>'OTU246:161wood'</li>\n",
       "\t<li>'OTU825:192wood'</li>\n",
       "\t<li>'OTU97:51Leaf'</li>\n",
       "\t<li>'OTU339:167wood'</li>\n",
       "\t<li>'OTU391:164wood'</li>\n",
       "\t<li>'OTU282:165wood'</li>\n",
       "\t<li>'OTU67:14Leaf'</li>\n",
       "\t<li>'OTU356:173wood'</li>\n",
       "\t<li>'OTU252:35Leaf'</li>\n",
       "\t<li>'OTU68:55Leaf'</li>\n",
       "\t<li>'OTU69:100Leaf'</li>\n",
       "\t<li>'OTU567:132Leaf'</li>\n",
       "\t<li>'OTU216:90Leaf'</li>\n",
       "\t<li>'OTU789:254wood'</li>\n",
       "\t<li>'OTU2872:34Leaf'</li>\n",
       "\t<li>'OTU1108:125Leaf'</li>\n",
       "\t<li>'OTU1806:252wood'</li>\n",
       "\t<li>'OTU8517:173wood'</li>\n",
       "\t<li>'OTU770:48Leaf'</li>\n",
       "\t<li>'OTU518:190wood'</li>\n",
       "\t<li>'OTU1591:183wood'</li>\n",
       "\t<li>'OTU808:252wood'</li>\n",
       "</ol>\n"
      ],
      "text/latex": [
       "\\begin{enumerate*}\n",
       "\\item 'OTU116:65Leaf'\n",
       "\\item 'OTU288:167wood'\n",
       "\\item 'OTU285:161wood'\n",
       "\\item 'OTU304:161wood'\n",
       "\\item 'OTU89:65Leaf'\n",
       "\\item 'OTU737:164wood'\n",
       "\\item 'OTU1473:172wood'\n",
       "\\item 'OTU667:114Leaf'\n",
       "\\item 'OTU848:121Leaf'\n",
       "\\item 'OTU181:104Leaf'\n",
       "\\item 'OTU491:161wood'\n",
       "\\item 'OTU1483:255wood'\n",
       "\\item 'OTU1143:172wood'\n",
       "\\item 'OTU1228:199wood'\n",
       "\\item 'OTU247:112.2Leaf'\n",
       "\\item 'OTU1231:103Leaf'\n",
       "\\item 'OTU1376:240wood'\n",
       "\\item 'OTU5194:51Leaf'\n",
       "\\item 'OTU361:164wood'\n",
       "\\item 'OTU113:194wood'\n",
       "\\item 'OTU1322:170wood'\n",
       "\\item 'OTU2396:168wood'\n",
       "\\item 'OTU139:161wood'\n",
       "\\item 'OTU80:207wood'\n",
       "\\item 'OTU234:161wood'\n",
       "\\item 'OTU155:122Leaf'\n",
       "\\item 'OTU1816:253wood'\n",
       "\\item 'OTU1767:163wood'\n",
       "\\item 'OTU254:161wood'\n",
       "\\item 'OTU127:12Leaf'\n",
       "\\item 'OTU210:161wood'\n",
       "\\item 'OTU230:70Leaf'\n",
       "\\item 'OTU246:161wood'\n",
       "\\item 'OTU825:192wood'\n",
       "\\item 'OTU97:51Leaf'\n",
       "\\item 'OTU339:167wood'\n",
       "\\item 'OTU391:164wood'\n",
       "\\item 'OTU282:165wood'\n",
       "\\item 'OTU67:14Leaf'\n",
       "\\item 'OTU356:173wood'\n",
       "\\item 'OTU252:35Leaf'\n",
       "\\item 'OTU68:55Leaf'\n",
       "\\item 'OTU69:100Leaf'\n",
       "\\item 'OTU567:132Leaf'\n",
       "\\item 'OTU216:90Leaf'\n",
       "\\item 'OTU789:254wood'\n",
       "\\item 'OTU2872:34Leaf'\n",
       "\\item 'OTU1108:125Leaf'\n",
       "\\item 'OTU1806:252wood'\n",
       "\\item 'OTU8517:173wood'\n",
       "\\item 'OTU770:48Leaf'\n",
       "\\item 'OTU518:190wood'\n",
       "\\item 'OTU1591:183wood'\n",
       "\\item 'OTU808:252wood'\n",
       "\\end{enumerate*}\n"
      ],
      "text/markdown": [
       "1. 'OTU116:65Leaf'\n",
       "2. 'OTU288:167wood'\n",
       "3. 'OTU285:161wood'\n",
       "4. 'OTU304:161wood'\n",
       "5. 'OTU89:65Leaf'\n",
       "6. 'OTU737:164wood'\n",
       "7. 'OTU1473:172wood'\n",
       "8. 'OTU667:114Leaf'\n",
       "9. 'OTU848:121Leaf'\n",
       "10. 'OTU181:104Leaf'\n",
       "11. 'OTU491:161wood'\n",
       "12. 'OTU1483:255wood'\n",
       "13. 'OTU1143:172wood'\n",
       "14. 'OTU1228:199wood'\n",
       "15. 'OTU247:112.2Leaf'\n",
       "16. 'OTU1231:103Leaf'\n",
       "17. 'OTU1376:240wood'\n",
       "18. 'OTU5194:51Leaf'\n",
       "19. 'OTU361:164wood'\n",
       "20. 'OTU113:194wood'\n",
       "21. 'OTU1322:170wood'\n",
       "22. 'OTU2396:168wood'\n",
       "23. 'OTU139:161wood'\n",
       "24. 'OTU80:207wood'\n",
       "25. 'OTU234:161wood'\n",
       "26. 'OTU155:122Leaf'\n",
       "27. 'OTU1816:253wood'\n",
       "28. 'OTU1767:163wood'\n",
       "29. 'OTU254:161wood'\n",
       "30. 'OTU127:12Leaf'\n",
       "31. 'OTU210:161wood'\n",
       "32. 'OTU230:70Leaf'\n",
       "33. 'OTU246:161wood'\n",
       "34. 'OTU825:192wood'\n",
       "35. 'OTU97:51Leaf'\n",
       "36. 'OTU339:167wood'\n",
       "37. 'OTU391:164wood'\n",
       "38. 'OTU282:165wood'\n",
       "39. 'OTU67:14Leaf'\n",
       "40. 'OTU356:173wood'\n",
       "41. 'OTU252:35Leaf'\n",
       "42. 'OTU68:55Leaf'\n",
       "43. 'OTU69:100Leaf'\n",
       "44. 'OTU567:132Leaf'\n",
       "45. 'OTU216:90Leaf'\n",
       "46. 'OTU789:254wood'\n",
       "47. 'OTU2872:34Leaf'\n",
       "48. 'OTU1108:125Leaf'\n",
       "49. 'OTU1806:252wood'\n",
       "50. 'OTU8517:173wood'\n",
       "51. 'OTU770:48Leaf'\n",
       "52. 'OTU518:190wood'\n",
       "53. 'OTU1591:183wood'\n",
       "54. 'OTU808:252wood'\n",
       "\n",
       "\n"
      ],
      "text/plain": [
       " [1] \"OTU116:65Leaf\"    \"OTU288:167wood\"   \"OTU285:161wood\"   \"OTU304:161wood\"  \n",
       " [5] \"OTU89:65Leaf\"     \"OTU737:164wood\"   \"OTU1473:172wood\"  \"OTU667:114Leaf\"  \n",
       " [9] \"OTU848:121Leaf\"   \"OTU181:104Leaf\"   \"OTU491:161wood\"   \"OTU1483:255wood\" \n",
       "[13] \"OTU1143:172wood\"  \"OTU1228:199wood\"  \"OTU247:112.2Leaf\" \"OTU1231:103Leaf\" \n",
       "[17] \"OTU1376:240wood\"  \"OTU5194:51Leaf\"   \"OTU361:164wood\"   \"OTU113:194wood\"  \n",
       "[21] \"OTU1322:170wood\"  \"OTU2396:168wood\"  \"OTU139:161wood\"   \"OTU80:207wood\"   \n",
       "[25] \"OTU234:161wood\"   \"OTU155:122Leaf\"   \"OTU1816:253wood\"  \"OTU1767:163wood\" \n",
       "[29] \"OTU254:161wood\"   \"OTU127:12Leaf\"    \"OTU210:161wood\"   \"OTU230:70Leaf\"   \n",
       "[33] \"OTU246:161wood\"   \"OTU825:192wood\"   \"OTU97:51Leaf\"     \"OTU339:167wood\"  \n",
       "[37] \"OTU391:164wood\"   \"OTU282:165wood\"   \"OTU67:14Leaf\"     \"OTU356:173wood\"  \n",
       "[41] \"OTU252:35Leaf\"    \"OTU68:55Leaf\"     \"OTU69:100Leaf\"    \"OTU567:132Leaf\"  \n",
       "[45] \"OTU216:90Leaf\"    \"OTU789:254wood\"   \"OTU2872:34Leaf\"   \"OTU1108:125Leaf\" \n",
       "[49] \"OTU1806:252wood\"  \"OTU8517:173wood\"  \"OTU770:48Leaf\"    \"OTU518:190wood\"  \n",
       "[53] \"OTU1591:183wood\"  \"OTU808:252wood\"  "
      ]
     },
     "metadata": {},
     "output_type": "display_data"
    }
   ],
   "source": [
    "reads <- taxa_sums(neg95)[taxa_sums(neg95) > 0]\n",
    "reads <- sort(reads, decreasing = TRUE)\n",
    "sink('neg95names.txt') ## read out these OTUs so we can use them in python env\n",
    "names(reads)\n",
    "sink()"
   ]
  },
  {
   "cell_type": "markdown",
   "metadata": {},
   "source": [
    "Exit R, and clean this up with SED, in BASH kernel. Then into python3 to search for our OTU names in the file that contains our OTU sequences, so we can write these out to a .fasta file."
   ]
  },
  {
   "cell_type": "code",
   "execution_count": 52,
   "metadata": {
    "collapsed": false
   },
   "outputs": [],
   "source": [
    "## bash kernel\n",
    "## clean up a little with SED \n",
    "sed 's/\\[.*\\]//g' neg95names.txt |sed 's/^\\s*//g' | sed 's/\\s\\+/,/g' | sed '$s/,$/\\)/' | sed '1s/\\\"OTU/\\(\\\"OTU/' > neg95list.txt"
   ]
  },
  {
   "cell_type": "markdown",
   "metadata": {},
   "source": [
    "I used vim to read in the neg95names.txt file into the following python script:"
   ]
  },
  {
   "cell_type": "code",
   "execution_count": null,
   "metadata": {
    "collapsed": true
   },
   "outputs": [],
   "source": [
    "## python3\n",
    "mcseq=(\"OTU116:65Leaf\",\"OTU288:167wood\",\"OTU285:161wood\",\"OTU304:161wood\",\n",
    "\"OTU89:65Leaf\",\"OTU737:164wood\",\"OTU1473:172wood\",\"OTU667:114Leaf\",\n",
    "\"OTU848:121Leaf\",\"OTU181:104Leaf\",\"OTU491:161wood\",\"OTU1483:255wood\",\n",
    "\"OTU1143:172wood\",\"OTU1228:199wood\",\"OTU247:112.2Leaf\",\"OTU1231:103Leaf\",\n",
    "\"OTU1376:240wood\",\"OTU5194:51Leaf\",\"OTU361:164wood\",\"OTU113:194wood\",\n",
    "\"OTU1322:170wood\",\"OTU2396:168wood\",\"OTU139:161wood\",\"OTU80:207wood\",\n",
    "\"OTU234:161wood\",\"OTU155:122Leaf\",\"OTU1816:253wood\",\"OTU1767:163wood\",\n",
    "\"OTU254:161wood\",\"OTU127:12Leaf\",\"OTU210:161wood\",\"OTU230:70Leaf\",\n",
    "\"OTU246:161wood\",\"OTU825:192wood\",\"OTU97:51Leaf\",\"OTU339:167wood\",\n",
    "\"OTU391:164wood\",\"OTU282:165wood\",\"OTU67:14Leaf\",\"OTU356:173wood\",\n",
    "\"OTU252:35Leaf\",\"OTU68:55Leaf\",\"OTU69:100Leaf\",\"OTU567:132Leaf\",\n",
    "\"OTU216:90Leaf\",\"OTU789:254wood\",\"OTU2872:34Leaf\",\"OTU1108:125Leaf\",\n",
    "\"OTU1806:252wood\",\"OTU8517:173wood\",\"OTU770:48Leaf\",\"OTU518:190wood\",\n",
    "\"OTU1591:183wood\",\"OTU808:252wood\")\n",
    "\n",
    "with open('otus_95_combo_asstax.fasta', 'r') as zoop:\n",
    "        refseq = zoop.readlines()\n",
    "\n",
    "with open('mcseq.txt', 'w') as goop:\n",
    "        for j,otu in enumerate(mcseq):\n",
    "                for i,line in enumerate(refseq):\n",
    "                        if mcseq[j] in line:\n",
    "                                goop.write(line)\n",
    "                                for l in refseq[i+1:i+5]:\n",
    "                                        if \">\" in l:\n",
    "                                                goop.write('\\n')\n",
    "                                                break\n",
    "                                        goop.write(l)\n"
   ]
  },
  {
   "cell_type": "markdown",
   "metadata": {},
   "source": [
    "These will be used as our query sequences. Now we need a database to query against. This will be the fasta file that we received when we sanger-sequenced each of the pure cultures that ultimately went into our mock community. We'll use the  [blastn algorithm/software](https://www.ncbi.nlm.nih.gov/books/NBK279690/) to do our search, which means we need to make a database in the format that blastn likes, then conduct our search. "
   ]
  },
  {
   "cell_type": "markdown",
   "metadata": {},
   "source": [
    "<a id='blastn'></a>"
   ]
  },
  {
   "cell_type": "code",
   "execution_count": 5,
   "metadata": {
    "collapsed": false
   },
   "outputs": [
    {
     "name": "stdout",
     "output_type": "stream",
     "text": []
    }
   ],
   "source": [
    "## my sanger sequences are in an obscure location. Make a friendly symbolic link:\n",
    "ln -s /home/daniel/Documents/Taiwan_data/wood/mock_community/BioI-6098_OConnor_34875/BioI-6098_OConnor_34875.seq.txt mcsanger.fasta\n",
    "## make our database for blast:\n",
    "makeblastdb -in mcsanger.fasta -dbtype nucl -logfile dberrors.txt"
   ]
  },
  {
   "cell_type": "markdown",
   "metadata": {},
   "source": [
    "Do the blast searches, with two formats for outputs. The first blast output is very human readable, good for checking several matches and other info. The second blast search above gives us a just a summary csv that we can use in R as a dataframe. But we'll add a header, and clean it up a little to make it more useful. The [default columns](https://www.ncbi.nlm.nih.gov/books/NBK279675/) have been outputted from blastn, we'll add the official abbreviations for these:"
   ]
  },
  {
   "cell_type": "code",
   "execution_count": null,
   "metadata": {
    "collapsed": true
   },
   "outputs": [],
   "source": [
    "## Shell kernel\n",
    "## reformat, blast\n",
    "sed '/^>/ s/;size=.*//' mcseq.txt | sed '/^>/ s/;size=.*//' mcseq.txt > mockseqs_Neg95.fasta\n",
    "blastn -query mockseqs_Neg95.fasta -db mcsanger.fasta -out mcblast_Neg95.txt -num_descriptions 3 -num_alignments 3\n",
    "blastn -query mockseqs_Neg95.fasta -db mcsanger.fasta -out mcblast_Neg95.csv -outfmt 10 -max_target_seqs 1\n",
    "sed '1 i\\qseqid,sseqid,pident,length,mismatch,gapopen,qstart,qend,sstart,send,evalue,bitscore' mcblast_Neg95.csv -i\n",
    "sed 's/_ITS[1,4],/,/g' mcblast_Neg95.csv -i\n",
    "sed 's/Sample//g' mcblast_Neg95.csv -i\n"
   ]
  },
  {
   "cell_type": "markdown",
   "metadata": {},
   "source": [
    "Back to R. We read in the csv we just got from our blast search, and institute some quality cutoffs."
   ]
  },
  {
   "cell_type": "code",
   "execution_count": 56,
   "metadata": {
    "collapsed": false,
    "scrolled": false
   },
   "outputs": [
    {
     "data": {
      "text/html": [
       "<table>\n",
       "<thead><tr><th scope=col>qseqid</th><th scope=col>sseqid</th><th scope=col>pident</th><th scope=col>length</th><th scope=col>mismatch</th><th scope=col>gapopen</th><th scope=col>qstart</th><th scope=col>qend</th><th scope=col>sstart</th><th scope=col>send</th><th scope=col>evalue</th><th scope=col>bitscore</th></tr></thead>\n",
       "<tbody>\n",
       "\t<tr><td>OTU285:161wood  </td><td> 9              </td><td>100.00          </td><td>176             </td><td>0               </td><td>0               </td><td> 1              </td><td>176             </td><td>504             </td><td>329             </td><td> 3e-92          </td><td>326.0           </td></tr>\n",
       "\t<tr><td>OTU304:161wood  </td><td>19              </td><td>100.00          </td><td>175             </td><td>0               </td><td>0               </td><td> 1              </td><td>175             </td><td>513             </td><td>339             </td><td> 1e-91          </td><td>324.0           </td></tr>\n",
       "\t<tr><td>OTU181:104Leaf  </td><td> 8              </td><td>100.00          </td><td>143             </td><td>0               </td><td>0               </td><td> 1              </td><td>143             </td><td>451             </td><td>309             </td><td> 5e-74          </td><td>265.0           </td></tr>\n",
       "\t<tr><td>OTU491:161wood  </td><td> 4              </td><td>100.00          </td><td>180             </td><td>0               </td><td>0               </td><td> 1              </td><td>180             </td><td>485             </td><td>306             </td><td> 2e-94          </td><td>333.0           </td></tr>\n",
       "\t<tr><td>OTU247:112.2Leaf</td><td> 6              </td><td>100.00          </td><td>184             </td><td>0               </td><td>0               </td><td> 1              </td><td>184             </td><td>535             </td><td>352             </td><td> 1e-96          </td><td>340.0           </td></tr>\n",
       "\t<tr><td>OTU113:194wood  </td><td> 9              </td><td>100.00          </td><td> 31             </td><td>0               </td><td>0               </td><td>27              </td><td> 57             </td><td>530             </td><td>500             </td><td> 1e-11          </td><td> 58.4           </td></tr>\n",
       "\t<tr><td>OTU1322:170wood </td><td> 1              </td><td> 90.22          </td><td> 92             </td><td>8               </td><td>1               </td><td>37              </td><td>128             </td><td>459             </td><td>369             </td><td> 6e-30          </td><td>119.0           </td></tr>\n",
       "\t<tr><td>OTU139:161wood  </td><td> 1              </td><td> 99.31          </td><td>144             </td><td>1               </td><td>0               </td><td> 1              </td><td>144             </td><td>434             </td><td>291             </td><td> 7e-73          </td><td>261.0           </td></tr>\n",
       "\t<tr><td>OTU234:161wood  </td><td>20              </td><td>100.00          </td><td>217             </td><td>0               </td><td>0               </td><td> 1              </td><td>217             </td><td>605             </td><td>389             </td><td>6e-115          </td><td>401.0           </td></tr>\n",
       "\t<tr><td>OTU155:122Leaf  </td><td>14              </td><td>100.00          </td><td>197             </td><td>0               </td><td>0               </td><td> 1              </td><td>197             </td><td>566             </td><td>370             </td><td>7e-104          </td><td>364.0           </td></tr>\n",
       "\t<tr><td>OTU254:161wood  </td><td>16              </td><td>100.00          </td><td>180             </td><td>0               </td><td>0               </td><td> 1              </td><td>180             </td><td>502             </td><td>323             </td><td> 2e-94          </td><td>333.0           </td></tr>\n",
       "\t<tr><td>OTU127:12Leaf   </td><td>10              </td><td>100.00          </td><td>174             </td><td>0               </td><td>0               </td><td> 1              </td><td>174             </td><td>482             </td><td>309             </td><td> 4e-91          </td><td>322.0           </td></tr>\n",
       "\t<tr><td>OTU210:161wood  </td><td>22              </td><td>100.00          </td><td>168             </td><td>0               </td><td>0               </td><td> 1              </td><td>168             </td><td>512             </td><td>345             </td><td> 8e-88          </td><td>311.0           </td></tr>\n",
       "\t<tr><td>OTU230:70Leaf   </td><td>12              </td><td>100.00          </td><td>178             </td><td>0               </td><td>0               </td><td> 1              </td><td>178             </td><td>501             </td><td>324             </td><td> 2e-93          </td><td>329.0           </td></tr>\n",
       "\t<tr><td>OTU246:161wood  </td><td>13              </td><td>100.00          </td><td>180             </td><td>0               </td><td>0               </td><td> 1              </td><td>180             </td><td>492             </td><td>313             </td><td> 2e-94          </td><td>333.0           </td></tr>\n",
       "</tbody>\n",
       "</table>\n"
      ],
      "text/latex": [
       "\\begin{tabular}{r|llllllllllll}\n",
       " qseqid & sseqid & pident & length & mismatch & gapopen & qstart & qend & sstart & send & evalue & bitscore\\\\\n",
       "\\hline\n",
       "\t OTU285:161wood   &  9               & 100.00           & 176              & 0                & 0                &  1               & 176              & 504              & 329              &  3e-92           & 326.0           \\\\\n",
       "\t OTU304:161wood   & 19               & 100.00           & 175              & 0                & 0                &  1               & 175              & 513              & 339              &  1e-91           & 324.0           \\\\\n",
       "\t OTU181:104Leaf   &  8               & 100.00           & 143              & 0                & 0                &  1               & 143              & 451              & 309              &  5e-74           & 265.0           \\\\\n",
       "\t OTU491:161wood   &  4               & 100.00           & 180              & 0                & 0                &  1               & 180              & 485              & 306              &  2e-94           & 333.0           \\\\\n",
       "\t OTU247:112.2Leaf &  6               & 100.00           & 184              & 0                & 0                &  1               & 184              & 535              & 352              &  1e-96           & 340.0           \\\\\n",
       "\t OTU113:194wood   &  9               & 100.00           &  31              & 0                & 0                & 27               &  57              & 530              & 500              &  1e-11           &  58.4           \\\\\n",
       "\t OTU1322:170wood  &  1               &  90.22           &  92              & 8                & 1                & 37               & 128              & 459              & 369              &  6e-30           & 119.0           \\\\\n",
       "\t OTU139:161wood   &  1               &  99.31           & 144              & 1                & 0                &  1               & 144              & 434              & 291              &  7e-73           & 261.0           \\\\\n",
       "\t OTU234:161wood   & 20               & 100.00           & 217              & 0                & 0                &  1               & 217              & 605              & 389              & 6e-115           & 401.0           \\\\\n",
       "\t OTU155:122Leaf   & 14               & 100.00           & 197              & 0                & 0                &  1               & 197              & 566              & 370              & 7e-104           & 364.0           \\\\\n",
       "\t OTU254:161wood   & 16               & 100.00           & 180              & 0                & 0                &  1               & 180              & 502              & 323              &  2e-94           & 333.0           \\\\\n",
       "\t OTU127:12Leaf    & 10               & 100.00           & 174              & 0                & 0                &  1               & 174              & 482              & 309              &  4e-91           & 322.0           \\\\\n",
       "\t OTU210:161wood   & 22               & 100.00           & 168              & 0                & 0                &  1               & 168              & 512              & 345              &  8e-88           & 311.0           \\\\\n",
       "\t OTU230:70Leaf    & 12               & 100.00           & 178              & 0                & 0                &  1               & 178              & 501              & 324              &  2e-93           & 329.0           \\\\\n",
       "\t OTU246:161wood   & 13               & 100.00           & 180              & 0                & 0                &  1               & 180              & 492              & 313              &  2e-94           & 333.0           \\\\\n",
       "\\end{tabular}\n"
      ],
      "text/plain": [
       "   qseqid           sseqid pident length mismatch gapopen qstart qend sstart\n",
       "1  OTU285:161wood    9     100.00 176    0        0        1     176  504   \n",
       "2  OTU304:161wood   19     100.00 175    0        0        1     175  513   \n",
       "3  OTU181:104Leaf    8     100.00 143    0        0        1     143  451   \n",
       "4  OTU491:161wood    4     100.00 180    0        0        1     180  485   \n",
       "5  OTU247:112.2Leaf  6     100.00 184    0        0        1     184  535   \n",
       "6  OTU113:194wood    9     100.00  31    0        0       27      57  530   \n",
       "7  OTU1322:170wood   1      90.22  92    8        1       37     128  459   \n",
       "8  OTU139:161wood    1      99.31 144    1        0        1     144  434   \n",
       "9  OTU234:161wood   20     100.00 217    0        0        1     217  605   \n",
       "10 OTU155:122Leaf   14     100.00 197    0        0        1     197  566   \n",
       "11 OTU254:161wood   16     100.00 180    0        0        1     180  502   \n",
       "12 OTU127:12Leaf    10     100.00 174    0        0        1     174  482   \n",
       "13 OTU210:161wood   22     100.00 168    0        0        1     168  512   \n",
       "14 OTU230:70Leaf    12     100.00 178    0        0        1     178  501   \n",
       "15 OTU246:161wood   13     100.00 180    0        0        1     180  492   \n",
       "   send evalue bitscore\n",
       "1  329   3e-92 326.0   \n",
       "2  339   1e-91 324.0   \n",
       "3  309   5e-74 265.0   \n",
       "4  306   2e-94 333.0   \n",
       "5  352   1e-96 340.0   \n",
       "6  500   1e-11  58.4   \n",
       "7  369   6e-30 119.0   \n",
       "8  291   7e-73 261.0   \n",
       "9  389  6e-115 401.0   \n",
       "10 370  7e-104 364.0   \n",
       "11 323   2e-94 333.0   \n",
       "12 309   4e-91 322.0   \n",
       "13 345   8e-88 311.0   \n",
       "14 324   2e-93 329.0   \n",
       "15 313   2e-94 333.0   "
      ]
     },
     "metadata": {},
     "output_type": "display_data"
    }
   ],
   "source": [
    "library('phyloseq')\n",
    "blast <- read.csv(\"mcblast_Neg95.csv\", stringsAsFactors=FALSE)\n",
    "blast"
   ]
  },
  {
   "cell_type": "markdown",
   "metadata": {},
   "source": [
    "Notice the short read match, and the low confidence match (\"OTU1322:170wood\" - % match = 90.22). We have standards. Let's get rid of these:"
   ]
  },
  {
   "cell_type": "code",
   "execution_count": 57,
   "metadata": {
    "collapsed": true
   },
   "outputs": [],
   "source": [
    "## cutoffs\n",
    "goodblast <- blast[blast$pident > 94 & blast$length > 90,]"
   ]
  },
  {
   "cell_type": "markdown",
   "metadata": {},
   "source": [
    "Make some useful vectors for a dataframe that we'll use for visualizing this negative control sample:"
   ]
  },
  {
   "cell_type": "code",
   "execution_count": 62,
   "metadata": {
    "collapsed": false
   },
   "outputs": [],
   "source": [
    "Neg95.gen <- tax_table(neg95)[names(reads),6] ## genus, from initial tax assignments\n",
    "Neg95.gen[is.na(Neg95.gen)] <- \"NoID\"\n",
    "Neg95.species <- tax_table(neg95)[names(reads),7] ## species, from initial tax assignments\n",
    "Neg95.species[is.na(Neg95.species)] <- \"NoID\"\n",
    "member <- names(reads) %in% goodblast$qseqid ## membership in mock community (probably tag-switchers)\n",
    "MC <- vector(length = length(reads)); MC[] <- 0 ## empty vector, for MC sample #, filled below\n",
    "Neg95bar <- data.frame(reads, member, MC, Neg95.gen, Neg95.species, stringsAsFactors=FALSE) ## dataframe\n",
    "##fill the mock community sample number by querying our csv from blast results\n",
    "colnames(Neg95bar)[1] <- \"reads\"\n",
    "for (i in 1:nrow(Neg95bar)){\n",
    "        if (rownames(Neg95bar)[i] %in% goodblast$qseqid) {\n",
    "                search <- grep(rownames(Neg95bar)[i], goodblast$qseqid)\n",
    "                Neg95bar$MC[i] <- goodblast$sseqid[search]\n",
    "        }\n",
    "    }"
   ]
  },
  {
   "cell_type": "code",
   "execution_count": 64,
   "metadata": {
    "collapsed": false,
    "scrolled": true
   },
   "outputs": [
    {
     "data": {
      "text/html": [
       "<table>\n",
       "<thead><tr><th></th><th scope=col>reads</th><th scope=col>member</th><th scope=col>MC</th><th scope=col>Genus</th><th scope=col>Species</th></tr></thead>\n",
       "<tbody>\n",
       "\t<tr><th scope=row>OTU116:65Leaf</th><td>544                                     </td><td>FALSE                                   </td><td> 0                                      </td><td>Mycosphaerella                          </td><td>Mycosphaerella_tassiana_SH216250.07FU   </td></tr>\n",
       "\t<tr><th scope=row>OTU288:167wood</th><td>185                                     </td><td>FALSE                                   </td><td> 0                                      </td><td>NoID                                    </td><td>NoID                                    </td></tr>\n",
       "\t<tr><th scope=row>OTU285:161wood</th><td>109                                     </td><td> TRUE                                   </td><td> 9                                      </td><td>Endoconidioma                           </td><td>Endoconidioma_populi_SH206393.07FU      </td></tr>\n",
       "\t<tr><th scope=row>OTU304:161wood</th><td>109                                     </td><td> TRUE                                   </td><td>19                                      </td><td>Nemania                                 </td><td>Nemania_aenea_SH217392.07FU             </td></tr>\n",
       "\t<tr><th scope=row>OTU89:65Leaf</th><td> 98                                     </td><td>FALSE                                   </td><td> 0                                      </td><td>NoID                                    </td><td>NoID                                    </td></tr>\n",
       "\t<tr><th scope=row>OTU737:164wood</th><td> 69                                     </td><td>FALSE                                   </td><td> 0                                      </td><td>NoID                                    </td><td>NoID                                    </td></tr>\n",
       "\t<tr><th scope=row>OTU1473:172wood</th><td> 64                                     </td><td>FALSE                                   </td><td> 0                                      </td><td>NoID                                    </td><td>NoID                                    </td></tr>\n",
       "\t<tr><th scope=row>OTU667:114Leaf</th><td> 61                                     </td><td>FALSE                                   </td><td> 0                                      </td><td>Cryptococcus                            </td><td>Cryptococcus_victoriae_SH181628.07FU    </td></tr>\n",
       "\t<tr><th scope=row>OTU848:121Leaf</th><td> 60                                     </td><td>FALSE                                   </td><td> 0                                      </td><td>Fuscoporia                              </td><td>Fuscoporia_ferrea_SH184170.07FU         </td></tr>\n",
       "\t<tr><th scope=row>OTU181:104Leaf</th><td> 56                                     </td><td> TRUE                                   </td><td> 8                                      </td><td>Mycosphaerella                          </td><td>Mycosphaerella_rubella_SH206848.07FU    </td></tr>\n",
       "\t<tr><th scope=row>OTU491:161wood</th><td> 51                                     </td><td> TRUE                                   </td><td> 4                                      </td><td>Diaporthe                               </td><td>Diaporthe_cynaroidis_SH090428.07FU      </td></tr>\n",
       "\t<tr><th scope=row>OTU1483:255wood</th><td> 50                                     </td><td>FALSE                                   </td><td> 0                                      </td><td>Cladophialophora                        </td><td>NoID                                    </td></tr>\n",
       "\t<tr><th scope=row>OTU1143:172wood</th><td> 48                                     </td><td>FALSE                                   </td><td> 0                                      </td><td>NoID                                    </td><td>NoID                                    </td></tr>\n",
       "\t<tr><th scope=row>OTU1228:199wood</th><td> 44                                     </td><td>FALSE                                   </td><td> 0                                      </td><td>NoID                                    </td><td>NoID                                    </td></tr>\n",
       "\t<tr><th scope=row>OTU247:112.2Leaf</th><td> 40                                     </td><td> TRUE                                   </td><td> 6                                      </td><td>Trametes                                </td><td>Trametes_versicolor_SH012622.07FU       </td></tr>\n",
       "\t<tr><th scope=row>OTU1231:103Leaf</th><td> 36                                     </td><td>FALSE                                   </td><td> 0                                      </td><td>Inocybe                                 </td><td>Inocybe_rimosa_SH221721.07FU            </td></tr>\n",
       "\t<tr><th scope=row>OTU1376:240wood</th><td> 32                                     </td><td>FALSE                                   </td><td> 0                                      </td><td>Ramalina                                </td><td>Ramalina_pluviariae_SH180553.07FU       </td></tr>\n",
       "\t<tr><th scope=row>OTU5194:51Leaf</th><td> 23                                     </td><td>FALSE                                   </td><td> 0                                      </td><td>Aspergillus                             </td><td>Aspergillus_penicillioides_SH015763.07FU</td></tr>\n",
       "\t<tr><th scope=row>OTU361:164wood</th><td> 20                                     </td><td>FALSE                                   </td><td> 0                                      </td><td>NoID                                    </td><td>NoID                                    </td></tr>\n",
       "\t<tr><th scope=row>OTU113:194wood</th><td> 13                                     </td><td>FALSE                                   </td><td> 0                                      </td><td>NoID                                    </td><td>NoID                                    </td></tr>\n",
       "\t<tr><th scope=row>OTU1322:170wood</th><td>  4                                     </td><td>FALSE                                   </td><td> 0                                      </td><td>NoID                                    </td><td>NoID                                    </td></tr>\n",
       "\t<tr><th scope=row>OTU2396:168wood</th><td>  4                                     </td><td>FALSE                                   </td><td> 0                                      </td><td>NoID                                    </td><td>NoID                                    </td></tr>\n",
       "\t<tr><th scope=row>OTU139:161wood</th><td>  3                                     </td><td> TRUE                                   </td><td> 1                                      </td><td>Phaeocryptopus                          </td><td>Phaeocryptopus_gaeumannii_SH206781.07FU </td></tr>\n",
       "\t<tr><th scope=row>OTU80:207wood</th><td>  3                                     </td><td>FALSE                                   </td><td> 0                                      </td><td>Ocellularia                             </td><td>Ocellularia_perforata_SH469649.07FU     </td></tr>\n",
       "\t<tr><th scope=row>OTU234:161wood</th><td>  2                                     </td><td> TRUE                                   </td><td>20                                      </td><td>Psilocybe                               </td><td>Psilocybe_cyanescens_SH262625.07FU      </td></tr>\n",
       "\t<tr><th scope=row>OTU155:122Leaf</th><td>  2                                     </td><td> TRUE                                   </td><td>14                                      </td><td>Ophiostoma                              </td><td>Ophiostoma_denticiliatum_SH303743.07FU  </td></tr>\n",
       "\t<tr><th scope=row>OTU1816:253wood</th><td>  2                                     </td><td>FALSE                                   </td><td> 0                                      </td><td>Mortierella                             </td><td>Mortierella_rishikesha_SH180109.07FU    </td></tr>\n",
       "\t<tr><th scope=row>OTU1767:163wood</th><td>  1                                     </td><td>FALSE                                   </td><td> 0                                      </td><td>Sarocladium                             </td><td>Sarocladium_zeae_SH024476.07FU          </td></tr>\n",
       "\t<tr><th scope=row>OTU254:161wood</th><td>  1                                     </td><td> TRUE                                   </td><td>16                                      </td><td>Xylaria                                 </td><td>Xylaria_nigripes_SH220898.07FU          </td></tr>\n",
       "\t<tr><th scope=row>OTU127:12Leaf</th><td>  1                                     </td><td> TRUE                                   </td><td>10                                      </td><td>NoID                                    </td><td>NoID                                    </td></tr>\n",
       "\t<tr><th scope=row>OTU210:161wood</th><td>  1                                     </td><td> TRUE                                   </td><td>22                                      </td><td>Epichloe                                </td><td>Epichloe_typhina_SH195968.07FU          </td></tr>\n",
       "\t<tr><th scope=row>OTU230:70Leaf</th><td>  1                                     </td><td> TRUE                                   </td><td>12                                      </td><td>Penicillium                             </td><td>Penicillium_nodositatum_SH200570.07FU   </td></tr>\n",
       "\t<tr><th scope=row>OTU246:161wood</th><td>  1                                     </td><td> TRUE                                   </td><td>13                                      </td><td>NoID                                    </td><td>NoID                                    </td></tr>\n",
       "\t<tr><th scope=row>OTU825:192wood</th><td>  1                                     </td><td>FALSE                                   </td><td> 0                                      </td><td>NoID                                    </td><td>NoID                                    </td></tr>\n",
       "\t<tr><th scope=row>OTU97:51Leaf</th><td>  1                                     </td><td>FALSE                                   </td><td> 0                                      </td><td>NoID                                    </td><td>NoID                                    </td></tr>\n",
       "\t<tr><th scope=row>OTU339:167wood</th><td>  1                                     </td><td>FALSE                                   </td><td> 0                                      </td><td>Cladophialophora                        </td><td>NoID                                    </td></tr>\n",
       "\t<tr><th scope=row>OTU391:164wood</th><td>  1                                     </td><td>FALSE                                   </td><td> 0                                      </td><td>NoID                                    </td><td>NoID                                    </td></tr>\n",
       "\t<tr><th scope=row>OTU282:165wood</th><td>  1                                     </td><td>FALSE                                   </td><td> 0                                      </td><td>NoID                                    </td><td>NoID                                    </td></tr>\n",
       "\t<tr><th scope=row>OTU67:14Leaf</th><td>  1                                     </td><td>FALSE                                   </td><td> 0                                      </td><td>NoID                                    </td><td>NoID                                    </td></tr>\n",
       "\t<tr><th scope=row>OTU356:173wood</th><td>  1                                     </td><td>FALSE                                   </td><td> 0                                      </td><td>NoID                                    </td><td>NoID                                    </td></tr>\n",
       "\t<tr><th scope=row>OTU252:35Leaf</th><td>  1                                     </td><td>FALSE                                   </td><td> 0                                      </td><td>Candida                                 </td><td>Candida_parapsilosis_SH197714.07FU      </td></tr>\n",
       "\t<tr><th scope=row>OTU68:55Leaf</th><td>  1                                     </td><td>FALSE                                   </td><td> 0                                      </td><td>NoID                                    </td><td>NoID                                    </td></tr>\n",
       "\t<tr><th scope=row>OTU69:100Leaf</th><td>  1                                     </td><td>FALSE                                   </td><td> 0                                      </td><td>Pochonia                                </td><td>NoID                                    </td></tr>\n",
       "\t<tr><th scope=row>OTU567:132Leaf</th><td>  1                                     </td><td>FALSE                                   </td><td> 0                                      </td><td>Devriesia                               </td><td>NoID                                    </td></tr>\n",
       "\t<tr><th scope=row>OTU216:90Leaf</th><td>  1                                     </td><td>FALSE                                   </td><td> 0                                      </td><td>NoID                                    </td><td>NoID                                    </td></tr>\n",
       "\t<tr><th scope=row>OTU789:254wood</th><td>  1                                     </td><td>FALSE                                   </td><td> 0                                      </td><td>NoID                                    </td><td>NoID                                    </td></tr>\n",
       "\t<tr><th scope=row>OTU2872:34Leaf</th><td>  1                                     </td><td>FALSE                                   </td><td> 0                                      </td><td>Sporobolomyces                          </td><td>Sporobolomyces_ruberrimus_SH194976.07FU </td></tr>\n",
       "\t<tr><th scope=row>OTU1108:125Leaf</th><td>  1                                     </td><td>FALSE                                   </td><td> 0                                      </td><td>Ophiodiaporthe                          </td><td>Ophiodiaporthe_cyatheae_SH017927.07FU   </td></tr>\n",
       "\t<tr><th scope=row>OTU1806:252wood</th><td>  1                                     </td><td>FALSE                                   </td><td> 0                                      </td><td>NoID                                    </td><td>NoID                                    </td></tr>\n",
       "\t<tr><th scope=row>OTU8517:173wood</th><td>  1                                     </td><td>FALSE                                   </td><td> 0                                      </td><td>Massarina                               </td><td>NoID                                    </td></tr>\n",
       "\t<tr><th scope=row>OTU770:48Leaf</th><td>  1                                     </td><td>FALSE                                   </td><td> 0                                      </td><td>NoID                                    </td><td>NoID                                    </td></tr>\n",
       "\t<tr><th scope=row>OTU518:190wood</th><td>  1                                     </td><td>FALSE                                   </td><td> 0                                      </td><td>Massaria                                </td><td>Massaria_ulmi_SH215380.07FU             </td></tr>\n",
       "\t<tr><th scope=row>OTU1591:183wood</th><td>  1                                     </td><td>FALSE                                   </td><td> 0                                      </td><td>Verrucaria                              </td><td>Verrucaria_margacea_SH187389.07FU       </td></tr>\n",
       "\t<tr><th scope=row>OTU808:252wood</th><td>  1                                     </td><td>FALSE                                   </td><td> 0                                      </td><td>Glomus                                  </td><td>NoID                                    </td></tr>\n",
       "</tbody>\n",
       "</table>\n"
      ],
      "text/latex": [
       "\\begin{tabular}{r|lllll}\n",
       "  & reads & member & MC & Genus & Species\\\\\n",
       "\\hline\n",
       "\tOTU116:65Leaf & 544                                          & FALSE                                        &  0                                           & Mycosphaerella                               & Mycosphaerella\\_tassiana\\_SH216250.07FU   \\\\\n",
       "\tOTU288:167wood & 185                                      & FALSE                                    &  0                                       & NoID                                     & NoID                                    \\\\\n",
       "\tOTU285:161wood & 109                                          &  TRUE                                        &  9                                           & Endoconidioma                                & Endoconidioma\\_populi\\_SH206393.07FU      \\\\\n",
       "\tOTU304:161wood & 109                                          &  TRUE                                        & 19                                           & Nemania                                      & Nemania\\_aenea\\_SH217392.07FU             \\\\\n",
       "\tOTU89:65Leaf &  98                                      & FALSE                                    &  0                                       & NoID                                     & NoID                                    \\\\\n",
       "\tOTU737:164wood &  69                                      & FALSE                                    &  0                                       & NoID                                     & NoID                                    \\\\\n",
       "\tOTU1473:172wood &  64                                      & FALSE                                    &  0                                       & NoID                                     & NoID                                    \\\\\n",
       "\tOTU667:114Leaf &  61                                          & FALSE                                        &  0                                           & Cryptococcus                                 & Cryptococcus\\_victoriae\\_SH181628.07FU    \\\\\n",
       "\tOTU848:121Leaf &  60                                          & FALSE                                        &  0                                           & Fuscoporia                                   & Fuscoporia\\_ferrea\\_SH184170.07FU         \\\\\n",
       "\tOTU181:104Leaf &  56                                          &  TRUE                                        &  8                                           & Mycosphaerella                               & Mycosphaerella\\_rubella\\_SH206848.07FU    \\\\\n",
       "\tOTU491:161wood &  51                                          &  TRUE                                        &  4                                           & Diaporthe                                    & Diaporthe\\_cynaroidis\\_SH090428.07FU      \\\\\n",
       "\tOTU1483:255wood &  50                                      & FALSE                                    &  0                                       & Cladophialophora                         & NoID                                    \\\\\n",
       "\tOTU1143:172wood &  48                                      & FALSE                                    &  0                                       & NoID                                     & NoID                                    \\\\\n",
       "\tOTU1228:199wood &  44                                      & FALSE                                    &  0                                       & NoID                                     & NoID                                    \\\\\n",
       "\tOTU247:112.2Leaf &  40                                          &  TRUE                                        &  6                                           & Trametes                                     & Trametes\\_versicolor\\_SH012622.07FU       \\\\\n",
       "\tOTU1231:103Leaf &  36                                          & FALSE                                        &  0                                           & Inocybe                                      & Inocybe\\_rimosa\\_SH221721.07FU            \\\\\n",
       "\tOTU1376:240wood &  32                                          & FALSE                                        &  0                                           & Ramalina                                     & Ramalina\\_pluviariae\\_SH180553.07FU       \\\\\n",
       "\tOTU5194:51Leaf &  23                                          & FALSE                                        &  0                                           & Aspergillus                                  & Aspergillus\\_penicillioides\\_SH015763.07FU\\\\\n",
       "\tOTU361:164wood &  20                                      & FALSE                                    &  0                                       & NoID                                     & NoID                                    \\\\\n",
       "\tOTU113:194wood &  13                                      & FALSE                                    &  0                                       & NoID                                     & NoID                                    \\\\\n",
       "\tOTU1322:170wood &   4                                      & FALSE                                    &  0                                       & NoID                                     & NoID                                    \\\\\n",
       "\tOTU2396:168wood &   4                                      & FALSE                                    &  0                                       & NoID                                     & NoID                                    \\\\\n",
       "\tOTU139:161wood &   3                                          &  TRUE                                        &  1                                           & Phaeocryptopus                               & Phaeocryptopus\\_gaeumannii\\_SH206781.07FU \\\\\n",
       "\tOTU80:207wood &   3                                          & FALSE                                        &  0                                           & Ocellularia                                  & Ocellularia\\_perforata\\_SH469649.07FU     \\\\\n",
       "\tOTU234:161wood &   2                                          &  TRUE                                        & 20                                           & Psilocybe                                    & Psilocybe\\_cyanescens\\_SH262625.07FU      \\\\\n",
       "\tOTU155:122Leaf &   2                                          &  TRUE                                        & 14                                           & Ophiostoma                                   & Ophiostoma\\_denticiliatum\\_SH303743.07FU  \\\\\n",
       "\tOTU1816:253wood &   2                                          & FALSE                                        &  0                                           & Mortierella                                  & Mortierella\\_rishikesha\\_SH180109.07FU    \\\\\n",
       "\tOTU1767:163wood &   1                                          & FALSE                                        &  0                                           & Sarocladium                                  & Sarocladium\\_zeae\\_SH024476.07FU          \\\\\n",
       "\tOTU254:161wood &   1                                          &  TRUE                                        & 16                                           & Xylaria                                      & Xylaria\\_nigripes\\_SH220898.07FU          \\\\\n",
       "\tOTU127:12Leaf &   1                                      &  TRUE                                    & 10                                       & NoID                                     & NoID                                    \\\\\n",
       "\tOTU210:161wood &   1                                          &  TRUE                                        & 22                                           & Epichloe                                     & Epichloe\\_typhina\\_SH195968.07FU          \\\\\n",
       "\tOTU230:70Leaf &   1                                          &  TRUE                                        & 12                                           & Penicillium                                  & Penicillium\\_nodositatum\\_SH200570.07FU   \\\\\n",
       "\tOTU246:161wood &   1                                      &  TRUE                                    & 13                                       & NoID                                     & NoID                                    \\\\\n",
       "\tOTU825:192wood &   1                                      & FALSE                                    &  0                                       & NoID                                     & NoID                                    \\\\\n",
       "\tOTU97:51Leaf &   1                                      & FALSE                                    &  0                                       & NoID                                     & NoID                                    \\\\\n",
       "\tOTU339:167wood &   1                                      & FALSE                                    &  0                                       & Cladophialophora                         & NoID                                    \\\\\n",
       "\tOTU391:164wood &   1                                      & FALSE                                    &  0                                       & NoID                                     & NoID                                    \\\\\n",
       "\tOTU282:165wood &   1                                      & FALSE                                    &  0                                       & NoID                                     & NoID                                    \\\\\n",
       "\tOTU67:14Leaf &   1                                      & FALSE                                    &  0                                       & NoID                                     & NoID                                    \\\\\n",
       "\tOTU356:173wood &   1                                      & FALSE                                    &  0                                       & NoID                                     & NoID                                    \\\\\n",
       "\tOTU252:35Leaf &   1                                          & FALSE                                        &  0                                           & Candida                                      & Candida\\_parapsilosis\\_SH197714.07FU      \\\\\n",
       "\tOTU68:55Leaf &   1                                      & FALSE                                    &  0                                       & NoID                                     & NoID                                    \\\\\n",
       "\tOTU69:100Leaf &   1                                      & FALSE                                    &  0                                       & Pochonia                                 & NoID                                    \\\\\n",
       "\tOTU567:132Leaf &   1                                      & FALSE                                    &  0                                       & Devriesia                                & NoID                                    \\\\\n",
       "\tOTU216:90Leaf &   1                                      & FALSE                                    &  0                                       & NoID                                     & NoID                                    \\\\\n",
       "\tOTU789:254wood &   1                                      & FALSE                                    &  0                                       & NoID                                     & NoID                                    \\\\\n",
       "\tOTU2872:34Leaf &   1                                          & FALSE                                        &  0                                           & Sporobolomyces                               & Sporobolomyces\\_ruberrimus\\_SH194976.07FU \\\\\n",
       "\tOTU1108:125Leaf &   1                                          & FALSE                                        &  0                                           & Ophiodiaporthe                               & Ophiodiaporthe\\_cyatheae\\_SH017927.07FU   \\\\\n",
       "\tOTU1806:252wood &   1                                      & FALSE                                    &  0                                       & NoID                                     & NoID                                    \\\\\n",
       "\tOTU8517:173wood &   1                                      & FALSE                                    &  0                                       & Massarina                                & NoID                                    \\\\\n",
       "\tOTU770:48Leaf &   1                                      & FALSE                                    &  0                                       & NoID                                     & NoID                                    \\\\\n",
       "\tOTU518:190wood &   1                                          & FALSE                                        &  0                                           & Massaria                                     & Massaria\\_ulmi\\_SH215380.07FU             \\\\\n",
       "\tOTU1591:183wood &   1                                          & FALSE                                        &  0                                           & Verrucaria                                   & Verrucaria\\_margacea\\_SH187389.07FU       \\\\\n",
       "\tOTU808:252wood &   1                                      & FALSE                                    &  0                                       & Glomus                                   & NoID                                    \\\\\n",
       "\\end{tabular}\n"
      ],
      "text/plain": [
       "                 reads member MC Genus           \n",
       "OTU116:65Leaf    544   FALSE   0 Mycosphaerella  \n",
       "OTU288:167wood   185   FALSE   0 NoID            \n",
       "OTU285:161wood   109    TRUE   9 Endoconidioma   \n",
       "OTU304:161wood   109    TRUE  19 Nemania         \n",
       "OTU89:65Leaf      98   FALSE   0 NoID            \n",
       "OTU737:164wood    69   FALSE   0 NoID            \n",
       "OTU1473:172wood   64   FALSE   0 NoID            \n",
       "OTU667:114Leaf    61   FALSE   0 Cryptococcus    \n",
       "OTU848:121Leaf    60   FALSE   0 Fuscoporia      \n",
       "OTU181:104Leaf    56    TRUE   8 Mycosphaerella  \n",
       "OTU491:161wood    51    TRUE   4 Diaporthe       \n",
       "OTU1483:255wood   50   FALSE   0 Cladophialophora\n",
       "OTU1143:172wood   48   FALSE   0 NoID            \n",
       "OTU1228:199wood   44   FALSE   0 NoID            \n",
       "OTU247:112.2Leaf  40    TRUE   6 Trametes        \n",
       "OTU1231:103Leaf   36   FALSE   0 Inocybe         \n",
       "OTU1376:240wood   32   FALSE   0 Ramalina        \n",
       "OTU5194:51Leaf    23   FALSE   0 Aspergillus     \n",
       "OTU361:164wood    20   FALSE   0 NoID            \n",
       "OTU113:194wood    13   FALSE   0 NoID            \n",
       "OTU1322:170wood    4   FALSE   0 NoID            \n",
       "OTU2396:168wood    4   FALSE   0 NoID            \n",
       "OTU139:161wood     3    TRUE   1 Phaeocryptopus  \n",
       "OTU80:207wood      3   FALSE   0 Ocellularia     \n",
       "OTU234:161wood     2    TRUE  20 Psilocybe       \n",
       "OTU155:122Leaf     2    TRUE  14 Ophiostoma      \n",
       "OTU1816:253wood    2   FALSE   0 Mortierella     \n",
       "OTU1767:163wood    1   FALSE   0 Sarocladium     \n",
       "OTU254:161wood     1    TRUE  16 Xylaria         \n",
       "OTU127:12Leaf      1    TRUE  10 NoID            \n",
       "OTU210:161wood     1    TRUE  22 Epichloe        \n",
       "OTU230:70Leaf      1    TRUE  12 Penicillium     \n",
       "OTU246:161wood     1    TRUE  13 NoID            \n",
       "OTU825:192wood     1   FALSE   0 NoID            \n",
       "OTU97:51Leaf       1   FALSE   0 NoID            \n",
       "OTU339:167wood     1   FALSE   0 Cladophialophora\n",
       "OTU391:164wood     1   FALSE   0 NoID            \n",
       "OTU282:165wood     1   FALSE   0 NoID            \n",
       "OTU67:14Leaf       1   FALSE   0 NoID            \n",
       "OTU356:173wood     1   FALSE   0 NoID            \n",
       "OTU252:35Leaf      1   FALSE   0 Candida         \n",
       "OTU68:55Leaf       1   FALSE   0 NoID            \n",
       "OTU69:100Leaf      1   FALSE   0 Pochonia        \n",
       "OTU567:132Leaf     1   FALSE   0 Devriesia       \n",
       "OTU216:90Leaf      1   FALSE   0 NoID            \n",
       "OTU789:254wood     1   FALSE   0 NoID            \n",
       "OTU2872:34Leaf     1   FALSE   0 Sporobolomyces  \n",
       "OTU1108:125Leaf    1   FALSE   0 Ophiodiaporthe  \n",
       "OTU1806:252wood    1   FALSE   0 NoID            \n",
       "OTU8517:173wood    1   FALSE   0 Massarina       \n",
       "OTU770:48Leaf      1   FALSE   0 NoID            \n",
       "OTU518:190wood     1   FALSE   0 Massaria        \n",
       "OTU1591:183wood    1   FALSE   0 Verrucaria      \n",
       "OTU808:252wood     1   FALSE   0 Glomus          \n",
       "                 Species                                 \n",
       "OTU116:65Leaf    Mycosphaerella_tassiana_SH216250.07FU   \n",
       "OTU288:167wood   NoID                                    \n",
       "OTU285:161wood   Endoconidioma_populi_SH206393.07FU      \n",
       "OTU304:161wood   Nemania_aenea_SH217392.07FU             \n",
       "OTU89:65Leaf     NoID                                    \n",
       "OTU737:164wood   NoID                                    \n",
       "OTU1473:172wood  NoID                                    \n",
       "OTU667:114Leaf   Cryptococcus_victoriae_SH181628.07FU    \n",
       "OTU848:121Leaf   Fuscoporia_ferrea_SH184170.07FU         \n",
       "OTU181:104Leaf   Mycosphaerella_rubella_SH206848.07FU    \n",
       "OTU491:161wood   Diaporthe_cynaroidis_SH090428.07FU      \n",
       "OTU1483:255wood  NoID                                    \n",
       "OTU1143:172wood  NoID                                    \n",
       "OTU1228:199wood  NoID                                    \n",
       "OTU247:112.2Leaf Trametes_versicolor_SH012622.07FU       \n",
       "OTU1231:103Leaf  Inocybe_rimosa_SH221721.07FU            \n",
       "OTU1376:240wood  Ramalina_pluviariae_SH180553.07FU       \n",
       "OTU5194:51Leaf   Aspergillus_penicillioides_SH015763.07FU\n",
       "OTU361:164wood   NoID                                    \n",
       "OTU113:194wood   NoID                                    \n",
       "OTU1322:170wood  NoID                                    \n",
       "OTU2396:168wood  NoID                                    \n",
       "OTU139:161wood   Phaeocryptopus_gaeumannii_SH206781.07FU \n",
       "OTU80:207wood    Ocellularia_perforata_SH469649.07FU     \n",
       "OTU234:161wood   Psilocybe_cyanescens_SH262625.07FU      \n",
       "OTU155:122Leaf   Ophiostoma_denticiliatum_SH303743.07FU  \n",
       "OTU1816:253wood  Mortierella_rishikesha_SH180109.07FU    \n",
       "OTU1767:163wood  Sarocladium_zeae_SH024476.07FU          \n",
       "OTU254:161wood   Xylaria_nigripes_SH220898.07FU          \n",
       "OTU127:12Leaf    NoID                                    \n",
       "OTU210:161wood   Epichloe_typhina_SH195968.07FU          \n",
       "OTU230:70Leaf    Penicillium_nodositatum_SH200570.07FU   \n",
       "OTU246:161wood   NoID                                    \n",
       "OTU825:192wood   NoID                                    \n",
       "OTU97:51Leaf     NoID                                    \n",
       "OTU339:167wood   NoID                                    \n",
       "OTU391:164wood   NoID                                    \n",
       "OTU282:165wood   NoID                                    \n",
       "OTU67:14Leaf     NoID                                    \n",
       "OTU356:173wood   NoID                                    \n",
       "OTU252:35Leaf    Candida_parapsilosis_SH197714.07FU      \n",
       "OTU68:55Leaf     NoID                                    \n",
       "OTU69:100Leaf    NoID                                    \n",
       "OTU567:132Leaf   NoID                                    \n",
       "OTU216:90Leaf    NoID                                    \n",
       "OTU789:254wood   NoID                                    \n",
       "OTU2872:34Leaf   Sporobolomyces_ruberrimus_SH194976.07FU \n",
       "OTU1108:125Leaf  Ophiodiaporthe_cyatheae_SH017927.07FU   \n",
       "OTU1806:252wood  NoID                                    \n",
       "OTU8517:173wood  NoID                                    \n",
       "OTU770:48Leaf    NoID                                    \n",
       "OTU518:190wood   Massaria_ulmi_SH215380.07FU             \n",
       "OTU1591:183wood  Verrucaria_margacea_SH187389.07FU       \n",
       "OTU808:252wood   NoID                                    "
      ]
     },
     "metadata": {},
     "output_type": "display_data"
    }
   ],
   "source": [
    "Neg95bar"
   ]
  },
  {
   "cell_type": "code",
   "execution_count": 67,
   "metadata": {
    "collapsed": false,
    "scrolled": true
   },
   "outputs": [
    {
     "data": {
      "image/png": "[encoded data removed]",
      "text/plain": [
       "Plot with title “Dan negative control\n",
       "95% similarity radius”"
      ]
     },
     "metadata": {},
     "output_type": "display_data"
    }
   ],
   "source": [
    "inout <- paste('MC', Neg95bar$MC, sep='')\n",
    "inout[inout=='MC0'] <- NA\n",
    "\n",
    "par(cex.axis = .75, mar=c(7,4,4,2))\n",
    "barplot(Neg95bar$reads,las=3,log='y', names.arg=inout, col = member,\n",
    "       main = 'Dan negative control\\n95% similarity radius')\n",
    "legend(\"top\", legend=c('member','non-member'), fill=c(1,0))"
   ]
  },
  {
   "cell_type": "markdown",
   "metadata": {},
   "source": [
    "Although I don't have much faith in these assignments, here's the same with assignments."
   ]
  },
  {
   "cell_type": "code",
   "execution_count": 69,
   "metadata": {
    "collapsed": false,
    "scrolled": false
   },
   "outputs": [
    {
     "data": {
      "image/png": "[encoded data removed]",
      "text/plain": [
       "plot without title"
      ]
     },
     "metadata": {},
     "output_type": "display_data"
    }
   ],
   "source": [
    "par(cex.axis = .75, mar=c(7,4,4,2))\n",
    "barplot(Neg95bar$reads,las=3,log='y', names.arg=Neg95bar$Genus, col = member)"
   ]
  },
  {
   "cell_type": "markdown",
   "metadata": {},
   "source": [
    "<a id='bleed'></a>"
   ]
  },
  {
   "cell_type": "markdown",
   "metadata": {},
   "source": [
    "Here is a another negative control that was included in the illumina run, supplied by graham, created with a similar pipeline as above:"
   ]
  },
  {
   "cell_type": "markdown",
   "metadata": {},
   "source": [
    "<img src='grahamneg95bar1.png', width=\"600\", height=\"200\">"
   ]
  },
  {
   "cell_type": "markdown",
   "metadata": {},
   "source": [
    "Hmm. Time to panic? Not sure, but it seems like our positive controls are bleeding into our negative controls somehow. We took steps to reduce the possibility of cross-contamination in the lab, and this type of contamination is odd, mostly because some but not all of our mock community members are bleeding into these negative controls. At the time of illumina preps, the mock community was a single sample in the lab (one eppendorf with DNA purified from 23 of our various pure cultures). So I would expect contamination by all the OTUs in our positive controls. I would take this as a general indicator of high levels of tag-switching, but the positive controls seem to be disproportionately affecting the negative samples. If tag-switching really were this common, the ecological samples would also be leaking OTUs into our negatives at a high rate, and they would be swamped, as would our positive controls. But neither are. Curious. "
   ]
  },
  {
   "cell_type": "markdown",
   "metadata": {},
   "source": [
    "<a id='sing'></a>"
   ]
  },
  {
   "cell_type": "markdown",
   "metadata": {},
   "source": [
    "### Single species positive control"
   ]
  },
  {
   "cell_type": "markdown",
   "metadata": {},
   "source": [
    "Kind of a hybrid between our mock community and negative controls is our single species positive control. We'll use this control to check our radius for splitting, to get more info on what sort of contaminant abundances to subtract, and to look for tag switching. To plot what is in this sample, we begin by subsetting to just our single-species control:"
   ]
  },
  {
   "cell_type": "code",
   "execution_count": 33,
   "metadata": {
    "collapsed": false
   },
   "outputs": [],
   "source": [
    "library('phyloseq')\n",
    "xyl.biom <- subset_samples(biom95, SampleNumber == 'Dc-X')"
   ]
  },
  {
   "cell_type": "markdown",
   "metadata": {},
   "source": [
    "Using the same basic code as [above](#blastpipe), I blasted the sequences from all of the OTUs in this sample against the sanger sequences of our mock community. For the purposes of this search I added in the known sequence of the species that is our single-species-positive, *Xylaria hypoxylon* to our reference database of the mock community. The results:"
   ]
  },
  {
   "cell_type": "code",
   "execution_count": 39,
   "metadata": {
    "collapsed": false
   },
   "outputs": [
    {
     "data": {
      "text/html": [
       "<table>\n",
       "<thead><tr><th scope=col>qseqid</th><th scope=col>sseqid</th><th scope=col>pident</th><th scope=col>length</th><th scope=col>mismatch</th><th scope=col>gapopen</th><th scope=col>qstart</th><th scope=col>qend</th><th scope=col>sstart</th><th scope=col>send</th><th scope=col>evalue</th><th scope=col>bitscore</th></tr></thead>\n",
       "<tbody>\n",
       "\t<tr><td>OTU1:X_hypoxylon_Oregon</td><td>X_hypoxylon_Oregon     </td><td>100.00                 </td><td>180                    </td><td>0                      </td><td>0                      </td><td>1                      </td><td>180                    </td><td> 53                    </td><td>232                    </td><td> 2e-94                 </td><td>333                    </td></tr>\n",
       "\t<tr><td>OTU247:112.2Leaf       </td><td>6                      </td><td>100.00                 </td><td>184                    </td><td>0                      </td><td>0                      </td><td>1                      </td><td>184                    </td><td>535                    </td><td>352                    </td><td> 1e-96                 </td><td>340                    </td></tr>\n",
       "\t<tr><td>OTU254:161wood         </td><td>16                     </td><td>100.00                 </td><td>180                    </td><td>0                      </td><td>0                      </td><td>1                      </td><td>180                    </td><td>502                    </td><td>323                    </td><td> 2e-94                 </td><td>333                    </td></tr>\n",
       "\t<tr><td>OTU347:NC.1Leaf        </td><td>7                      </td><td>100.00                 </td><td>193                    </td><td>0                      </td><td>0                      </td><td>1                      </td><td>193                    </td><td>524                    </td><td>332                    </td><td>1e-101                 </td><td>357                    </td></tr>\n",
       "\t<tr><td>OTU9405:160wood        </td><td>11                     </td><td> 92.13                 </td><td>178                    </td><td>8                      </td><td>6                      </td><td>1                      </td><td>176                    </td><td>487                    </td><td>314                    </td><td> 2e-68                 </td><td>246                    </td></tr>\n",
       "</tbody>\n",
       "</table>\n"
      ],
      "text/latex": [
       "\\begin{tabular}{r|llllllllllll}\n",
       " qseqid & sseqid & pident & length & mismatch & gapopen & qstart & qend & sstart & send & evalue & bitscore\\\\\n",
       "\\hline\n",
       "\t OTU1:X\\_hypoxylon\\_Oregon & X\\_hypoxylon\\_Oregon      & 100.00                      & 180                         & 0                           & 0                           & 1                           & 180                         &  53                         & 232                         &  2e-94                      & 333                        \\\\\n",
       "\t OTU247:112.2Leaf        & 6                       & 100.00                  & 184                     & 0                       & 0                       & 1                       & 184                     & 535                     & 352                     &  1e-96                  & 340                    \\\\\n",
       "\t OTU254:161wood          & 16                      & 100.00                  & 180                     & 0                       & 0                       & 1                       & 180                     & 502                     & 323                     &  2e-94                  & 333                    \\\\\n",
       "\t OTU347:NC.1Leaf         & 7                       & 100.00                  & 193                     & 0                       & 0                       & 1                       & 193                     & 524                     & 332                     & 1e-101                  & 357                    \\\\\n",
       "\t OTU9405:160wood         & 11                      &  92.13                  & 178                     & 8                       & 6                       & 1                       & 176                     & 487                     & 314                     &  2e-68                  & 246                    \\\\\n",
       "\\end{tabular}\n"
      ],
      "text/plain": [
       "  qseqid                  sseqid             pident length mismatch gapopen\n",
       "1 OTU1:X_hypoxylon_Oregon X_hypoxylon_Oregon 100.00 180    0        0      \n",
       "2 OTU247:112.2Leaf        6                  100.00 184    0        0      \n",
       "3 OTU254:161wood          16                 100.00 180    0        0      \n",
       "4 OTU347:NC.1Leaf         7                  100.00 193    0        0      \n",
       "5 OTU9405:160wood         11                  92.13 178    8        6      \n",
       "  qstart qend sstart send evalue bitscore\n",
       "1 1      180   53    232   2e-94 333     \n",
       "2 1      184  535    352   1e-96 340     \n",
       "3 1      180  502    323   2e-94 333     \n",
       "4 1      193  524    332  1e-101 357     \n",
       "5 1      176  487    314   2e-68 246     "
      ]
     },
     "metadata": {},
     "output_type": "display_data"
    }
   ],
   "source": [
    "blast <- read.csv(\"mcblast_DCX95.csv\", stringsAsFactors=FALSE)\n",
    "blast"
   ]
  },
  {
   "cell_type": "markdown",
   "metadata": {},
   "source": [
    "Five of our sequences are present in the mock community. The first is expected, *Xylaria hypoxylon*. The others:\n",
    "\n",
    "sseqid | Taxon\n",
    "-|-\n",
    "6 | *Trametes versicolor*\n",
    "16 | *Xylaria nigripes*\n",
    "7 | cf. *Alternaria*\n",
    "11 | *Penicillium* sp."
   ]
  },
  {
   "cell_type": "markdown",
   "metadata": {},
   "source": [
    "Let's make a nice dataframe to plot from:"
   ]
  },
  {
   "cell_type": "code",
   "execution_count": 40,
   "metadata": {
    "collapsed": false
   },
   "outputs": [],
   "source": [
    "reads <- taxa_sums(xyl.biom)[taxa_sums(xyl.biom)>0] ## read abundances\n",
    "reads <- sort(reads, decreasing = TRUE)\n",
    "xyl.gen <- tax_table(xyl.biom)[names(reads),6] ## genus names\n",
    "xyl.gen[is.na(xyl.gen)] <- \"NoID\" ## unidentified OTUs\n",
    "xyl.species <- tax_table(xyl.biom)[names(reads),7] ## species names\n",
    "xyl.species[is.na(xyl.species)] <- \"NoID\" ## unidentified OTUs\n",
    "member <- names(reads) %in% blast$qseqid ## is the OTU one of our mock community members?\n",
    "MC <- vector(length = length(reads)); MC[] <- 0 ## fill with zeroes\n",
    "DCX95bar <- data.frame(reads, member, MC, xyl.gen,xyl.species, stringsAsFactors=FALSE)\n",
    "## check our blast results for mock community sample number, if it's a member.\n",
    "for (i in 1:nrow(DCX95bar)){\n",
    "        if (rownames(DCX95bar)[i] %in% blast$qseqid) {\n",
    "                search <- grep(rownames(DCX95bar)[i], blast$qseqid)\n",
    "                DCX95bar$MC[i] <- blast$sseqid[search]\n",
    "        }\n",
    "    }"
   ]
  },
  {
   "cell_type": "markdown",
   "metadata": {},
   "source": [
    "Visualize these abundances:"
   ]
  },
  {
   "cell_type": "markdown",
   "metadata": {},
   "source": [
    "<a id='ssbar'></a>"
   ]
  },
  {
   "cell_type": "code",
   "execution_count": 45,
   "metadata": {
    "collapsed": false,
    "scrolled": false
   },
   "outputs": [
    {
     "data": {
      "image/png": "[encoded data removed]",
      "text/plain": [
       "plot without title"
      ]
     },
     "metadata": {},
     "output_type": "display_data"
    }
   ],
   "source": [
    "options(repr.plot.width = 10, repr.plot.height = 7)\n",
    "par(cex.axis = .75, mar=c(7,4,4,2))\n",
    "barplot(DCX95bar$reads,las=3,log='y', names.arg=DCX95bar$Genus, col = member)\n",
    "legend(\"top\", legend=c('member','non-member'), fill=c(1,0))"
   ]
  },
  {
   "cell_type": "markdown",
   "metadata": {},
   "source": [
    "Some pretty clear culprits here. The tag-switched groups are in black, except for our high abundance positive control species on the far left. "
   ]
  },
  {
   "cell_type": "markdown",
   "metadata": {},
   "source": [
    "<a id='MC'></a>"
   ]
  },
  {
   "cell_type": "markdown",
   "metadata": {},
   "source": [
    "### Mock community"
   ]
  },
  {
   "cell_type": "markdown",
   "metadata": {},
   "source": [
    "Let's look at my mock community genomic controls, with an OTU similarity radius of 95%. Start out in R kernel, packages as [above](#import):"
   ]
  },
  {
   "cell_type": "code",
   "execution_count": 3,
   "metadata": {
    "collapsed": true
   },
   "outputs": [],
   "source": [
    "library('phyloseq')\n",
    "load('biom95.rda')"
   ]
  },
  {
   "cell_type": "code",
   "execution_count": 5,
   "metadata": {
    "collapsed": false,
    "scrolled": false
   },
   "outputs": [
    {
     "data": {
      "text/html": [
       "78"
      ],
      "text/latex": [
       "78"
      ],
      "text/markdown": [
       "78"
      ],
      "text/plain": [
       "[1] 78"
      ]
     },
     "metadata": {},
     "output_type": "display_data"
    }
   ],
   "source": [
    "aa95 <- subset_samples(biom95, SampleNumber == 'PosG')\n",
    "dangen95 <- taxa_sums(aa95)[taxa_sums(aa95) > 0]\n",
    "dangen95 <- sort(dangen95, decreasing = TRUE)\n",
    "length(dangen95)"
   ]
  },
  {
   "cell_type": "markdown",
   "metadata": {},
   "source": [
    "<a id='split'></a>"
   ]
  },
  {
   "cell_type": "markdown",
   "metadata": {},
   "source": [
    "We put in 24 species, and got 78 out. This is probably due to a combination of contamination and splitting by our OTU radius. What is the distribution of these OTU's?"
   ]
  },
  {
   "cell_type": "code",
   "execution_count": 6,
   "metadata": {
    "collapsed": false,
    "scrolled": true
   },
   "outputs": [
    {
     "data": {
      "image/png": "[encoded data removed]",
      "text/plain": [
       "plot without title"
      ]
     },
     "metadata": {},
     "output_type": "display_data"
    }
   ],
   "source": [
    "options(repr.plot.width = 10, repr.plot.height = 4)\n",
    "barplot(dangen95, names.arg='')"
   ]
  },
  {
   "cell_type": "markdown",
   "metadata": {},
   "source": [
    "Do our ITS-only positive controls show a similar distribution?"
   ]
  },
  {
   "cell_type": "code",
   "execution_count": 7,
   "metadata": {
    "collapsed": false,
    "scrolled": true
   },
   "outputs": [
    {
     "data": {
      "image/png": "[encoded data removed]",
      "text/plain": [
       "plot without title"
      ]
     },
     "metadata": {},
     "output_type": "display_data"
    }
   ],
   "source": [
    "aa95 <- subset_samples(biom95, SampleNumber == 'PosI')\n",
    "danITS95 <- taxa_sums(aa95)[taxa_sums(aa95) > 0]\n",
    "danITS95 <- sort(danITS95, decreasing = TRUE)\n",
    "options(repr.plot.width = 10, repr.plot.height = 4)\n",
    "barplot(danITS95, names.arg='')"
   ]
  },
  {
   "cell_type": "markdown",
   "metadata": {},
   "source": [
    "Interesting, the genomic controls show a more dramatic difference in detection among samples. \n",
    "\n",
    "But how do we know which are contaminants/tag-switched/otu-splits, and which are intended members of our mock community? Using a pretty much identical pipeline as with our [negative control visualization](#nc), we blast the species in our positive control samples against our sanger sequences of our mock community and plot the abundances, resulting in the following plot. "
   ]
  },
  {
   "cell_type": "code",
   "execution_count": 14,
   "metadata": {
    "collapsed": false,
    "scrolled": false
   },
   "outputs": [
    {
     "data": {
      "text/html": [
       "<table>\n",
       "<thead><tr><th scope=col>qseqid</th><th scope=col>sseqid</th><th scope=col>pident</th><th scope=col>length</th><th scope=col>mismatch</th><th scope=col>gapopen</th><th scope=col>qstart</th><th scope=col>qend</th><th scope=col>sstart</th><th scope=col>send</th><th scope=col>evalue</th><th scope=col>bitscore</th></tr></thead>\n",
       "<tbody>\n",
       "\t<tr><td>OTU127:12Leaf </td><td>10            </td><td>100.00        </td><td>174           </td><td>0             </td><td>0             </td><td>1             </td><td>174           </td><td>482           </td><td>309           </td><td> 4e-91        </td><td>322           </td></tr>\n",
       "\t<tr><td>OTU139:161wood</td><td> 1            </td><td> 99.31        </td><td>144           </td><td>1             </td><td>0             </td><td>1             </td><td>144           </td><td>434           </td><td>291           </td><td> 7e-73        </td><td>261           </td></tr>\n",
       "\t<tr><td>OTU181:104Leaf</td><td> 8            </td><td>100.00        </td><td>143           </td><td>0             </td><td>0             </td><td>1             </td><td>143           </td><td>451           </td><td>309           </td><td> 5e-74        </td><td>265           </td></tr>\n",
       "\t<tr><td>OTU155:122Leaf</td><td>14            </td><td>100.00        </td><td>197           </td><td>0             </td><td>0             </td><td>1             </td><td>197           </td><td>566           </td><td>370           </td><td>7e-104        </td><td>364           </td></tr>\n",
       "\t<tr><td>OTU210:161wood</td><td>22            </td><td>100.00        </td><td>168           </td><td>0             </td><td>0             </td><td>1             </td><td>168           </td><td>512           </td><td>345           </td><td> 8e-88        </td><td>311           </td></tr>\n",
       "\t<tr><td>OTU234:161wood</td><td>20            </td><td>100.00        </td><td>217           </td><td>0             </td><td>0             </td><td>1             </td><td>217           </td><td>605           </td><td>389           </td><td>6e-115        </td><td>401           </td></tr>\n",
       "</tbody>\n",
       "</table>\n"
      ],
      "text/latex": [
       "\\begin{tabular}{r|llllllllllll}\n",
       " qseqid & sseqid & pident & length & mismatch & gapopen & qstart & qend & sstart & send & evalue & bitscore\\\\\n",
       "\\hline\n",
       "\t OTU127:12Leaf  & 10             & 100.00         & 174            & 0              & 0              & 1              & 174            & 482            & 309            &  4e-91         & 322           \\\\\n",
       "\t OTU139:161wood &  1             &  99.31         & 144            & 1              & 0              & 1              & 144            & 434            & 291            &  7e-73         & 261           \\\\\n",
       "\t OTU181:104Leaf &  8             & 100.00         & 143            & 0              & 0              & 1              & 143            & 451            & 309            &  5e-74         & 265           \\\\\n",
       "\t OTU155:122Leaf & 14             & 100.00         & 197            & 0              & 0              & 1              & 197            & 566            & 370            & 7e-104         & 364           \\\\\n",
       "\t OTU210:161wood & 22             & 100.00         & 168            & 0              & 0              & 1              & 168            & 512            & 345            &  8e-88         & 311           \\\\\n",
       "\t OTU234:161wood & 20             & 100.00         & 217            & 0              & 0              & 1              & 217            & 605            & 389            & 6e-115         & 401           \\\\\n",
       "\\end{tabular}\n"
      ],
      "text/plain": [
       "  qseqid         sseqid pident length mismatch gapopen qstart qend sstart send\n",
       "1 OTU127:12Leaf  10     100.00 174    0        0       1      174  482    309 \n",
       "2 OTU139:161wood  1      99.31 144    1        0       1      144  434    291 \n",
       "3 OTU181:104Leaf  8     100.00 143    0        0       1      143  451    309 \n",
       "4 OTU155:122Leaf 14     100.00 197    0        0       1      197  566    370 \n",
       "5 OTU210:161wood 22     100.00 168    0        0       1      168  512    345 \n",
       "6 OTU234:161wood 20     100.00 217    0        0       1      217  605    389 \n",
       "  evalue bitscore\n",
       "1  4e-91 322     \n",
       "2  7e-73 261     \n",
       "3  5e-74 265     \n",
       "4 7e-104 364     \n",
       "5  8e-88 311     \n",
       "6 6e-115 401     "
      ]
     },
     "metadata": {},
     "output_type": "display_data"
    }
   ],
   "source": [
    "blast <- read.csv(\"mcblast_dangen95.csv\")\n",
    "head(blast)"
   ]
  },
  {
   "cell_type": "markdown",
   "metadata": {},
   "source": [
    "Let's check to see if all of the fungi that we intentionally put into the mock community are present. The sseqid column values are equivalent to numbers that we gave each DNA sample from our individual pure cultures. They go from MC1 to MC24, with sample MC21 skipped. "
   ]
  },
  {
   "cell_type": "code",
   "execution_count": 15,
   "metadata": {
    "collapsed": false
   },
   "outputs": [
    {
     "data": {
      "text/html": [
       "<ol class=list-inline>\n",
       "\t<li>TRUE</li>\n",
       "\t<li>TRUE</li>\n",
       "\t<li>TRUE</li>\n",
       "\t<li>TRUE</li>\n",
       "\t<li>TRUE</li>\n",
       "\t<li>TRUE</li>\n",
       "\t<li>TRUE</li>\n",
       "\t<li>TRUE</li>\n",
       "\t<li>TRUE</li>\n",
       "\t<li>TRUE</li>\n",
       "\t<li>TRUE</li>\n",
       "\t<li>TRUE</li>\n",
       "\t<li>TRUE</li>\n",
       "\t<li>TRUE</li>\n",
       "\t<li>TRUE</li>\n",
       "\t<li>TRUE</li>\n",
       "\t<li>FALSE</li>\n",
       "\t<li>TRUE</li>\n",
       "\t<li>TRUE</li>\n",
       "\t<li>TRUE</li>\n",
       "\t<li>FALSE</li>\n",
       "\t<li>TRUE</li>\n",
       "\t<li>TRUE</li>\n",
       "\t<li>TRUE</li>\n",
       "</ol>\n"
      ],
      "text/latex": [
       "\\begin{enumerate*}\n",
       "\\item TRUE\n",
       "\\item TRUE\n",
       "\\item TRUE\n",
       "\\item TRUE\n",
       "\\item TRUE\n",
       "\\item TRUE\n",
       "\\item TRUE\n",
       "\\item TRUE\n",
       "\\item TRUE\n",
       "\\item TRUE\n",
       "\\item TRUE\n",
       "\\item TRUE\n",
       "\\item TRUE\n",
       "\\item TRUE\n",
       "\\item TRUE\n",
       "\\item TRUE\n",
       "\\item FALSE\n",
       "\\item TRUE\n",
       "\\item TRUE\n",
       "\\item TRUE\n",
       "\\item FALSE\n",
       "\\item TRUE\n",
       "\\item TRUE\n",
       "\\item TRUE\n",
       "\\end{enumerate*}\n"
      ],
      "text/markdown": [
       "1. TRUE\n",
       "2. TRUE\n",
       "3. TRUE\n",
       "4. TRUE\n",
       "5. TRUE\n",
       "6. TRUE\n",
       "7. TRUE\n",
       "8. TRUE\n",
       "9. TRUE\n",
       "10. TRUE\n",
       "11. TRUE\n",
       "12. TRUE\n",
       "13. TRUE\n",
       "14. TRUE\n",
       "15. TRUE\n",
       "16. TRUE\n",
       "17. FALSE\n",
       "18. TRUE\n",
       "19. TRUE\n",
       "20. TRUE\n",
       "21. FALSE\n",
       "22. TRUE\n",
       "23. TRUE\n",
       "24. TRUE\n",
       "\n",
       "\n"
      ],
      "text/plain": [
       " [1]  TRUE  TRUE  TRUE  TRUE  TRUE  TRUE  TRUE  TRUE  TRUE  TRUE  TRUE  TRUE\n",
       "[13]  TRUE  TRUE  TRUE  TRUE FALSE  TRUE  TRUE  TRUE FALSE  TRUE  TRUE  TRUE"
      ]
     },
     "metadata": {},
     "output_type": "display_data"
    }
   ],
   "source": [
    "1:24 %in% blast$sseqid"
   ]
  },
  {
   "cell_type": "code",
   "execution_count": 21,
   "metadata": {
    "collapsed": false,
    "scrolled": true
   },
   "outputs": [
    {
     "data": {
      "text/html": [
       "<ol class=list-inline>\n",
       "\t<li>1</li>\n",
       "\t<li>2</li>\n",
       "\t<li>3</li>\n",
       "\t<li>4</li>\n",
       "\t<li>5</li>\n",
       "\t<li>6</li>\n",
       "\t<li>7</li>\n",
       "\t<li>8</li>\n",
       "\t<li>9</li>\n",
       "\t<li>10</li>\n",
       "\t<li>11</li>\n",
       "\t<li>12</li>\n",
       "\t<li>13</li>\n",
       "\t<li>14</li>\n",
       "\t<li>15</li>\n",
       "\t<li>16</li>\n",
       "\t<li>18</li>\n",
       "\t<li>19</li>\n",
       "\t<li>20</li>\n",
       "\t<li>22</li>\n",
       "\t<li>23</li>\n",
       "\t<li>24</li>\n",
       "</ol>\n"
      ],
      "text/latex": [
       "\\begin{enumerate*}\n",
       "\\item 1\n",
       "\\item 2\n",
       "\\item 3\n",
       "\\item 4\n",
       "\\item 5\n",
       "\\item 6\n",
       "\\item 7\n",
       "\\item 8\n",
       "\\item 9\n",
       "\\item 10\n",
       "\\item 11\n",
       "\\item 12\n",
       "\\item 13\n",
       "\\item 14\n",
       "\\item 15\n",
       "\\item 16\n",
       "\\item 18\n",
       "\\item 19\n",
       "\\item 20\n",
       "\\item 22\n",
       "\\item 23\n",
       "\\item 24\n",
       "\\end{enumerate*}\n"
      ],
      "text/markdown": [
       "1. 1\n",
       "2. 2\n",
       "3. 3\n",
       "4. 4\n",
       "5. 5\n",
       "6. 6\n",
       "7. 7\n",
       "8. 8\n",
       "9. 9\n",
       "10. 10\n",
       "11. 11\n",
       "12. 12\n",
       "13. 13\n",
       "14. 14\n",
       "15. 15\n",
       "16. 16\n",
       "17. 18\n",
       "18. 19\n",
       "19. 20\n",
       "20. 22\n",
       "21. 23\n",
       "22. 24\n",
       "\n",
       "\n"
      ],
      "text/plain": [
       " [1]  1  2  3  4  5  6  7  8  9 10 11 12 13 14 15 16 18 19 20 22 23 24"
      ]
     },
     "metadata": {},
     "output_type": "display_data"
    }
   ],
   "source": [
    "sort(unique(blast$sseqid))"
   ]
  },
  {
   "cell_type": "markdown",
   "metadata": {},
   "source": [
    "Looks like we're missing MC17, *Schizosaccharomyces pombe*. Odd.\n",
    "\n",
    "Do we trust all of these blast results? Notice that the last three are very short matches (65, 33, and 65 bp). Also there are low percentage matches. Let's get rid of these, using ~95% cutoff. "
   ]
  },
  {
   "cell_type": "code",
   "execution_count": 22,
   "metadata": {
    "collapsed": true
   },
   "outputs": [],
   "source": [
    "goodblast <- blast[blast$pident > 94 & blast$length > 100,] \n",
    "## use 94 instead of 95, cuz we don't want to lose the 94.89 match "
   ]
  },
  {
   "cell_type": "code",
   "execution_count": 23,
   "metadata": {
    "collapsed": false
   },
   "outputs": [
    {
     "data": {
      "text/html": [
       "<ol class=list-inline>\n",
       "\t<li>38</li>\n",
       "\t<li>12</li>\n",
       "</ol>\n"
      ],
      "text/latex": [
       "\\begin{enumerate*}\n",
       "\\item 38\n",
       "\\item 12\n",
       "\\end{enumerate*}\n"
      ],
      "text/markdown": [
       "1. 38\n",
       "2. 12\n",
       "\n",
       "\n"
      ],
      "text/plain": [
       "[1] 38 12"
      ]
     },
     "metadata": {},
     "output_type": "display_data"
    },
    {
     "data": {
      "text/html": [
       "<ol class=list-inline>\n",
       "\t<li>32</li>\n",
       "\t<li>12</li>\n",
       "</ol>\n"
      ],
      "text/latex": [
       "\\begin{enumerate*}\n",
       "\\item 32\n",
       "\\item 12\n",
       "\\end{enumerate*}\n"
      ],
      "text/markdown": [
       "1. 32\n",
       "2. 12\n",
       "\n",
       "\n"
      ],
      "text/plain": [
       "[1] 32 12"
      ]
     },
     "metadata": {},
     "output_type": "display_data"
    }
   ],
   "source": [
    "dim(blast); dim(goodblast)"
   ]
  },
  {
   "cell_type": "markdown",
   "metadata": {},
   "source": [
    "We lose 6 matches. Any of our mock community memmbers?"
   ]
  },
  {
   "cell_type": "code",
   "execution_count": 19,
   "metadata": {
    "collapsed": false,
    "scrolled": false
   },
   "outputs": [
    {
     "data": {
      "text/html": [
       "<ol class=list-inline>\n",
       "\t<li>TRUE</li>\n",
       "\t<li>TRUE</li>\n",
       "\t<li>TRUE</li>\n",
       "\t<li>TRUE</li>\n",
       "\t<li>TRUE</li>\n",
       "\t<li>TRUE</li>\n",
       "\t<li>TRUE</li>\n",
       "\t<li>TRUE</li>\n",
       "\t<li>TRUE</li>\n",
       "\t<li>TRUE</li>\n",
       "\t<li>TRUE</li>\n",
       "\t<li>TRUE</li>\n",
       "\t<li>TRUE</li>\n",
       "\t<li>TRUE</li>\n",
       "\t<li>TRUE</li>\n",
       "\t<li>TRUE</li>\n",
       "\t<li>FALSE</li>\n",
       "\t<li>TRUE</li>\n",
       "\t<li>TRUE</li>\n",
       "\t<li>TRUE</li>\n",
       "\t<li>FALSE</li>\n",
       "\t<li>TRUE</li>\n",
       "\t<li>TRUE</li>\n",
       "\t<li>TRUE</li>\n",
       "</ol>\n"
      ],
      "text/latex": [
       "\\begin{enumerate*}\n",
       "\\item TRUE\n",
       "\\item TRUE\n",
       "\\item TRUE\n",
       "\\item TRUE\n",
       "\\item TRUE\n",
       "\\item TRUE\n",
       "\\item TRUE\n",
       "\\item TRUE\n",
       "\\item TRUE\n",
       "\\item TRUE\n",
       "\\item TRUE\n",
       "\\item TRUE\n",
       "\\item TRUE\n",
       "\\item TRUE\n",
       "\\item TRUE\n",
       "\\item TRUE\n",
       "\\item FALSE\n",
       "\\item TRUE\n",
       "\\item TRUE\n",
       "\\item TRUE\n",
       "\\item FALSE\n",
       "\\item TRUE\n",
       "\\item TRUE\n",
       "\\item TRUE\n",
       "\\end{enumerate*}\n"
      ],
      "text/markdown": [
       "1. TRUE\n",
       "2. TRUE\n",
       "3. TRUE\n",
       "4. TRUE\n",
       "5. TRUE\n",
       "6. TRUE\n",
       "7. TRUE\n",
       "8. TRUE\n",
       "9. TRUE\n",
       "10. TRUE\n",
       "11. TRUE\n",
       "12. TRUE\n",
       "13. TRUE\n",
       "14. TRUE\n",
       "15. TRUE\n",
       "16. TRUE\n",
       "17. FALSE\n",
       "18. TRUE\n",
       "19. TRUE\n",
       "20. TRUE\n",
       "21. FALSE\n",
       "22. TRUE\n",
       "23. TRUE\n",
       "24. TRUE\n",
       "\n",
       "\n"
      ],
      "text/plain": [
       " [1]  TRUE  TRUE  TRUE  TRUE  TRUE  TRUE  TRUE  TRUE  TRUE  TRUE  TRUE  TRUE\n",
       "[13]  TRUE  TRUE  TRUE  TRUE FALSE  TRUE  TRUE  TRUE FALSE  TRUE  TRUE  TRUE"
      ]
     },
     "metadata": {},
     "output_type": "display_data"
    }
   ],
   "source": [
    "1:24 %in% goodblast$sseqid"
   ]
  },
  {
   "cell_type": "markdown",
   "metadata": {},
   "source": [
    "Nope, same as before we cut out the low quality or short matches, MC17 is still the only member missing (MC21 wasn't included in the final mix). "
   ]
  },
  {
   "cell_type": "markdown",
   "metadata": {},
   "source": [
    "We can now use this dataframe of high-confidence blast matches in the same way as we did with our [negative control](#nc) to plot membership and read abundances:"
   ]
  },
  {
   "cell_type": "code",
   "execution_count": 24,
   "metadata": {
    "collapsed": false
   },
   "outputs": [],
   "source": [
    "member <- names(dangen95) %in% goodblast$qseqid\n",
    "MC <- vector(length = length(dangen95))\n",
    "dangen95bar <- data.frame(cbind(dangen95, member, MC))\n",
    "for (i in 1:nrow(dangen95bar)){\n",
    "        if (rownames(dangen95bar)[i] %in% goodblast$qseqid) {\n",
    "                search <- grep(rownames(dangen95bar)[i], goodblast$qseqid)\n",
    "                dangen95bar$MC[i] <- goodblast$sseqid[search]\n",
    "        }\n",
    "    }"
   ]
  },
  {
   "cell_type": "code",
   "execution_count": 27,
   "metadata": {
    "collapsed": false,
    "scrolled": true
   },
   "outputs": [
    {
     "data": {
      "image/png": "[encoded data removed]",
      "text/plain": [
       "Plot with title “Dan Genomic Positive Control\n",
       "95% similarity radius OTU's”"
      ]
     },
     "metadata": {},
     "output_type": "display_data"
    }
   ],
   "source": [
    "options(repr.plot.width = 10, repr.plot.height = 5)\n",
    "barplot(dangen95bar$dangen95, names.arg=NULL, col = dangen95bar$member,\n",
    "        log=\"y\", main=\"Dan Genomic Positive Control\\n95% similarity radius OTU's\",\n",
    "        xlab='OTUs present in illumina positive control sample')\n",
    "        legend(\"top\", legend=c('member','non-member'), fill=c(1,0))"
   ]
  },
  {
   "cell_type": "markdown",
   "metadata": {},
   "source": [
    "Log transformed. OTUs with no match to our sanger sequences are colored white. Notice that most of the rare OTUs are not members of our original mock community. They are presumably contaminants or the results of tag-switching. "
   ]
  },
  {
   "cell_type": "markdown",
   "metadata": {},
   "source": [
    "Let's get a closer look at the intended members of our mock community:"
   ]
  },
  {
   "cell_type": "code",
   "execution_count": 28,
   "metadata": {
    "collapsed": false,
    "scrolled": true
   },
   "outputs": [
    {
     "data": {
      "text/plain": [
       "\n",
       " 1  2  3  4  5  6  7  8  9 10 11 12 13 14 15 16 18 19 20 22 23 24 \n",
       " 5  1  1  1  1  1  1  7  1  1  1  1  1  1  1  1  1  1  1  1  1  1 "
      ]
     },
     "metadata": {},
     "output_type": "display_data"
    }
   ],
   "source": [
    "dtab <- table(dangen95bar$MC)\n",
    "dtab <- dtab[-1] #exclude non-members\n",
    "dtab"
   ]
  },
  {
   "cell_type": "markdown",
   "metadata": {},
   "source": [
    "This table shows us that MC1 and MC8 were split up by our biominformatics. Let's visualize this, and compare to our other radius. For the plotter, get a matrix, each column representing our sanger-sequence sample numbers, and each row our otus in the illumina sample that matched to these sanger-sequences (MC#'s). "
   ]
  },
  {
   "cell_type": "code",
   "execution_count": 29,
   "metadata": {
    "collapsed": false
   },
   "outputs": [],
   "source": [
    "stackmat <- matrix(nrow=max(dtab), ncol=24)\n",
    "stackmat[] <- 0\n",
    "stackmatnames <- paste(\"MC\", 1:24, sep='')\n",
    "colnames(stackmat) <- stackmatnames\n",
    "\n",
    "for (i in 1:24){\n",
    "        bb <- dangen95bar[dangen95bar$MC == i,, drop=FALSE]\n",
    "        for (j in 1:nrow(bb)){stackmat[j,i] <- bb$dangen95[j]}\n",
    "    }"
   ]
  },
  {
   "cell_type": "code",
   "execution_count": 30,
   "metadata": {
    "collapsed": false,
    "scrolled": true
   },
   "outputs": [
    {
     "data": {
      "text/html": [
       "<table>\n",
       "<thead><tr><th scope=col>MC10</th><th scope=col>MC1</th><th scope=col>MC8</th><th scope=col>MC14</th><th scope=col>MC22</th><th scope=col>MC20</th><th scope=col>MC13</th><th scope=col>MC12</th><th scope=col>MC24</th><th scope=col>MC15</th><th scope=col>⋯</th><th scope=col>MC5</th><th scope=col>MC7</th><th scope=col>MC11</th><th scope=col>MC6</th><th scope=col>MC3</th><th scope=col>MC2</th><th scope=col>MC23</th><th scope=col>MC4</th><th scope=col>MC18</th><th scope=col>MC17</th></tr></thead>\n",
       "<tbody>\n",
       "\t<tr><td>13701</td><td>11388</td><td>8917 </td><td>7153 </td><td>5856 </td><td>5102 </td><td>4218 </td><td>4087 </td><td>4013 </td><td>3475 </td><td>⋯    </td><td>444  </td><td>137  </td><td>99   </td><td>82   </td><td>65   </td><td>33   </td><td>24   </td><td>4    </td><td>4    </td><td>NA   </td></tr>\n",
       "\t<tr><td>    0</td><td>   47</td><td>  47 </td><td>   0 </td><td>   0 </td><td>   0 </td><td>   0 </td><td>   0 </td><td>   0 </td><td>   0 </td><td>⋯    </td><td>  0  </td><td>  0  </td><td> 0   </td><td> 0   </td><td> 0   </td><td> 0   </td><td> 0   </td><td>0    </td><td>0    </td><td> 0   </td></tr>\n",
       "\t<tr><td>    0</td><td>   41</td><td>  41 </td><td>   0 </td><td>   0 </td><td>   0 </td><td>   0 </td><td>   0 </td><td>   0 </td><td>   0 </td><td>⋯    </td><td>  0  </td><td>  0  </td><td> 0   </td><td> 0   </td><td> 0   </td><td> 0   </td><td> 0   </td><td>0    </td><td>0    </td><td> 0   </td></tr>\n",
       "\t<tr><td>    0</td><td>    4</td><td>  38 </td><td>   0 </td><td>   0 </td><td>   0 </td><td>   0 </td><td>   0 </td><td>   0 </td><td>   0 </td><td>⋯    </td><td>  0  </td><td>  0  </td><td> 0   </td><td> 0   </td><td> 0   </td><td> 0   </td><td> 0   </td><td>0    </td><td>0    </td><td> 0   </td></tr>\n",
       "\t<tr><td>    0</td><td>    3</td><td>   3 </td><td>   0 </td><td>   0 </td><td>   0 </td><td>   0 </td><td>   0 </td><td>   0 </td><td>   0 </td><td>⋯    </td><td>  0  </td><td>  0  </td><td> 0   </td><td> 0   </td><td> 0   </td><td> 0   </td><td> 0   </td><td>0    </td><td>0    </td><td> 0   </td></tr>\n",
       "\t<tr><td>    0</td><td>    0</td><td>   2 </td><td>   0 </td><td>   0 </td><td>   0 </td><td>   0 </td><td>   0 </td><td>   0 </td><td>   0 </td><td>⋯    </td><td>  0  </td><td>  0  </td><td> 0   </td><td> 0   </td><td> 0   </td><td> 0   </td><td> 0   </td><td>0    </td><td>0    </td><td> 0   </td></tr>\n",
       "\t<tr><td>    0</td><td>    0</td><td>   1 </td><td>   0 </td><td>   0 </td><td>   0 </td><td>   0 </td><td>   0 </td><td>   0 </td><td>   0 </td><td>⋯    </td><td>  0  </td><td>  0  </td><td> 0   </td><td> 0   </td><td> 0   </td><td> 0   </td><td> 0   </td><td>0    </td><td>0    </td><td> 0   </td></tr>\n",
       "</tbody>\n",
       "</table>\n"
      ],
      "text/latex": [
       "\\begin{tabular}{lllllllllllllllllllllll}\n",
       " MC10 & MC1 & MC8 & MC14 & MC22 & MC20 & MC13 & MC12 & MC24 & MC15 & ⋯ & MC5 & MC7 & MC11 & MC6 & MC3 & MC2 & MC23 & MC4 & MC18 & MC17\\\\\n",
       "\\hline\n",
       "\t 13701 & 11388 & 8917  & 7153  & 5856  & 5102  & 4218  & 4087  & 4013  & 3475  & ⋯     & 444   & 137   & 99    & 82    & 65    & 33    & 24    & 4     & 4     & NA   \\\\\n",
       "\t     0 &    47 &   47  &    0  &    0  &    0  &    0  &    0  &    0  &    0  & ⋯     &   0   &   0   &  0    &  0    &  0    &  0    &  0    & 0     & 0     &  0   \\\\\n",
       "\t     0 &    41 &   41  &    0  &    0  &    0  &    0  &    0  &    0  &    0  & ⋯     &   0   &   0   &  0    &  0    &  0    &  0    &  0    & 0     & 0     &  0   \\\\\n",
       "\t     0 &     4 &   38  &    0  &    0  &    0  &    0  &    0  &    0  &    0  & ⋯     &   0   &   0   &  0    &  0    &  0    &  0    &  0    & 0     & 0     &  0   \\\\\n",
       "\t     0 &     3 &    3  &    0  &    0  &    0  &    0  &    0  &    0  &    0  & ⋯     &   0   &   0   &  0    &  0    &  0    &  0    &  0    & 0     & 0     &  0   \\\\\n",
       "\t     0 &     0 &    2  &    0  &    0  &    0  &    0  &    0  &    0  &    0  & ⋯     &   0   &   0   &  0    &  0    &  0    &  0    &  0    & 0     & 0     &  0   \\\\\n",
       "\t     0 &     0 &    1  &    0  &    0  &    0  &    0  &    0  &    0  &    0  & ⋯     &   0   &   0   &  0    &  0    &  0    &  0    &  0    & 0     & 0     &  0   \\\\\n",
       "\\end{tabular}\n"
      ],
      "text/markdown": [
       "1. 13701\n",
       "2. 0\n",
       "3. 0\n",
       "4. 0\n",
       "5. 0\n",
       "6. 0\n",
       "7. 0\n",
       "8. 11388\n",
       "9. 47\n",
       "10. 41\n",
       "11. 4\n",
       "12. 3\n",
       "13. 0\n",
       "14. 0\n",
       "15. 8917\n",
       "16. 47\n",
       "17. 41\n",
       "18. 38\n",
       "19. 3\n",
       "20. 2\n",
       "21. 1\n",
       "22. 7153\n",
       "23. 0\n",
       "24. 0\n",
       "25. 0\n",
       "26. 0\n",
       "27. 0\n",
       "28. 0\n",
       "29. 5856\n",
       "30. 0\n",
       "31. 0\n",
       "32. 0\n",
       "33. 0\n",
       "34. 0\n",
       "35. 0\n",
       "36. 5102\n",
       "37. 0\n",
       "38. 0\n",
       "39. 0\n",
       "40. 0\n",
       "41. 0\n",
       "42. 0\n",
       "43. 4218\n",
       "44. 0\n",
       "45. 0\n",
       "46. 0\n",
       "47. 0\n",
       "48. 0\n",
       "49. 0\n",
       "50. 4087\n",
       "51. 0\n",
       "52. 0\n",
       "53. 0\n",
       "54. 0\n",
       "55. 0\n",
       "56. 0\n",
       "57. 4013\n",
       "58. 0\n",
       "59. 0\n",
       "60. 0\n",
       "61. 0\n",
       "62. 0\n",
       "63. 0\n",
       "64. 3475\n",
       "65. 0\n",
       "66. 0\n",
       "67. 0\n",
       "68. 0\n",
       "69. 0\n",
       "70. 0\n",
       "71. 1377\n",
       "72. 0\n",
       "73. 0\n",
       "74. 0\n",
       "75. 0\n",
       "76. 0\n",
       "77. 0\n",
       "78. 911\n",
       "79. 0\n",
       "80. 0\n",
       "81. 0\n",
       "82. 0\n",
       "83. 0\n",
       "84. 0\n",
       "85. 593\n",
       "86. 0\n",
       "87. 0\n",
       "88. 0\n",
       "89. 0\n",
       "90. 0\n",
       "91. 0\n",
       "92. 444\n",
       "93. 0\n",
       "94. 0\n",
       "95. 0\n",
       "96. 0\n",
       "97. 0\n",
       "98. 0\n",
       "99. 137\n",
       "100. 0\n",
       "101. 0\n",
       "102. 0\n",
       "103. 0\n",
       "104. 0\n",
       "105. 0\n",
       "106. 99\n",
       "107. 0\n",
       "108. 0\n",
       "109. 0\n",
       "110. 0\n",
       "111. 0\n",
       "112. 0\n",
       "113. 82\n",
       "114. 0\n",
       "115. 0\n",
       "116. 0\n",
       "117. 0\n",
       "118. 0\n",
       "119. 0\n",
       "120. 65\n",
       "121. 0\n",
       "122. 0\n",
       "123. 0\n",
       "124. 0\n",
       "125. 0\n",
       "126. 0\n",
       "127. 33\n",
       "128. 0\n",
       "129. 0\n",
       "130. 0\n",
       "131. 0\n",
       "132. 0\n",
       "133. 0\n",
       "134. 24\n",
       "135. 0\n",
       "136. 0\n",
       "137. 0\n",
       "138. 0\n",
       "139. 0\n",
       "140. 0\n",
       "141. 4\n",
       "142. 0\n",
       "143. 0\n",
       "144. 0\n",
       "145. 0\n",
       "146. 0\n",
       "147. 0\n",
       "148. 4\n",
       "149. 0\n",
       "150. 0\n",
       "151. 0\n",
       "152. 0\n",
       "153. 0\n",
       "154. 0\n",
       "155. NA\n",
       "156. 0\n",
       "157. 0\n",
       "158. 0\n",
       "159. 0\n",
       "160. 0\n",
       "161. 0\n",
       "\n",
       "\n"
      ],
      "text/plain": [
       "     MC10  MC1   MC8  MC14 MC22 MC20 MC13 MC12 MC24 MC15 ⋯ MC5 MC7 MC11 MC6 MC3\n",
       "[1,] 13701 11388 8917 7153 5856 5102 4218 4087 4013 3475 ⋯ 444 137 99   82  65 \n",
       "[2,]     0    47   47    0    0    0    0    0    0    0 ⋯   0   0  0    0   0 \n",
       "[3,]     0    41   41    0    0    0    0    0    0    0 ⋯   0   0  0    0   0 \n",
       "[4,]     0     4   38    0    0    0    0    0    0    0 ⋯   0   0  0    0   0 \n",
       "[5,]     0     3    3    0    0    0    0    0    0    0 ⋯   0   0  0    0   0 \n",
       "[6,]     0     0    2    0    0    0    0    0    0    0 ⋯   0   0  0    0   0 \n",
       "[7,]     0     0    1    0    0    0    0    0    0    0 ⋯   0   0  0    0   0 \n",
       "     MC2 MC23 MC4 MC18 MC17\n",
       "[1,] 33  24   4   4    NA  \n",
       "[2,]  0   0   0   0     0  \n",
       "[3,]  0   0   0   0     0  \n",
       "[4,]  0   0   0   0     0  \n",
       "[5,]  0   0   0   0     0  \n",
       "[6,]  0   0   0   0     0  \n",
       "[7,]  0   0   0   0     0  "
      ]
     },
     "metadata": {},
     "output_type": "display_data"
    }
   ],
   "source": [
    "stackmat <- stackmat[,-21] ## no MC21, wasn't put into MC mix\n",
    "## sort by read abundances:\n",
    "stackmat <- stackmat[,order(colSums(stackmat), decreasing = TRUE)]\n",
    "stackmat"
   ]
  },
  {
   "cell_type": "markdown",
   "metadata": {},
   "source": [
    "Now use this to plot our read abundances, to look at splitting of OTUs at this radius:"
   ]
  },
  {
   "cell_type": "code",
   "execution_count": 31,
   "metadata": {
    "collapsed": false,
    "scrolled": true
   },
   "outputs": [
    {
     "data": {
      "image/png": "[encoded data removed]",
      "text/plain": [
       "Plot with title “Dan Positive Control 95% radius”"
      ]
     },
     "metadata": {},
     "output_type": "display_data"
    }
   ],
   "source": [
    "## make our colors from a palette. Randomize for better separation\n",
    "bcols <- rep(sample(1:ncol(stackmat), replace=FALSE, size=23), each=nrow(stackmat))\n",
    "\n",
    "par(cex.axis=.5)\n",
    "## we can see our lower abundances better with sqrt:\n",
    "barplot(sqrt(stackmat), beside = TRUE, col = bcols, main=\"Dan Positive Control 95% radius\") \n",
    "par(mfrow=c(1,1))\n"
   ]
  },
  {
   "cell_type": "markdown",
   "metadata": {},
   "source": [
    "We can see that MC1 and MC8 were heavily split by our OTU radius. This is the 95% radius, so we assume that the 97% radius was even more divisive. MC1 is *Phaeocryptopus gaeumannii* and MC8 is a *Ramularia* sp. The otus that are split tend to create low abundance splinter OTUs, so perhaps the best way to deal with this is by introducing abundance cutoffs [below](#clean), requiring that each OTU have at least 10 reads to be used. \n",
    "\n",
    "We can run our other positive controls through the above pipeline, and compare. A comparison of OTU numbers, using the code [here](#split). Our numbers of OTUs in each are:\n",
    "\n",
    "DNA | Similarity | #OTUs\n",
    "----|-------------|------\n",
    "Genomic | 95% | 78   \n",
    "Genomic | 97% | 80   \n",
    "ITS-only | 95% | 84   \n",
    "ITS-only | 97% | 90   \n",
    "\n",
    "Both genomic positive controls lack two OTUs (MC4 and MC17). In the ITS-only positive controls we recover MC4. How do the read abundance distributions in these compare?"
   ]
  },
  {
   "cell_type": "markdown",
   "metadata": {},
   "source": [
    "Introduced vs. un-intended otus in our illumina sample of the mock community (\"members vs. non-members\"). Black colored OTUs were an original pure culture that was included in our mock community, then recovered in the illumina sample:"
   ]
  },
  {
   "cell_type": "markdown",
   "metadata": {},
   "source": [
    "<img src='dangen95bar1.png', width=500, height=500>"
   ]
  },
  {
   "cell_type": "markdown",
   "metadata": {},
   "source": [
    "<img src='dangen97bar1.png', width=500, height=500>"
   ]
  },
  {
   "cell_type": "markdown",
   "metadata": {},
   "source": [
    "<img src='danITS95bar1.png', width=500, height=500>"
   ]
  },
  {
   "cell_type": "markdown",
   "metadata": {},
   "source": [
    "<img src='danITS97bar1.png', width=500, height=500>"
   ]
  },
  {
   "cell_type": "markdown",
   "metadata": {},
   "source": [
    "Graham also ran a positive control sample. Looking at this with the 95% similarity radius:"
   ]
  },
  {
   "cell_type": "markdown",
   "metadata": {},
   "source": [
    "<img src='grahamgen95bar1.png', width=\"500\", height=\"100\"/>"
   ]
  },
  {
   "cell_type": "markdown",
   "metadata": {},
   "source": [
    "A look at OTU splitting. Note that these are square-root transformed, though the axis units aren't transformed. "
   ]
  },
  {
   "cell_type": "markdown",
   "metadata": {},
   "source": [
    "<a id='danmc'></a>"
   ]
  },
  {
   "cell_type": "markdown",
   "metadata": {},
   "source": [
    "<img src='dangen95bar2.png', width=900, height=900>"
   ]
  },
  {
   "cell_type": "markdown",
   "metadata": {},
   "source": [
    "<img src='dangen97bar2.png', width=900, height=900>"
   ]
  },
  {
   "cell_type": "markdown",
   "metadata": {},
   "source": [
    "<img src='danITS95bar2.png', width=900, height=900>"
   ]
  },
  {
   "cell_type": "markdown",
   "metadata": {},
   "source": [
    "<img src='danITS97bar2.png', width=900, height=900>"
   ]
  },
  {
   "cell_type": "markdown",
   "metadata": {},
   "source": [
    "<a id='grahammc'></a>"
   ]
  },
  {
   "cell_type": "markdown",
   "metadata": {},
   "source": [
    "Graham's positive control:"
   ]
  },
  {
   "cell_type": "markdown",
   "metadata": {},
   "source": [
    "<img src='grahamgen95bar2.png'>"
   ]
  },
  {
   "cell_type": "markdown",
   "metadata": {},
   "source": [
    "The ITS distributions are much more even among the OTUs. There is more splitting of OTUs with the stricter similarity cutoffs for OTUs (97%), and more splitting with the ITS-only samples. Notice that there appears to be some loss of information in the genomic samples as compared to the ITS samples, species aren't being observed evenly at all in this process.  "
   ]
  },
  {
   "cell_type": "markdown",
   "metadata": {},
   "source": [
    "<a id='clean'></a>"
   ]
  },
  {
   "cell_type": "markdown",
   "metadata": {},
   "source": [
    "## Cleanup using controls"
   ]
  },
  {
   "cell_type": "markdown",
   "metadata": {},
   "source": [
    "We want to run ecological analyses on our data. To keep false positives to a minimum, we want to reduce the effects of tag switching and lab contamination, and splitting of true species into multiple OTUs. So we (1) remove low abundance samples and controls (2) remove minimum abundances (3) subtract remaining abundances of contaminants that we find in our controls and (4) remove our positive control species from wherever they occur, because my negative controls have convinced me that these OTUs are bleeding over to other samples at high rates, so I can't trust observations of these OTUs in our ecological samples (sucks). "
   ]
  },
  {
   "cell_type": "markdown",
   "metadata": {},
   "source": [
    "### Removing low abundance samples:"
   ]
  },
  {
   "cell_type": "markdown",
   "metadata": {},
   "source": [
    "As a first step, let's remove samples with very low read abundances. These are problematic downstream for comparisons among samples, because of the unequal variances, etc. Which are our low abundance samples that we should remove?"
   ]
  },
  {
   "cell_type": "code",
   "execution_count": 74,
   "metadata": {
    "collapsed": false,
    "scrolled": true
   },
   "outputs": [
    {
     "data": {
      "text/html": [
       "<dl class=dl-horizontal>\n",
       "\t<dt>255wood</dt>\n",
       "\t\t<dd>1759</dd>\n",
       "\t<dt>86Leaf</dt>\n",
       "\t\t<dd>1579</dd>\n",
       "\t<dt>18Leaf</dt>\n",
       "\t\t<dd>1405</dd>\n",
       "\t<dt>112_1Leaf</dt>\n",
       "\t\t<dd>3</dd>\n",
       "\t<dt>113_2Leaf</dt>\n",
       "\t\t<dd>6</dd>\n",
       "\t<dt>74Leaf</dt>\n",
       "\t\t<dd>328</dd>\n",
       "\t<dt>113_1Leaf</dt>\n",
       "\t\t<dd>54</dd>\n",
       "\t<dt>126_2Leaf</dt>\n",
       "\t\t<dd>5</dd>\n",
       "\t<dt>91Leaf</dt>\n",
       "\t\t<dd>6</dd>\n",
       "\t<dt>Strom</dt>\n",
       "\t\t<dd>51</dd>\n",
       "</dl>\n"
      ],
      "text/latex": [
       "\\begin{description*}\n",
       "\\item[255wood] 1759\n",
       "\\item[86Leaf] 1579\n",
       "\\item[18Leaf] 1405\n",
       "\\item[112\\textbackslash{}\\_1Leaf] 3\n",
       "\\item[113\\textbackslash{}\\_2Leaf] 6\n",
       "\\item[74Leaf] 328\n",
       "\\item[113\\textbackslash{}\\_1Leaf] 54\n",
       "\\item[126\\textbackslash{}\\_2Leaf] 5\n",
       "\\item[91Leaf] 6\n",
       "\\item[Strom] 51\n",
       "\\end{description*}\n"
      ],
      "text/markdown": [
       "255wood\n",
       ":   175986Leaf\n",
       ":   157918Leaf\n",
       ":   1405112_1Leaf\n",
       ":   3113_2Leaf\n",
       ":   674Leaf\n",
       ":   328113_1Leaf\n",
       ":   54126_2Leaf\n",
       ":   591Leaf\n",
       ":   6Strom\n",
       ":   51\n",
       "\n"
      ],
      "text/plain": [
       "  255wood    86Leaf    18Leaf 112_1Leaf 113_2Leaf    74Leaf 113_1Leaf 126_2Leaf \n",
       "     1759      1579      1405         3         6       328        54         5 \n",
       "   91Leaf     Strom \n",
       "        6        51 "
      ]
     },
     "metadata": {},
     "output_type": "display_data"
    }
   ],
   "source": [
    "sample_sums(biom95)[sample_sums(biom95) < 2000]"
   ]
  },
  {
   "cell_type": "markdown",
   "metadata": {},
   "source": [
    "Some loss, but many of these are controls, etc. So we'll prune these low-read samples out, and control samples also get removed."
   ]
  },
  {
   "cell_type": "code",
   "execution_count": 75,
   "metadata": {
    "collapsed": true
   },
   "outputs": [],
   "source": [
    "biom95eco <- subset_samples(biom95, SorC=='Sample')\n",
    "biom95eco_hiread <- prune_samples(sample_sums(biom95eco)>=2000, biom95eco)"
   ]
  },
  {
   "cell_type": "markdown",
   "metadata": {},
   "source": [
    "### Minimum abundances of observations"
   ]
  },
  {
   "cell_type": "markdown",
   "metadata": {},
   "source": [
    "We have two ways of reducing error from OTU splitting, (1) choosing the \"correct\" radius of OTU similarity clusters, and then (2) looking for a minimum read abundance cutoff for every OTU observation, since we expect a \"correct\" OTU radius will generate only low abundance \"splinters\". Looking above, we have two radii to choose from, a 95% and 97% similarity radius. The 95% radius seems to cause less splitting, and we don't have any indication we're lumping species: MC11 and MC12 are species in the same genus, *Penicillium*, and remain distinct at a 95% radius. \n",
    "\n",
    "We can get an idea of levels of OTU splitting by zooming in on the two mock-community genomic positive controls that we have. If we zoom into [my MC positive control](#danmc) at read abundances less than 150..."
   ]
  },
  {
   "cell_type": "markdown",
   "metadata": {},
   "source": [
    "<img src='dangen95bar3.png'>"
   ]
  },
  {
   "cell_type": "markdown",
   "metadata": {},
   "source": [
    "And if we look closely at [Graham's positive control](#grahammc) we see similar levels of splitting. "
   ]
  },
  {
   "cell_type": "markdown",
   "metadata": {},
   "source": [
    "<img src='grahamgen95bar3.png'>"
   ]
  },
  {
   "cell_type": "markdown",
   "metadata": {},
   "source": [
    "Given these abundances, we are presented with a choice: larger minimum cutoffs will get rid of our splinter OTUs, but lose real OTUs in the process. For example, to get rid of all of our spinter OTUs in our positive controls, we could use a minimum cutoff of 80 reads. However, in the process we lose 5 real OTUs in my positive control and 7 real OTUs in Graham's.  \n",
    "\n",
    "For now, in the wood library, let's choose a minimum OTU-per-sample cutoff of 60 reads. In my positive control sample this removes \\[all\\] 10 splinter OTUs, while costing us 4 real OTUs (MC2, MC23, MC4, and MC18). In Graham's, this removes 10 splinter OTUs (= all but one), costing us 7 real OTUs. This cutoff also gets rid of many of the tag-switched OTUs we find in our [single species](#sing)and [negative controls](#nc), though far from all of these. \n",
    "\n",
    "We have no positive controls from the leaf data, since Roo sequenced those in a separate study, so for now we'll assume that these samples have a +/- similar level of error from tag-switching. To figure the level of subtraction for tag-switching and splinter OTUs in his study, we'll subtract the same proportion of reads/library as the wood. Relative to the total number of reads (4,521,655) in the wood library, this is a reduction in each OTU/sample observation of 60/4,521,655 = 0.000013269 times the library size. If we multiply the size of the leaf library by this, we get (0.000013269)x(10,751,750 reads) = 142.6972, or 143 reads. \n",
    "\n",
    "Let's break up our biom table into wood and leaf reads, subtract our minimum abundances, then merge them back together."
   ]
  },
  {
   "cell_type": "code",
   "execution_count": 76,
   "metadata": {
    "collapsed": false
   },
   "outputs": [
    {
     "data": {
      "text/html": [
       "<ol class=list-inline>\n",
       "\t<li>10271</li>\n",
       "\t<li>214</li>\n",
       "</ol>\n"
      ],
      "text/latex": [
       "\\begin{enumerate*}\n",
       "\\item 10271\n",
       "\\item 214\n",
       "\\end{enumerate*}\n"
      ],
      "text/markdown": [
       "1. 10271\n",
       "2. 214\n",
       "\n",
       "\n"
      ],
      "text/plain": [
       "[1] 10271   214"
      ]
     },
     "metadata": {},
     "output_type": "display_data"
    },
    {
     "data": {
      "text/html": [
       "<ol class=list-inline>\n",
       "\t<li>10271</li>\n",
       "\t<li>214</li>\n",
       "</ol>\n"
      ],
      "text/latex": [
       "\\begin{enumerate*}\n",
       "\\item 10271\n",
       "\\item 214\n",
       "\\end{enumerate*}\n"
      ],
      "text/markdown": [
       "1. 10271\n",
       "2. 214\n",
       "\n",
       "\n"
      ],
      "text/plain": [
       "[1] 10271   214"
      ]
     },
     "metadata": {},
     "output_type": "display_data"
    },
    {
     "data": {
      "text/html": [
       "<table>\n",
       "<thead><tr><th></th><th scope=col>164wood</th><th scope=col>165wood</th><th scope=col>166wood</th><th scope=col>167wood</th><th scope=col>168wood</th></tr></thead>\n",
       "<tbody>\n",
       "\t<tr><th scope=row>OTU1:X_hypoxylon_Oregon</th><td> 8 </td><td> 59</td><td> 0 </td><td> 0 </td><td> 0 </td></tr>\n",
       "\t<tr><th scope=row>OTU7654:160wood</th><td> 0 </td><td>  1</td><td> 0 </td><td> 0 </td><td> 0 </td></tr>\n",
       "\t<tr><th scope=row>OTU2438:53Leaf</th><td> 0 </td><td>  0</td><td> 0 </td><td> 0 </td><td> 0 </td></tr>\n",
       "\t<tr><th scope=row>OTU541:114Leaf</th><td> 0 </td><td>  0</td><td> 0 </td><td> 0 </td><td> 0 </td></tr>\n",
       "\t<tr><th scope=row>OTU116:65Leaf</th><td>74 </td><td>190</td><td>19 </td><td>29 </td><td>69 </td></tr>\n",
       "</tbody>\n",
       "</table>\n"
      ],
      "text/latex": [
       "\\begin{tabular}{r|lllll}\n",
       "  & 164wood & 165wood & 166wood & 167wood & 168wood\\\\\n",
       "\\hline\n",
       "\tOTU1:X\\_hypoxylon\\_Oregon &  8  &  59 &  0  &  0  &  0 \\\\\n",
       "\tOTU7654:160wood &  0  &   1 &  0  &  0  &  0 \\\\\n",
       "\tOTU2438:53Leaf &  0  &   0 &  0  &  0  &  0 \\\\\n",
       "\tOTU541:114Leaf &  0  &   0 &  0  &  0  &  0 \\\\\n",
       "\tOTU116:65Leaf & 74  & 190 & 19  & 29  & 69 \\\\\n",
       "\\end{tabular}\n"
      ],
      "text/plain": [
       "                        164wood 165wood 166wood 167wood 168wood\n",
       "OTU1:X_hypoxylon_Oregon  8       59      0       0       0     \n",
       "OTU7654:160wood          0        1      0       0       0     \n",
       "OTU2438:53Leaf           0        0      0       0       0     \n",
       "OTU541:114Leaf           0        0      0       0       0     \n",
       "OTU116:65Leaf           74      190     19      29      69     "
      ]
     },
     "metadata": {},
     "output_type": "display_data"
    },
    {
     "data": {
      "text/html": [
       "<table>\n",
       "<thead><tr><th></th><th scope=col>164wood</th><th scope=col>165wood</th><th scope=col>166wood</th><th scope=col>167wood</th><th scope=col>168wood</th></tr></thead>\n",
       "<tbody>\n",
       "\t<tr><th scope=row>OTU1:X_hypoxylon_Oregon</th><td> 0 </td><td>  0</td><td>0  </td><td>0  </td><td>0  </td></tr>\n",
       "\t<tr><th scope=row>OTU7654:160wood</th><td> 0 </td><td>  0</td><td>0  </td><td>0  </td><td>0  </td></tr>\n",
       "\t<tr><th scope=row>OTU2438:53Leaf</th><td> 0 </td><td>  0</td><td>0  </td><td>0  </td><td>0  </td></tr>\n",
       "\t<tr><th scope=row>OTU541:114Leaf</th><td> 0 </td><td>  0</td><td>0  </td><td>0  </td><td>0  </td></tr>\n",
       "\t<tr><th scope=row>OTU116:65Leaf</th><td>14 </td><td>130</td><td>0  </td><td>0  </td><td>9  </td></tr>\n",
       "</tbody>\n",
       "</table>\n"
      ],
      "text/latex": [
       "\\begin{tabular}{r|lllll}\n",
       "  & 164wood & 165wood & 166wood & 167wood & 168wood\\\\\n",
       "\\hline\n",
       "\tOTU1:X\\_hypoxylon\\_Oregon &  0  &   0 & 0   & 0   & 0  \\\\\n",
       "\tOTU7654:160wood &  0  &   0 & 0   & 0   & 0  \\\\\n",
       "\tOTU2438:53Leaf &  0  &   0 & 0   & 0   & 0  \\\\\n",
       "\tOTU541:114Leaf &  0  &   0 & 0   & 0   & 0  \\\\\n",
       "\tOTU116:65Leaf & 14  & 130 & 0   & 0   & 9  \\\\\n",
       "\\end{tabular}\n"
      ],
      "text/plain": [
       "                        164wood 165wood 166wood 167wood 168wood\n",
       "OTU1:X_hypoxylon_Oregon  0        0     0       0       0      \n",
       "OTU7654:160wood          0        0     0       0       0      \n",
       "OTU2438:53Leaf           0        0     0       0       0      \n",
       "OTU541:114Leaf           0        0     0       0       0      \n",
       "OTU116:65Leaf           14      130     0       0       9      "
      ]
     },
     "metadata": {},
     "output_type": "display_data"
    },
    {
     "data": {
      "text/html": [
       "<table>\n",
       "<thead><tr><th></th><th scope=col>4Leaf</th><th scope=col>29Leaf</th><th scope=col>24Leaf</th><th scope=col>9Leaf</th><th scope=col>53Leaf</th><th scope=col>6Leaf</th></tr></thead>\n",
       "<tbody>\n",
       "\t<tr><th scope=row>OTU271:163wood</th><td>0  </td><td>0  </td><td>  0</td><td>0  </td><td> 0 </td><td>0  </td></tr>\n",
       "\t<tr><th scope=row>OTU676:177wood</th><td>0  </td><td>0  </td><td>  0</td><td>0  </td><td> 0 </td><td>0  </td></tr>\n",
       "\t<tr><th scope=row>OTU125:12Leaf</th><td>0  </td><td>0  </td><td>213</td><td>0  </td><td>91 </td><td>0  </td></tr>\n",
       "\t<tr><th scope=row>OTU8501:26Leaf</th><td>0  </td><td>0  </td><td>  0</td><td>0  </td><td> 0 </td><td>0  </td></tr>\n",
       "\t<tr><th scope=row>OTU466:192wood</th><td>0  </td><td>0  </td><td>  0</td><td>0  </td><td> 0 </td><td>0  </td></tr>\n",
       "\t<tr><th scope=row>OTU616:163wood</th><td>0  </td><td>0  </td><td>  0</td><td>0  </td><td> 0 </td><td>0  </td></tr>\n",
       "</tbody>\n",
       "</table>\n"
      ],
      "text/latex": [
       "\\begin{tabular}{r|llllll}\n",
       "  & 4Leaf & 29Leaf & 24Leaf & 9Leaf & 53Leaf & 6Leaf\\\\\n",
       "\\hline\n",
       "\tOTU271:163wood & 0   & 0   &   0 & 0   &  0  & 0  \\\\\n",
       "\tOTU676:177wood & 0   & 0   &   0 & 0   &  0  & 0  \\\\\n",
       "\tOTU125:12Leaf & 0   & 0   & 213 & 0   & 91  & 0  \\\\\n",
       "\tOTU8501:26Leaf & 0   & 0   &   0 & 0   &  0  & 0  \\\\\n",
       "\tOTU466:192wood & 0   & 0   &   0 & 0   &  0  & 0  \\\\\n",
       "\tOTU616:163wood & 0   & 0   &   0 & 0   &  0  & 0  \\\\\n",
       "\\end{tabular}\n"
      ],
      "text/plain": [
       "               4Leaf 29Leaf 24Leaf 9Leaf 53Leaf 6Leaf\n",
       "OTU271:163wood 0     0        0    0      0     0    \n",
       "OTU676:177wood 0     0        0    0      0     0    \n",
       "OTU125:12Leaf  0     0      213    0     91     0    \n",
       "OTU8501:26Leaf 0     0        0    0      0     0    \n",
       "OTU466:192wood 0     0        0    0      0     0    \n",
       "OTU616:163wood 0     0        0    0      0     0    "
      ]
     },
     "metadata": {},
     "output_type": "display_data"
    },
    {
     "data": {
      "text/html": [
       "<table>\n",
       "<thead><tr><th></th><th scope=col>4Leaf</th><th scope=col>29Leaf</th><th scope=col>24Leaf</th><th scope=col>9Leaf</th><th scope=col>53Leaf</th><th scope=col>6Leaf</th></tr></thead>\n",
       "<tbody>\n",
       "\t<tr><th scope=row>OTU271:163wood</th><td>0 </td><td>0 </td><td> 0</td><td>0 </td><td>0 </td><td>0 </td></tr>\n",
       "\t<tr><th scope=row>OTU676:177wood</th><td>0 </td><td>0 </td><td> 0</td><td>0 </td><td>0 </td><td>0 </td></tr>\n",
       "\t<tr><th scope=row>OTU125:12Leaf</th><td>0 </td><td>0 </td><td>73</td><td>0 </td><td>0 </td><td>0 </td></tr>\n",
       "\t<tr><th scope=row>OTU8501:26Leaf</th><td>0 </td><td>0 </td><td> 0</td><td>0 </td><td>0 </td><td>0 </td></tr>\n",
       "\t<tr><th scope=row>OTU466:192wood</th><td>0 </td><td>0 </td><td> 0</td><td>0 </td><td>0 </td><td>0 </td></tr>\n",
       "\t<tr><th scope=row>OTU616:163wood</th><td>0 </td><td>0 </td><td> 0</td><td>0 </td><td>0 </td><td>0 </td></tr>\n",
       "</tbody>\n",
       "</table>\n"
      ],
      "text/latex": [
       "\\begin{tabular}{r|llllll}\n",
       "  & 4Leaf & 29Leaf & 24Leaf & 9Leaf & 53Leaf & 6Leaf\\\\\n",
       "\\hline\n",
       "\tOTU271:163wood & 0  & 0  &  0 & 0  & 0  & 0 \\\\\n",
       "\tOTU676:177wood & 0  & 0  &  0 & 0  & 0  & 0 \\\\\n",
       "\tOTU125:12Leaf & 0  & 0  & 73 & 0  & 0  & 0 \\\\\n",
       "\tOTU8501:26Leaf & 0  & 0  &  0 & 0  & 0  & 0 \\\\\n",
       "\tOTU466:192wood & 0  & 0  &  0 & 0  & 0  & 0 \\\\\n",
       "\tOTU616:163wood & 0  & 0  &  0 & 0  & 0  & 0 \\\\\n",
       "\\end{tabular}\n"
      ],
      "text/plain": [
       "               4Leaf 29Leaf 24Leaf 9Leaf 53Leaf 6Leaf\n",
       "OTU271:163wood 0     0       0     0     0      0    \n",
       "OTU676:177wood 0     0       0     0     0      0    \n",
       "OTU125:12Leaf  0     0      73     0     0      0    \n",
       "OTU8501:26Leaf 0     0       0     0     0      0    \n",
       "OTU466:192wood 0     0       0     0     0      0    \n",
       "OTU616:163wood 0     0       0     0     0      0    "
      ]
     },
     "metadata": {},
     "output_type": "display_data"
    },
    {
     "data": {
      "text/html": [
       "TRUE"
      ],
      "text/latex": [
       "TRUE"
      ],
      "text/markdown": [
       "TRUE"
      ],
      "text/plain": [
       "[1] TRUE"
      ]
     },
     "metadata": {},
     "output_type": "display_data"
    },
    {
     "data": {
      "text/html": [
       "TRUE"
      ],
      "text/latex": [
       "TRUE"
      ],
      "text/markdown": [
       "TRUE"
      ],
      "text/plain": [
       "[1] TRUE"
      ]
     },
     "metadata": {},
     "output_type": "display_data"
    }
   ],
   "source": [
    "## split biom\n",
    "leafeco <- subset_samples(biom95eco_hiread, Library=='L')\n",
    "woodeco <- subset_samples(biom95eco_hiread, Library=='W')\n",
    "\n",
    "## wood, take out 60 reads\n",
    "bb <- otu_table(woodeco)\n",
    "bb <- bb-60\n",
    "bb[bb<0] <- 0\n",
    "otu_table(woodeco) <- bb\n",
    "\n",
    "## leaf, take out 140 reads\n",
    "bb <- otu_table(leafeco)\n",
    "bb <- bb-140\n",
    "bb[bb<0] <- 0\n",
    "otu_table(leafeco) <- bb\n",
    "\n",
    "## does \"merging\" work here to bring these back together?\n",
    "biom95.mend <- merge_phyloseq(woodeco,leafeco)\n",
    "\n",
    "## check to make sure structure is intact\n",
    "dim(otu_table(biom95eco_hiread))\n",
    "dim(otu_table(biom95.mend))\n",
    "\n",
    "## spot check wood territory\n",
    "otu_table(biom95eco_hiread)[1:5,1:5]\n",
    "otu_table(biom95.mend)[1:5,1:5]\n",
    "\n",
    "\n",
    "## spot check leaf territory\n",
    "otu_table(biom95eco_hiread)[140:145,172:177]\n",
    "otu_table(biom95.mend)[140:145,172:177]\n",
    "\n",
    "## row and column order changed after merging?\n",
    "all(rownames(otu_table(biom95.mend)) == rownames(otu_table(biom95eco_hiread)))\n",
    "all(colnames(otu_table(biom95.mend)) == colnames(otu_table(biom95eco_hiread)))"
   ]
  },
  {
   "cell_type": "markdown",
   "metadata": {},
   "source": [
    "Okay, looks good. Order of rows and columns maintained, leaves have had 140 reads removed, and wood have had 60 reads removed. "
   ]
  },
  {
   "cell_type": "markdown",
   "metadata": {},
   "source": [
    "### Subtracting contaminant abundances "
   ]
  },
  {
   "cell_type": "markdown",
   "metadata": {},
   "source": [
    "Now we remove every contaminant OTU at the level of abundances that they appeared in any of our controls. In our positive controls, these are the non-mock-community fungi that appeared in our samples. All OTUs that appeared in negative controls are removed in the abundances that they appeared."
   ]
  },
  {
   "cell_type": "markdown",
   "metadata": {},
   "source": [
    "To get our control samples OTU matrix:"
   ]
  },
  {
   "cell_type": "code",
   "execution_count": 77,
   "metadata": {
    "collapsed": true
   },
   "outputs": [],
   "source": [
    "controls <- subset_samples(biom95, SorC=='Control' & Library != 'S') ## no stromata sample"
   ]
  },
  {
   "cell_type": "code",
   "execution_count": 78,
   "metadata": {
    "collapsed": false,
    "scrolled": false
   },
   "outputs": [
    {
     "data": {
      "text/plain": [
       "phyloseq-class experiment-level object\n",
       "otu_table()   OTU Table:         [ 10271 taxa and 9 samples ]\n",
       "sample_data() Sample Data:       [ 9 samples by 12 sample variables ]\n",
       "tax_table()   Taxonomy Table:    [ 10271 taxa by 7 taxonomic ranks ]"
      ]
     },
     "metadata": {},
     "output_type": "display_data"
    }
   ],
   "source": [
    "controls"
   ]
  },
  {
   "cell_type": "markdown",
   "metadata": {},
   "source": [
    "Get the maximum values from these various controls. This is what we will subtract from our ecological samples:"
   ]
  },
  {
   "cell_type": "code",
   "execution_count": 79,
   "metadata": {
    "collapsed": true
   },
   "outputs": [],
   "source": [
    "contam <- apply(otu_table(controls), 1, max)"
   ]
  },
  {
   "cell_type": "code",
   "execution_count": 80,
   "metadata": {
    "collapsed": false
   },
   "outputs": [
    {
     "data": {
      "text/html": [
       "310"
      ],
      "text/latex": [
       "310"
      ],
      "text/markdown": [
       "310"
      ],
      "text/plain": [
       "[1] 310"
      ]
     },
     "metadata": {},
     "output_type": "display_data"
    }
   ],
   "source": [
    "sum(contam>0)"
   ]
  },
  {
   "cell_type": "markdown",
   "metadata": {},
   "source": [
    "310 contaminants and mock community OTUs. Subtract these out. "
   ]
  },
  {
   "cell_type": "code",
   "execution_count": 81,
   "metadata": {
    "collapsed": false
   },
   "outputs": [],
   "source": [
    "aa <- otu_table(biom95.mend) - contam\n",
    "aa[aa < 0] <- 0 ## bring negatives up to zero\n",
    "biom95.contam.rem <- biom95.mend\n",
    "otu_table(biom95.contam.rem) <- aa"
   ]
  },
  {
   "cell_type": "code",
   "execution_count": 82,
   "metadata": {
    "collapsed": true
   },
   "outputs": [],
   "source": [
    "#save(biom95.contam.rem, file='biom95.contam.rem.rda')"
   ]
  },
  {
   "cell_type": "markdown",
   "metadata": {},
   "source": [
    "### Remove all mock community OTUs"
   ]
  },
  {
   "cell_type": "markdown",
   "metadata": {},
   "source": [
    "Unfortunately, it doesn't appear that we can trust observations of our mock community OTUs [in our data](#bleed), so we'll go ahead and remove any OTU that seems to be a member of our mock community. This will involve using blastn again to search all representative OTU sequences from the illumina library against our sanger sequence database of our mock community. "
   ]
  },
  {
   "cell_type": "markdown",
   "metadata": {},
   "source": [
    "Out of R, into BASH for a few minutes. As before, our reference OTU sequences have messy identifier lines, let's clean them up a little with sed:"
   ]
  },
  {
   "cell_type": "code",
   "execution_count": 1,
   "metadata": {
    "collapsed": false
   },
   "outputs": [
    {
     "name": "stdout",
     "output_type": "stream",
     "text": []
    }
   ],
   "source": [
    "sed \"/>O/s/;.*;$//\" otus_95_combo_asstax.fasta > otus_95.fasta"
   ]
  },
  {
   "cell_type": "markdown",
   "metadata": {},
   "source": [
    "Using the same blast-formatted database as [before](#blastn), look for matches:"
   ]
  },
  {
   "cell_type": "code",
   "execution_count": 2,
   "metadata": {
    "collapsed": false
   },
   "outputs": [
    {
     "name": "stdout",
     "output_type": "stream",
     "text": []
    }
   ],
   "source": [
    "blastn -query otus_95.fasta -db mcsanger.fasta -out mcblast_allOTUs.csv -outfmt 10 -max_target_seqs 1"
   ]
  },
  {
   "cell_type": "markdown",
   "metadata": {},
   "source": [
    "Read this into R, assign some column names. Back to R kernel:"
   ]
  },
  {
   "cell_type": "code",
   "execution_count": 4,
   "metadata": {
    "collapsed": false,
    "scrolled": true
   },
   "outputs": [],
   "source": [
    "## pick the biom tables back up into workspace\n",
    "load('biom95.contam.rem.rda') \n",
    "load('biom95.rda')"
   ]
  },
  {
   "cell_type": "code",
   "execution_count": 83,
   "metadata": {
    "collapsed": true
   },
   "outputs": [],
   "source": [
    "blast <- read.csv('mcblast_allOTUs.csv', header=FALSE)\n",
    "blasthead <- c('qseqid','sseqid','pident','length','mismatch','gapopen','qstart','qend','sstart','send','evalue','bitscore')\n",
    "colnames(blast) <- blasthead"
   ]
  },
  {
   "cell_type": "markdown",
   "metadata": {},
   "source": [
    "This gives us a dataframe of OTUs in our illumina study that might be members of the mock community."
   ]
  },
  {
   "cell_type": "code",
   "execution_count": 84,
   "metadata": {
    "collapsed": false,
    "scrolled": true
   },
   "outputs": [
    {
     "data": {
      "text/html": [
       "<table>\n",
       "<thead><tr><th scope=col>qseqid</th><th scope=col>sseqid</th><th scope=col>pident</th><th scope=col>length</th><th scope=col>mismatch</th><th scope=col>gapopen</th><th scope=col>qstart</th><th scope=col>qend</th><th scope=col>sstart</th><th scope=col>send</th><th scope=col>evalue</th><th scope=col>bitscore</th></tr></thead>\n",
       "<tbody>\n",
       "\t<tr><td>OTU1:X_hypoxylon_Oregon     </td><td>Sample16_ITS4               </td><td> 95.24                      </td><td> 63                         </td><td> 3                          </td><td>0                           </td><td>1                           </td><td> 63                         </td><td>502                         </td><td>440                         </td><td> 2e-24                      </td><td>100.0                       </td></tr>\n",
       "\t<tr><td>OTU4:N_sp_1                 </td><td>Sample16_ITS4               </td><td> 93.33                      </td><td> 60                         </td><td> 3                          </td><td>1                           </td><td>2                           </td><td> 61                         </td><td>501                         </td><td>443                         </td><td> 2e-20                      </td><td> 87.9                       </td></tr>\n",
       "\t<tr><td>OTU3:H_notatum              </td><td>Sample24_ITS4               </td><td>100.00                      </td><td>209                         </td><td> 0                          </td><td>0                           </td><td>1                           </td><td>209                         </td><td>537                         </td><td>329                         </td><td>2e-110                      </td><td>387.0                       </td></tr>\n",
       "\t<tr><td>OTU17:X_sp_nov_1_long       </td><td>Sample16_ITS4               </td><td> 91.67                      </td><td> 60                         </td><td> 3                          </td><td>1                           </td><td>1                           </td><td> 58                         </td><td>502                         </td><td>443                         </td><td> 7e-19                      </td><td> 82.4                       </td></tr>\n",
       "\t<tr><td>OTU15:H_perforatum_USA      </td><td>Sample24_ITS4               </td><td> 86.28                      </td><td>226                         </td><td>12                          </td><td>8                           </td><td>1                           </td><td>224                         </td><td>537                         </td><td>329                         </td><td> 1e-62                      </td><td>228.0                       </td></tr>\n",
       "\t<tr><td>OTU27:X_apiculata_California</td><td>Sample16_ITS4               </td><td> 96.61                      </td><td> 59                         </td><td> 1                          </td><td>1                           </td><td>1                           </td><td> 58                         </td><td>502                         </td><td>444                         </td><td> 3e-23                      </td><td> 97.1                       </td></tr>\n",
       "</tbody>\n",
       "</table>\n"
      ],
      "text/latex": [
       "\\begin{tabular}{r|llllllllllll}\n",
       " qseqid & sseqid & pident & length & mismatch & gapopen & qstart & qend & sstart & send & evalue & bitscore\\\\\n",
       "\\hline\n",
       "\t OTU1:X\\_hypoxylon\\_Oregon      & Sample16\\_ITS4                  &  95.24                           &  63                              &  3                               & 0                                & 1                                &  63                              & 502                              & 440                              &  2e-24                           & 100.0                           \\\\\n",
       "\t OTU4:N\\_sp\\_1                  & Sample16\\_ITS4                  &  93.33                           &  60                              &  3                               & 1                                & 2                                &  61                              & 501                              & 443                              &  2e-20                           &  87.9                           \\\\\n",
       "\t OTU3:H\\_notatum               & Sample24\\_ITS4                & 100.00                         & 209                            &  0                             & 0                              & 1                              & 209                            & 537                            & 329                            & 2e-110                         & 387.0                         \\\\\n",
       "\t OTU17:X\\_sp\\_nov\\_1\\_long        & Sample16\\_ITS4                      &  91.67                               &  60                                  &  3                                   & 1                                    & 1                                    &  58                                  & 502                                  & 443                                  &  7e-19                               &  82.4                               \\\\\n",
       "\t OTU15:H\\_perforatum\\_USA       & Sample24\\_ITS4                  &  86.28                           & 226                              & 12                               & 8                                & 1                                & 224                              & 537                              & 329                              &  1e-62                           & 228.0                           \\\\\n",
       "\t OTU27:X\\_apiculata\\_California & Sample16\\_ITS4                  &  96.61                           &  59                              &  1                               & 1                                & 1                                &  58                              & 502                              & 444                              &  3e-23                           &  97.1                           \\\\\n",
       "\\end{tabular}\n"
      ],
      "text/plain": [
       "  qseqid                       sseqid        pident length mismatch gapopen\n",
       "1 OTU1:X_hypoxylon_Oregon      Sample16_ITS4  95.24  63     3       0      \n",
       "2 OTU4:N_sp_1                  Sample16_ITS4  93.33  60     3       1      \n",
       "3 OTU3:H_notatum               Sample24_ITS4 100.00 209     0       0      \n",
       "4 OTU17:X_sp_nov_1_long        Sample16_ITS4  91.67  60     3       1      \n",
       "5 OTU15:H_perforatum_USA       Sample24_ITS4  86.28 226    12       8      \n",
       "6 OTU27:X_apiculata_California Sample16_ITS4  96.61  59     1       1      \n",
       "  qstart qend sstart send evalue bitscore\n",
       "1 1       63  502    440   2e-24 100.0   \n",
       "2 2       61  501    443   2e-20  87.9   \n",
       "3 1      209  537    329  2e-110 387.0   \n",
       "4 1       58  502    443   7e-19  82.4   \n",
       "5 1      224  537    329   1e-62 228.0   \n",
       "6 1       58  502    444   3e-23  97.1   "
      ]
     },
     "metadata": {},
     "output_type": "display_data"
    }
   ],
   "source": [
    "head(blast)"
   ]
  },
  {
   "cell_type": "markdown",
   "metadata": {},
   "source": [
    "But we have standards..."
   ]
  },
  {
   "cell_type": "code",
   "execution_count": 85,
   "metadata": {
    "collapsed": true
   },
   "outputs": [],
   "source": [
    "goodblast <- blast[blast$pident > 95 & blast$length > 100,] "
   ]
  },
  {
   "cell_type": "markdown",
   "metadata": {},
   "source": [
    "How many OTUs match strongly to our mock commmunity?"
   ]
  },
  {
   "cell_type": "code",
   "execution_count": 86,
   "metadata": {
    "collapsed": false
   },
   "outputs": [
    {
     "data": {
      "text/html": [
       "687"
      ],
      "text/latex": [
       "687"
      ],
      "text/markdown": [
       "687"
      ],
      "text/plain": [
       "[1] 687"
      ]
     },
     "metadata": {},
     "output_type": "display_data"
    },
    {
     "data": {
      "text/html": [
       "36"
      ],
      "text/latex": [
       "36"
      ],
      "text/markdown": [
       "36"
      ],
      "text/plain": [
       "[1] 36"
      ]
     },
     "metadata": {},
     "output_type": "display_data"
    }
   ],
   "source": [
    "nrow(blast) ## 687 otus, but...\n",
    "nrow(goodblast) ## only 36 OTUs are strong matches"
   ]
  },
  {
   "cell_type": "markdown",
   "metadata": {},
   "source": [
    "687 OTUs blasted as possible matches, but only 36 OTUs blast strong and long. To remove these from our biom table:"
   ]
  },
  {
   "cell_type": "code",
   "execution_count": 87,
   "metadata": {
    "collapsed": true
   },
   "outputs": [],
   "source": [
    "## which of our rownames (= OTU names) are not in this list of strong matches?\n",
    "pcotus <- !(rownames(otu_table(biom95)) %in% goodblast$qseqid) \n",
    "## keep only these:\n",
    "biom95.mc.rem <- prune_taxa(pcotus, biom95.contam.rem)"
   ]
  },
  {
   "cell_type": "code",
   "execution_count": 88,
   "metadata": {
    "collapsed": true
   },
   "outputs": [],
   "source": [
    "#save(biom95.mc.rem, file='biom95.mc.rem.rda')"
   ]
  },
  {
   "cell_type": "markdown",
   "metadata": {},
   "source": [
    "What's the damage so far?"
   ]
  },
  {
   "cell_type": "code",
   "execution_count": 89,
   "metadata": {
    "collapsed": false,
    "scrolled": false
   },
   "outputs": [
    {
     "data": {
      "text/plain": [
       "phyloseq-class experiment-level object\n",
       "otu_table()   OTU Table:         [ 10271 taxa and 232 samples ]\n",
       "sample_data() Sample Data:       [ 232 samples by 12 sample variables ]\n",
       "tax_table()   Taxonomy Table:    [ 10271 taxa by 7 taxonomic ranks ]"
      ]
     },
     "metadata": {},
     "output_type": "display_data"
    },
    {
     "data": {
      "text/plain": [
       "phyloseq-class experiment-level object\n",
       "otu_table()   OTU Table:         [ 10235 taxa and 214 samples ]\n",
       "sample_data() Sample Data:       [ 214 samples by 12 sample variables ]\n",
       "tax_table()   Taxonomy Table:    [ 10235 taxa by 7 taxonomic ranks ]"
      ]
     },
     "metadata": {},
     "output_type": "display_data"
    }
   ],
   "source": [
    "biom95; biom95.mc.rem"
   ]
  },
  {
   "cell_type": "markdown",
   "metadata": {},
   "source": [
    "How many total reads have been lost by this clean up process?"
   ]
  },
  {
   "cell_type": "code",
   "execution_count": 90,
   "metadata": {
    "collapsed": false,
    "scrolled": true
   },
   "outputs": [
    {
     "data": {
      "text/html": [
       "15273456"
      ],
      "text/latex": [
       "15273456"
      ],
      "text/markdown": [
       "15273456"
      ],
      "text/plain": [
       "[1] 15273456"
      ]
     },
     "metadata": {},
     "output_type": "display_data"
    },
    {
     "data": {
      "text/html": [
       "12898479"
      ],
      "text/latex": [
       "12898479"
      ],
      "text/markdown": [
       "12898479"
      ],
      "text/plain": [
       "[1] 12898479"
      ]
     },
     "metadata": {},
     "output_type": "display_data"
    }
   ],
   "source": [
    "sum(sample_sums(biom95))\n",
    "sum(sample_sums(biom95.mc.rem))"
   ]
  },
  {
   "cell_type": "markdown",
   "metadata": {},
   "source": [
    "Loss of ~3 million reads. More importantly, how many observations have been lost?"
   ]
  },
  {
   "cell_type": "code",
   "execution_count": 91,
   "metadata": {
    "collapsed": false,
    "scrolled": true
   },
   "outputs": [
    {
     "data": {
      "text/html": [
       "53424"
      ],
      "text/latex": [
       "53424"
      ],
      "text/markdown": [
       "53424"
      ],
      "text/plain": [
       "[1] 53424"
      ]
     },
     "metadata": {},
     "output_type": "display_data"
    },
    {
     "data": {
      "text/html": [
       "10456"
      ],
      "text/latex": [
       "10456"
      ],
      "text/markdown": [
       "10456"
      ],
      "text/plain": [
       "[1] 10456"
      ]
     },
     "metadata": {},
     "output_type": "display_data"
    }
   ],
   "source": [
    "sum(otu_table(biom95) > 0)\n",
    "sum(otu_table(biom95.mc.rem) > 0)"
   ]
  },
  {
   "cell_type": "markdown",
   "metadata": {},
   "source": [
    "Wow, we lost 80% of our observations. Hope some statistical power remains..."
   ]
  },
  {
   "cell_type": "markdown",
   "metadata": {},
   "source": [
    "<a id='deseq'></a>"
   ]
  },
  {
   "cell_type": "markdown",
   "metadata": {},
   "source": [
    "## Variance stabilization of our reads"
   ]
  },
  {
   "cell_type": "markdown",
   "metadata": {},
   "source": [
    "It's important to [stabilize the variance](http://journals.plos.org/ploscompbiol/article?id=10.1371/journal.pcbi.1003531of) of our combined-leaf-and-wood-endophyte read depths, we'll do this using the [DESeq2](https://bioconductor.org/packages/release/bioc/html/DESeq2.html) package in R. This is a way of making the samples, which have highly variable numbers of reads in them, comparable for downstream statistical analyses.\n",
    "\n",
    "Roo has written a function in R to stream-line the process of using deseq variance stabilization, because it was originally written for RNA-seq data, with dense matrices. Species matrices are usually pretty sparse, so deseq needs a few workarounds to handle our kind of data. Thankfully, Roo has worked on this, and saved me probably weeks of work. His function looks like this: \n"
   ]
  },
  {
   "cell_type": "code",
   "execution_count": 92,
   "metadata": {
    "collapsed": true
   },
   "outputs": [],
   "source": [
    "DESeq_varstab <- function(phyloseq, design) {\n",
    "# phyloseq = the input phyloseq object that you want to get DESeq transformed counts for\n",
    "# design_variable = the design for the conversion to the DESeq object. must be in the form \"as a function of\", for example \"~Host_Genus\", must be a variable in the phyloseq object\n",
    "        deseq.vst = NULL\n",
    "        geo_Means = NULL\n",
    "        phyloseq.DESeq = NULL\n",
    "        # Convert to a DESeq object\n",
    "        deseq = phyloseq_to_deseq2(phyloseq, design)\n",
    "        # calculate geometric means prior to estimate size factors\n",
    "        gm_mean = function(x, na.rm=TRUE){\n",
    "                exp(sum(log(x[x > 0]), na.rm=na.rm) / length(x))\n",
    "                }\n",
    "        geo_Means = apply(counts(deseq), 1, gm_mean)\n",
    "        # Check to see if any columns (samples) don't have any OTUs in them:\n",
    "        if(sum(colSums(counts(deseq)) == 0) == 0) { # if all samples have taxa, go on\n",
    "                # Now we step through the size factors, dispersions, and varience stabilization:\n",
    "                deseq = estimateSizeFactors(deseq, geoMeans = geo_Means)\n",
    "                deseq = estimateDispersions(deseq) # long step\n",
    "                deseq.vst = getVarianceStabilizedData(deseq)\n",
    "                # replace negatives with zeros\n",
    "                deseq.vst[deseq.vst <0] <- 0\n",
    "                # add the varience stabilized otu numbers into the dataset:\n",
    "                otu_table(phyloseq) <- otu_table(deseq.vst, taxa_are_rows = TRUE)\n",
    "                # create a new object for the varience stabalized set\n",
    "                phyloseq -> phyloseq.DESeq\n",
    "                # And, filter any taxa that became 0s all the way across\n",
    "                phyloseq.DESeq = filter_taxa(phyloseq.DESeq, function(x) sum(x) > 0.1, T)\n",
    "                # return the new phyloseq object\n",
    "                return(phyloseq.DESeq)\n",
    "        } # end of IF loop \n",
    "        else {return(\"Error: your phyloseq object has samples with no taxa present.\")}\n",
    "} # end function\n"
   ]
  },
  {
   "cell_type": "markdown",
   "metadata": {},
   "source": [
    "So let's try it out on our data. DESeq asks for an experimental design to incorporate in its modeling of read counts. In this instance, we are making comparisons of the relative importance of the origins of our endophytes - are wood endophytes or leaf endophytes more predictive of decomposers (stromata) at a given site? With this question, I believe the design variable is the origin of the sample, leaf or wood, (our \"Library\" metadata variable). "
   ]
  },
  {
   "cell_type": "code",
   "execution_count": 93,
   "metadata": {
    "collapsed": false,
    "scrolled": true
   },
   "outputs": [
    {
     "name": "stderr",
     "output_type": "stream",
     "text": [
      "converting counts to integer mode\n",
      "Warning message in DESeqDataSet(se, design = design, ignoreRank):\n",
      "“some variables in design formula are characters, converting to factors”gene-wise dispersion estimates\n",
      "mean-dispersion relationship\n",
      "final dispersion estimates\n"
     ]
    }
   ],
   "source": [
    "deseq95 <- DESeq_varstab(biom95.mc.rem, ~Library)"
   ]
  },
  {
   "cell_type": "markdown",
   "metadata": {},
   "source": [
    "Roo's function goes into DESeq land and back, returning us a phyloseq object. How does our data look after touching the void and coming back to us?"
   ]
  },
  {
   "cell_type": "code",
   "execution_count": 95,
   "metadata": {
    "collapsed": true
   },
   "outputs": [],
   "source": [
    "#save(deseq95, file='deseq95.rda')"
   ]
  },
  {
   "cell_type": "code",
   "execution_count": 96,
   "metadata": {
    "collapsed": false,
    "scrolled": false
   },
   "outputs": [
    {
     "data": {
      "text/plain": [
       "phyloseq-class experiment-level object\n",
       "otu_table()   OTU Table:         [ 2051 taxa and 214 samples ]\n",
       "sample_data() Sample Data:       [ 214 samples by 12 sample variables ]\n",
       "tax_table()   Taxonomy Table:    [ 2051 taxa by 7 taxonomic ranks ]"
      ]
     },
     "metadata": {},
     "output_type": "display_data"
    }
   ],
   "source": [
    "deseq95"
   ]
  },
  {
   "cell_type": "code",
   "execution_count": 97,
   "metadata": {
    "collapsed": false,
    "scrolled": false
   },
   "outputs": [
    {
     "data": {
      "text/plain": [
       "phyloseq-class experiment-level object\n",
       "otu_table()   OTU Table:         [ 10235 taxa and 214 samples ]\n",
       "sample_data() Sample Data:       [ 214 samples by 12 sample variables ]\n",
       "tax_table()   Taxonomy Table:    [ 10235 taxa by 7 taxonomic ranks ]"
      ]
     },
     "metadata": {},
     "output_type": "display_data"
    }
   ],
   "source": [
    "biom95.mc.rem"
   ]
  },
  {
   "cell_type": "markdown",
   "metadata": {},
   "source": [
    "Looks like we lost some taxa. Let's compare the distributions of our read depths before and after variance stabilization:"
   ]
  },
  {
   "cell_type": "code",
   "execution_count": 98,
   "metadata": {
    "collapsed": false,
    "scrolled": true
   },
   "outputs": [
    {
     "data": {
      "image/png": "[encoded data removed]",
      "text/plain": [
       "plot without title"
      ]
     },
     "metadata": {},
     "output_type": "display_data"
    }
   ],
   "source": [
    "par(mfrow = c(1,2))\n",
    "options(repr.plot.width = 10, repr.plot.height = 4)\n",
    "\n",
    "barplot(sample_sums(biom95.mc.rem), axisnames=FALSE)\n",
    "#mtext(text='wood', side = 1, at=50)\n",
    "#mtext(text='leaf', side = 1, at=170)\n",
    "\n",
    "barplot(sample_sums(deseq95), axisnames=FALSE)\n",
    "mtext(text='wood', side = 1, at=50)\n",
    "mtext(text='leaf', side = 1, at=170)"
   ]
  },
  {
   "cell_type": "markdown",
   "metadata": {},
   "source": [
    "Huh, it looks like the wood retained more reads than the leaves. I'm a bit confused by this and our low read numbers in general after variance stabilization. Maybe this is due to the very different abundances present between the two studies.  "
   ]
  },
  {
   "cell_type": "markdown",
   "metadata": {},
   "source": [
    "<a id='Ords'></a>"
   ]
  },
  {
   "cell_type": "markdown",
   "metadata": {},
   "source": [
    "## Ordinations"
   ]
  },
  {
   "cell_type": "markdown",
   "metadata": {},
   "source": [
    "As a first look at our data, we'll ordinate our data using [non-metric multidimensional scaling](https://mb3is.megx.net/gustame/dissimilarity-based-methods/nmds), and color the plots by the factors that we are interested in. There are built-in methods in phyloseq that use ggplot, notably the [ordinate/plot_ordination](https://joey711.github.io/phyloseq/plot_ordination-examples.html), that can do this for us, but I like to do things the hard way..."
   ]
  },
  {
   "cell_type": "code",
   "execution_count": 99,
   "metadata": {
    "collapsed": true
   },
   "outputs": [],
   "source": [
    "## get two otu tables out, one for all wood samples, one for all leaf samples:\n",
    "woodOTU <- otu_table(subset_samples(deseq95, Library=='W'))\n",
    "wood <- t(woodOTU@.Data) ## transpose so samples are rows\n",
    "\n",
    "leafOTU <- otu_table(subset_samples(deseq95, Library=='L'))\n",
    "leaf <- t(leafOTU@.Data) ## transpose so samples are rows"
   ]
  },
  {
   "cell_type": "code",
   "execution_count": 100,
   "metadata": {
    "collapsed": false
   },
   "outputs": [
    {
     "data": {
      "text/html": [
       "<ol class=list-inline>\n",
       "\t<li>91</li>\n",
       "\t<li>2051</li>\n",
       "</ol>\n"
      ],
      "text/latex": [
       "\\begin{enumerate*}\n",
       "\\item 91\n",
       "\\item 2051\n",
       "\\end{enumerate*}\n"
      ],
      "text/markdown": [
       "1. 91\n",
       "2. 2051\n",
       "\n",
       "\n"
      ],
      "text/plain": [
       "[1]   91 2051"
      ]
     },
     "metadata": {},
     "output_type": "display_data"
    },
    {
     "data": {
      "text/html": [
       "<ol class=list-inline>\n",
       "\t<li>123</li>\n",
       "\t<li>2051</li>\n",
       "</ol>\n"
      ],
      "text/latex": [
       "\\begin{enumerate*}\n",
       "\\item 123\n",
       "\\item 2051\n",
       "\\end{enumerate*}\n"
      ],
      "text/markdown": [
       "1. 123\n",
       "2. 2051\n",
       "\n",
       "\n"
      ],
      "text/plain": [
       "[1]  123 2051"
      ]
     },
     "metadata": {},
     "output_type": "display_data"
    }
   ],
   "source": [
    "dim(wood); dim(leaf) ## note this \n",
    "nmsmat <- rbind(wood, leaf)"
   ]
  },
  {
   "cell_type": "code",
   "execution_count": 101,
   "metadata": {
    "collapsed": false,
    "scrolled": true
   },
   "outputs": [
    {
     "name": "stdout",
     "output_type": "stream",
     "text": [
      "Wisconsin double standardization\n",
      "Run 0 stress 0.09478001 \n",
      "Run 1 stress 0.09504606 \n",
      "... Procrustes: rmse 0.06524677  max resid 0.7192965 \n",
      "Run 2 stress 0.09493494 \n",
      "... Procrustes: rmse 0.06503096  max resid 0.6922704 \n",
      "Run 3 stress 0.09519018 \n",
      "... Procrustes: rmse 0.06706998  max resid 0.7837193 \n",
      "Run 4 stress 0.09489367 \n",
      "... Procrustes: rmse 0.01074522  max resid 0.1053357 \n",
      "Run 5 stress 0.09461839 \n",
      "... New best solution\n",
      "... Procrustes: rmse 0.06010406  max resid 0.71572 \n",
      "Run 6 stress 0.09443446 \n",
      "... New best solution\n",
      "... Procrustes: rmse 0.02276839  max resid 0.3006734 \n",
      "Run 7 stress 0.09481623 \n",
      "... Procrustes: rmse 0.02567602  max resid 0.2753104 \n",
      "Run 8 stress 0.09526362 \n",
      "Run 9 stress 0.09473444 \n",
      "... Procrustes: rmse 0.02462409  max resid 0.2673362 \n",
      "Run 10 stress 0.09437555 \n",
      "... New best solution\n",
      "... Procrustes: rmse 0.01069752  max resid 0.13112 \n",
      "Run 11 stress 0.09485432 \n",
      "... Procrustes: rmse 0.02981683  max resid 0.324763 \n",
      "Run 12 stress 0.09444346 \n",
      "... Procrustes: rmse 0.01241138  max resid 0.1601817 \n",
      "Run 13 stress 0.09476586 \n",
      "... Procrustes: rmse 0.03477838  max resid 0.4241256 \n",
      "Run 14 stress 0.09466945 \n",
      "... Procrustes: rmse 0.02482142  max resid 0.321978 \n",
      "Run 15 stress 0.09467752 \n",
      "... Procrustes: rmse 0.02684276  max resid 0.3147357 \n",
      "Run 16 stress 0.09534332 \n",
      "Run 17 stress 0.09510915 \n",
      "Run 18 stress 0.09482625 \n",
      "... Procrustes: rmse 0.03664304  max resid 0.3800269 \n",
      "Run 19 stress 0.0947734 \n",
      "... Procrustes: rmse 0.0291895  max resid 0.3261363 \n",
      "Run 20 stress 0.09505669 \n",
      "*** No convergence -- monoMDS stopping criteria:\n",
      "     3: no. of iterations >= maxit\n",
      "    17: stress ratio > sratmax\n"
     ]
    }
   ],
   "source": [
    "WvsL <- metaMDS(nmsmat)"
   ]
  },
  {
   "cell_type": "markdown",
   "metadata": {},
   "source": [
    "Multiple attempts didn't converge on a single solution, but the stress is low enough for all of them, and I think they are pretty similar solutions (~.09), let's look at it:"
   ]
  },
  {
   "cell_type": "code",
   "execution_count": 102,
   "metadata": {
    "collapsed": true
   },
   "outputs": [],
   "source": [
    "## make a color vector, leaves green, wood brown:\n",
    "color <- NULL\n",
    "color[1:91] <- 'brown'\n",
    "color[92:214] <- 'green'"
   ]
  },
  {
   "cell_type": "code",
   "execution_count": 103,
   "metadata": {
    "collapsed": false
   },
   "outputs": [
    {
     "data": {
      "image/png": "[encoded data removed]",
      "text/plain": [
       "plot without title"
      ]
     },
     "metadata": {},
     "output_type": "display_data"
    }
   ],
   "source": [
    "plot(WvsL$points, col=color)"
   ]
  },
  {
   "cell_type": "markdown",
   "metadata": {},
   "source": [
    "Well, that's weird looking. There are two outliers that we can identify with some point-n-click:"
   ]
  },
  {
   "cell_type": "code",
   "execution_count": 105,
   "metadata": {
    "collapsed": false
   },
   "outputs": [],
   "source": [
    "identify(WvsL$points) ## 169, 214"
   ]
  },
  {
   "cell_type": "markdown",
   "metadata": {},
   "source": [
    "What are these?"
   ]
  },
  {
   "cell_type": "code",
   "execution_count": 106,
   "metadata": {
    "collapsed": false,
    "scrolled": true
   },
   "outputs": [
    {
     "data": {
      "text/html": [
       "<table>\n",
       "<thead><tr><th></th><th scope=col>MDS1</th><th scope=col>MDS2</th></tr></thead>\n",
       "<tbody>\n",
       "\t<tr><th scope=row>61Leaf</th><td>-44.92389</td><td>-1.286973</td></tr>\n",
       "</tbody>\n",
       "</table>\n"
      ],
      "text/latex": [
       "\\begin{tabular}{r|ll}\n",
       "  & MDS1 & MDS2\\\\\n",
       "\\hline\n",
       "\t61Leaf & -44.92389 & -1.286973\\\\\n",
       "\\end{tabular}\n"
      ],
      "text/markdown": [
       "1. -44.9238882220419\n",
       "2. -1.28697257238085\n",
       "\n",
       "\n"
      ],
      "text/plain": [
       "       MDS1      MDS2     \n",
       "61Leaf -44.92389 -1.286973"
      ]
     },
     "metadata": {},
     "output_type": "display_data"
    },
    {
     "data": {
      "text/html": [
       "<table>\n",
       "<thead><tr><th></th><th scope=col>MDS1</th><th scope=col>MDS2</th></tr></thead>\n",
       "<tbody>\n",
       "\t<tr><th scope=row>67Leaf</th><td>7.262901 </td><td>-8.247818</td></tr>\n",
       "</tbody>\n",
       "</table>\n"
      ],
      "text/latex": [
       "\\begin{tabular}{r|ll}\n",
       "  & MDS1 & MDS2\\\\\n",
       "\\hline\n",
       "\t67Leaf & 7.262901  & -8.247818\\\\\n",
       "\\end{tabular}\n"
      ],
      "text/markdown": [
       "1. 7.26290087800372\n",
       "2. -8.24781759628169\n",
       "\n",
       "\n"
      ],
      "text/plain": [
       "       MDS1     MDS2     \n",
       "67Leaf 7.262901 -8.247818"
      ]
     },
     "metadata": {},
     "output_type": "display_data"
    }
   ],
   "source": [
    "WvsL$points[169,,drop=FALSE]\n",
    "WvsL$points[214,,drop=FALSE]"
   ]
  },
  {
   "cell_type": "markdown",
   "metadata": {},
   "source": [
    "Well, these points presumably have some weird stuff in them. If we exclude them for the moment, what does our ordination look like?"
   ]
  },
  {
   "cell_type": "code",
   "execution_count": 107,
   "metadata": {
    "collapsed": false
   },
   "outputs": [
    {
     "data": {
      "image/png": "[encoded data removed]",
      "text/plain": [
       "plot without title"
      ]
     },
     "metadata": {},
     "output_type": "display_data"
    }
   ],
   "source": [
    "plot(WvsL$points[-c(169,214),], col=color[-c(169,214)])"
   ]
  },
  {
   "cell_type": "markdown",
   "metadata": {},
   "source": [
    "Do we see any sort of difference if we transform our data to presence/absence?"
   ]
  },
  {
   "cell_type": "code",
   "execution_count": 108,
   "metadata": {
    "collapsed": false,
    "scrolled": true
   },
   "outputs": [
    {
     "name": "stdout",
     "output_type": "stream",
     "text": [
      "Run 0 stress 0.0947475 \n",
      "Run 1 stress 0.0948473 \n",
      "... Procrustes: rmse 0.01533415  max resid 0.1546018 \n",
      "Run 2 stress 0.09474519 \n",
      "... New best solution\n",
      "... Procrustes: rmse 0.06245672  max resid 0.680729 \n",
      "Run 3 stress 0.09459834 \n",
      "... New best solution\n",
      "... Procrustes: rmse 0.01706311  max resid 0.1772848 \n",
      "Run 4 stress 0.09464746 \n",
      "... Procrustes: rmse 0.05210577  max resid 0.6706163 \n",
      "Run 5 stress 0.09562312 \n",
      "Run 6 stress 0.09486754 \n",
      "... Procrustes: rmse 0.01430802  max resid 0.1216936 \n",
      "Run 7 stress 0.09483498 \n",
      "... Procrustes: rmse 0.01608942  max resid 0.1633024 \n",
      "Run 8 stress 0.09499032 \n",
      "... Procrustes: rmse 0.02815602  max resid 0.3117484 \n",
      "Run 9 stress 0.09453789 \n",
      "... New best solution\n",
      "... Procrustes: rmse 0.01490791  max resid 0.1745514 \n",
      "Run 10 stress 0.09461045 \n",
      "... Procrustes: rmse 0.03455184  max resid 0.442943 \n",
      "Run 11 stress 0.0947326 \n",
      "... Procrustes: rmse 0.02224217  max resid 0.2428005 \n",
      "Run 12 stress 0.09493162 \n",
      "... Procrustes: rmse 0.02543145  max resid 0.2624695 \n",
      "Run 13 stress 0.09468181 \n",
      "... Procrustes: rmse 0.02308171  max resid 0.2293724 \n",
      "Run 14 stress 0.09464855 \n",
      "... Procrustes: rmse 0.02424737  max resid 0.2514853 \n",
      "Run 15 stress 0.09565378 \n",
      "Run 16 stress 0.09447047 \n",
      "... New best solution\n",
      "... Procrustes: rmse 0.01338073  max resid 0.1276544 \n",
      "Run 17 stress 0.09459721 \n",
      "... Procrustes: rmse 0.01552035  max resid 0.1772907 \n",
      "Run 18 stress 0.09439896 \n",
      "... New best solution\n",
      "... Procrustes: rmse 0.01844847  max resid 0.2271393 \n",
      "Run 19 stress 0.09574397 \n",
      "Run 20 stress 0.09460597 \n",
      "... Procrustes: rmse 0.01230373  max resid 0.0995641 \n",
      "*** No convergence -- monoMDS stopping criteria:\n",
      "     1: no. of iterations >= maxit\n",
      "    19: stress ratio > sratmax\n"
     ]
    }
   ],
   "source": [
    "nmsmat.PA <- nmsmat\n",
    "nmsmat.PA[nmsmat.PA > 0] <- 1\n",
    "WvsL.PA <- metaMDS(nmsmat.PA)"
   ]
  },
  {
   "cell_type": "markdown",
   "metadata": {},
   "source": [
    "Similar stresses. "
   ]
  },
  {
   "cell_type": "code",
   "execution_count": 110,
   "metadata": {
    "collapsed": false
   },
   "outputs": [
    {
     "data": {
      "image/png": "[encoded data removed]",
      "text/plain": [
       "plot without title"
      ]
     },
     "metadata": {},
     "output_type": "display_data"
    }
   ],
   "source": [
    "plot(WvsL.PA$points, col=color)"
   ]
  },
  {
   "cell_type": "markdown",
   "metadata": {},
   "source": [
    "Same outliers. Without them?"
   ]
  },
  {
   "cell_type": "code",
   "execution_count": 111,
   "metadata": {
    "collapsed": false
   },
   "outputs": [
    {
     "data": {
      "image/png": "[encoded data removed]",
      "text/plain": [
       "plot without title"
      ]
     },
     "metadata": {},
     "output_type": "display_data"
    }
   ],
   "source": [
    "plot(WvsL.PA$points[-c(169,214),], col=color[-c(169,214)])"
   ]
  },
  {
   "cell_type": "markdown",
   "metadata": {},
   "source": [
    "Presence/Absence doesn't seem to affect the grouping much."
   ]
  },
  {
   "cell_type": "code",
   "execution_count": null,
   "metadata": {
    "collapsed": true
   },
   "outputs": [],
   "source": []
  }
 ],
 "metadata": {
  "kernelspec": {
   "display_name": "R 3.3",
   "language": "R",
   "name": "ir33"
  },
  "language_info": {
   "codemirror_mode": "r",
   "file_extension": ".r",
   "mimetype": "text/x-r-source",
   "name": "R",
   "pygments_lexer": "r",
   "version": "3.3.2"
  }
 },
 "nbformat": 4,
 "nbformat_minor": 0
}
